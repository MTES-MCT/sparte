{
 "cells": [
  {
   "cell_type": "code",
   "execution_count": 9,
   "id": "ce79bf22",
   "metadata": {},
   "outputs": [],
   "source": [
    "from project.models import Project\n",
    "from public_data.models import Ocsge, Departement\n",
    "from django.db.models import Max\n",
    "from ipyleaflet import Map, GeoJSON\n",
    "from rest_framework_gis.serializers import GeoFeatureModelSerializer\n",
    "from django.contrib.gis.db.models import Union\n",
    "\n",
    "class SinglePolySerializer(GeoFeatureModelSerializer):\n",
    "    class Meta:\n",
    "        model = RefPlan\n",
    "        geo_field = \"mpoly\"\n",
    "        fields=()\n"
   ]
  },
  {
   "cell_type": "code",
   "execution_count": 12,
   "id": "0f27afc9",
   "metadata": {},
   "outputs": [],
   "source": [
    "all_ocsge_mpoly = Ocsge.objects.aggregate(mpoly=Union(\"mpoly\"))[\"mpoly\"]"
   ]
  },
  {
   "cell_type": "code",
   "execution_count": 2,
   "id": "05da3cf2",
   "metadata": {},
   "outputs": [
    {
     "data": {
      "text/plain": [
       "<QuerySet [<Project: Diagnostic de CA Grand Auch Coeur de Gascogne>]>"
      ]
     },
     "execution_count": 2,
     "metadata": {},
     "output_type": "execute_result"
    }
   ],
   "source": [
    "Project.objects.all()"
   ]
  },
  {
   "cell_type": "code",
   "execution_count": 3,
   "id": "47847d35",
   "metadata": {},
   "outputs": [],
   "source": [
    "p = Project.objects.all().first()"
   ]
  },
  {
   "cell_type": "code",
   "execution_count": 4,
   "id": "b1c8ed9e",
   "metadata": {},
   "outputs": [
    {
     "data": {
      "text/plain": [
       "<QuerySet [<Ocsge: Ocsge object (364623)>, <Ocsge: Ocsge object (365274)>, <Ocsge: Ocsge object (365282)>, <Ocsge: Ocsge object (366848)>, <Ocsge: Ocsge object (365290)>, <Ocsge: Ocsge object (364986)>, <Ocsge: Ocsge object (366978)>, <Ocsge: Ocsge object (364861)>, <Ocsge: Ocsge object (364914)>, <Ocsge: Ocsge object (364744)>, <Ocsge: Ocsge object (364731)>, <Ocsge: Ocsge object (364909)>, <Ocsge: Ocsge object (364221)>, <Ocsge: Ocsge object (367442)>, <Ocsge: Ocsge object (364483)>, <Ocsge: Ocsge object (362660)>, <Ocsge: Ocsge object (364244)>, <Ocsge: Ocsge object (367444)>, <Ocsge: Ocsge object (355433)>, <Ocsge: Ocsge object (364230)>, '...(remaining elements truncated)...']>"
      ]
     },
     "execution_count": 4,
     "metadata": {},
     "output_type": "execute_result"
    }
   ],
   "source": [
    "Ocsge.objects.filter(mpoly__intersects=p.combined_emprise)"
   ]
  },
  {
   "cell_type": "code",
   "execution_count": 5,
   "id": "fcdeab55",
   "metadata": {},
   "outputs": [
    {
     "data": {
      "text/plain": [
       "{'old': 2016, 'new': 2019}"
      ]
     },
     "execution_count": 5,
     "metadata": {},
     "output_type": "execute_result"
    }
   ],
   "source": [
    "(\n",
    "    p.cities.all()\n",
    "    .first()\n",
    "    .communediff_set.all()\n",
    "    .aggregate(old=Max(\"year_old\"), new=Max(\"year_new\"))\n",
    ")"
   ]
  },
  {
   "cell_type": "code",
   "execution_count": 6,
   "id": "e49000cc",
   "metadata": {},
   "outputs": [
    {
     "data": {
      "text/plain": [
       "<QuerySet []>"
      ]
     },
     "execution_count": 6,
     "metadata": {},
     "output_type": "execute_result"
    }
   ],
   "source": [
    "Departement.objects.all().filter(is_artif_ready=True)"
   ]
  },
  {
   "cell_type": "code",
   "execution_count": 7,
   "id": "ac75c88c",
   "metadata": {},
   "outputs": [
    {
     "data": {
      "text/plain": [
       "[<Departement: Haute-Garonne>,\n",
       " <Departement: Gers>,\n",
       " <Departement: Gironde>,\n",
       " <Departement: Landes>,\n",
       " <Departement: Lot-et-Garonne>,\n",
       " <Departement: Pyrénées-Atlantiques>,\n",
       " <Departement: Hautes-Pyrénées>,\n",
       " <Departement: Tarn-et-Garonne>]"
      ]
     },
     "execution_count": 7,
     "metadata": {},
     "output_type": "execute_result"
    }
   ],
   "source": [
    "test_filters = [\"coveredby\", \"within\", \"contained\", \"crosses\", \"disjoint\", \"intersects\", \"overlaps\"]\n",
    "depts = []\n",
    "for dept in Departement.objects.all():\n",
    "    qs = Ocsge.objects.filter(mpoly__contained=dept.mpoly)\n",
    "    if qs.exists():\n",
    "        depts.append(dept)\n",
    "depts"
   ]
  },
  {
   "cell_type": "code",
   "execution_count": 13,
   "id": "a31dd73b",
   "metadata": {},
   "outputs": [
    {
     "data": {
      "application/vnd.jupyter.widget-view+json": {
       "model_id": "06ba43ed00524863b4ceb8dae976f65e",
       "version_major": 2,
       "version_minor": 0
      },
      "text/plain": [
       "Map(center=[43.89439817145893, 0.14285194467326362], controls=(ZoomControl(options=['position', 'zoom_in_text'…"
      ]
     },
     "metadata": {},
     "output_type": "display_data"
    }
   ],
   "source": [
    "\n",
    "dept = Departement(\n",
    "    source_id=\"000\",\n",
    "    region_id=1,\n",
    "    name=\"test\",\n",
    "    mpoly=all_ocsge_mpoly,\n",
    ")\n",
    "\n",
    "\n",
    "\n",
    "center = (dept.mpoly.centroid.y, dept.mpoly.centroid.x)\n",
    "m = Map(center=center, zoom=5)\n",
    "\n",
    "m.add_layer(GeoJSON(\n",
    "    data=SinglePolySerializer(dept).data,\n",
    "    style={'color': 'red', 'fillOpacity': 0.3, 'weight': 1},\n",
    "))\n",
    "\n",
    "serializer = SinglePolySerializer(depts, many=True)\n",
    "m.add_layer(GeoJSON(\n",
    "    data=serializer.data,\n",
    "    style={'color': 'yellow', 'fillOpacity': 0.3, 'weight': 1},\n",
    "))\n",
    "\n",
    "m"
   ]
  },
  {
   "cell_type": "code",
   "execution_count": null,
   "id": "c7a54a28",
   "metadata": {},
   "outputs": [],
   "source": []
  }
 ],
 "metadata": {
  "kernelspec": {
   "display_name": "Django Shell-Plus",
   "language": "python",
   "name": "django_extensions"
  },
  "language_info": {
   "codemirror_mode": {
    "name": "ipython",
    "version": 3
   },
   "file_extension": ".py",
   "mimetype": "text/x-python",
   "name": "python",
   "nbconvert_exporter": "python",
   "pygments_lexer": "ipython3",
   "version": "3.9.7"
  }
 },
 "nbformat": 4,
 "nbformat_minor": 5
}
