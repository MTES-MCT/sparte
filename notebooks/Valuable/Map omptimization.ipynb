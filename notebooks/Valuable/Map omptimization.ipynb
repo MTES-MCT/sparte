{
 "cells": [
  {
   "cell_type": "code",
   "execution_count": 4,
   "id": "ed9e452c",
   "metadata": {},
   "outputs": [
    {
     "data": {
      "text/plain": [
       "<Commune: Auch (32013)>"
      ]
     },
     "execution_count": 4,
     "metadata": {},
     "output_type": "execute_result"
    }
   ],
   "source": [
    "import json\n",
    "from public_data.models import Ocsge, Commune, CouvertureSol\n",
    "from django.db import connection\n",
    "\n",
    "city = Commune.objects.get(name=\"Auch\")\n",
    "city"
   ]
  },
  {
   "cell_type": "code",
   "execution_count": 5,
   "id": "1da2389b",
   "metadata": {},
   "outputs": [
    {
     "data": {
      "text/plain": [
       "(0.486067241998179, 43.6175987830157, 0.647056360983016, 43.7076959675878)"
      ]
     },
     "execution_count": 5,
     "metadata": {},
     "output_type": "execute_result"
    }
   ],
   "source": [
    "bbox = city.mpoly.extent\n",
    "bbox"
   ]
  },
  {
   "cell_type": "code",
   "execution_count": 17,
   "id": "f99f933e",
   "metadata": {},
   "outputs": [
    {
     "data": {
      "text/plain": [
       "[(1086245,\n",
       "  \"Surfaces d'eau (Eau continentale et maritime)\",\n",
       "  'Sans usage',\n",
       "  Decimal('2712.6875'),\n",
       "  2019,\n",
       "  '#00ccf2',\n",
       "  '{\"type\":\"MultiPolygon\",\"coordinates\":[[[[0.50717376,43.65973629],[0.50684621,43.6595924],[0.5066509,43.65949015],[0.50661965,43.65949285],[0.50657597,43.65947367],[0.50647813,43.65939967],[0.50630884,43.65931216],[0.50626583,43.65933737],[0.50625676,43.65943187],[0.50641592,43.65969515],[0.50669721,43.66001597],[0.50685371,43.66003864],[0.50698152,43.65996532],[0.50717376,43.65973629]]]]}'),\n",
       " (1089830,\n",
       "  'Formations herbacées (Pelouses et prairies; terres arables; roselières; …)',\n",
       "  'Résidentiel',\n",
       "  Decimal('14358.5207'),\n",
       "  2019,\n",
       "  '#ccf24d',\n",
       "  '{\"type\":\"MultiPolygon\",\"coordinates\":[[[[0.51216554,43.66881631],[0.51211459,43.66880713],[0.51206019,43.66879769],[0.51207277,43.66875927],[0.5121002,43.66867581],[0.51222687,43.66869771],[0.51227734,43.66870651],[0.5122702,43.66872796],[0.51225956,43.66876174],[0.51226387,43.66875968],[0.51226938,43.66875845],[0.51227345,43.66875882],[0.51227736,43.66876017],[0.51230524,43.66877224],[0.51233106,43.66878318],[0.51237118,43.66877303],[0.51239065,43.6687588],[0.51245406,43.66871236],[0.51247802,43.66869472],[0.5124821,43.66866915],[0.51249223,43.6686043],[0.51249675,43.6685746],[0.51242005,43.66850731],[0.51237871,43.66847107],[0.51237708,43.6684687],[0.51237646,43.66846571],[0.51238512,43.66843485],[0.5123876,43.66842636],[0.51239489,43.66840114],[0.51241286,43.66839011],[0.5124577,43.66836845],[0.51246303,43.66836857],[0.51246699,43.66836884],[0.5125097,43.6683763],[0.51251324,43.66837765],[0.51253708,43.66839395],[0.51266834,43.66848436],[0.51269796,43.66850493],[0.51270007,43.66850759],[0.5127111,43.66853629],[0.51275935,43.6686619],[0.5127636,43.66867271],[0.51277008,43.66867466],[0.5128184,43.6686529],[0.51283122,43.66864626],[0.51286206,43.66863283],[0.51288381,43.66862334],[0.51363899,43.66829392],[0.51371951,43.66825885],[0.51379461,43.66822294],[0.51377029,43.66812894],[0.51374438,43.66802877],[0.51373075,43.66793709],[0.51370437,43.66790759],[0.51368604,43.66788691],[0.51367967,43.66786525],[0.51367589,43.66785229],[0.51367328,43.66784377],[0.51364326,43.66780689],[0.51356319,43.66770864],[0.51354918,43.66769149],[0.51356683,43.667662],[0.51360278,43.66760224],[0.51368353,43.66746761],[0.51370358,43.66743413],[0.51366975,43.66742489],[0.51327252,43.66738232],[0.51299134,43.66737742],[0.51292391,43.6674307],[0.51286734,43.66752546],[0.51276321,43.66779595],[0.5126618,43.66798943],[0.51263257,43.6679857],[0.51213077,43.66798332],[0.51194345,43.66789315],[0.51189663,43.66791737],[0.51183338,43.66794897],[0.51182379,43.66794695],[0.51179017,43.66798147],[0.51181067,43.66800921],[0.51185013,43.66806296],[0.51185316,43.6680732],[0.51170379,43.66814865],[0.51170259,43.6681533],[0.51169636,43.66817683],[0.51168737,43.66828115],[0.51178025,43.66836709],[0.51173572,43.66847284],[0.51171535,43.66865071],[0.51174825,43.66871547],[0.51186305,43.66875933],[0.51186792,43.66876998],[0.51188419,43.66877233],[0.51192619,43.66877905],[0.51199968,43.66879154],[0.51204647,43.66879945],[0.51203341,43.66884038],[0.51202228,43.66887677],[0.51202596,43.66887478],[0.51203122,43.66887346],[0.51203593,43.66887357],[0.51203948,43.66887473],[0.51204332,43.6688777],[0.512046,43.66888163],[0.51205189,43.66889158],[0.51208985,43.6689028],[0.51211986,43.6688943],[0.51214912,43.66888597],[0.51216996,43.66885449],[0.51215974,43.66883553],[0.51215585,43.66882815],[0.51215553,43.668824],[0.51215716,43.66882089],[0.51216113,43.66881801],[0.51216554,43.66881631]],[[0.51296136,43.66825943],[0.5129946,43.66841368],[0.51300265,43.66845114],[0.51296601,43.66845525],[0.51290843,43.66846177],[0.51287415,43.66846566],[0.51286744,43.66843472],[0.51284938,43.66835076],[0.51284865,43.66834742],[0.51283905,43.6683029],[0.51283092,43.66826464],[0.51286407,43.66826089],[0.51293149,43.66825325],[0.51295941,43.66825002],[0.51296136,43.66825943]],[[0.51214577,43.66822619],[0.51185086,43.66825752],[0.51183864,43.66818765],[0.51192583,43.66817614],[0.51191996,43.6681427],[0.51201707,43.66813412],[0.51202287,43.66817197],[0.51213615,43.66816205],[0.51214577,43.66822619]],[[0.51310439,43.66788441],[0.5130422,43.66788839],[0.51303935,43.66786852],[0.51297093,43.66787326],[0.51296357,43.66778577],[0.513058,43.66778162],[0.51309766,43.66775372],[0.51314079,43.66776002],[0.51321196,43.66772033],[0.51323337,43.66774143],[0.51326759,43.66772439],[0.51329553,43.66775213],[0.51322878,43.66779003],[0.51324879,43.6678148],[0.51310439,43.66788441]]]]}')]"
      ]
     },
     "execution_count": 17,
     "metadata": {},
     "output_type": "execute_result"
    }
   ],
   "source": [
    "query = (\n",
    "    \"SELECT \"\n",
    "    \"o.id, o.couverture_label, o.usage_label, o.surface, o.year, t.map_color, \"\n",
    "    \"st_AsGeoJSON(mpoly, 8, 0) AS geojson \" \n",
    "    f\"FROM {Ocsge._meta.db_table} as o INNER JOIN {CouvertureSol._meta.db_table} as t ON t.code_prefix = o.couverture \"\n",
    "    \"WHERE mpoly && ST_MakeEnvelope(%s, %s, %s, %s, 4326) \"\n",
    "    \"LIMIT 2\"\n",
    ")\n",
    "\n",
    "with connection.cursor() as cursor:\n",
    "    cursor.execute(query, bbox)\n",
    "    rows = cursor.fetchall()\n",
    "rows"
   ]
  },
  {
   "cell_type": "code",
   "execution_count": 48,
   "id": "c12e9439",
   "metadata": {},
   "outputs": [
    {
     "ename": "ProgrammingError",
     "evalue": "syntax error at or near \"DESC\"\nLINE 14: ORDER BY ? DESC\n                    ^\n",
     "output_type": "error",
     "traceback": [
      "\u001b[0;31m---------------------------------------------------------------------------\u001b[0m",
      "\u001b[0;31mSyntaxError\u001b[0m                               Traceback (most recent call last)",
      "File \u001b[0;32m/usr/local/lib/python3.10/site-packages/django/db/backends/utils.py:89\u001b[0m, in \u001b[0;36mCursorWrapper._execute\u001b[0;34m(self, sql, params, *ignored_wrapper_args)\u001b[0m\n\u001b[1;32m     88\u001b[0m \u001b[38;5;28;01melse\u001b[39;00m:\n\u001b[0;32m---> 89\u001b[0m     \u001b[38;5;28;01mreturn\u001b[39;00m \u001b[38;5;28;43mself\u001b[39;49m\u001b[38;5;241;43m.\u001b[39;49m\u001b[43mcursor\u001b[49m\u001b[38;5;241;43m.\u001b[39;49m\u001b[43mexecute\u001b[49m\u001b[43m(\u001b[49m\u001b[43msql\u001b[49m\u001b[43m,\u001b[49m\u001b[43m \u001b[49m\u001b[43mparams\u001b[49m\u001b[43m)\u001b[49m\n",
      "\u001b[0;31mSyntaxError\u001b[0m: syntax error at or near \"DESC\"\nLINE 14: ORDER BY ? DESC\n                    ^\n",
      "\nThe above exception was the direct cause of the following exception:\n",
      "\u001b[0;31mProgrammingError\u001b[0m                          Traceback (most recent call last)",
      "Cell \u001b[0;32mIn[48], line 18\u001b[0m\n\u001b[1;32m      1\u001b[0m query \u001b[38;5;241m=\u001b[39m \u001b[38;5;124mf\u001b[39m\u001b[38;5;124m\"\"\"\u001b[39m\n\u001b[1;32m      2\u001b[0m \u001b[38;5;124mSELECT\u001b[39m\n\u001b[1;32m      3\u001b[0m \u001b[38;5;124m    ST_NPoints(mpoly) AS geometry,\u001b[39m\n\u001b[0;32m   (...)\u001b[0m\n\u001b[1;32m     15\u001b[0m \u001b[38;5;124mLIMIT 10\u001b[39m\n\u001b[1;32m     16\u001b[0m \u001b[38;5;124m\"\"\"\u001b[39m\n\u001b[1;32m     17\u001b[0m \u001b[38;5;28;01mwith\u001b[39;00m connection\u001b[38;5;241m.\u001b[39mcursor() \u001b[38;5;28;01mas\u001b[39;00m cursor:\n\u001b[0;32m---> 18\u001b[0m     \u001b[43mcursor\u001b[49m\u001b[38;5;241;43m.\u001b[39;49m\u001b[43mexecute\u001b[49m\u001b[43m(\u001b[49m\u001b[43mquery\u001b[49m\u001b[43m,\u001b[49m\u001b[43m \u001b[49m\u001b[43mbbox\u001b[49m\u001b[43m)\u001b[49m\n\u001b[1;32m     19\u001b[0m     rows \u001b[38;5;241m=\u001b[39m cursor\u001b[38;5;241m.\u001b[39mfetchall()\n\u001b[1;32m     20\u001b[0m rows\n",
      "File \u001b[0;32m/usr/local/lib/python3.10/site-packages/django/db/backends/utils.py:102\u001b[0m, in \u001b[0;36mCursorDebugWrapper.execute\u001b[0;34m(self, sql, params)\u001b[0m\n\u001b[1;32m    100\u001b[0m \u001b[38;5;28;01mdef\u001b[39;00m \u001b[38;5;21mexecute\u001b[39m(\u001b[38;5;28mself\u001b[39m, sql, params\u001b[38;5;241m=\u001b[39m\u001b[38;5;28;01mNone\u001b[39;00m):\n\u001b[1;32m    101\u001b[0m     \u001b[38;5;28;01mwith\u001b[39;00m \u001b[38;5;28mself\u001b[39m\u001b[38;5;241m.\u001b[39mdebug_sql(sql, params, use_last_executed_query\u001b[38;5;241m=\u001b[39m\u001b[38;5;28;01mTrue\u001b[39;00m):\n\u001b[0;32m--> 102\u001b[0m         \u001b[38;5;28;01mreturn\u001b[39;00m \u001b[38;5;28;43msuper\u001b[39;49m\u001b[43m(\u001b[49m\u001b[43m)\u001b[49m\u001b[38;5;241;43m.\u001b[39;49m\u001b[43mexecute\u001b[49m\u001b[43m(\u001b[49m\u001b[43msql\u001b[49m\u001b[43m,\u001b[49m\u001b[43m \u001b[49m\u001b[43mparams\u001b[49m\u001b[43m)\u001b[49m\n",
      "File \u001b[0;32m/usr/local/lib/python3.10/site-packages/django/db/backends/utils.py:67\u001b[0m, in \u001b[0;36mCursorWrapper.execute\u001b[0;34m(self, sql, params)\u001b[0m\n\u001b[1;32m     66\u001b[0m \u001b[38;5;28;01mdef\u001b[39;00m \u001b[38;5;21mexecute\u001b[39m(\u001b[38;5;28mself\u001b[39m, sql, params\u001b[38;5;241m=\u001b[39m\u001b[38;5;28;01mNone\u001b[39;00m):\n\u001b[0;32m---> 67\u001b[0m     \u001b[38;5;28;01mreturn\u001b[39;00m \u001b[38;5;28;43mself\u001b[39;49m\u001b[38;5;241;43m.\u001b[39;49m\u001b[43m_execute_with_wrappers\u001b[49m\u001b[43m(\u001b[49m\n\u001b[1;32m     68\u001b[0m \u001b[43m        \u001b[49m\u001b[43msql\u001b[49m\u001b[43m,\u001b[49m\u001b[43m \u001b[49m\u001b[43mparams\u001b[49m\u001b[43m,\u001b[49m\u001b[43m \u001b[49m\u001b[43mmany\u001b[49m\u001b[38;5;241;43m=\u001b[39;49m\u001b[38;5;28;43;01mFalse\u001b[39;49;00m\u001b[43m,\u001b[49m\u001b[43m \u001b[49m\u001b[43mexecutor\u001b[49m\u001b[38;5;241;43m=\u001b[39;49m\u001b[38;5;28;43mself\u001b[39;49m\u001b[38;5;241;43m.\u001b[39;49m\u001b[43m_execute\u001b[49m\n\u001b[1;32m     69\u001b[0m \u001b[43m    \u001b[49m\u001b[43m)\u001b[49m\n",
      "File \u001b[0;32m/usr/local/lib/python3.10/site-packages/django/db/backends/utils.py:80\u001b[0m, in \u001b[0;36mCursorWrapper._execute_with_wrappers\u001b[0;34m(self, sql, params, many, executor)\u001b[0m\n\u001b[1;32m     78\u001b[0m \u001b[38;5;28;01mfor\u001b[39;00m wrapper \u001b[38;5;129;01min\u001b[39;00m \u001b[38;5;28mreversed\u001b[39m(\u001b[38;5;28mself\u001b[39m\u001b[38;5;241m.\u001b[39mdb\u001b[38;5;241m.\u001b[39mexecute_wrappers):\n\u001b[1;32m     79\u001b[0m     executor \u001b[38;5;241m=\u001b[39m functools\u001b[38;5;241m.\u001b[39mpartial(wrapper, executor)\n\u001b[0;32m---> 80\u001b[0m \u001b[38;5;28;01mreturn\u001b[39;00m \u001b[43mexecutor\u001b[49m\u001b[43m(\u001b[49m\u001b[43msql\u001b[49m\u001b[43m,\u001b[49m\u001b[43m \u001b[49m\u001b[43mparams\u001b[49m\u001b[43m,\u001b[49m\u001b[43m \u001b[49m\u001b[43mmany\u001b[49m\u001b[43m,\u001b[49m\u001b[43m \u001b[49m\u001b[43mcontext\u001b[49m\u001b[43m)\u001b[49m\n",
      "File \u001b[0;32m/usr/local/lib/python3.10/site-packages/django/db/backends/utils.py:84\u001b[0m, in \u001b[0;36mCursorWrapper._execute\u001b[0;34m(self, sql, params, *ignored_wrapper_args)\u001b[0m\n\u001b[1;32m     82\u001b[0m \u001b[38;5;28;01mdef\u001b[39;00m \u001b[38;5;21m_execute\u001b[39m(\u001b[38;5;28mself\u001b[39m, sql, params, \u001b[38;5;241m*\u001b[39mignored_wrapper_args):\n\u001b[1;32m     83\u001b[0m     \u001b[38;5;28mself\u001b[39m\u001b[38;5;241m.\u001b[39mdb\u001b[38;5;241m.\u001b[39mvalidate_no_broken_transaction()\n\u001b[0;32m---> 84\u001b[0m     \u001b[38;5;28;01mwith\u001b[39;00m \u001b[38;5;28mself\u001b[39m\u001b[38;5;241m.\u001b[39mdb\u001b[38;5;241m.\u001b[39mwrap_database_errors:\n\u001b[1;32m     85\u001b[0m         \u001b[38;5;28;01mif\u001b[39;00m params \u001b[38;5;129;01mis\u001b[39;00m \u001b[38;5;28;01mNone\u001b[39;00m:\n\u001b[1;32m     86\u001b[0m             \u001b[38;5;66;03m# params default might be backend specific.\u001b[39;00m\n\u001b[1;32m     87\u001b[0m             \u001b[38;5;28;01mreturn\u001b[39;00m \u001b[38;5;28mself\u001b[39m\u001b[38;5;241m.\u001b[39mcursor\u001b[38;5;241m.\u001b[39mexecute(sql)\n",
      "File \u001b[0;32m/usr/local/lib/python3.10/site-packages/django/db/utils.py:91\u001b[0m, in \u001b[0;36mDatabaseErrorWrapper.__exit__\u001b[0;34m(self, exc_type, exc_value, traceback)\u001b[0m\n\u001b[1;32m     89\u001b[0m \u001b[38;5;28;01mif\u001b[39;00m dj_exc_type \u001b[38;5;129;01mnot\u001b[39;00m \u001b[38;5;129;01min\u001b[39;00m (DataError, IntegrityError):\n\u001b[1;32m     90\u001b[0m     \u001b[38;5;28mself\u001b[39m\u001b[38;5;241m.\u001b[39mwrapper\u001b[38;5;241m.\u001b[39merrors_occurred \u001b[38;5;241m=\u001b[39m \u001b[38;5;28;01mTrue\u001b[39;00m\n\u001b[0;32m---> 91\u001b[0m \u001b[38;5;28;01mraise\u001b[39;00m dj_exc_value\u001b[38;5;241m.\u001b[39mwith_traceback(traceback) \u001b[38;5;28;01mfrom\u001b[39;00m \u001b[38;5;21;01mexc_value\u001b[39;00m\n",
      "File \u001b[0;32m/usr/local/lib/python3.10/site-packages/django/db/backends/utils.py:89\u001b[0m, in \u001b[0;36mCursorWrapper._execute\u001b[0;34m(self, sql, params, *ignored_wrapper_args)\u001b[0m\n\u001b[1;32m     87\u001b[0m     \u001b[38;5;28;01mreturn\u001b[39;00m \u001b[38;5;28mself\u001b[39m\u001b[38;5;241m.\u001b[39mcursor\u001b[38;5;241m.\u001b[39mexecute(sql)\n\u001b[1;32m     88\u001b[0m \u001b[38;5;28;01melse\u001b[39;00m:\n\u001b[0;32m---> 89\u001b[0m     \u001b[38;5;28;01mreturn\u001b[39;00m \u001b[38;5;28;43mself\u001b[39;49m\u001b[38;5;241;43m.\u001b[39;49m\u001b[43mcursor\u001b[49m\u001b[38;5;241;43m.\u001b[39;49m\u001b[43mexecute\u001b[49m\u001b[43m(\u001b[49m\u001b[43msql\u001b[49m\u001b[43m,\u001b[49m\u001b[43m \u001b[49m\u001b[43mparams\u001b[49m\u001b[43m)\u001b[49m\n",
      "\u001b[0;31mProgrammingError\u001b[0m: syntax error at or near \"DESC\"\nLINE 14: ORDER BY ? DESC\n                    ^\n"
     ]
    }
   ],
   "source": [
    "query = f\"\"\"\n",
    "SELECT\n",
    "    ST_NPoints(mpoly) AS geometry,\n",
    "    ST_NPoints(ST_SimplifyPreserveTopology(mpoly, 0.000000001)),\n",
    "    ST_NPoints(ST_SimplifyPreserveTopology(mpoly, 0.00000001)),\n",
    "    ST_NPoints(ST_SimplifyPreserveTopology(mpoly, 0.0000001)),\n",
    "    ST_NPoints(ST_SimplifyPreserveTopology(mpoly, 0.000001)),\n",
    "    ST_NPoints(ST_SimplifyPreserveTopology(mpoly, 0.00001)),\n",
    "    ST_NPoints(ST_SimplifyPreserveTopology(mpoly, 0.0001)),\n",
    "    ST_NPoints(ST_SimplifyPreserveTopology(mpoly, 0.001)),\n",
    "    ST_NPoints(ST_SimplifyPreserveTopology(mpoly, 0.01))\n",
    "FROM {Ocsge._meta.db_table} as o INNER JOIN {CouvertureSol._meta.db_table} as t ON t.code_prefix = o.couverture \n",
    "WHERE mpoly && ST_MakeEnvelope(%s, %s, %s, %s, 4326)\n",
    "ORDER BY ? DESC\n",
    "LIMIT 10\n",
    "\"\"\"\n",
    "with connection.cursor() as cursor:\n",
    "    cursor.execute(query, bbox)\n",
    "    rows = cursor.fetchall()\n",
    "rows"
   ]
  },
  {
   "cell_type": "code",
   "execution_count": 33,
   "id": "a77887e5",
   "metadata": {},
   "outputs": [
    {
     "data": {
      "text/plain": [
       "[(14, None, None, None, None),\n",
       " (154, None, None, None, None),\n",
       " (14, None, None, None, None),\n",
       " (16, None, None, None, None),\n",
       " (17, None, None, None, None),\n",
       " (14, None, None, None, None),\n",
       " (14, None, None, None, None),\n",
       " (16, None, None, None, None),\n",
       " (76, None, None, None, None),\n",
       " (18, None, None, None, None)]"
      ]
     },
     "execution_count": 33,
     "metadata": {},
     "output_type": "execute_result"
    }
   ],
   "source": [
    "query = f\"\"\"\n",
    "SELECT\n",
    "    ST_NPoints(mpoly) AS geometry,\n",
    "    ST_NPoints(ST_Simplify(mpoly, 0.1)),\n",
    "    ST_NPoints(ST_Simplify(mpoly, 1)),\n",
    "    ST_NPoints(ST_Simplify(mpoly, 10)),\n",
    "    ST_NPoints(ST_Simplify(mpoly, 100))\n",
    "FROM {Ocsge._meta.db_table} as o INNER JOIN {CouvertureSol._meta.db_table} as t ON t.code_prefix = o.couverture \n",
    "WHERE mpoly && ST_MakeEnvelope(%s, %s, %s, %s, 4326) \n",
    "LIMIT 10\n",
    "\"\"\"\n",
    "with connection.cursor() as cursor:\n",
    "    cursor.execute(query, bbox)\n",
    "    rows = cursor.fetchall()\n",
    "rows"
   ]
  },
  {
   "cell_type": "code",
   "execution_count": 27,
   "id": "1e49a3ae",
   "metadata": {},
   "outputs": [
    {
     "data": {
      "text/plain": [
       "[(49, 33, 17, 9, 5, 5)]"
      ]
     },
     "execution_count": 27,
     "metadata": {},
     "output_type": "execute_result"
    }
   ],
   "source": [
    "query = \"\"\"\n",
    "SELECT ST_Npoints(the_geom) As np_before, ST_NPoints(ST_SimplifyPreserveTopology(the_geom,0.1)) As np01_notbadcircle, ST_NPoints(ST_SimplifyPreserveTopology(the_geom,0.5)) As np05_notquitecircle,\n",
    "ST_NPoints(ST_SimplifyPreserveTopology(the_geom,1)) As np1_octagon, ST_NPoints(ST_SimplifyPreserveTopology(the_geom,10)) As np10_square,\n",
    "ST_NPoints(ST_SimplifyPreserveTopology(the_geom,100)) As  np100_stillsquare\n",
    "FROM (SELECT ST_Buffer('POINT(1 3)', 10,12) As the_geom) As foo;\n",
    "\"\"\"\n",
    "with connection.cursor() as cursor:\n",
    "    cursor.execute(query, bbox)\n",
    "    rows = cursor.fetchall()\n",
    "rows"
   ]
  },
  {
   "cell_type": "code",
   "execution_count": null,
   "id": "435ba908",
   "metadata": {},
   "outputs": [],
   "source": [
    "from rest_framework_gis.serializers import GeoFeatureModelSerializer\n",
    "from ipyleaflet import Map, GeoJSON\n",
    "\n",
    "class CustomSerializer(GeoFeatureModelSerializer):\n",
    "    geom = GeometryField()\n",
    "    \n",
    "    class Meta:\n",
    "        model = Comm\n",
    "        geo_field = \"geom\"\n",
    "        fields=('_commune', )\n",
    "\n",
    "# get the data from the database\n",
    "geom = Project.objects.get(pk=4).combined_emprise\n",
    "qs = Comm.objects.filter(mpoly__intersects=geom).annotate(intersection=Intersection(\"mpoly\", geom))\n",
    "qs = qs.annotate(intersection_area=Area(\"intersection\")).annotate(area=Area(\"mpoly\"))\n",
    "    \n",
    "serializer = CustomSerializer(qs, many=True)\n",
    "\n",
    "# Start map renderint\n",
    "m = Map(center=(44.6586, -1.164), zoom=11)\n",
    "\n",
    "geo_json = GeoJSON(\n",
    "    data=serializer.data,\n",
    "    style={'opacity': 1, 'dashArray': '9', 'fillOpacity': 0.1, 'weight': 1},\n",
    "    hover_style={'color': 'white', 'dashArray': '0', 'fillOpacity': 0.5},\n",
    "    style_callback={'color': 'black',\n",
    "                    'fillColor': random.choice(['red', 'yellow', 'green', 'orange']),}\n",
    ")\n",
    "m.add_layer(geo_json)\n",
    "m"
   ]
  },
  {
   "cell_type": "code",
   "execution_count": null,
   "id": "6b43151f",
   "metadata": {},
   "outputs": [],
   "source": [
    "def get_data(query, params, headers):\n",
    "    with connection.cursor() as cursor:\n",
    "        cursor.execute(query, params)\n",
    "        return [zip(headers, row) for row in cursor.fetchall()]\n",
    "\n",
    "def optimized(query):\n",
    "        geojson = {\n",
    "            \"type\": \"FeatureCollection\",\n",
    "            \"crs\": {\"type\": \"name\", \"properties\": {\"name\": \"EPSG:4326\"}},\n",
    "            \"features\": [{\n",
    "                    \"type\": \"Feature\",\n",
    "                    \"properties\": {},\n",
    "                    \"geometry\": json.loads(row[\"geom\"]),\n",
    "                } for row in self.get_data(query)],\n",
    "        }\n",
    "    return geojson"
   ]
  },
  {
   "cell_type": "code",
   "execution_count": 31,
   "id": "ceb1e9dd",
   "metadata": {},
   "outputs": [
    {
     "data": {
      "text/plain": [
       "[('a', 1), ('b', 2), ('c', 3)]"
      ]
     },
     "execution_count": 31,
     "metadata": {},
     "output_type": "execute_result"
    }
   ],
   "source": [
    "list(zip([\"a\",\"b\",\"c\"], [1,2,3]))"
   ]
  },
  {
   "cell_type": "code",
   "execution_count": 46,
   "id": "8020cfab",
   "metadata": {},
   "outputs": [
    {
     "ename": "OperationalError",
     "evalue": "out of memory\nDETAIL:  Cannot enlarge string buffer containing 1073741450 bytes by 424 more bytes.\n",
     "output_type": "error",
     "traceback": [
      "\u001b[0;31m---------------------------------------------------------------------------\u001b[0m",
      "\u001b[0;31mProgramLimitExceeded\u001b[0m                      Traceback (most recent call last)",
      "File \u001b[0;32m/usr/local/lib/python3.10/site-packages/django/db/backends/utils.py:89\u001b[0m, in \u001b[0;36mCursorWrapper._execute\u001b[0;34m(self, sql, params, *ignored_wrapper_args)\u001b[0m\n\u001b[1;32m     88\u001b[0m \u001b[38;5;28;01melse\u001b[39;00m:\n\u001b[0;32m---> 89\u001b[0m     \u001b[38;5;28;01mreturn\u001b[39;00m \u001b[38;5;28;43mself\u001b[39;49m\u001b[38;5;241;43m.\u001b[39;49m\u001b[43mcursor\u001b[49m\u001b[38;5;241;43m.\u001b[39;49m\u001b[43mexecute\u001b[49m\u001b[43m(\u001b[49m\u001b[43msql\u001b[49m\u001b[43m,\u001b[49m\u001b[43m \u001b[49m\u001b[43mparams\u001b[49m\u001b[43m)\u001b[49m\n",
      "\u001b[0;31mProgramLimitExceeded\u001b[0m: out of memory\nDETAIL:  Cannot enlarge string buffer containing 1073741450 bytes by 424 more bytes.\n",
      "\nThe above exception was the direct cause of the following exception:\n",
      "\u001b[0;31mOperationalError\u001b[0m                          Traceback (most recent call last)",
      "Cell \u001b[0;32mIn[46], line 22\u001b[0m\n\u001b[1;32m      1\u001b[0m query \u001b[38;5;241m=\u001b[39m \u001b[38;5;124mf\u001b[39m\u001b[38;5;124m\"\"\"\u001b[39m\n\u001b[1;32m      2\u001b[0m \u001b[38;5;124mSELECT json_build_object(\u001b[39m\n\u001b[1;32m      3\u001b[0m \u001b[38;5;124m    \u001b[39m\u001b[38;5;124m'\u001b[39m\u001b[38;5;124mtype\u001b[39m\u001b[38;5;124m'\u001b[39m\u001b[38;5;124m, \u001b[39m\u001b[38;5;124m'\u001b[39m\u001b[38;5;124mFeatureCollection\u001b[39m\u001b[38;5;124m'\u001b[39m\u001b[38;5;124m,\u001b[39m\n\u001b[0;32m   (...)\u001b[0m\n\u001b[1;32m     19\u001b[0m \u001b[38;5;124mLIMIT 10;\u001b[39m\n\u001b[1;32m     20\u001b[0m \u001b[38;5;124m\"\"\"\u001b[39m\n\u001b[1;32m     21\u001b[0m \u001b[38;5;28;01mwith\u001b[39;00m connection\u001b[38;5;241m.\u001b[39mcursor() \u001b[38;5;28;01mas\u001b[39;00m cursor:\n\u001b[0;32m---> 22\u001b[0m     \u001b[43mcursor\u001b[49m\u001b[38;5;241;43m.\u001b[39;49m\u001b[43mexecute\u001b[49m\u001b[43m(\u001b[49m\u001b[43mquery\u001b[49m\u001b[43m,\u001b[49m\u001b[43m \u001b[49m\u001b[43mbbox\u001b[49m\u001b[43m)\u001b[49m\n\u001b[1;32m     23\u001b[0m     rows \u001b[38;5;241m=\u001b[39m cursor\u001b[38;5;241m.\u001b[39mfetchall()\n\u001b[1;32m     24\u001b[0m rows\n",
      "File \u001b[0;32m/usr/local/lib/python3.10/site-packages/django/db/backends/utils.py:102\u001b[0m, in \u001b[0;36mCursorDebugWrapper.execute\u001b[0;34m(self, sql, params)\u001b[0m\n\u001b[1;32m    100\u001b[0m \u001b[38;5;28;01mdef\u001b[39;00m \u001b[38;5;21mexecute\u001b[39m(\u001b[38;5;28mself\u001b[39m, sql, params\u001b[38;5;241m=\u001b[39m\u001b[38;5;28;01mNone\u001b[39;00m):\n\u001b[1;32m    101\u001b[0m     \u001b[38;5;28;01mwith\u001b[39;00m \u001b[38;5;28mself\u001b[39m\u001b[38;5;241m.\u001b[39mdebug_sql(sql, params, use_last_executed_query\u001b[38;5;241m=\u001b[39m\u001b[38;5;28;01mTrue\u001b[39;00m):\n\u001b[0;32m--> 102\u001b[0m         \u001b[38;5;28;01mreturn\u001b[39;00m \u001b[38;5;28;43msuper\u001b[39;49m\u001b[43m(\u001b[49m\u001b[43m)\u001b[49m\u001b[38;5;241;43m.\u001b[39;49m\u001b[43mexecute\u001b[49m\u001b[43m(\u001b[49m\u001b[43msql\u001b[49m\u001b[43m,\u001b[49m\u001b[43m \u001b[49m\u001b[43mparams\u001b[49m\u001b[43m)\u001b[49m\n",
      "File \u001b[0;32m/usr/local/lib/python3.10/site-packages/django/db/backends/utils.py:67\u001b[0m, in \u001b[0;36mCursorWrapper.execute\u001b[0;34m(self, sql, params)\u001b[0m\n\u001b[1;32m     66\u001b[0m \u001b[38;5;28;01mdef\u001b[39;00m \u001b[38;5;21mexecute\u001b[39m(\u001b[38;5;28mself\u001b[39m, sql, params\u001b[38;5;241m=\u001b[39m\u001b[38;5;28;01mNone\u001b[39;00m):\n\u001b[0;32m---> 67\u001b[0m     \u001b[38;5;28;01mreturn\u001b[39;00m \u001b[38;5;28;43mself\u001b[39;49m\u001b[38;5;241;43m.\u001b[39;49m\u001b[43m_execute_with_wrappers\u001b[49m\u001b[43m(\u001b[49m\n\u001b[1;32m     68\u001b[0m \u001b[43m        \u001b[49m\u001b[43msql\u001b[49m\u001b[43m,\u001b[49m\u001b[43m \u001b[49m\u001b[43mparams\u001b[49m\u001b[43m,\u001b[49m\u001b[43m \u001b[49m\u001b[43mmany\u001b[49m\u001b[38;5;241;43m=\u001b[39;49m\u001b[38;5;28;43;01mFalse\u001b[39;49;00m\u001b[43m,\u001b[49m\u001b[43m \u001b[49m\u001b[43mexecutor\u001b[49m\u001b[38;5;241;43m=\u001b[39;49m\u001b[38;5;28;43mself\u001b[39;49m\u001b[38;5;241;43m.\u001b[39;49m\u001b[43m_execute\u001b[49m\n\u001b[1;32m     69\u001b[0m \u001b[43m    \u001b[49m\u001b[43m)\u001b[49m\n",
      "File \u001b[0;32m/usr/local/lib/python3.10/site-packages/django/db/backends/utils.py:80\u001b[0m, in \u001b[0;36mCursorWrapper._execute_with_wrappers\u001b[0;34m(self, sql, params, many, executor)\u001b[0m\n\u001b[1;32m     78\u001b[0m \u001b[38;5;28;01mfor\u001b[39;00m wrapper \u001b[38;5;129;01min\u001b[39;00m \u001b[38;5;28mreversed\u001b[39m(\u001b[38;5;28mself\u001b[39m\u001b[38;5;241m.\u001b[39mdb\u001b[38;5;241m.\u001b[39mexecute_wrappers):\n\u001b[1;32m     79\u001b[0m     executor \u001b[38;5;241m=\u001b[39m functools\u001b[38;5;241m.\u001b[39mpartial(wrapper, executor)\n\u001b[0;32m---> 80\u001b[0m \u001b[38;5;28;01mreturn\u001b[39;00m \u001b[43mexecutor\u001b[49m\u001b[43m(\u001b[49m\u001b[43msql\u001b[49m\u001b[43m,\u001b[49m\u001b[43m \u001b[49m\u001b[43mparams\u001b[49m\u001b[43m,\u001b[49m\u001b[43m \u001b[49m\u001b[43mmany\u001b[49m\u001b[43m,\u001b[49m\u001b[43m \u001b[49m\u001b[43mcontext\u001b[49m\u001b[43m)\u001b[49m\n",
      "File \u001b[0;32m/usr/local/lib/python3.10/site-packages/django/db/backends/utils.py:84\u001b[0m, in \u001b[0;36mCursorWrapper._execute\u001b[0;34m(self, sql, params, *ignored_wrapper_args)\u001b[0m\n\u001b[1;32m     82\u001b[0m \u001b[38;5;28;01mdef\u001b[39;00m \u001b[38;5;21m_execute\u001b[39m(\u001b[38;5;28mself\u001b[39m, sql, params, \u001b[38;5;241m*\u001b[39mignored_wrapper_args):\n\u001b[1;32m     83\u001b[0m     \u001b[38;5;28mself\u001b[39m\u001b[38;5;241m.\u001b[39mdb\u001b[38;5;241m.\u001b[39mvalidate_no_broken_transaction()\n\u001b[0;32m---> 84\u001b[0m     \u001b[38;5;28;01mwith\u001b[39;00m \u001b[38;5;28mself\u001b[39m\u001b[38;5;241m.\u001b[39mdb\u001b[38;5;241m.\u001b[39mwrap_database_errors:\n\u001b[1;32m     85\u001b[0m         \u001b[38;5;28;01mif\u001b[39;00m params \u001b[38;5;129;01mis\u001b[39;00m \u001b[38;5;28;01mNone\u001b[39;00m:\n\u001b[1;32m     86\u001b[0m             \u001b[38;5;66;03m# params default might be backend specific.\u001b[39;00m\n\u001b[1;32m     87\u001b[0m             \u001b[38;5;28;01mreturn\u001b[39;00m \u001b[38;5;28mself\u001b[39m\u001b[38;5;241m.\u001b[39mcursor\u001b[38;5;241m.\u001b[39mexecute(sql)\n",
      "File \u001b[0;32m/usr/local/lib/python3.10/site-packages/django/db/utils.py:91\u001b[0m, in \u001b[0;36mDatabaseErrorWrapper.__exit__\u001b[0;34m(self, exc_type, exc_value, traceback)\u001b[0m\n\u001b[1;32m     89\u001b[0m \u001b[38;5;28;01mif\u001b[39;00m dj_exc_type \u001b[38;5;129;01mnot\u001b[39;00m \u001b[38;5;129;01min\u001b[39;00m (DataError, IntegrityError):\n\u001b[1;32m     90\u001b[0m     \u001b[38;5;28mself\u001b[39m\u001b[38;5;241m.\u001b[39mwrapper\u001b[38;5;241m.\u001b[39merrors_occurred \u001b[38;5;241m=\u001b[39m \u001b[38;5;28;01mTrue\u001b[39;00m\n\u001b[0;32m---> 91\u001b[0m \u001b[38;5;28;01mraise\u001b[39;00m dj_exc_value\u001b[38;5;241m.\u001b[39mwith_traceback(traceback) \u001b[38;5;28;01mfrom\u001b[39;00m \u001b[38;5;21;01mexc_value\u001b[39;00m\n",
      "File \u001b[0;32m/usr/local/lib/python3.10/site-packages/django/db/backends/utils.py:89\u001b[0m, in \u001b[0;36mCursorWrapper._execute\u001b[0;34m(self, sql, params, *ignored_wrapper_args)\u001b[0m\n\u001b[1;32m     87\u001b[0m     \u001b[38;5;28;01mreturn\u001b[39;00m \u001b[38;5;28mself\u001b[39m\u001b[38;5;241m.\u001b[39mcursor\u001b[38;5;241m.\u001b[39mexecute(sql)\n\u001b[1;32m     88\u001b[0m \u001b[38;5;28;01melse\u001b[39;00m:\n\u001b[0;32m---> 89\u001b[0m     \u001b[38;5;28;01mreturn\u001b[39;00m \u001b[38;5;28;43mself\u001b[39;49m\u001b[38;5;241;43m.\u001b[39;49m\u001b[43mcursor\u001b[49m\u001b[38;5;241;43m.\u001b[39;49m\u001b[43mexecute\u001b[49m\u001b[43m(\u001b[49m\u001b[43msql\u001b[49m\u001b[43m,\u001b[49m\u001b[43m \u001b[49m\u001b[43mparams\u001b[49m\u001b[43m)\u001b[49m\n",
      "\u001b[0;31mOperationalError\u001b[0m: out of memory\nDETAIL:  Cannot enlarge string buffer containing 1073741450 bytes by 424 more bytes.\n"
     ]
    }
   ],
   "source": [
    "query = f\"\"\"\n",
    "SELECT json_build_object(\n",
    "    'type', 'FeatureCollection',\n",
    "    'features', json_agg(\n",
    "        json_build_object(\n",
    "            'type', 'Feature',\n",
    "            'geometry', ST_AsGeoJSON(mpoly)::json,\n",
    "            'properties', json_build_object(\n",
    "                'couverture_label', o.couverture_label,\n",
    "                'usage_label', o.usage_label,\n",
    "                'surface', o.surface,\n",
    "                'year', o.year,\n",
    "                'map_color', t.map_color\n",
    "            )\n",
    "        )\n",
    "    )\n",
    ")\n",
    "FROM {Ocsge._meta.db_table} as o INNER JOIN {CouvertureSol._meta.db_table} as t ON t.code_prefix = o.couverture\n",
    "LIMIT 10;\n",
    "\"\"\"\n",
    "with connection.cursor() as cursor:\n",
    "    cursor.execute(query, bbox)\n",
    "    rows = cursor.fetchall()\n",
    "rows"
   ]
  },
  {
   "cell_type": "code",
   "execution_count": null,
   "id": "27e82651",
   "metadata": {},
   "outputs": [],
   "source": []
  }
 ],
 "metadata": {
  "kernelspec": {
   "display_name": "Django Shell-Plus",
   "language": "python",
   "name": "django_extensions"
  },
  "language_info": {
   "codemirror_mode": {
    "name": "ipython",
    "version": 3
   },
   "file_extension": ".py",
   "mimetype": "text/x-python",
   "name": "python",
   "nbconvert_exporter": "python",
   "pygments_lexer": "ipython3",
   "version": "3.10.10"
  }
 },
 "nbformat": 4,
 "nbformat_minor": 5
}
