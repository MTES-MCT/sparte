{
 "cells": [
  {
   "cell_type": "code",
   "execution_count": 3,
   "id": "25f58157",
   "metadata": {},
   "outputs": [],
   "source": [
    "import json\n",
    "from public_data.models import Ocsge, Commune\n",
    "from django.db import connection\n",
    "\n",
    "qs = Commune.objects.all()\n",
    "qs\n",
    "\n",
    "\n",
    "\n"
   ]
  },
  {
   "cell_type": "code",
   "execution_count": null,
   "id": "4c9178fd",
   "metadata": {},
   "outputs": [],
   "source": [
    "comm = qs[3]\n",
    "bbox = comm.mpoly.extent\n",
    "\n",
    "# Initial parameters\n",
    "# bbox = [-0.601487594874066, 44.6932226204681, -1.02920400564268, 44.4183678096998]\n",
    "# generate initial SQL\n",
    "query = (\n",
    "    \"SELECT id, couverture_label, usage_label, millesime, map_color, year, st_AsGeoJSON(mpoly, 6, 0) AS geojson \" \n",
    "    f\"FROM {Ocsge._meta.db_table} \"\n",
    "    \"WHERE mpoly && ST_MakeEnvelope(%s, %s, %s, %s, 4326) \"\n",
    "    \"LIMIT 2\"\n",
    ")\n",
    "\n",
    "query"
   ]
  },
  {
   "cell_type": "code",
   "execution_count": null,
   "id": "c6873b2a",
   "metadata": {},
   "outputs": [],
   "source": [
    "with connection.cursor() as cursor:\n",
    "    cursor.execute(query, bbox)\n",
    "    rows = cursor.fetchall()\n",
    "rows"
   ]
  },
  {
   "cell_type": "code",
   "execution_count": null,
   "id": "60c7d611",
   "metadata": {},
   "outputs": [],
   "source": [
    "# generate features\n",
    "features = []\n",
    "for row in rows:\n",
    "    feature = {\n",
    "        'type': 'Feature',\n",
    "        'properties': {\n",
    "            'id': row[0],\n",
    "            'couverture_label': row[1],\n",
    "            'usage_label': row[2],\n",
    "            'millesime': row[3].strftime(\"%Y-%m-%d\"),\n",
    "            'map_color': row[4],\n",
    "            'year': row[5],\n",
    "        },\n",
    "        'geometry': json.loads(row[6])\n",
    "    }\n",
    "    features.append(feature)\n",
    "features"
   ]
  },
  {
   "cell_type": "code",
   "execution_count": null,
   "id": "6c092db1",
   "metadata": {},
   "outputs": [],
   "source": [
    "# convert python dictionary into json\n",
    "geojson = json.dumps({\n",
    "    \"type\": \"FeatureCollection\",\n",
    "    \"crs\": {\"type\": \"name\", \"properties\": {\"name\": f\"EPSG:4326\"}},\n",
    "    'features': features\n",
    "})\n",
    "\n",
    "print(geojson)"
   ]
  },
  {
   "cell_type": "code",
   "execution_count": null,
   "id": "63574ac8",
   "metadata": {},
   "outputs": [],
   "source": [
    "\n",
    "\n",
    "qs = CommunesSybarval.objects.all()\n",
    "qs = qs.annotate(extent=Extent(\"mpoly\"))\n",
    "comm = qs.first()\n",
    "print(comm.extent)\n",
    "print(comm.mpoly.extent)\n",
    "\n",
    "bbox = [-0.601487594874066, 44.6932226204681, -1.02920400564268, 44.4183678096998]\n",
    "\n",
    "bbox = [comm.extent[2], comm.extent[3], comm.extent[0], comm.extent[1]]\n",
    "print(bbox)"
   ]
  },
  {
   "cell_type": "code",
   "execution_count": null,
   "id": "976cdf14",
   "metadata": {},
   "outputs": [],
   "source": [
    "# test avec jointure sur UsageSol\n",
    "params = [-1.2747573852539065, 44.609534650700205, -1.0524559020996096, 44.69062362134582, 2015]\n",
    "\n",
    "query = (\n",
    "    \"SELECT o.id, o.couverture_label, o.usage_label, o.millesime, u.map_color, \"\n",
    "    \"o.year, st_AsGeoJSON(o.mpoly, 4) AS geojson \"\n",
    "    f\"FROM {Ocsge._meta.db_table} o \"\n",
    "    f\"INNER JOIN {UsageSol._meta.db_table} u ON u.code_prefix = o.usage \"\n",
    "    \"WHERE o. mpoly && ST_MakeEnvelope(%s, %s, %s, %s, 4326) \"\n",
    "    \"AND o.year = %s\"\n",
    ")\n",
    "\n",
    "print(query)\n",
    "\n",
    "with connection.cursor() as cursor:\n",
    "    cursor.execute(query, params)\n",
    "    rows = cursor.fetchall()\n",
    "\n",
    "rows[:5]"
   ]
  },
  {
   "cell_type": "code",
   "execution_count": null,
   "id": "30c509d1",
   "metadata": {},
   "outputs": [],
   "source": [
    "from public_data.models import RefPlan\n",
    "table_name = RefPlan._meta.db_table\n",
    "query = (\n",
    "    \"SELECT region_id, region_name, \"\n",
    "    \"st_AsGeoJSON(ST_Union(mpoly), 8) AS geojson \"\n",
    "    f\"FROM {table_name} \"\n",
    "    \"GROUP BY region_id, region_name\"\n",
    ")\n",
    "query"
   ]
  },
  {
   "cell_type": "code",
   "execution_count": null,
   "id": "5dc56648",
   "metadata": {},
   "outputs": [],
   "source": [
    "with connection.cursor() as cursor:\n",
    "    cursor.execute(query)\n",
    "    rows = cursor.fetchall()\n",
    "len(rows)"
   ]
  },
  {
   "cell_type": "code",
   "execution_count": null,
   "id": "4a5ed44c",
   "metadata": {},
   "outputs": [],
   "source": []
  }
 ],
 "metadata": {
  "kernelspec": {
   "display_name": "Django Shell-Plus",
   "language": "python",
   "name": "django_extensions"
  },
  "language_info": {
   "codemirror_mode": {
    "name": "ipython",
    "version": 3
   },
   "file_extension": ".py",
   "mimetype": "text/x-python",
   "name": "python",
   "nbconvert_exporter": "python",
   "pygments_lexer": "ipython3",
   "version": "3.10.10"
  }
 },
 "nbformat": 4,
 "nbformat_minor": 5
}
