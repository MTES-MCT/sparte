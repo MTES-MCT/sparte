{
 "cells": [
  {
   "cell_type": "code",
   "execution_count": 3,
   "id": "7a355385",
   "metadata": {},
   "outputs": [],
   "source": [
    "import os\n",
    "os.environ[\"DJANGO_ALLOW_ASYNC_UNSAFE\"] = \"true\""
   ]
  },
  {
   "cell_type": "code",
   "execution_count": 4,
   "id": "97c73ee7",
   "metadata": {},
   "outputs": [],
   "source": [
    "from ipyleaflet import Map, GeoJSON, Polygon as iPolygon\n",
    "from django.contrib.gis.geos import Polygon as dPolygon\n",
    "from rest_framework_gis.serializers import GeoFeatureModelSerializer\n",
    "from django.contrib.gis.db.models import Union, Extent\n",
    "from public_data.models import RefPlan\n",
    "import random\n",
    "\n",
    "class RefPlanSerializer(GeoFeatureModelSerializer):\n",
    "    class Meta:\n",
    "        model = RefPlan\n",
    "        geo_field = \"mpoly\"\n",
    "        fields=('city_insee', 'city_name')\n",
    "        \n",
    "class SinglePolySerializer(GeoFeatureModelSerializer):\n",
    "    class Meta:\n",
    "        model = RefPlan\n",
    "        geo_field = \"mpoly\"\n",
    "        fields=()\n",
    "\n",
    "def random_color(feature):\n",
    "    return {\n",
    "        'color': 'black',\n",
    "        'fillColor': random.choice(['red', 'yellow', 'green', 'orange']),\n",
    "    }"
   ]
  },
  {
   "cell_type": "code",
   "execution_count": 5,
   "id": "fb111974",
   "metadata": {},
   "outputs": [
    {
     "data": {
      "application/vnd.jupyter.widget-view+json": {
       "model_id": "d73fa63a12ce409ca6c687bd572da3bc",
       "version_major": 2,
       "version_minor": 0
      },
      "text/plain": [
       "Map(center=[46.2113160334893, 2.2093133927972097], controls=(ZoomControl(options=['position', 'zoom_in_text', …"
      ]
     },
     "metadata": {},
     "output_type": "display_data"
    }
   ],
   "source": [
    "\n",
    "\n",
    "# display the global emprise\n",
    "qs = RefPlan.objects.all().aggregate(mpoly=Extent(\"mpoly\"))\n",
    "qs['mpoly']\n",
    "\n",
    "coords = (qs['mpoly'][1], qs['mpoly'][0], qs['mpoly'][3], qs['mpoly'][2])\n",
    "\n",
    "poly = dPolygon.from_bbox(coords)\n",
    "\n",
    "x = (qs['mpoly'][0] + qs['mpoly'][2]) / 2\n",
    "y = (qs['mpoly'][1] + qs['mpoly'][3]) / 2\n",
    "(x, y)\n",
    "\n",
    "m = Map(center=(y, x), zoom=4)\n",
    "m.add_layer(iPolygon(\n",
    "    locations=poly.coords,\n",
    "    color=\"blue\",\n",
    "    fill_color=\"blue\",\n",
    "))\n",
    "m"
   ]
  },
  {
   "cell_type": "code",
   "execution_count": 6,
   "id": "d73a14e1",
   "metadata": {},
   "outputs": [
    {
     "data": {
      "application/vnd.jupyter.widget-view+json": {
       "model_id": "36353f73d9b54ed0a2879134c794d05f",
       "version_major": 2,
       "version_minor": 0
      },
      "text/plain": [
       "Map(center=[46.2113160334893, 2.2093133927972097], controls=(ZoomControl(options=['position', 'zoom_in_text', …"
      ]
     },
     "metadata": {},
     "output_type": "display_data"
    }
   ],
   "source": [
    "m = Map(center=(y, x), zoom=5)\n",
    "\n",
    "qs = RefPlan.objects.all().aggregate(mpoly=Union(\"mpoly\"))\n",
    "serializer = SinglePolySerializer(qs)\n",
    "\n",
    "\n",
    "geo_json = GeoJSON(\n",
    "    data=serializer.data,\n",
    "    style={'opacity': 1, 'dashArray': '9', 'fillOpacity': 0.1, 'weight': 1},\n",
    "    hover_style={'color': 'white', 'dashArray': '0', 'fillOpacity': 0.5},\n",
    "    style_callback=random_color,\n",
    ")\n",
    "m.add_layer(geo_json)\n",
    "m"
   ]
  },
  {
   "cell_type": "code",
   "execution_count": null,
   "id": "0abc4e4d",
   "metadata": {},
   "outputs": [],
   "source": [
    "class DepSerializer(GeoFeatureModelSerializer):\n",
    "    class Meta:\n",
    "        model = RefPlan\n",
    "        geo_field = \"mpoly\"\n",
    "        fields=('dept_name', )\n",
    "\n",
    "qs = RefPlan.objects.values('dept_name').annotate(mpoly=Union(\"mpoly\")).order_by('dept_name')\n",
    "\n",
    "serializer = DepSerializer(qs, many=True)\n",
    "\n",
    "m = Map(center=(y, x), zoom=5)\n",
    "\n",
    "geo_json = GeoJSON(\n",
    "    data=serializer.data,\n",
    "    style={'opacity': 1, 'dashArray': '9', 'fillOpacity': 0.1, 'weight': 1},\n",
    "    hover_style={'color': 'white', 'dashArray': '0', 'fillOpacity': 0.5},\n",
    "    style_callback=random_color,\n",
    ")\n",
    "m.add_layer(geo_json)\n",
    "m"
   ]
  },
  {
   "cell_type": "code",
   "execution_count": null,
   "id": "86646fb3",
   "metadata": {},
   "outputs": [],
   "source": [
    "qs = RefPlan.objects.values('region_id', 'region_name')\n",
    "qs = qs.annotate(mpoly=Union(\"mpoly\")).order_by('region_name')\n",
    "qs"
   ]
  },
  {
   "cell_type": "code",
   "execution_count": null,
   "id": "267b703c",
   "metadata": {},
   "outputs": [],
   "source": []
  }
 ],
 "metadata": {
  "kernelspec": {
   "display_name": "Django Shell-Plus",
   "language": "python",
   "name": "django_extensions"
  },
  "language_info": {
   "codemirror_mode": {
    "name": "ipython",
    "version": 3
   },
   "file_extension": ".py",
   "mimetype": "text/x-python",
   "name": "python",
   "nbconvert_exporter": "python",
   "pygments_lexer": "ipython3",
   "version": "3.10.10"
  }
 },
 "nbformat": 4,
 "nbformat_minor": 5
}
