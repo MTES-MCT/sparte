{
 "cells": [
  {
   "cell_type": "code",
   "execution_count": 3,
   "id": "bb3b480f",
   "metadata": {},
   "outputs": [
    {
     "data": {
      "text/plain": [
       "(<Commune: Auch (32013)>,\n",
       " (0.486067241998179, 43.6175987830157, 0.647056360983016, 43.7076959675878))"
      ]
     },
     "execution_count": 3,
     "metadata": {},
     "output_type": "execute_result"
    }
   ],
   "source": [
    "from public_data.models import Ocsge, Commune, CouvertureSol\n",
    "from django.db import connection\n",
    "city = Commune.objects.get(name=\"Auch\")\n",
    "bbox = city.mpoly.extent\n",
    "city, bbox"
   ]
  },
  {
   "cell_type": "code",
   "execution_count": 9,
   "id": "57e0596d",
   "metadata": {
    "scrolled": true
   },
   "outputs": [
    {
     "data": {
      "text/plain": [
       "[(18, 17, 15, 10, 10, 10, 5, 5, 5),\n",
       " (15, 15, 15, 12, 10, 9, 8, 5, 5),\n",
       " (25, 25, 23, 17, 15, 15, 5, 5, 5),\n",
       " (31, 31, 31, 26, 24, 17, 7, 5, 5),\n",
       " (19, 19, 19, 11, 10, 10, 5, 5, 5),\n",
       " (57, 56, 54, 28, 25, 19, 8, 5, 5),\n",
       " (16, 16, 14, 12, 6, 6, 5, 5, 5),\n",
       " (14, 14, 13, 9, 8, 8, 5, 5, 5),\n",
       " (13, 13, 12, 6, 6, 6, 5, 5, 5),\n",
       " (75, 75, 73, 51, 36, 24, 9, 5, 5)]"
      ]
     },
     "execution_count": 9,
     "metadata": {},
     "output_type": "execute_result"
    }
   ],
   "source": [
    "query = f\"\"\"\n",
    "SELECT\n",
    "    ST_NPoints(mpoly) AS geometry,\n",
    "    ST_NPoints(ST_SimplifyPreserveTopology(mpoly, 0.000000001)),\n",
    "    ST_NPoints(ST_SimplifyPreserveTopology(mpoly, 0.00000001)),\n",
    "    ST_NPoints(ST_SimplifyPreserveTopology(mpoly, 0.0000001)),\n",
    "    ST_NPoints(ST_SimplifyPreserveTopology(mpoly, 0.000001)),\n",
    "    ST_NPoints(ST_SimplifyPreserveTopology(mpoly, 0.00001)),\n",
    "    ST_NPoints(ST_SimplifyPreserveTopology(mpoly, 0.0001)),\n",
    "    ST_NPoints(ST_SimplifyPreserveTopology(mpoly, 0.001)),\n",
    "    ST_NPoints(ST_SimplifyPreserveTopology(mpoly, 0.01))\n",
    "FROM {Ocsge._meta.db_table} as o INNER JOIN {CouvertureSol._meta.db_table} as t ON t.code_prefix = o.couverture\n",
    "WHERE mpoly && ST_MakeEnvelope(%s, %s, %s, %s, 4326)\n",
    "ORDER BY RANDOM() DESC\n",
    "LIMIT 10\n",
    "\"\"\"\n",
    "with connection.cursor() as cursor:\n",
    "    cursor.execute(query, bbox)\n",
    "    rows = cursor.fetchall()\n",
    "rows"
   ]
  },
  {
   "cell_type": "code",
   "execution_count": null,
   "id": "fde2491e",
   "metadata": {},
   "outputs": [],
   "source": []
  }
 ],
 "metadata": {
  "kernelspec": {
   "display_name": "Django Shell-Plus",
   "language": "python",
   "name": "django_extensions"
  },
  "language_info": {
   "codemirror_mode": {
    "name": "ipython",
    "version": 3
   },
   "file_extension": ".py",
   "mimetype": "text/x-python",
   "name": "python",
   "nbconvert_exporter": "python",
   "pygments_lexer": "ipython3",
   "version": "3.10.10"
  }
 },
 "nbformat": 4,
 "nbformat_minor": 5
}
