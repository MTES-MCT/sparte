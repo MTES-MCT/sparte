{
 "cells": [
  {
   "cell_type": "code",
   "execution_count": null,
   "id": "5c0c6e6c",
   "metadata": {},
   "outputs": [],
   "source": [
    "import contextily as cx\n",
    "import geopandas\n",
    "import matplotlib.pyplot as plt\n",
    "from shapely.geometry import MultiPolygon, Polygon\n",
    "from shapely.wkt import loads as from_wkt\n",
    "from project.models import Project\n",
    "\n",
    "\n",
    "ign_url = (\n",
    "    \"https://wxs.ign.fr/ortho/geoportail/wmts?\"\n",
    "    \"&REQUEST=GetTile&SERVICE=WMTS&VERSION=1.0.0&TILEMATRIXSET=PM\"\n",
    "    \"&LAYER=ORTHOIMAGERY.ORTHOPHOTOS&STYLE=normal&FORMAT=image/jpeg\"\n",
    "    \"&TILECOL={x}&TILEROW={y}&TILEMATRIX={z}\"\n",
    ")"
   ]
  },
  {
   "cell_type": "code",
   "execution_count": null,
   "id": "f9d203a6",
   "metadata": {},
   "outputs": [],
   "source": [
    "filepath = \"../../public_data/local_data/obs_artif_conso_com_2009_2021/obs_artif_conso_com_2009_2021.shp\"\n",
    "gdf = geopandas.read_file(filepath)\n",
    "gdf.crs"
   ]
  },
  {
   "cell_type": "code",
   "execution_count": null,
   "id": "e4491bc4",
   "metadata": {},
   "outputs": [],
   "source": [
    "diagnostic = Project.objects.get(id=7)\n",
    "print(diagnostic.id, diagnostic.name)\n",
    "\n",
    "geom = diagnostic.combined_emprise.transform(\"2154\", clone=True)\n",
    "srid, wkt = geom.ewkt.split(\";\")\n",
    "polygons = from_wkt(wkt)\n",
    "\n",
    "selection = gdf.intersects(polygons)\n",
    "grand_coeur = gdf.loc[selection]\n",
    "grand_coeur"
   ]
  },
  {
   "cell_type": "code",
   "execution_count": null,
   "id": "fe8776ab",
   "metadata": {},
   "outputs": [],
   "source": [
    "grand_coeur = grand_coeur.to_crs(epsg=3857)\n",
    "ax = grand_coeur.plot(\"pop1318\", legend=True, cmap='OrRd', figsize=(60, 10), alpha=0.5, edgecolor='k')\n",
    "cx.add_basemap(ax, source=ign_url)"
   ]
  },
  {
   "cell_type": "code",
   "execution_count": null,
   "id": "6323ee93",
   "metadata": {},
   "outputs": [],
   "source": [
    "d = {'col1': ['emprise diagnostic',], 'geometry': [polygons,]}\n",
    "gdf_emprise = geopandas.GeoDataFrame(d, crs=\"EPSG:2154\").to_crs(epsg=3857)\n",
    "gdf_emprise"
   ]
  },
  {
   "cell_type": "code",
   "execution_count": null,
   "id": "e611830e",
   "metadata": {},
   "outputs": [],
   "source": [
    "ax = gdf_emprise.buffer(100000).plot()\n",
    "gdf_emprise.plot(ax=ax, edgecolor='yellow')"
   ]
  },
  {
   "cell_type": "code",
   "execution_count": null,
   "id": "c84d4850",
   "metadata": {},
   "outputs": [],
   "source": [
    "fig, ax = plt.subplots(figsize=(60, 10))\n",
    "plt.axis('off')\n",
    "fig.set_dpi(150)\n",
    "\n",
    "gdf_emprise.buffer(250000).plot(ax=ax, facecolor='none', edgecolor='none')\n",
    "gdf_emprise.plot(ax=ax, facecolor='none', edgecolor='yellow')\n",
    "cx.add_basemap(ax, source=ign_url)\n",
    "\n",
    "plt.savefig('foo.png', bbox_inches=\"tight\")"
   ]
  },
  {
   "cell_type": "code",
   "execution_count": null,
   "id": "99861c9a",
   "metadata": {},
   "outputs": [],
   "source": []
  },
  {
   "cell_type": "code",
   "execution_count": null,
   "id": "63edd256",
   "metadata": {},
   "outputs": [],
   "source": []
  },
  {
   "cell_type": "code",
   "execution_count": null,
   "id": "f3cf2b10",
   "metadata": {},
   "outputs": [],
   "source": []
  }
 ],
 "metadata": {
  "kernelspec": {
   "display_name": "Django Shell-Plus",
   "language": "python",
   "name": "django_extensions"
  },
  "language_info": {
   "codemirror_mode": {
    "name": "ipython",
    "version": 3
   },
   "file_extension": ".py",
   "mimetype": "text/x-python",
   "name": "python",
   "nbconvert_exporter": "python",
   "pygments_lexer": "ipython3",
   "version": "3.9.7"
  }
 },
 "nbformat": 4,
 "nbformat_minor": 5
}
