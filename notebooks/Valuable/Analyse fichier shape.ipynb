{
 "cells": [
  {
   "cell_type": "code",
   "execution_count": 10,
   "id": "476f8ec0",
   "metadata": {},
   "outputs": [
    {
     "data": {
      "text/plain": [
       "True"
      ]
     },
     "execution_count": 10,
     "metadata": {},
     "output_type": "execute_result"
    }
   ],
   "source": [
    "from pathlib import Path\n",
    "from django.contrib.gis.gdal import DataSource\n",
    "\n",
    "shp = Path('../../public_data/local_data/obs_artif_conso_com_2009_2021/obs_artif_conso_com_2009_2021.shp')\n",
    "shp.is_file()"
   ]
  },
  {
   "cell_type": "code",
   "execution_count": 20,
   "id": "91f0725b",
   "metadata": {},
   "outputs": [
    {
     "name": "stdout",
     "output_type": "stream",
     "text": [
      "Datasource= ../../public_data/local_data/obs_artif_conso_com_2009_2021/obs_artif_conso_com_2009_2021.shp (ESRI Shapefile)\n",
      "layer name= obs_artif_conso_com_2009_2021\n",
      "nb items= 34928\n",
      "SRS= PROJCS[\"RGF93 / Lambert-93\",\n",
      "    GEOGCS[\"RGF93\",\n",
      "        DATUM[\"Reseau_Geodesique_Francais_1993\",\n",
      "            SPHEROID[\"GRS 1980\",6378137,298.257222101,\n",
      "                AUTHORITY[\"EPSG\",\"7019\"]],\n",
      "            AUTHORITY[\"EPSG\",\"6171\"]],\n",
      "        PRIMEM[\"Greenwich\",0,\n",
      "            AUTHORITY[\"EPSG\",\"8901\"]],\n",
      "        UNIT[\"degree\",0.0174532925199433,\n",
      "            AUTHORITY[\"EPSG\",\"9122\"]],\n",
      "        AUTHORITY[\"EPSG\",\"4171\"]],\n",
      "    PROJECTION[\"Lambert_Conformal_Conic_2SP\"],\n",
      "    PARAMETER[\"latitude_of_origin\",46.5],\n",
      "    PARAMETER[\"central_meridian\",3],\n",
      "    PARAMETER[\"standard_parallel_1\",49],\n",
      "    PARAMETER[\"standard_parallel_2\",44],\n",
      "    PARAMETER[\"false_easting\",700000],\n",
      "    PARAMETER[\"false_northing\",6600000],\n",
      "    UNIT[\"metre\",1,\n",
      "        AUTHORITY[\"EPSG\",\"9001\"]],\n",
      "    AXIS[\"Easting\",EAST],\n",
      "    AXIS[\"Northing\",NORTH],\n",
      "    AUTHORITY[\"EPSG\",\"2154\"]]\n",
      "fields= ['idcom', 'idcomtxt', 'idreg', 'idregtxt', 'iddep', 'iddeptxt', 'epci21', 'epci21txt', 'scot', 'aav2020', 'aav2020txt', 'aav2020_ty', 'naf09art10', 'art09act10', 'art09hab10', 'art09mix10', 'art09inc10', 'naf10art11', 'art10act11', 'art10hab11', 'art10mix11', 'art10inc11', 'naf11art12', 'art11act12', 'art11hab12', 'art11mix12', 'art11inc12', 'naf12art13', 'art12act13', 'art12hab13', 'art12mix13', 'art12inc13', 'naf13art14', 'art13act14', 'art13hab14', 'art13mix14', 'art13inc14', 'naf14art15', 'art14act15', 'art14hab15', 'art14mix15', 'art14inc15', 'naf15art16', 'art15act16', 'art15hab16', 'art15mix16', 'art15inc16', 'naf16art17', 'art16act17', 'art16hab17', 'art16mix17', 'art16inc17', 'naf17art18', 'art17act18', 'art17hab18', 'art17mix18', 'art17inc18', 'naf18art19', 'art18act19', 'art18hab19', 'art18mix19', 'art18inc19', 'naf19art20', 'art19act20', 'art19hab20', 'art19mix20', 'art19inc20', 'naf20art21', 'art20act21', 'art20hab21', 'art20mix21', 'art20inc21', 'naf09art21', 'art09act21', 'art09hab21', 'art09mix21', 'art09inc21', 'artcom0921', 'pop13', 'pop18', 'pop1318', 'men13', 'men18', 'men1318', 'emp13', 'emp18', 'emp1318', 'mepart1318', 'menhab1318', 'artpop1318', 'surfcom202']\n"
     ]
    }
   ],
   "source": [
    "ds = DataSource(shp)\n",
    "lyr = ds[0]\n",
    "print(\"Datasource=\", ds)\n",
    "print(\"layer name=\", lyr)\n",
    "print(\"nb items=\", len(lyr))\n",
    "print(\"SRS=\", lyr.srs)"
   ]
  },
  {
   "cell_type": "code",
   "execution_count": 23,
   "id": "81d98857",
   "metadata": {},
   "outputs": [
    {
     "data": {
      "text/plain": [
       "[('idcom', 'OFTString'),\n",
       " ('idcomtxt', 'OFTString'),\n",
       " ('idreg', 'OFTString'),\n",
       " ('idregtxt', 'OFTString'),\n",
       " ('iddep', 'OFTString'),\n",
       " ('iddeptxt', 'OFTString'),\n",
       " ('epci21', 'OFTString'),\n",
       " ('epci21txt', 'OFTString'),\n",
       " ('scot', 'OFTString'),\n",
       " ('aav2020', 'OFTString'),\n",
       " ('aav2020txt', 'OFTString'),\n",
       " ('aav2020_ty', 'OFTString'),\n",
       " ('naf09art10', 'OFTReal'),\n",
       " ('art09act10', 'OFTReal'),\n",
       " ('art09hab10', 'OFTReal'),\n",
       " ('art09mix10', 'OFTReal'),\n",
       " ('art09inc10', 'OFTReal'),\n",
       " ('naf10art11', 'OFTReal'),\n",
       " ('art10act11', 'OFTReal'),\n",
       " ('art10hab11', 'OFTReal'),\n",
       " ('art10mix11', 'OFTReal'),\n",
       " ('art10inc11', 'OFTReal'),\n",
       " ('naf11art12', 'OFTReal'),\n",
       " ('art11act12', 'OFTReal'),\n",
       " ('art11hab12', 'OFTReal'),\n",
       " ('art11mix12', 'OFTReal'),\n",
       " ('art11inc12', 'OFTReal'),\n",
       " ('naf12art13', 'OFTReal'),\n",
       " ('art12act13', 'OFTReal'),\n",
       " ('art12hab13', 'OFTReal'),\n",
       " ('art12mix13', 'OFTReal'),\n",
       " ('art12inc13', 'OFTReal'),\n",
       " ('naf13art14', 'OFTReal'),\n",
       " ('art13act14', 'OFTReal'),\n",
       " ('art13hab14', 'OFTReal'),\n",
       " ('art13mix14', 'OFTReal'),\n",
       " ('art13inc14', 'OFTReal'),\n",
       " ('naf14art15', 'OFTReal'),\n",
       " ('art14act15', 'OFTReal'),\n",
       " ('art14hab15', 'OFTReal'),\n",
       " ('art14mix15', 'OFTReal'),\n",
       " ('art14inc15', 'OFTReal'),\n",
       " ('naf15art16', 'OFTReal'),\n",
       " ('art15act16', 'OFTReal'),\n",
       " ('art15hab16', 'OFTReal'),\n",
       " ('art15mix16', 'OFTReal'),\n",
       " ('art15inc16', 'OFTReal'),\n",
       " ('naf16art17', 'OFTReal'),\n",
       " ('art16act17', 'OFTReal'),\n",
       " ('art16hab17', 'OFTReal'),\n",
       " ('art16mix17', 'OFTReal'),\n",
       " ('art16inc17', 'OFTReal'),\n",
       " ('naf17art18', 'OFTReal'),\n",
       " ('art17act18', 'OFTReal'),\n",
       " ('art17hab18', 'OFTReal'),\n",
       " ('art17mix18', 'OFTReal'),\n",
       " ('art17inc18', 'OFTReal'),\n",
       " ('naf18art19', 'OFTReal'),\n",
       " ('art18act19', 'OFTReal'),\n",
       " ('art18hab19', 'OFTReal'),\n",
       " ('art18mix19', 'OFTReal'),\n",
       " ('art18inc19', 'OFTReal'),\n",
       " ('naf19art20', 'OFTReal'),\n",
       " ('art19act20', 'OFTReal'),\n",
       " ('art19hab20', 'OFTReal'),\n",
       " ('art19mix20', 'OFTReal'),\n",
       " ('art19inc20', 'OFTReal'),\n",
       " ('naf20art21', 'OFTReal'),\n",
       " ('art20act21', 'OFTReal'),\n",
       " ('art20hab21', 'OFTReal'),\n",
       " ('art20mix21', 'OFTReal'),\n",
       " ('art20inc21', 'OFTReal'),\n",
       " ('naf09art21', 'OFTReal'),\n",
       " ('art09act21', 'OFTReal'),\n",
       " ('art09hab21', 'OFTReal'),\n",
       " ('art09mix21', 'OFTReal'),\n",
       " ('art09inc21', 'OFTReal'),\n",
       " ('artcom0921', 'OFTReal'),\n",
       " ('pop13', 'OFTInteger64'),\n",
       " ('pop18', 'OFTInteger64'),\n",
       " ('pop1318', 'OFTInteger64'),\n",
       " ('men13', 'OFTInteger64'),\n",
       " ('men18', 'OFTInteger64'),\n",
       " ('men1318', 'OFTInteger64'),\n",
       " ('emp13', 'OFTInteger64'),\n",
       " ('emp18', 'OFTInteger64'),\n",
       " ('emp1318', 'OFTInteger64'),\n",
       " ('mepart1318', 'OFTReal'),\n",
       " ('menhab1318', 'OFTReal'),\n",
       " ('artpop1318', 'OFTReal'),\n",
       " ('surfcom202', 'OFTReal')]"
      ]
     },
     "execution_count": 23,
     "metadata": {},
     "output_type": "execute_result"
    }
   ],
   "source": [
    "field_list = list(zip(lyr.fields, [fld.__name__ for fld in lyr.field_types]))\n",
    "field_list"
   ]
  },
  {
   "cell_type": "code",
   "execution_count": 24,
   "id": "af9a96bf",
   "metadata": {},
   "outputs": [
    {
     "name": "stdout",
     "output_type": "stream",
     "text": [
      "idcom 73\n",
      "idcomtxt 73\n",
      "idreg 73\n",
      "idregtxt 73\n",
      "iddep 73\n",
      "iddeptxt 73\n",
      "epci21 73\n",
      "epci21txt 73\n",
      "scot 73\n",
      "aav2020 73\n",
      "aav2020txt 73\n",
      "aav2020_ty 73\n"
     ]
    }
   ],
   "source": [
    "for field_name, field_type in field_list:\n",
    "    if field_type == 'OFTString':\n",
    "        max_size = 0\n",
    "        for feature in lyr:\n",
    "            value = feature.get(field_name)\n",
    "            try:\n",
    "                size_max = max(len(value), size_max)\n",
    "            except:\n",
    "                pass\n",
    "\n",
    "        print(field_name, size_max)"
   ]
  },
  {
   "cell_type": "code",
   "execution_count": null,
   "id": "6259c087",
   "metadata": {},
   "outputs": [],
   "source": []
  },
  {
   "cell_type": "code",
   "execution_count": null,
   "id": "7a3cbc85",
   "metadata": {},
   "outputs": [],
   "source": []
  }
 ],
 "metadata": {
  "kernelspec": {
   "display_name": "Django Shell-Plus",
   "language": "python",
   "name": "django_extensions"
  },
  "language_info": {
   "codemirror_mode": {
    "name": "ipython",
    "version": 3
   },
   "file_extension": ".py",
   "mimetype": "text/x-python",
   "name": "python",
   "nbconvert_exporter": "python",
   "pygments_lexer": "ipython3",
   "version": "3.9.7"
  }
 },
 "nbformat": 4,
 "nbformat_minor": 5
}
