{
 "cells": [
  {
   "cell_type": "markdown",
   "id": "8d5e0bb5",
   "metadata": {},
   "source": [
    "## origin_insee n'existe pas\n",
    "Garder nouvel insee ?\n",
    "\n",
    "* 416532\n",
    "\n",
    "\n",
    "## Origin_insee est disponible et différent de nouvel insee\n",
    "\n",
    "**360480**  \n",
    "origin_insee != insee  \n",
    "la commune avec origin_insee existe => garder l'ancienne commune ?\n",
    "\n",
    "idem 762778\n",
    "\n",
    "\n",
    "**982732**  \n",
    "origin_insee est devenu une commune déléguée : https://www.insee.fr/fr/metadonnees/cog/commune/COM44059-fresnay-en-retz  \n",
    "même problème avec les communes périmée  \n",
    "origin_insee n'existe plus  \n",
    "garder nouvel insee ?\n",
    "\n",
    "idem pour 498361 (origin_insee=85060), 266457, 459259, 750210, 286296, 989990, 982732, 279671\n",
    "\n",
    "Liens:\n",
    "- check commune : https://www.insee.fr/fr/recherche?q=01154&debut=0"
   ]
  },
  {
   "cell_type": "code",
   "execution_count": 1,
   "id": "8b1eace8",
   "metadata": {},
   "outputs": [],
   "source": [
    "%load_ext sql\n",
    "# connect to db\n",
    "%sql postgresql://postgres:postgres@db:5432/postgres\n",
    "from public_data.models import ZoneUrba, Commune\n",
    "import json\n",
    "from django.contrib.gis.geos import Polygon\n",
    "from django.db.models import F\n",
    "from ipyleaflet import Map, GeoJSON\n",
    "from colour import Color, RGB_TO_COLOR_NAMES\n",
    "import random\n",
    "\n",
    "check = [\n",
    "    416532,\n",
    "    360480, 762778,\n",
    "    982732, 498361, 266457, 459259, 750210, 286296, 989990, 982732, 279671\n",
    "]\n",
    "\n",
    "geojson = None\n",
    "\n",
    "COLOR = {v[0]: f'rgb({\",\".join([str(_) for _ in k])})' for k,v in RGB_TO_COLOR_NAMES.items()}"
   ]
  },
  {
   "cell_type": "code",
   "execution_count": 2,
   "id": "19a48026",
   "metadata": {
    "scrolled": false
   },
   "outputs": [],
   "source": [
    "m = Map(center=[46.603354, 1.888334], zoom=6)\n",
    "\n",
    "def display_commune(insee, color=COLOR[\"HotPink\"], fit=False):\n",
    "    try:\n",
    "        commune = Commune.objects.get(insee=insee)\n",
    "\n",
    "        m.add_layer(\n",
    "            GeoJSON(\n",
    "                data=json.loads(commune.mpoly.geojson),\n",
    "                style={'color': color, 'opacity': 0.9, 'weight': 3}\n",
    "            )\n",
    "        )\n",
    "        \n",
    "        if fit:\n",
    "            bounds = commune.mpoly.extent\n",
    "            m.fit_bounds([[bounds[1], bounds[0]], [bounds[3], bounds[2]]])\n",
    "    except Commune.DoesNotExist:\n",
    "        print(f\"commune does not exists {insee}\")\n",
    "\n",
    "def handle_feature_click(event, feature, **kwargs):\n",
    "    print(feature[\"properties\"])\n",
    "    display_commune(feature[\"properties\"][\"insee\"], fit=True)\n",
    "\n",
    "    origin_insee = feature[\"properties\"][\"origin_insee\"]\n",
    "    if origin_insee:\n",
    "        display_commune(origin_insee,color=COLOR[\"SeaGreen\"])"
   ]
  },
  {
   "cell_type": "code",
   "execution_count": 3,
   "id": "4586ff35",
   "metadata": {},
   "outputs": [],
   "source": [
    "if geojson:\n",
    "    m.remove_layer(geojson)\n",
    "\n",
    "geojson_data = {\n",
    "    'type': 'FeatureCollection',\n",
    "    'features': [\n",
    "        json.loads(zone_urba.mpoly.geojson)  | {\n",
    "            \"properties\": {\n",
    "                \"id\": zone_urba.id,\n",
    "                \"insee\": zone_urba.insee,\n",
    "                \"origin_insee\": zone_urba.origin_insee,\n",
    "            }\n",
    "        }\n",
    "        for zone_urba in ZoneUrba.objects.filter(id__in=check)\n",
    "    ]\n",
    "}\n",
    "geojson = GeoJSON(\n",
    "    data=geojson_data,\n",
    "    style={'color': COLOR[\"Firebrick\"], 'opacity': 0.7, 'weight': 3},\n",
    ")\n",
    "geojson.on_click(handle_feature_click)\n",
    "m.add_layer(geojson)"
   ]
  },
  {
   "cell_type": "code",
   "execution_count": 4,
   "id": "84f9118e",
   "metadata": {},
   "outputs": [
    {
     "data": {
      "application/vnd.jupyter.widget-view+json": {
       "model_id": "ad1591c07bb9476ba3a9b141f97c8d8c",
       "version_major": 2,
       "version_minor": 0
      },
      "text/plain": [
       "Map(center=[46.603354, 1.888334], controls=(ZoomControl(options=['position', 'zoom_in_text', 'zoom_in_title', …"
      ]
     },
     "metadata": {},
     "output_type": "display_data"
    },
    {
     "name": "stdout",
     "output_type": "stream",
     "text": [
      "{'id': 762778, 'insee': '18062', 'origin_insee': '18215', 'style': {'color': 'rgb(178,34,34)', 'opacity': 0.7, 'weight': 3}}\n"
     ]
    }
   ],
   "source": [
    "display(m)"
   ]
  },
  {
   "cell_type": "code",
   "execution_count": 5,
   "id": "a7c1a19a",
   "metadata": {},
   "outputs": [],
   "source": [
    "zone = ZoneUrba.objects.get(id=279671)\n",
    "center = zone.mpoly.centroid\n",
    "m.center = [center.y, center.x]"
   ]
  },
  {
   "cell_type": "code",
   "execution_count": null,
   "id": "0e71e355",
   "metadata": {},
   "outputs": [
    {
     "name": "stdout",
     "output_type": "stream",
     "text": [
      "Zones: 1010442\n"
     ]
    }
   ],
   "source": [
    "qs = ZoneUrba.objects.all()\n",
    "print(f\"Zones: {qs.count()}\")\n",
    "print(f\"Zones sans code INSEE initialement: {qs.filter(origin_insee__isnull=True).count()}\")\n",
    "qs = qs.exclude(origin_insee__isnull=True)\n",
    "print(f\"Zones sans changement de code INSEE: {qs.filter(origin_insee=F('insee')).count()}\")"
   ]
  },
  {
   "cell_type": "code",
   "execution_count": null,
   "id": "0de688c5",
   "metadata": {},
   "outputs": [],
   "source": [
    "ZoneUrba.objects.exclude(insee=F(\"origin_insee\")).filter(origin_insee__isnull=True).count()"
   ]
  },
  {
   "cell_type": "code",
   "execution_count": null,
   "id": "a6cc3049",
   "metadata": {},
   "outputs": [],
   "source": [
    "%%sql\n",
    "DROP TABLE IF EXISTS pdz_join_pdc;\n",
    "CREATE TEMPORARY TABLE pdz_join_pdc AS\n",
    "select pdz.id, pdz.origin_insee, pdc.id as commune_id, pdc.insee, ST_Area(ST_Transform(ST_Intersection(pdc.mpoly, pdz.mpoly), 2154)) as area\n",
    "from public_data_zoneurba pdz \n",
    "inner join public_data_commune pdc on ST_Intersects(pdz.mpoly, pdc.mpoly);"
   ]
  },
  {
   "cell_type": "code",
   "execution_count": null,
   "id": "e2bc6fee",
   "metadata": {},
   "outputs": [],
   "source": []
  }
 ],
 "metadata": {
  "kernelspec": {
   "display_name": "Django Shell-Plus",
   "language": "python",
   "name": "django_extensions"
  },
  "language_info": {
   "codemirror_mode": {
    "name": "ipython",
    "version": 3
   },
   "file_extension": ".py",
   "mimetype": "text/x-python",
   "name": "python",
   "nbconvert_exporter": "python",
   "pygments_lexer": "ipython3",
   "version": "3.10.10"
  }
 },
 "nbformat": 4,
 "nbformat_minor": 5
}
