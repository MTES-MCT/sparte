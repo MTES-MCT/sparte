{
 "cells": [
  {
   "cell_type": "markdown",
   "id": "b9df91f7",
   "metadata": {},
   "source": [
    "L'objectif de ce notebook est de donner les clés pour utiliser correctement SubQuery\n",
    "\n",
    "Application sur l'objet ZoneUrba pour calculer la surface artificielle en provenance de l'OCSGE : failed\n",
    "\n",
    "Application sur l'objet ZoneUrba pour associer le code insee : in progress\n",
    "\n",
    "[Doc officielle](https://docs.djangoproject.com/en/4.2/ref/models/expressions/#subquery-expressions)\n",
    "\n",
    "Exemple :\n",
    "```python\n",
    "from django.db.models import OuterRef, Subquery\n",
    "newest = Comment.objects.filter(post=OuterRef(\"pk\")).order_by(\"-created_at\")\n",
    "Post.objects.annotate(newest_commenter_email=Subquery(newest.values(\"email\")[:1]))\n",
    "```"
   ]
  },
  {
   "cell_type": "code",
   "execution_count": 1,
   "id": "7cb28122",
   "metadata": {},
   "outputs": [
    {
     "data": {
      "text/plain": [
       "(1010442, 464569)"
      ]
     },
     "execution_count": 1,
     "metadata": {},
     "output_type": "execute_result"
    }
   ],
   "source": [
    "from django.db import connection\n",
    "from django.db.models import OuterRef, Subquery, Sum, F\n",
    "from django.contrib.gis.db.models.functions import Area, Intersection, Transform\n",
    "from django.contrib.gis.db.models import Union\n",
    "\n",
    "from public_data.models import ZoneUrba, Ocsge, Departement, Commune\n",
    "\n",
    "\n",
    "def execute(query, params=None):\n",
    "    with connection.cursor() as cursor:\n",
    "        cursor.execute(query, params)\n",
    "        return cursor.fetchall()\n",
    "\n",
    "\n",
    "ZoneUrba.objects.count(), Ocsge.objects.filter(is_artificial=True).count()"
   ]
  },
  {
   "cell_type": "markdown",
   "id": "454086fd",
   "metadata": {},
   "source": [
    "Test sur une seule ZoneUrba"
   ]
  },
  {
   "cell_type": "code",
   "execution_count": 2,
   "id": "059e2588",
   "metadata": {},
   "outputs": [
    {
     "data": {
      "text/plain": [
       "<ZoneUrba: ZoneUrba object (266816)>"
      ]
     },
     "execution_count": 2,
     "metadata": {},
     "output_type": "execute_result"
    }
   ],
   "source": [
    "dept = Departement.objects.get(source_id=32)\n",
    "zone_urba = ZoneUrba.objects.filter(mpoly__intersects=dept.mpoly).first()\n",
    "zone_urba"
   ]
  },
  {
   "cell_type": "code",
   "execution_count": 11,
   "id": "ba5099b5",
   "metadata": {},
   "outputs": [
    {
     "data": {
      "text/plain": [
       "<QuerySet [{'year': 2019, 'artificial_area': 0.3919341124533532, 'artificial_area2': 236.22150755014331}, {'year': 2016, 'artificial_area': 0.391933899382672, 'artificial_area2': 236.22154447013892}]>"
      ]
     },
     "execution_count": 11,
     "metadata": {},
     "output_type": "execute_result"
    }
   ],
   "source": [
    "surface = (\n",
    "    Ocsge.objects\n",
    "    .filter(mpoly__intersects=zone_urba.mpoly)\n",
    "    .annotate(\n",
    "        intersection=Intersection(\"mpoly\", zone_urba.mpoly),\n",
    "        intersection_area=Area(Transform(\"intersection\", 2154)) / 10000,\n",
    "    )\n",
    "    .values(\"year\")\n",
    "    .annotate(artificial_area=Sum(\"intersection_area\"))\n",
    "    .annotate(artificial_area2=Sum(Area(Transform(\"mpoly\", 2154)) / 10000))\n",
    "    .order_by(\"-year\")\n",
    ")\n",
    "\n",
    "surface"
   ]
  },
  {
   "cell_type": "code",
   "execution_count": null,
   "id": "571a6d50",
   "metadata": {},
   "outputs": [],
   "source": [
    "sub_query = (\n",
    "    Ocsge.objects\n",
    "    .annotate(geom=OuterRef(\"mpoly\"))\n",
    "    .filter(mpoly__intersects=F(\"geom\"))\n",
    "    .annotate(\n",
    "        intersection=Intersection(\"mpoly\", F(\"geom\")),\n",
    "        intersection_area=Area(Transform(\"intersection\", 2154)) / 10000,\n",
    "    )\n",
    "    .values(\"year\")\n",
    "    .annotate(artificial_area=Sum(\"intersection_area\"))\n",
    "    .order_by(\"-year\")\n",
    "    .values(\"artificial_area\")\n",
    ")[:1]"
   ]
  },
  {
   "cell_type": "code",
   "execution_count": null,
   "id": "12746fa8",
   "metadata": {},
   "outputs": [],
   "source": []
  },
  {
   "cell_type": "code",
   "execution_count": 20,
   "id": "aa35a176",
   "metadata": {},
   "outputs": [
    {
     "data": {
      "text/plain": [
       "[(2019, 236.22150755014363)]"
      ]
     },
     "execution_count": 20,
     "metadata": {},
     "output_type": "execute_result"
    }
   ],
   "source": [
    "sub_query = \"\"\"\n",
    "SELECT pdo.year, ST_Area(ST_Transform(ST_Union(pdo.mpoly), 2154)) / 10000 as artificial_area\n",
    "FROM\n",
    "    public_data_ocsge pdo\n",
    "    INNER JOIN public_data_zoneurba pdz ON ST_Intersects(pdo.mpoly, pdz.mpoly) AND pdz.id = 266816\n",
    "GROUP BY pdo.year\n",
    "ORDER BY pdo.year DESC\n",
    "LIMIT 1\n",
    "\"\"\"\n",
    "with connection.cursor() as cursor:\n",
    "    cursor.execute(sub_query)\n",
    "    rows = cursor.fetchall()\n",
    "rows"
   ]
  },
  {
   "cell_type": "code",
   "execution_count": 24,
   "id": "03514b6a",
   "metadata": {},
   "outputs": [],
   "source": [
    "query = f\"\"\"\n",
    "UPDATE public_data_zoneurba\n",
    "SET artificial_area = subquery.artificial_area\n",
    "FROM (\n",
    "    SELECT pdz.id as zone_urba_id, ST_Area(ST_Transform(ST_Union(pdo.mpoly), 2154)) / 10000 as artificial_area\n",
    "    FROM\n",
    "        public_data_ocsge pdo INNER JOIN public_data_zoneurba pdz ON ST_Intersects(pdo.mpoly, pdz.mpoly)\n",
    "    GROUP BY pdz.id\n",
    "    ORDER BY pdz.id DESC\n",
    "    LIMIT 10\n",
    ") AS subquery\n",
    "WHERE subquery.zone_urba_id = id;\n",
    "\"\"\"\n",
    "with connection.cursor() as cursor:\n",
    "    cursor.execute(query)"
   ]
  },
  {
   "cell_type": "code",
   "execution_count": 25,
   "id": "ee12e71e",
   "metadata": {},
   "outputs": [
    {
     "data": {
      "text/plain": [
       "[(10,)]"
      ]
     },
     "execution_count": 25,
     "metadata": {},
     "output_type": "execute_result"
    }
   ],
   "source": [
    "with connection.cursor() as cursor:\n",
    "    cursor.execute(\"SELECT COUNT(*) FROM public_data_zoneurba WHERE artificial_area IS NOT NULL\")\n",
    "    rows = cursor.fetchall()\n",
    "rows"
   ]
  },
  {
   "cell_type": "code",
   "execution_count": 26,
   "id": "13738840",
   "metadata": {},
   "outputs": [
    {
     "ename": "InternalError",
     "evalue": "GEOSIntersects: TopologyException: side location conflict at 0.27068286858737012 43.430616763121137\n",
     "output_type": "error",
     "traceback": [
      "\u001b[0;31m---------------------------------------------------------------------------\u001b[0m",
      "\u001b[0;31mInternalError_\u001b[0m                            Traceback (most recent call last)",
      "File \u001b[0;32m/usr/local/lib/python3.10/site-packages/django/db/backends/utils.py:87\u001b[0m, in \u001b[0;36mCursorWrapper._execute\u001b[0;34m(self, sql, params, *ignored_wrapper_args)\u001b[0m\n\u001b[1;32m     85\u001b[0m \u001b[38;5;28;01mif\u001b[39;00m params \u001b[38;5;129;01mis\u001b[39;00m \u001b[38;5;28;01mNone\u001b[39;00m:\n\u001b[1;32m     86\u001b[0m     \u001b[38;5;66;03m# params default might be backend specific.\u001b[39;00m\n\u001b[0;32m---> 87\u001b[0m     \u001b[38;5;28;01mreturn\u001b[39;00m \u001b[38;5;28;43mself\u001b[39;49m\u001b[38;5;241;43m.\u001b[39;49m\u001b[43mcursor\u001b[49m\u001b[38;5;241;43m.\u001b[39;49m\u001b[43mexecute\u001b[49m\u001b[43m(\u001b[49m\u001b[43msql\u001b[49m\u001b[43m)\u001b[49m\n\u001b[1;32m     88\u001b[0m \u001b[38;5;28;01melse\u001b[39;00m:\n",
      "\u001b[0;31mInternalError_\u001b[0m: GEOSIntersects: TopologyException: side location conflict at 0.27068286858737012 43.430616763121137\n",
      "\nThe above exception was the direct cause of the following exception:\n",
      "\u001b[0;31mInternalError\u001b[0m                             Traceback (most recent call last)",
      "Cell \u001b[0;32mIn[26], line 11\u001b[0m\n\u001b[1;32m      1\u001b[0m query \u001b[38;5;241m=\u001b[39m \u001b[38;5;124mf\u001b[39m\u001b[38;5;124m\"\"\"\u001b[39m\n\u001b[1;32m      2\u001b[0m \u001b[38;5;124mUPDATE public_data_zoneurba pdz\u001b[39m\n\u001b[1;32m      3\u001b[0m \u001b[38;5;124mSET artificial_area = (\u001b[39m\n\u001b[0;32m   (...)\u001b[0m\n\u001b[1;32m      8\u001b[0m \u001b[38;5;124m);\u001b[39m\n\u001b[1;32m      9\u001b[0m \u001b[38;5;124m\"\"\"\u001b[39m\n\u001b[1;32m     10\u001b[0m \u001b[38;5;28;01mwith\u001b[39;00m connection\u001b[38;5;241m.\u001b[39mcursor() \u001b[38;5;28;01mas\u001b[39;00m cursor:\n\u001b[0;32m---> 11\u001b[0m     \u001b[43mcursor\u001b[49m\u001b[38;5;241;43m.\u001b[39;49m\u001b[43mexecute\u001b[49m\u001b[43m(\u001b[49m\u001b[43mquery\u001b[49m\u001b[43m)\u001b[49m\n",
      "File \u001b[0;32m/usr/local/lib/python3.10/site-packages/django/db/backends/utils.py:102\u001b[0m, in \u001b[0;36mCursorDebugWrapper.execute\u001b[0;34m(self, sql, params)\u001b[0m\n\u001b[1;32m    100\u001b[0m \u001b[38;5;28;01mdef\u001b[39;00m \u001b[38;5;21mexecute\u001b[39m(\u001b[38;5;28mself\u001b[39m, sql, params\u001b[38;5;241m=\u001b[39m\u001b[38;5;28;01mNone\u001b[39;00m):\n\u001b[1;32m    101\u001b[0m     \u001b[38;5;28;01mwith\u001b[39;00m \u001b[38;5;28mself\u001b[39m\u001b[38;5;241m.\u001b[39mdebug_sql(sql, params, use_last_executed_query\u001b[38;5;241m=\u001b[39m\u001b[38;5;28;01mTrue\u001b[39;00m):\n\u001b[0;32m--> 102\u001b[0m         \u001b[38;5;28;01mreturn\u001b[39;00m \u001b[38;5;28;43msuper\u001b[39;49m\u001b[43m(\u001b[49m\u001b[43m)\u001b[49m\u001b[38;5;241;43m.\u001b[39;49m\u001b[43mexecute\u001b[49m\u001b[43m(\u001b[49m\u001b[43msql\u001b[49m\u001b[43m,\u001b[49m\u001b[43m \u001b[49m\u001b[43mparams\u001b[49m\u001b[43m)\u001b[49m\n",
      "File \u001b[0;32m/usr/local/lib/python3.10/site-packages/django/db/backends/utils.py:67\u001b[0m, in \u001b[0;36mCursorWrapper.execute\u001b[0;34m(self, sql, params)\u001b[0m\n\u001b[1;32m     66\u001b[0m \u001b[38;5;28;01mdef\u001b[39;00m \u001b[38;5;21mexecute\u001b[39m(\u001b[38;5;28mself\u001b[39m, sql, params\u001b[38;5;241m=\u001b[39m\u001b[38;5;28;01mNone\u001b[39;00m):\n\u001b[0;32m---> 67\u001b[0m     \u001b[38;5;28;01mreturn\u001b[39;00m \u001b[38;5;28;43mself\u001b[39;49m\u001b[38;5;241;43m.\u001b[39;49m\u001b[43m_execute_with_wrappers\u001b[49m\u001b[43m(\u001b[49m\n\u001b[1;32m     68\u001b[0m \u001b[43m        \u001b[49m\u001b[43msql\u001b[49m\u001b[43m,\u001b[49m\u001b[43m \u001b[49m\u001b[43mparams\u001b[49m\u001b[43m,\u001b[49m\u001b[43m \u001b[49m\u001b[43mmany\u001b[49m\u001b[38;5;241;43m=\u001b[39;49m\u001b[38;5;28;43;01mFalse\u001b[39;49;00m\u001b[43m,\u001b[49m\u001b[43m \u001b[49m\u001b[43mexecutor\u001b[49m\u001b[38;5;241;43m=\u001b[39;49m\u001b[38;5;28;43mself\u001b[39;49m\u001b[38;5;241;43m.\u001b[39;49m\u001b[43m_execute\u001b[49m\n\u001b[1;32m     69\u001b[0m \u001b[43m    \u001b[49m\u001b[43m)\u001b[49m\n",
      "File \u001b[0;32m/usr/local/lib/python3.10/site-packages/django/db/backends/utils.py:80\u001b[0m, in \u001b[0;36mCursorWrapper._execute_with_wrappers\u001b[0;34m(self, sql, params, many, executor)\u001b[0m\n\u001b[1;32m     78\u001b[0m \u001b[38;5;28;01mfor\u001b[39;00m wrapper \u001b[38;5;129;01min\u001b[39;00m \u001b[38;5;28mreversed\u001b[39m(\u001b[38;5;28mself\u001b[39m\u001b[38;5;241m.\u001b[39mdb\u001b[38;5;241m.\u001b[39mexecute_wrappers):\n\u001b[1;32m     79\u001b[0m     executor \u001b[38;5;241m=\u001b[39m functools\u001b[38;5;241m.\u001b[39mpartial(wrapper, executor)\n\u001b[0;32m---> 80\u001b[0m \u001b[38;5;28;01mreturn\u001b[39;00m \u001b[43mexecutor\u001b[49m\u001b[43m(\u001b[49m\u001b[43msql\u001b[49m\u001b[43m,\u001b[49m\u001b[43m \u001b[49m\u001b[43mparams\u001b[49m\u001b[43m,\u001b[49m\u001b[43m \u001b[49m\u001b[43mmany\u001b[49m\u001b[43m,\u001b[49m\u001b[43m \u001b[49m\u001b[43mcontext\u001b[49m\u001b[43m)\u001b[49m\n",
      "File \u001b[0;32m/usr/local/lib/python3.10/site-packages/django/db/backends/utils.py:84\u001b[0m, in \u001b[0;36mCursorWrapper._execute\u001b[0;34m(self, sql, params, *ignored_wrapper_args)\u001b[0m\n\u001b[1;32m     82\u001b[0m \u001b[38;5;28;01mdef\u001b[39;00m \u001b[38;5;21m_execute\u001b[39m(\u001b[38;5;28mself\u001b[39m, sql, params, \u001b[38;5;241m*\u001b[39mignored_wrapper_args):\n\u001b[1;32m     83\u001b[0m     \u001b[38;5;28mself\u001b[39m\u001b[38;5;241m.\u001b[39mdb\u001b[38;5;241m.\u001b[39mvalidate_no_broken_transaction()\n\u001b[0;32m---> 84\u001b[0m     \u001b[38;5;28;01mwith\u001b[39;00m \u001b[38;5;28mself\u001b[39m\u001b[38;5;241m.\u001b[39mdb\u001b[38;5;241m.\u001b[39mwrap_database_errors:\n\u001b[1;32m     85\u001b[0m         \u001b[38;5;28;01mif\u001b[39;00m params \u001b[38;5;129;01mis\u001b[39;00m \u001b[38;5;28;01mNone\u001b[39;00m:\n\u001b[1;32m     86\u001b[0m             \u001b[38;5;66;03m# params default might be backend specific.\u001b[39;00m\n\u001b[1;32m     87\u001b[0m             \u001b[38;5;28;01mreturn\u001b[39;00m \u001b[38;5;28mself\u001b[39m\u001b[38;5;241m.\u001b[39mcursor\u001b[38;5;241m.\u001b[39mexecute(sql)\n",
      "File \u001b[0;32m/usr/local/lib/python3.10/site-packages/django/db/utils.py:91\u001b[0m, in \u001b[0;36mDatabaseErrorWrapper.__exit__\u001b[0;34m(self, exc_type, exc_value, traceback)\u001b[0m\n\u001b[1;32m     89\u001b[0m \u001b[38;5;28;01mif\u001b[39;00m dj_exc_type \u001b[38;5;129;01mnot\u001b[39;00m \u001b[38;5;129;01min\u001b[39;00m (DataError, IntegrityError):\n\u001b[1;32m     90\u001b[0m     \u001b[38;5;28mself\u001b[39m\u001b[38;5;241m.\u001b[39mwrapper\u001b[38;5;241m.\u001b[39merrors_occurred \u001b[38;5;241m=\u001b[39m \u001b[38;5;28;01mTrue\u001b[39;00m\n\u001b[0;32m---> 91\u001b[0m \u001b[38;5;28;01mraise\u001b[39;00m dj_exc_value\u001b[38;5;241m.\u001b[39mwith_traceback(traceback) \u001b[38;5;28;01mfrom\u001b[39;00m \u001b[38;5;21;01mexc_value\u001b[39;00m\n",
      "File \u001b[0;32m/usr/local/lib/python3.10/site-packages/django/db/backends/utils.py:87\u001b[0m, in \u001b[0;36mCursorWrapper._execute\u001b[0;34m(self, sql, params, *ignored_wrapper_args)\u001b[0m\n\u001b[1;32m     84\u001b[0m \u001b[38;5;28;01mwith\u001b[39;00m \u001b[38;5;28mself\u001b[39m\u001b[38;5;241m.\u001b[39mdb\u001b[38;5;241m.\u001b[39mwrap_database_errors:\n\u001b[1;32m     85\u001b[0m     \u001b[38;5;28;01mif\u001b[39;00m params \u001b[38;5;129;01mis\u001b[39;00m \u001b[38;5;28;01mNone\u001b[39;00m:\n\u001b[1;32m     86\u001b[0m         \u001b[38;5;66;03m# params default might be backend specific.\u001b[39;00m\n\u001b[0;32m---> 87\u001b[0m         \u001b[38;5;28;01mreturn\u001b[39;00m \u001b[38;5;28;43mself\u001b[39;49m\u001b[38;5;241;43m.\u001b[39;49m\u001b[43mcursor\u001b[49m\u001b[38;5;241;43m.\u001b[39;49m\u001b[43mexecute\u001b[49m\u001b[43m(\u001b[49m\u001b[43msql\u001b[49m\u001b[43m)\u001b[49m\n\u001b[1;32m     88\u001b[0m     \u001b[38;5;28;01melse\u001b[39;00m:\n\u001b[1;32m     89\u001b[0m         \u001b[38;5;28;01mreturn\u001b[39;00m \u001b[38;5;28mself\u001b[39m\u001b[38;5;241m.\u001b[39mcursor\u001b[38;5;241m.\u001b[39mexecute(sql, params)\n",
      "\u001b[0;31mInternalError\u001b[0m: GEOSIntersects: TopologyException: side location conflict at 0.27068286858737012 43.430616763121137\n"
     ]
    }
   ],
   "source": [
    "query = f\"\"\"\n",
    "UPDATE public_data_zoneurba pdz\n",
    "SET artificial_area = (\n",
    "    SELECT ST_Area(ST_Transform(ST_Union(pdo.mpoly), 2154)) / 10000 as artificial_area\n",
    "    FROM\n",
    "        public_data_ocsge pdo\n",
    "    WHERE ST_Intersects(pdo.mpoly, pdz.mpoly)\n",
    ")\n",
    "WHERE ;\n",
    "\"\"\"\n",
    "with connection.cursor() as cursor:\n",
    "    cursor.execute(query)"
   ]
  },
  {
   "cell_type": "code",
   "execution_count": 32,
   "id": "4f93252b",
   "metadata": {},
   "outputs": [
    {
     "data": {
      "text/plain": [
       "[(2061,)]"
      ]
     },
     "execution_count": 32,
     "metadata": {},
     "output_type": "execute_result"
    }
   ],
   "source": [
    "q = \"SELECT COUNT(*) FROM public_data_zoneurba pdz WHERE ST_IsValid(mpoly) IS FALSE AND ST_IsValid(ST_MakeValid(mpoly))\"\n",
    "execute(q)"
   ]
  },
  {
   "cell_type": "code",
   "execution_count": 34,
   "id": "1db60c5d",
   "metadata": {},
   "outputs": [
    {
     "ename": "ProgrammingError",
     "evalue": "no results to fetch",
     "output_type": "error",
     "traceback": [
      "\u001b[0;31m---------------------------------------------------------------------------\u001b[0m",
      "\u001b[0;31mProgrammingError\u001b[0m                          Traceback (most recent call last)",
      "File \u001b[0;32m/usr/local/lib/python3.10/site-packages/django/db/utils.py:98\u001b[0m, in \u001b[0;36mDatabaseErrorWrapper.__call__.<locals>.inner\u001b[0;34m(*args, **kwargs)\u001b[0m\n\u001b[1;32m     97\u001b[0m \u001b[38;5;28;01mwith\u001b[39;00m \u001b[38;5;28mself\u001b[39m:\n\u001b[0;32m---> 98\u001b[0m     \u001b[38;5;28;01mreturn\u001b[39;00m \u001b[43mfunc\u001b[49m\u001b[43m(\u001b[49m\u001b[38;5;241;43m*\u001b[39;49m\u001b[43margs\u001b[49m\u001b[43m,\u001b[49m\u001b[43m \u001b[49m\u001b[38;5;241;43m*\u001b[39;49m\u001b[38;5;241;43m*\u001b[39;49m\u001b[43mkwargs\u001b[49m\u001b[43m)\u001b[49m\n",
      "\u001b[0;31mProgrammingError\u001b[0m: no results to fetch",
      "\nThe above exception was the direct cause of the following exception:\n",
      "\u001b[0;31mProgrammingError\u001b[0m                          Traceback (most recent call last)",
      "Cell \u001b[0;32mIn[34], line 8\u001b[0m\n\u001b[1;32m      1\u001b[0m query \u001b[38;5;241m=\u001b[39m \u001b[38;5;124m\"\"\"\u001b[39m\n\u001b[1;32m      2\u001b[0m \u001b[38;5;124mUPDATE public_data_zoneurba pdz\u001b[39m\n\u001b[1;32m      3\u001b[0m \u001b[38;5;124mSET mpoly = ST_Multi(ST_CollectionExtract(ST_MakeValid(mpoly), 3))\u001b[39m\n\u001b[0;32m   (...)\u001b[0m\n\u001b[1;32m      6\u001b[0m \u001b[38;5;124m    AND ST_IsValid(ST_MakeValid(mpoly))\u001b[39m\n\u001b[1;32m      7\u001b[0m \u001b[38;5;124m\"\"\"\u001b[39m\n\u001b[0;32m----> 8\u001b[0m \u001b[43mexecute\u001b[49m\u001b[43m(\u001b[49m\u001b[43mquery\u001b[49m\u001b[43m)\u001b[49m\n",
      "Cell \u001b[0;32mIn[29], line 12\u001b[0m, in \u001b[0;36mexecute\u001b[0;34m(query, params)\u001b[0m\n\u001b[1;32m     10\u001b[0m \u001b[38;5;28;01mwith\u001b[39;00m connection\u001b[38;5;241m.\u001b[39mcursor() \u001b[38;5;28;01mas\u001b[39;00m cursor:\n\u001b[1;32m     11\u001b[0m     cursor\u001b[38;5;241m.\u001b[39mexecute(query, params)\n\u001b[0;32m---> 12\u001b[0m     \u001b[38;5;28;01mreturn\u001b[39;00m \u001b[43mcursor\u001b[49m\u001b[38;5;241;43m.\u001b[39;49m\u001b[43mfetchall\u001b[49m\u001b[43m(\u001b[49m\u001b[43m)\u001b[49m\n",
      "File \u001b[0;32m/usr/local/lib/python3.10/site-packages/django/db/utils.py:97\u001b[0m, in \u001b[0;36mDatabaseErrorWrapper.__call__.<locals>.inner\u001b[0;34m(*args, **kwargs)\u001b[0m\n\u001b[1;32m     96\u001b[0m \u001b[38;5;28;01mdef\u001b[39;00m \u001b[38;5;21minner\u001b[39m(\u001b[38;5;241m*\u001b[39margs, \u001b[38;5;241m*\u001b[39m\u001b[38;5;241m*\u001b[39mkwargs):\n\u001b[0;32m---> 97\u001b[0m     \u001b[38;5;28;01mwith\u001b[39;00m \u001b[38;5;28mself\u001b[39m:\n\u001b[1;32m     98\u001b[0m         \u001b[38;5;28;01mreturn\u001b[39;00m func(\u001b[38;5;241m*\u001b[39margs, \u001b[38;5;241m*\u001b[39m\u001b[38;5;241m*\u001b[39mkwargs)\n",
      "File \u001b[0;32m/usr/local/lib/python3.10/site-packages/django/db/utils.py:91\u001b[0m, in \u001b[0;36mDatabaseErrorWrapper.__exit__\u001b[0;34m(self, exc_type, exc_value, traceback)\u001b[0m\n\u001b[1;32m     89\u001b[0m \u001b[38;5;28;01mif\u001b[39;00m dj_exc_type \u001b[38;5;129;01mnot\u001b[39;00m \u001b[38;5;129;01min\u001b[39;00m (DataError, IntegrityError):\n\u001b[1;32m     90\u001b[0m     \u001b[38;5;28mself\u001b[39m\u001b[38;5;241m.\u001b[39mwrapper\u001b[38;5;241m.\u001b[39merrors_occurred \u001b[38;5;241m=\u001b[39m \u001b[38;5;28;01mTrue\u001b[39;00m\n\u001b[0;32m---> 91\u001b[0m \u001b[38;5;28;01mraise\u001b[39;00m dj_exc_value\u001b[38;5;241m.\u001b[39mwith_traceback(traceback) \u001b[38;5;28;01mfrom\u001b[39;00m \u001b[38;5;21;01mexc_value\u001b[39;00m\n",
      "File \u001b[0;32m/usr/local/lib/python3.10/site-packages/django/db/utils.py:98\u001b[0m, in \u001b[0;36mDatabaseErrorWrapper.__call__.<locals>.inner\u001b[0;34m(*args, **kwargs)\u001b[0m\n\u001b[1;32m     96\u001b[0m \u001b[38;5;28;01mdef\u001b[39;00m \u001b[38;5;21minner\u001b[39m(\u001b[38;5;241m*\u001b[39margs, \u001b[38;5;241m*\u001b[39m\u001b[38;5;241m*\u001b[39mkwargs):\n\u001b[1;32m     97\u001b[0m     \u001b[38;5;28;01mwith\u001b[39;00m \u001b[38;5;28mself\u001b[39m:\n\u001b[0;32m---> 98\u001b[0m         \u001b[38;5;28;01mreturn\u001b[39;00m \u001b[43mfunc\u001b[49m\u001b[43m(\u001b[49m\u001b[38;5;241;43m*\u001b[39;49m\u001b[43margs\u001b[49m\u001b[43m,\u001b[49m\u001b[43m \u001b[49m\u001b[38;5;241;43m*\u001b[39;49m\u001b[38;5;241;43m*\u001b[39;49m\u001b[43mkwargs\u001b[49m\u001b[43m)\u001b[49m\n",
      "\u001b[0;31mProgrammingError\u001b[0m: no results to fetch"
     ]
    }
   ],
   "source": [
    "query = \"\"\"\n",
    "UPDATE public_data_zoneurba pdz\n",
    "SET mpoly = ST_Multi(ST_CollectionExtract(ST_MakeValid(mpoly), 3))\n",
    "WHERE\n",
    "    ST_IsValid(mpoly) IS FALSE\n",
    "    AND ST_IsValid(ST_MakeValid(mpoly))\n",
    "\"\"\"\n",
    "execute(query)"
   ]
  },
  {
   "cell_type": "code",
   "execution_count": null,
   "id": "0f27ca23",
   "metadata": {},
   "outputs": [],
   "source": [
    "q = \"SELECT COUNT(*) FROM public_data_zoneurba pdz WHERE ST_IsValid(mpoly) IS FALSE\"\n",
    "execute(q)"
   ]
  },
  {
   "cell_type": "code",
   "execution_count": null,
   "id": "02560bdb",
   "metadata": {},
   "outputs": [],
   "source": []
  },
  {
   "cell_type": "code",
   "execution_count": null,
   "id": "888fc1cc",
   "metadata": {},
   "outputs": [],
   "source": []
  },
  {
   "cell_type": "code",
   "execution_count": null,
   "id": "6f052b1e",
   "metadata": {},
   "outputs": [],
   "source": []
  }
 ],
 "metadata": {
  "kernelspec": {
   "display_name": "Django Shell-Plus",
   "language": "python",
   "name": "django_extensions"
  },
  "language_info": {
   "codemirror_mode": {
    "name": "ipython",
    "version": 3
   },
   "file_extension": ".py",
   "mimetype": "text/x-python",
   "name": "python",
   "nbconvert_exporter": "python",
   "pygments_lexer": "ipython3",
   "version": "3.10.10"
  }
 },
 "nbformat": 4,
 "nbformat_minor": 5
}
