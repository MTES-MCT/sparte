{
 "cells": [
  {
   "cell_type": "markdown",
   "id": "b9df91f7",
   "metadata": {},
   "source": [
    "L'objectif de ce notebook est de donner les clés pour utiliser correctement SubQuery\n",
    "\n",
    "Application sur l'objet ZoneUrba pour calculer la surface artificielle en provenance de l'OCSGE : failed\n",
    "\n",
    "Application sur l'objet ZoneUrba pour associer le code insee : in progress\n",
    "\n",
    "[Doc officielle](https://docs.djangoproject.com/en/4.2/ref/models/expressions/#subquery-expressions)\n",
    "\n",
    "Exemple :\n",
    "```python\n",
    "from django.db.models import OuterRef, Subquery\n",
    "newest = Comment.objects.filter(post=OuterRef(\"pk\")).order_by(\"-created_at\")\n",
    "Post.objects.annotate(newest_commenter_email=Subquery(newest.values(\"email\")[:1]))\n",
    "```"
   ]
  },
  {
   "cell_type": "code",
   "execution_count": 2,
   "id": "7cb28122",
   "metadata": {},
   "outputs": [
    {
     "data": {
      "text/plain": [
       "(1010442, 464569)"
      ]
     },
     "execution_count": 2,
     "metadata": {},
     "output_type": "execute_result"
    }
   ],
   "source": [
    "from django.db import connection\n",
    "from django.db.models import OuterRef, Subquery, Sum, F\n",
    "from django.contrib.gis.db.models.functions import Area, Intersection, Transform\n",
    "from django.contrib.gis.db.models import Union\n",
    "\n",
    "from public_data.models import ZoneUrba, Ocsge, Departement, Commune\n",
    "\n",
    "\n",
    "def execute(query, params=None):\n",
    "    with connection.cursor() as cursor:\n",
    "        cursor.execute(query, params)\n",
    "        return cursor.fetchall()\n",
    "\n",
    "\n",
    "ZoneUrba.objects.count(), Ocsge.objects.filter(is_artificial=True).count()"
   ]
  },
  {
   "cell_type": "markdown",
   "id": "454086fd",
   "metadata": {},
   "source": [
    "Test sur une seule ZoneUrba"
   ]
  },
  {
   "cell_type": "code",
   "execution_count": 3,
   "id": "059e2588",
   "metadata": {},
   "outputs": [
    {
     "data": {
      "text/plain": [
       "<ZoneUrba: ZoneUrba object (266816)>"
      ]
     },
     "execution_count": 3,
     "metadata": {},
     "output_type": "execute_result"
    }
   ],
   "source": [
    "dept = Departement.objects.get(source_id=32)\n",
    "zone_urba = ZoneUrba.objects.filter(mpoly__intersects=dept.mpoly).first()\n",
    "zone_urba"
   ]
  },
  {
   "cell_type": "code",
   "execution_count": 4,
   "id": "ba5099b5",
   "metadata": {},
   "outputs": [
    {
     "data": {
      "text/plain": [
       "<QuerySet [{'year': 2019, 'artificial_area': 0.3919341124533532, 'artificial_area2': 236.22150755014331}, {'year': 2016, 'artificial_area': 0.391933899382672, 'artificial_area2': 236.22154447013892}]>"
      ]
     },
     "execution_count": 4,
     "metadata": {},
     "output_type": "execute_result"
    }
   ],
   "source": [
    "surface = (\n",
    "    Ocsge.objects\n",
    "    .filter(mpoly__intersects=zone_urba.mpoly)\n",
    "    .annotate(\n",
    "        intersection=Intersection(\"mpoly\", zone_urba.mpoly),\n",
    "        intersection_area=Area(Transform(\"intersection\", 2154)) / 10000,\n",
    "    )\n",
    "    .values(\"year\")\n",
    "    .annotate(artificial_area=Sum(\"intersection_area\"))\n",
    "    .annotate(artificial_area2=Sum(Area(Transform(\"mpoly\", 2154)) / 10000))\n",
    "    .order_by(\"-year\")\n",
    ")\n",
    "\n",
    "surface"
   ]
  },
  {
   "cell_type": "code",
   "execution_count": 5,
   "id": "571a6d50",
   "metadata": {},
   "outputs": [
    {
     "ename": "AttributeError",
     "evalue": "'ResolvedOuterRef' object has no attribute '_output_field_or_none'",
     "output_type": "error",
     "traceback": [
      "\u001b[0;31m---------------------------------------------------------------------------\u001b[0m",
      "\u001b[0;31mAttributeError\u001b[0m                            Traceback (most recent call last)",
      "Cell \u001b[0;32mIn[5], line 2\u001b[0m\n\u001b[1;32m      1\u001b[0m sub_query \u001b[38;5;241m=\u001b[39m (\n\u001b[0;32m----> 2\u001b[0m     \u001b[43mOcsge\u001b[49m\u001b[38;5;241;43m.\u001b[39;49m\u001b[43mobjects\u001b[49m\n\u001b[1;32m      3\u001b[0m \u001b[43m    \u001b[49m\u001b[38;5;241;43m.\u001b[39;49m\u001b[43mannotate\u001b[49m\u001b[43m(\u001b[49m\u001b[43mgeom\u001b[49m\u001b[38;5;241;43m=\u001b[39;49m\u001b[43mOuterRef\u001b[49m\u001b[43m(\u001b[49m\u001b[38;5;124;43m\"\u001b[39;49m\u001b[38;5;124;43mmpoly\u001b[39;49m\u001b[38;5;124;43m\"\u001b[39;49m\u001b[43m)\u001b[49m\u001b[43m)\u001b[49m\n\u001b[1;32m      4\u001b[0m \u001b[43m    \u001b[49m\u001b[38;5;241;43m.\u001b[39;49m\u001b[43mfilter\u001b[49m\u001b[43m(\u001b[49m\u001b[43mmpoly__intersects\u001b[49m\u001b[38;5;241;43m=\u001b[39;49m\u001b[43mF\u001b[49m\u001b[43m(\u001b[49m\u001b[38;5;124;43m\"\u001b[39;49m\u001b[38;5;124;43mgeom\u001b[39;49m\u001b[38;5;124;43m\"\u001b[39;49m\u001b[43m)\u001b[49m\u001b[43m)\u001b[49m\n\u001b[1;32m      5\u001b[0m \u001b[43m    \u001b[49m\u001b[38;5;241;43m.\u001b[39;49m\u001b[43mannotate\u001b[49m\u001b[43m(\u001b[49m\n\u001b[1;32m      6\u001b[0m \u001b[43m        \u001b[49m\u001b[43mintersection\u001b[49m\u001b[38;5;241;43m=\u001b[39;49m\u001b[43mIntersection\u001b[49m\u001b[43m(\u001b[49m\u001b[38;5;124;43m\"\u001b[39;49m\u001b[38;5;124;43mmpoly\u001b[39;49m\u001b[38;5;124;43m\"\u001b[39;49m\u001b[43m,\u001b[49m\u001b[43m \u001b[49m\u001b[43mF\u001b[49m\u001b[43m(\u001b[49m\u001b[38;5;124;43m\"\u001b[39;49m\u001b[38;5;124;43mgeom\u001b[39;49m\u001b[38;5;124;43m\"\u001b[39;49m\u001b[43m)\u001b[49m\u001b[43m)\u001b[49m\u001b[43m,\u001b[49m\n\u001b[1;32m      7\u001b[0m \u001b[43m        \u001b[49m\u001b[43mintersection_area\u001b[49m\u001b[38;5;241;43m=\u001b[39;49m\u001b[43mArea\u001b[49m\u001b[43m(\u001b[49m\u001b[43mTransform\u001b[49m\u001b[43m(\u001b[49m\u001b[38;5;124;43m\"\u001b[39;49m\u001b[38;5;124;43mintersection\u001b[39;49m\u001b[38;5;124;43m\"\u001b[39;49m\u001b[43m,\u001b[49m\u001b[43m \u001b[49m\u001b[38;5;241;43m2154\u001b[39;49m\u001b[43m)\u001b[49m\u001b[43m)\u001b[49m\u001b[43m \u001b[49m\u001b[38;5;241;43m/\u001b[39;49m\u001b[43m \u001b[49m\u001b[38;5;241;43m10000\u001b[39;49m\u001b[43m,\u001b[49m\n\u001b[1;32m      8\u001b[0m \u001b[43m    \u001b[49m\u001b[43m)\u001b[49m\n\u001b[1;32m      9\u001b[0m     \u001b[38;5;241m.\u001b[39mvalues(\u001b[38;5;124m\"\u001b[39m\u001b[38;5;124myear\u001b[39m\u001b[38;5;124m\"\u001b[39m)\n\u001b[1;32m     10\u001b[0m     \u001b[38;5;241m.\u001b[39mannotate(artificial_area\u001b[38;5;241m=\u001b[39mSum(\u001b[38;5;124m\"\u001b[39m\u001b[38;5;124mintersection_area\u001b[39m\u001b[38;5;124m\"\u001b[39m))\n\u001b[1;32m     11\u001b[0m     \u001b[38;5;241m.\u001b[39morder_by(\u001b[38;5;124m\"\u001b[39m\u001b[38;5;124m-year\u001b[39m\u001b[38;5;124m\"\u001b[39m)\n\u001b[1;32m     12\u001b[0m     \u001b[38;5;241m.\u001b[39mvalues(\u001b[38;5;124m\"\u001b[39m\u001b[38;5;124martificial_area\u001b[39m\u001b[38;5;124m\"\u001b[39m)\n\u001b[1;32m     13\u001b[0m )[:\u001b[38;5;241m1\u001b[39m]\n",
      "File \u001b[0;32m/usr/local/lib/python3.10/site-packages/django/db/models/query.py:1590\u001b[0m, in \u001b[0;36mQuerySet.annotate\u001b[0;34m(self, *args, **kwargs)\u001b[0m\n\u001b[1;32m   1585\u001b[0m \u001b[38;5;250m\u001b[39m\u001b[38;5;124;03m\"\"\"\u001b[39;00m\n\u001b[1;32m   1586\u001b[0m \u001b[38;5;124;03mReturn a query set in which the returned objects have been annotated\u001b[39;00m\n\u001b[1;32m   1587\u001b[0m \u001b[38;5;124;03mwith extra data or aggregations.\u001b[39;00m\n\u001b[1;32m   1588\u001b[0m \u001b[38;5;124;03m\"\"\"\u001b[39;00m\n\u001b[1;32m   1589\u001b[0m \u001b[38;5;28mself\u001b[39m\u001b[38;5;241m.\u001b[39m_not_support_combined_queries(\u001b[38;5;124m\"\u001b[39m\u001b[38;5;124mannotate\u001b[39m\u001b[38;5;124m\"\u001b[39m)\n\u001b[0;32m-> 1590\u001b[0m \u001b[38;5;28;01mreturn\u001b[39;00m \u001b[38;5;28;43mself\u001b[39;49m\u001b[38;5;241;43m.\u001b[39;49m\u001b[43m_annotate\u001b[49m\u001b[43m(\u001b[49m\u001b[43margs\u001b[49m\u001b[43m,\u001b[49m\u001b[43m \u001b[49m\u001b[43mkwargs\u001b[49m\u001b[43m,\u001b[49m\u001b[43m \u001b[49m\u001b[43mselect\u001b[49m\u001b[38;5;241;43m=\u001b[39;49m\u001b[38;5;28;43;01mTrue\u001b[39;49;00m\u001b[43m)\u001b[49m\n",
      "File \u001b[0;32m/usr/local/lib/python3.10/site-packages/django/db/models/query.py:1638\u001b[0m, in \u001b[0;36mQuerySet._annotate\u001b[0;34m(self, args, kwargs, select)\u001b[0m\n\u001b[1;32m   1636\u001b[0m         clone\u001b[38;5;241m.\u001b[39mquery\u001b[38;5;241m.\u001b[39madd_filtered_relation(annotation, alias)\n\u001b[1;32m   1637\u001b[0m     \u001b[38;5;28;01melse\u001b[39;00m:\n\u001b[0;32m-> 1638\u001b[0m         \u001b[43mclone\u001b[49m\u001b[38;5;241;43m.\u001b[39;49m\u001b[43mquery\u001b[49m\u001b[38;5;241;43m.\u001b[39;49m\u001b[43madd_annotation\u001b[49m\u001b[43m(\u001b[49m\n\u001b[1;32m   1639\u001b[0m \u001b[43m            \u001b[49m\u001b[43mannotation\u001b[49m\u001b[43m,\u001b[49m\n\u001b[1;32m   1640\u001b[0m \u001b[43m            \u001b[49m\u001b[43malias\u001b[49m\u001b[43m,\u001b[49m\n\u001b[1;32m   1641\u001b[0m \u001b[43m            \u001b[49m\u001b[43mselect\u001b[49m\u001b[38;5;241;43m=\u001b[39;49m\u001b[43mselect\u001b[49m\u001b[43m,\u001b[49m\n\u001b[1;32m   1642\u001b[0m \u001b[43m        \u001b[49m\u001b[43m)\u001b[49m\n\u001b[1;32m   1643\u001b[0m \u001b[38;5;28;01mfor\u001b[39;00m alias, annotation \u001b[38;5;129;01min\u001b[39;00m clone\u001b[38;5;241m.\u001b[39mquery\u001b[38;5;241m.\u001b[39mannotations\u001b[38;5;241m.\u001b[39mitems():\n\u001b[1;32m   1644\u001b[0m     \u001b[38;5;28;01mif\u001b[39;00m alias \u001b[38;5;129;01min\u001b[39;00m annotations \u001b[38;5;129;01mand\u001b[39;00m annotation\u001b[38;5;241m.\u001b[39mcontains_aggregate:\n",
      "File \u001b[0;32m/usr/local/lib/python3.10/site-packages/django/db/models/sql/query.py:1086\u001b[0m, in \u001b[0;36mQuery.add_annotation\u001b[0;34m(self, annotation, alias, select)\u001b[0m\n\u001b[1;32m   1084\u001b[0m \u001b[38;5;250m\u001b[39m\u001b[38;5;124;03m\"\"\"Add a single annotation expression to the Query.\"\"\"\u001b[39;00m\n\u001b[1;32m   1085\u001b[0m \u001b[38;5;28mself\u001b[39m\u001b[38;5;241m.\u001b[39mcheck_alias(alias)\n\u001b[0;32m-> 1086\u001b[0m annotation \u001b[38;5;241m=\u001b[39m \u001b[43mannotation\u001b[49m\u001b[38;5;241;43m.\u001b[39;49m\u001b[43mresolve_expression\u001b[49m\u001b[43m(\u001b[49m\u001b[38;5;28;43mself\u001b[39;49m\u001b[43m,\u001b[49m\u001b[43m \u001b[49m\u001b[43mallow_joins\u001b[49m\u001b[38;5;241;43m=\u001b[39;49m\u001b[38;5;28;43;01mTrue\u001b[39;49;00m\u001b[43m,\u001b[49m\u001b[43m \u001b[49m\u001b[43mreuse\u001b[49m\u001b[38;5;241;43m=\u001b[39;49m\u001b[38;5;28;43;01mNone\u001b[39;49;00m\u001b[43m)\u001b[49m\n\u001b[1;32m   1087\u001b[0m \u001b[38;5;28;01mif\u001b[39;00m select:\n\u001b[1;32m   1088\u001b[0m     \u001b[38;5;28mself\u001b[39m\u001b[38;5;241m.\u001b[39mappend_annotation_mask([alias])\n",
      "File \u001b[0;32m/usr/local/lib/python3.10/site-packages/django/contrib/gis/db/models/functions.py:76\u001b[0m, in \u001b[0;36mGeoFuncMixin.resolve_expression\u001b[0;34m(self, *args, **kwargs)\u001b[0m\n\u001b[1;32m     73\u001b[0m     \u001b[38;5;28;01mreturn\u001b[39;00m res\n\u001b[1;32m     75\u001b[0m \u001b[38;5;66;03m# Ensure that expressions are geometric.\u001b[39;00m\n\u001b[0;32m---> 76\u001b[0m source_fields \u001b[38;5;241m=\u001b[39m \u001b[43mres\u001b[49m\u001b[38;5;241;43m.\u001b[39;49m\u001b[43mget_source_fields\u001b[49m\u001b[43m(\u001b[49m\u001b[43m)\u001b[49m\n\u001b[1;32m     77\u001b[0m \u001b[38;5;28;01mfor\u001b[39;00m pos \u001b[38;5;129;01min\u001b[39;00m \u001b[38;5;28mself\u001b[39m\u001b[38;5;241m.\u001b[39mgeom_param_pos:\n\u001b[1;32m     78\u001b[0m     field \u001b[38;5;241m=\u001b[39m source_fields[pos]\n",
      "File \u001b[0;32m/usr/local/lib/python3.10/site-packages/django/db/models/expressions.py:439\u001b[0m, in \u001b[0;36mBaseExpression.get_source_fields\u001b[0;34m(self)\u001b[0m\n\u001b[1;32m    437\u001b[0m \u001b[38;5;28;01mdef\u001b[39;00m \u001b[38;5;21mget_source_fields\u001b[39m(\u001b[38;5;28mself\u001b[39m):\n\u001b[1;32m    438\u001b[0m \u001b[38;5;250m    \u001b[39m\u001b[38;5;124;03m\"\"\"Return the underlying field types used by this aggregate.\"\"\"\u001b[39;00m\n\u001b[0;32m--> 439\u001b[0m     \u001b[38;5;28;01mreturn\u001b[39;00m [e\u001b[38;5;241m.\u001b[39m_output_field_or_none \u001b[38;5;28;01mfor\u001b[39;00m e \u001b[38;5;129;01min\u001b[39;00m \u001b[38;5;28mself\u001b[39m\u001b[38;5;241m.\u001b[39mget_source_expressions()]\n",
      "File \u001b[0;32m/usr/local/lib/python3.10/site-packages/django/db/models/expressions.py:439\u001b[0m, in \u001b[0;36m<listcomp>\u001b[0;34m(.0)\u001b[0m\n\u001b[1;32m    437\u001b[0m \u001b[38;5;28;01mdef\u001b[39;00m \u001b[38;5;21mget_source_fields\u001b[39m(\u001b[38;5;28mself\u001b[39m):\n\u001b[1;32m    438\u001b[0m \u001b[38;5;250m    \u001b[39m\u001b[38;5;124;03m\"\"\"Return the underlying field types used by this aggregate.\"\"\"\u001b[39;00m\n\u001b[0;32m--> 439\u001b[0m     \u001b[38;5;28;01mreturn\u001b[39;00m [\u001b[43me\u001b[49m\u001b[38;5;241;43m.\u001b[39;49m\u001b[43m_output_field_or_none\u001b[49m \u001b[38;5;28;01mfor\u001b[39;00m e \u001b[38;5;129;01min\u001b[39;00m \u001b[38;5;28mself\u001b[39m\u001b[38;5;241m.\u001b[39mget_source_expressions()]\n",
      "\u001b[0;31mAttributeError\u001b[0m: 'ResolvedOuterRef' object has no attribute '_output_field_or_none'"
     ]
    }
   ],
   "source": [
    "sub_query = (\n",
    "    Ocsge.objects\n",
    "    .annotate(geom=OuterRef(\"mpoly\"))\n",
    "    .filter(mpoly__intersects=F(\"geom\"))\n",
    "    .annotate(\n",
    "        intersection=Intersection(\"mpoly\", F(\"geom\")),\n",
    "        intersection_area=Area(Transform(\"intersection\", 2154)) / 10000,\n",
    "    )\n",
    "    .values(\"year\")\n",
    "    .annotate(artificial_area=Sum(\"intersection_area\"))\n",
    "    .order_by(\"-year\")\n",
    "    .values(\"artificial_area\")\n",
    ")[:1]"
   ]
  },
  {
   "cell_type": "code",
   "execution_count": null,
   "id": "12746fa8",
   "metadata": {},
   "outputs": [],
   "source": []
  },
  {
   "cell_type": "code",
   "execution_count": null,
   "id": "aa35a176",
   "metadata": {},
   "outputs": [],
   "source": [
    "sub_query = \"\"\"\n",
    "SELECT pdo.year, ST_Area(ST_Transform(ST_Union(pdo.mpoly), 2154)) / 10000 as artificial_area\n",
    "FROM\n",
    "    public_data_ocsge pdo\n",
    "    INNER JOIN public_data_zoneurba pdz ON ST_Intersects(pdo.mpoly, pdz.mpoly) AND pdz.id = 266816\n",
    "GROUP BY pdo.year\n",
    "ORDER BY pdo.year DESC\n",
    "LIMIT 1\n",
    "\"\"\"\n",
    "with connection.cursor() as cursor:\n",
    "    cursor.execute(sub_query)\n",
    "    rows = cursor.fetchall()\n",
    "rows"
   ]
  },
  {
   "cell_type": "code",
   "execution_count": null,
   "id": "03514b6a",
   "metadata": {},
   "outputs": [],
   "source": [
    "query = f\"\"\"\n",
    "UPDATE public_data_zoneurba\n",
    "SET artificial_area = subquery.artificial_area\n",
    "FROM (\n",
    "    SELECT pdz.id as zone_urba_id, ST_Area(ST_Transform(ST_Union(pdo.mpoly), 2154)) / 10000 as artificial_area\n",
    "    FROM\n",
    "        public_data_ocsge pdo INNER JOIN public_data_zoneurba pdz ON ST_Intersects(pdo.mpoly, pdz.mpoly)\n",
    "    GROUP BY pdz.id\n",
    "    ORDER BY pdz.id DESC\n",
    "    LIMIT 10\n",
    ") AS subquery\n",
    "WHERE subquery.zone_urba_id = id;\n",
    "\"\"\"\n",
    "with connection.cursor() as cursor:\n",
    "    cursor.execute(query)"
   ]
  },
  {
   "cell_type": "code",
   "execution_count": null,
   "id": "ee12e71e",
   "metadata": {},
   "outputs": [],
   "source": [
    "with connection.cursor() as cursor:\n",
    "    cursor.execute(\"SELECT COUNT(*) FROM public_data_zoneurba WHERE artificial_area IS NOT NULL\")\n",
    "    rows = cursor.fetchall()\n",
    "rows"
   ]
  },
  {
   "cell_type": "code",
   "execution_count": null,
   "id": "13738840",
   "metadata": {},
   "outputs": [],
   "source": [
    "query = f\"\"\"\n",
    "UPDATE public_data_zoneurba pdz\n",
    "SET artificial_area = (\n",
    "    SELECT ST_Area(ST_Transform(ST_Union(pdo.mpoly), 2154)) / 10000 as artificial_area\n",
    "    FROM\n",
    "        public_data_ocsge pdo\n",
    "    WHERE ST_Intersects(pdo.mpoly, pdz.mpoly)\n",
    ")\n",
    "WHERE ;\n",
    "\"\"\"\n",
    "with connection.cursor() as cursor:\n",
    "    cursor.execute(query)"
   ]
  },
  {
   "cell_type": "code",
   "execution_count": 6,
   "id": "4f93252b",
   "metadata": {},
   "outputs": [
    {
     "data": {
      "text/plain": [
       "[(0,)]"
      ]
     },
     "execution_count": 6,
     "metadata": {},
     "output_type": "execute_result"
    }
   ],
   "source": [
    "q = \"SELECT COUNT(*) FROM public_data_zoneurba pdz WHERE ST_IsValid(mpoly) IS FALSE AND ST_IsValid(ST_MakeValid(mpoly))\"\n",
    "execute(q)"
   ]
  },
  {
   "cell_type": "code",
   "execution_count": 7,
   "id": "1db60c5d",
   "metadata": {},
   "outputs": [
    {
     "ename": "ProgrammingError",
     "evalue": "no results to fetch",
     "output_type": "error",
     "traceback": [
      "\u001b[0;31m---------------------------------------------------------------------------\u001b[0m",
      "\u001b[0;31mProgrammingError\u001b[0m                          Traceback (most recent call last)",
      "File \u001b[0;32m/usr/local/lib/python3.10/site-packages/django/db/utils.py:98\u001b[0m, in \u001b[0;36mDatabaseErrorWrapper.__call__.<locals>.inner\u001b[0;34m(*args, **kwargs)\u001b[0m\n\u001b[1;32m     97\u001b[0m \u001b[38;5;28;01mwith\u001b[39;00m \u001b[38;5;28mself\u001b[39m:\n\u001b[0;32m---> 98\u001b[0m     \u001b[38;5;28;01mreturn\u001b[39;00m \u001b[43mfunc\u001b[49m\u001b[43m(\u001b[49m\u001b[38;5;241;43m*\u001b[39;49m\u001b[43margs\u001b[49m\u001b[43m,\u001b[49m\u001b[43m \u001b[49m\u001b[38;5;241;43m*\u001b[39;49m\u001b[38;5;241;43m*\u001b[39;49m\u001b[43mkwargs\u001b[49m\u001b[43m)\u001b[49m\n",
      "\u001b[0;31mProgrammingError\u001b[0m: no results to fetch",
      "\nThe above exception was the direct cause of the following exception:\n",
      "\u001b[0;31mProgrammingError\u001b[0m                          Traceback (most recent call last)",
      "Cell \u001b[0;32mIn[7], line 8\u001b[0m\n\u001b[1;32m      1\u001b[0m query \u001b[38;5;241m=\u001b[39m \u001b[38;5;124m\"\"\"\u001b[39m\n\u001b[1;32m      2\u001b[0m \u001b[38;5;124mUPDATE public_data_zoneurba pdz\u001b[39m\n\u001b[1;32m      3\u001b[0m \u001b[38;5;124mSET mpoly = ST_Multi(ST_CollectionExtract(ST_MakeValid(mpoly), 3))\u001b[39m\n\u001b[0;32m   (...)\u001b[0m\n\u001b[1;32m      6\u001b[0m \u001b[38;5;124m    AND ST_IsValid(ST_MakeValid(mpoly))\u001b[39m\n\u001b[1;32m      7\u001b[0m \u001b[38;5;124m\"\"\"\u001b[39m\n\u001b[0;32m----> 8\u001b[0m \u001b[43mexecute\u001b[49m\u001b[43m(\u001b[49m\u001b[43mquery\u001b[49m\u001b[43m)\u001b[49m\n",
      "Cell \u001b[0;32mIn[2], line 12\u001b[0m, in \u001b[0;36mexecute\u001b[0;34m(query, params)\u001b[0m\n\u001b[1;32m     10\u001b[0m \u001b[38;5;28;01mwith\u001b[39;00m connection\u001b[38;5;241m.\u001b[39mcursor() \u001b[38;5;28;01mas\u001b[39;00m cursor:\n\u001b[1;32m     11\u001b[0m     cursor\u001b[38;5;241m.\u001b[39mexecute(query, params)\n\u001b[0;32m---> 12\u001b[0m     \u001b[38;5;28;01mreturn\u001b[39;00m \u001b[43mcursor\u001b[49m\u001b[38;5;241;43m.\u001b[39;49m\u001b[43mfetchall\u001b[49m\u001b[43m(\u001b[49m\u001b[43m)\u001b[49m\n",
      "File \u001b[0;32m/usr/local/lib/python3.10/site-packages/django/db/utils.py:97\u001b[0m, in \u001b[0;36mDatabaseErrorWrapper.__call__.<locals>.inner\u001b[0;34m(*args, **kwargs)\u001b[0m\n\u001b[1;32m     96\u001b[0m \u001b[38;5;28;01mdef\u001b[39;00m \u001b[38;5;21minner\u001b[39m(\u001b[38;5;241m*\u001b[39margs, \u001b[38;5;241m*\u001b[39m\u001b[38;5;241m*\u001b[39mkwargs):\n\u001b[0;32m---> 97\u001b[0m     \u001b[38;5;28;01mwith\u001b[39;00m \u001b[38;5;28mself\u001b[39m:\n\u001b[1;32m     98\u001b[0m         \u001b[38;5;28;01mreturn\u001b[39;00m func(\u001b[38;5;241m*\u001b[39margs, \u001b[38;5;241m*\u001b[39m\u001b[38;5;241m*\u001b[39mkwargs)\n",
      "File \u001b[0;32m/usr/local/lib/python3.10/site-packages/django/db/utils.py:91\u001b[0m, in \u001b[0;36mDatabaseErrorWrapper.__exit__\u001b[0;34m(self, exc_type, exc_value, traceback)\u001b[0m\n\u001b[1;32m     89\u001b[0m \u001b[38;5;28;01mif\u001b[39;00m dj_exc_type \u001b[38;5;129;01mnot\u001b[39;00m \u001b[38;5;129;01min\u001b[39;00m (DataError, IntegrityError):\n\u001b[1;32m     90\u001b[0m     \u001b[38;5;28mself\u001b[39m\u001b[38;5;241m.\u001b[39mwrapper\u001b[38;5;241m.\u001b[39merrors_occurred \u001b[38;5;241m=\u001b[39m \u001b[38;5;28;01mTrue\u001b[39;00m\n\u001b[0;32m---> 91\u001b[0m \u001b[38;5;28;01mraise\u001b[39;00m dj_exc_value\u001b[38;5;241m.\u001b[39mwith_traceback(traceback) \u001b[38;5;28;01mfrom\u001b[39;00m \u001b[38;5;21;01mexc_value\u001b[39;00m\n",
      "File \u001b[0;32m/usr/local/lib/python3.10/site-packages/django/db/utils.py:98\u001b[0m, in \u001b[0;36mDatabaseErrorWrapper.__call__.<locals>.inner\u001b[0;34m(*args, **kwargs)\u001b[0m\n\u001b[1;32m     96\u001b[0m \u001b[38;5;28;01mdef\u001b[39;00m \u001b[38;5;21minner\u001b[39m(\u001b[38;5;241m*\u001b[39margs, \u001b[38;5;241m*\u001b[39m\u001b[38;5;241m*\u001b[39mkwargs):\n\u001b[1;32m     97\u001b[0m     \u001b[38;5;28;01mwith\u001b[39;00m \u001b[38;5;28mself\u001b[39m:\n\u001b[0;32m---> 98\u001b[0m         \u001b[38;5;28;01mreturn\u001b[39;00m \u001b[43mfunc\u001b[49m\u001b[43m(\u001b[49m\u001b[38;5;241;43m*\u001b[39;49m\u001b[43margs\u001b[49m\u001b[43m,\u001b[49m\u001b[43m \u001b[49m\u001b[38;5;241;43m*\u001b[39;49m\u001b[38;5;241;43m*\u001b[39;49m\u001b[43mkwargs\u001b[49m\u001b[43m)\u001b[49m\n",
      "\u001b[0;31mProgrammingError\u001b[0m: no results to fetch"
     ]
    }
   ],
   "source": [
    "query = \"\"\"\n",
    "UPDATE public_data_zoneurba pdz\n",
    "SET mpoly = ST_Multi(ST_CollectionExtract(ST_MakeValid(mpoly), 3))\n",
    "WHERE\n",
    "    ST_IsValid(mpoly) IS FALSE\n",
    "    AND ST_IsValid(ST_MakeValid(mpoly))\n",
    "\"\"\"\n",
    "execute(query)"
   ]
  },
  {
   "cell_type": "code",
   "execution_count": null,
   "id": "0f27ca23",
   "metadata": {},
   "outputs": [],
   "source": [
    "q = \"SELECT COUNT(*) FROM public_data_zoneurba pdz WHERE ST_IsValid(mpoly) IS FALSE\"\n",
    "execute(q)"
   ]
  },
  {
   "cell_type": "code",
   "execution_count": null,
   "id": "02560bdb",
   "metadata": {},
   "outputs": [],
   "source": [
    "from django.db.models import FilteredRelation, Q\n",
    "\n",
    "ZoneUrba.objects.annotate(ocsge=FilteredRelation(\n",
    "    \"mpoly\"\n",
    "    condition=Q(mpoly__intersects=)\n",
    "))\n",
    "\n",
    "Restaurant.objects.annotate(\n",
    "...     pizzas_vegetarian=FilteredRelation(\n",
    "...         \"pizzas\",\n",
    "...         condition=Q(pizzas__vegetarian=True),\n",
    "...     ),\n",
    "... ).filter(pizzas_vegetarian__name__icontains=\"mozzarella\")"
   ]
  },
  {
   "cell_type": "code",
   "execution_count": 14,
   "id": "888fc1cc",
   "metadata": {},
   "outputs": [
    {
     "data": {
      "text/plain": [
       "<QuerySet [<ZoneUrba: ZoneUrba object (267015)>, <ZoneUrba: ZoneUrba object (267016)>, <ZoneUrba: ZoneUrba object (267017)>, <ZoneUrba: ZoneUrba object (267018)>, <ZoneUrba: ZoneUrba object (267019)>, <ZoneUrba: ZoneUrba object (267020)>, <ZoneUrba: ZoneUrba object (267108)>, <ZoneUrba: ZoneUrba object (267109)>, <ZoneUrba: ZoneUrba object (267110)>, <ZoneUrba: ZoneUrba object (267111)>, <ZoneUrba: ZoneUrba object (267112)>, <ZoneUrba: ZoneUrba object (267113)>, <ZoneUrba: ZoneUrba object (267114)>, <ZoneUrba: ZoneUrba object (267115)>, <ZoneUrba: ZoneUrba object (267116)>, <ZoneUrba: ZoneUrba object (267021)>, <ZoneUrba: ZoneUrba object (267022)>, <ZoneUrba: ZoneUrba object (267023)>, <ZoneUrba: ZoneUrba object (267024)>, <ZoneUrba: ZoneUrba object (267025)>, '...(remaining elements truncated)...']>"
      ]
     },
     "execution_count": 14,
     "metadata": {},
     "output_type": "execute_result"
    }
   ],
   "source": [
    "sub_query = (\n",
    "    Ocsge.objects.filter(mpoly__intersects=OuterRef(\"mpoly\"))\n",
    "    .filter(year=\"2019\")\n",
    "    .annotate(artificial_area=Sum(Area(Transform(\"mpoly\", 2154))))\n",
    ")\n",
    "\n",
    "ZoneUrba.objects.annotate(artif_area=Subquery(sub_query.values(\"artificial_area\")[:1]))"
   ]
  },
  {
   "cell_type": "code",
   "execution_count": 17,
   "id": "6f052b1e",
   "metadata": {},
   "outputs": [
    {
     "ename": "AttributeError",
     "evalue": "'ResolvedOuterRef' object has no attribute '_output_field_or_none'",
     "output_type": "error",
     "traceback": [
      "\u001b[0;31m---------------------------------------------------------------------------\u001b[0m",
      "\u001b[0;31mAttributeError\u001b[0m                            Traceback (most recent call last)",
      "Cell \u001b[0;32mIn[17], line 2\u001b[0m\n\u001b[1;32m      1\u001b[0m sub_query \u001b[38;5;241m=\u001b[39m (\n\u001b[0;32m----> 2\u001b[0m     \u001b[43mOcsge\u001b[49m\u001b[38;5;241;43m.\u001b[39;49m\u001b[43mobjects\u001b[49m\u001b[38;5;241;43m.\u001b[39;49m\u001b[43mfilter\u001b[49m\u001b[43m(\u001b[49m\u001b[43myear\u001b[49m\u001b[38;5;241;43m=\u001b[39;49m\u001b[38;5;124;43m\"\u001b[39;49m\u001b[38;5;124;43m2019\u001b[39;49m\u001b[38;5;124;43m\"\u001b[39;49m\u001b[43m)\u001b[49m\n\u001b[1;32m      3\u001b[0m \u001b[43m    \u001b[49m\u001b[38;5;241;43m.\u001b[39;49m\u001b[43mannotate\u001b[49m\u001b[43m(\u001b[49m\u001b[43mgeom\u001b[49m\u001b[38;5;241;43m=\u001b[39;49m\u001b[43mOuterRef\u001b[49m\u001b[43m(\u001b[49m\u001b[38;5;124;43m\"\u001b[39;49m\u001b[38;5;124;43mmpoly\u001b[39;49m\u001b[38;5;124;43m\"\u001b[39;49m\u001b[43m)\u001b[49m\u001b[43m)\u001b[49m\n\u001b[1;32m      4\u001b[0m \u001b[43m    \u001b[49m\u001b[38;5;241;43m.\u001b[39;49m\u001b[43mfilter\u001b[49m\u001b[43m(\u001b[49m\u001b[43mmpoly__intersects\u001b[49m\u001b[38;5;241;43m=\u001b[39;49m\u001b[43mF\u001b[49m\u001b[43m(\u001b[49m\u001b[38;5;124;43m\"\u001b[39;49m\u001b[38;5;124;43mgeom\u001b[39;49m\u001b[38;5;124;43m\"\u001b[39;49m\u001b[43m)\u001b[49m\u001b[43m)\u001b[49m\n\u001b[1;32m      5\u001b[0m \u001b[43m    \u001b[49m\u001b[38;5;241;43m.\u001b[39;49m\u001b[43mannotate\u001b[49m\u001b[43m(\u001b[49m\u001b[43mintersection\u001b[49m\u001b[38;5;241;43m=\u001b[39;49m\u001b[43mIntersection\u001b[49m\u001b[43m(\u001b[49m\u001b[38;5;124;43m\"\u001b[39;49m\u001b[38;5;124;43mmpoly\u001b[39;49m\u001b[38;5;124;43m\"\u001b[39;49m\u001b[43m,\u001b[49m\u001b[43m \u001b[49m\u001b[43mF\u001b[49m\u001b[43m(\u001b[49m\u001b[38;5;124;43m\"\u001b[39;49m\u001b[38;5;124;43mgeom\u001b[39;49m\u001b[38;5;124;43m\"\u001b[39;49m\u001b[43m)\u001b[49m\u001b[43m)\u001b[49m\u001b[43m)\u001b[49m\n\u001b[1;32m      6\u001b[0m     \u001b[38;5;241m.\u001b[39mannotate(artificial_area\u001b[38;5;241m=\u001b[39mSum(Area(Transform(\u001b[38;5;124m\"\u001b[39m\u001b[38;5;124mmpoly\u001b[39m\u001b[38;5;124m\"\u001b[39m, \u001b[38;5;241m2154\u001b[39m))))\n\u001b[1;32m      7\u001b[0m )\n\u001b[1;32m      9\u001b[0m ZoneUrba\u001b[38;5;241m.\u001b[39mobjects\u001b[38;5;241m.\u001b[39mannotate(artif_area\u001b[38;5;241m=\u001b[39mSubquery(sub_query\u001b[38;5;241m.\u001b[39mvalues(\u001b[38;5;124m\"\u001b[39m\u001b[38;5;124martificial_area\u001b[39m\u001b[38;5;124m\"\u001b[39m)[:\u001b[38;5;241m1\u001b[39m]))\n",
      "File \u001b[0;32m/usr/local/lib/python3.10/site-packages/django/db/models/query.py:1590\u001b[0m, in \u001b[0;36mQuerySet.annotate\u001b[0;34m(self, *args, **kwargs)\u001b[0m\n\u001b[1;32m   1585\u001b[0m \u001b[38;5;250m\u001b[39m\u001b[38;5;124;03m\"\"\"\u001b[39;00m\n\u001b[1;32m   1586\u001b[0m \u001b[38;5;124;03mReturn a query set in which the returned objects have been annotated\u001b[39;00m\n\u001b[1;32m   1587\u001b[0m \u001b[38;5;124;03mwith extra data or aggregations.\u001b[39;00m\n\u001b[1;32m   1588\u001b[0m \u001b[38;5;124;03m\"\"\"\u001b[39;00m\n\u001b[1;32m   1589\u001b[0m \u001b[38;5;28mself\u001b[39m\u001b[38;5;241m.\u001b[39m_not_support_combined_queries(\u001b[38;5;124m\"\u001b[39m\u001b[38;5;124mannotate\u001b[39m\u001b[38;5;124m\"\u001b[39m)\n\u001b[0;32m-> 1590\u001b[0m \u001b[38;5;28;01mreturn\u001b[39;00m \u001b[38;5;28;43mself\u001b[39;49m\u001b[38;5;241;43m.\u001b[39;49m\u001b[43m_annotate\u001b[49m\u001b[43m(\u001b[49m\u001b[43margs\u001b[49m\u001b[43m,\u001b[49m\u001b[43m \u001b[49m\u001b[43mkwargs\u001b[49m\u001b[43m,\u001b[49m\u001b[43m \u001b[49m\u001b[43mselect\u001b[49m\u001b[38;5;241;43m=\u001b[39;49m\u001b[38;5;28;43;01mTrue\u001b[39;49;00m\u001b[43m)\u001b[49m\n",
      "File \u001b[0;32m/usr/local/lib/python3.10/site-packages/django/db/models/query.py:1638\u001b[0m, in \u001b[0;36mQuerySet._annotate\u001b[0;34m(self, args, kwargs, select)\u001b[0m\n\u001b[1;32m   1636\u001b[0m         clone\u001b[38;5;241m.\u001b[39mquery\u001b[38;5;241m.\u001b[39madd_filtered_relation(annotation, alias)\n\u001b[1;32m   1637\u001b[0m     \u001b[38;5;28;01melse\u001b[39;00m:\n\u001b[0;32m-> 1638\u001b[0m         \u001b[43mclone\u001b[49m\u001b[38;5;241;43m.\u001b[39;49m\u001b[43mquery\u001b[49m\u001b[38;5;241;43m.\u001b[39;49m\u001b[43madd_annotation\u001b[49m\u001b[43m(\u001b[49m\n\u001b[1;32m   1639\u001b[0m \u001b[43m            \u001b[49m\u001b[43mannotation\u001b[49m\u001b[43m,\u001b[49m\n\u001b[1;32m   1640\u001b[0m \u001b[43m            \u001b[49m\u001b[43malias\u001b[49m\u001b[43m,\u001b[49m\n\u001b[1;32m   1641\u001b[0m \u001b[43m            \u001b[49m\u001b[43mselect\u001b[49m\u001b[38;5;241;43m=\u001b[39;49m\u001b[43mselect\u001b[49m\u001b[43m,\u001b[49m\n\u001b[1;32m   1642\u001b[0m \u001b[43m        \u001b[49m\u001b[43m)\u001b[49m\n\u001b[1;32m   1643\u001b[0m \u001b[38;5;28;01mfor\u001b[39;00m alias, annotation \u001b[38;5;129;01min\u001b[39;00m clone\u001b[38;5;241m.\u001b[39mquery\u001b[38;5;241m.\u001b[39mannotations\u001b[38;5;241m.\u001b[39mitems():\n\u001b[1;32m   1644\u001b[0m     \u001b[38;5;28;01mif\u001b[39;00m alias \u001b[38;5;129;01min\u001b[39;00m annotations \u001b[38;5;129;01mand\u001b[39;00m annotation\u001b[38;5;241m.\u001b[39mcontains_aggregate:\n",
      "File \u001b[0;32m/usr/local/lib/python3.10/site-packages/django/db/models/sql/query.py:1086\u001b[0m, in \u001b[0;36mQuery.add_annotation\u001b[0;34m(self, annotation, alias, select)\u001b[0m\n\u001b[1;32m   1084\u001b[0m \u001b[38;5;250m\u001b[39m\u001b[38;5;124;03m\"\"\"Add a single annotation expression to the Query.\"\"\"\u001b[39;00m\n\u001b[1;32m   1085\u001b[0m \u001b[38;5;28mself\u001b[39m\u001b[38;5;241m.\u001b[39mcheck_alias(alias)\n\u001b[0;32m-> 1086\u001b[0m annotation \u001b[38;5;241m=\u001b[39m \u001b[43mannotation\u001b[49m\u001b[38;5;241;43m.\u001b[39;49m\u001b[43mresolve_expression\u001b[49m\u001b[43m(\u001b[49m\u001b[38;5;28;43mself\u001b[39;49m\u001b[43m,\u001b[49m\u001b[43m \u001b[49m\u001b[43mallow_joins\u001b[49m\u001b[38;5;241;43m=\u001b[39;49m\u001b[38;5;28;43;01mTrue\u001b[39;49;00m\u001b[43m,\u001b[49m\u001b[43m \u001b[49m\u001b[43mreuse\u001b[49m\u001b[38;5;241;43m=\u001b[39;49m\u001b[38;5;28;43;01mNone\u001b[39;49;00m\u001b[43m)\u001b[49m\n\u001b[1;32m   1087\u001b[0m \u001b[38;5;28;01mif\u001b[39;00m select:\n\u001b[1;32m   1088\u001b[0m     \u001b[38;5;28mself\u001b[39m\u001b[38;5;241m.\u001b[39mappend_annotation_mask([alias])\n",
      "File \u001b[0;32m/usr/local/lib/python3.10/site-packages/django/contrib/gis/db/models/functions.py:76\u001b[0m, in \u001b[0;36mGeoFuncMixin.resolve_expression\u001b[0;34m(self, *args, **kwargs)\u001b[0m\n\u001b[1;32m     73\u001b[0m     \u001b[38;5;28;01mreturn\u001b[39;00m res\n\u001b[1;32m     75\u001b[0m \u001b[38;5;66;03m# Ensure that expressions are geometric.\u001b[39;00m\n\u001b[0;32m---> 76\u001b[0m source_fields \u001b[38;5;241m=\u001b[39m \u001b[43mres\u001b[49m\u001b[38;5;241;43m.\u001b[39;49m\u001b[43mget_source_fields\u001b[49m\u001b[43m(\u001b[49m\u001b[43m)\u001b[49m\n\u001b[1;32m     77\u001b[0m \u001b[38;5;28;01mfor\u001b[39;00m pos \u001b[38;5;129;01min\u001b[39;00m \u001b[38;5;28mself\u001b[39m\u001b[38;5;241m.\u001b[39mgeom_param_pos:\n\u001b[1;32m     78\u001b[0m     field \u001b[38;5;241m=\u001b[39m source_fields[pos]\n",
      "File \u001b[0;32m/usr/local/lib/python3.10/site-packages/django/db/models/expressions.py:439\u001b[0m, in \u001b[0;36mBaseExpression.get_source_fields\u001b[0;34m(self)\u001b[0m\n\u001b[1;32m    437\u001b[0m \u001b[38;5;28;01mdef\u001b[39;00m \u001b[38;5;21mget_source_fields\u001b[39m(\u001b[38;5;28mself\u001b[39m):\n\u001b[1;32m    438\u001b[0m \u001b[38;5;250m    \u001b[39m\u001b[38;5;124;03m\"\"\"Return the underlying field types used by this aggregate.\"\"\"\u001b[39;00m\n\u001b[0;32m--> 439\u001b[0m     \u001b[38;5;28;01mreturn\u001b[39;00m [e\u001b[38;5;241m.\u001b[39m_output_field_or_none \u001b[38;5;28;01mfor\u001b[39;00m e \u001b[38;5;129;01min\u001b[39;00m \u001b[38;5;28mself\u001b[39m\u001b[38;5;241m.\u001b[39mget_source_expressions()]\n",
      "File \u001b[0;32m/usr/local/lib/python3.10/site-packages/django/db/models/expressions.py:439\u001b[0m, in \u001b[0;36m<listcomp>\u001b[0;34m(.0)\u001b[0m\n\u001b[1;32m    437\u001b[0m \u001b[38;5;28;01mdef\u001b[39;00m \u001b[38;5;21mget_source_fields\u001b[39m(\u001b[38;5;28mself\u001b[39m):\n\u001b[1;32m    438\u001b[0m \u001b[38;5;250m    \u001b[39m\u001b[38;5;124;03m\"\"\"Return the underlying field types used by this aggregate.\"\"\"\u001b[39;00m\n\u001b[0;32m--> 439\u001b[0m     \u001b[38;5;28;01mreturn\u001b[39;00m [\u001b[43me\u001b[49m\u001b[38;5;241;43m.\u001b[39;49m\u001b[43m_output_field_or_none\u001b[49m \u001b[38;5;28;01mfor\u001b[39;00m e \u001b[38;5;129;01min\u001b[39;00m \u001b[38;5;28mself\u001b[39m\u001b[38;5;241m.\u001b[39mget_source_expressions()]\n",
      "\u001b[0;31mAttributeError\u001b[0m: 'ResolvedOuterRef' object has no attribute '_output_field_or_none'"
     ]
    }
   ],
   "source": [
    "sub_query = (\n",
    "    Ocsge.objects.filter(year=\"2019\")\n",
    "    .annotate(geom=OuterRef(\"mpoly\"))\n",
    "    .filter(mpoly__intersects=F(\"geom\"))\n",
    "    .annotate(intersection=Intersection(\"mpoly\", F(\"geom\")))\n",
    "    .annotate(artificial_area=Sum(Area(Transform(\"mpoly\", 2154))))\n",
    ")\n",
    "\n",
    "ZoneUrba.objects.annotate(artif_area=Subquery(sub_query.values(\"artificial_area\")[:1]))"
   ]
  },
  {
   "cell_type": "code",
   "execution_count": 18,
   "id": "6a194912",
   "metadata": {},
   "outputs": [
    {
     "data": {
      "text/plain": [
       "[('A', None, 2745.148977004338),\n",
       " ('AUc', None, 1275.8356004737577),\n",
       " ('AUs', None, 856.4687234541727),\n",
       " ('Ah', None, 619.8481747461672),\n",
       " ('N', None, 2394.978381374791),\n",
       " ('Nh', None, 228.72882496663811),\n",
       " ('U', None, 3011.836032518168)]"
      ]
     },
     "execution_count": 18,
     "metadata": {},
     "output_type": "execute_result"
    }
   ],
   "source": [
    "query = \"\"\"\n",
    "SELECT\n",
    "    pdz.typezone,\n",
    "    SUM(area) as area,\n",
    "    ST_Area(ST_Transform(ST_Union(pdo.mpoly), 2154)) / 10000 as artificial_area\n",
    "FROM\n",
    "    public_data_zoneurba pdz\n",
    "    INNER JOIN project_emprise pe ON ST_Intersects(pe.mpoly, pdz.mpoly) AND pe.project_id = %s\n",
    "    INNER JOIN public_data_ocsge pdo ON\n",
    "        ST_Intersects(pdo.mpoly, pdz.mpoly)\n",
    "        AND pdo.year = '2019'\n",
    "        AND pdo.is_artificial = true\n",
    "GROUP BY pdz.typezone\n",
    "\"\"\"\n",
    "execute(query, [1504])"
   ]
  },
  {
   "cell_type": "code",
   "execution_count": null,
   "id": "72399c63",
   "metadata": {},
   "outputs": [],
   "source": []
  }
 ],
 "metadata": {
  "kernelspec": {
   "display_name": "Django Shell-Plus",
   "language": "python",
   "name": "django_extensions"
  },
  "language_info": {
   "codemirror_mode": {
    "name": "ipython",
    "version": 3
   },
   "file_extension": ".py",
   "mimetype": "text/x-python",
   "name": "python",
   "nbconvert_exporter": "python",
   "pygments_lexer": "ipython3",
   "version": "3.10.10"
  }
 },
 "nbformat": 4,
 "nbformat_minor": 5
}
