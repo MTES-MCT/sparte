{
 "cells": [
  {
   "cell_type": "code",
   "execution_count": 23,
   "id": "9d0e3aa8",
   "metadata": {},
   "outputs": [],
   "source": [
    "%load_ext sql\n",
    "# connect to db\n",
    "%sql postgresql://postgres:postgres@db:5432/postgres"
   ]
  },
  {
   "cell_type": "code",
   "execution_count": 22,
   "id": "5a6e7ac0",
   "metadata": {},
   "outputs": [
    {
     "ename": "ValueError",
     "evalue": "'sql' was not found in history, as a file, url, nor in the user namespace.",
     "output_type": "error",
     "traceback": [
      "\u001b[0;31m---------------------------------------------------------------------------\u001b[0m",
      "\u001b[0;31mNameError\u001b[0m                                 Traceback (most recent call last)",
      "File \u001b[0;32m/usr/local/lib/python3.10/site-packages/IPython/core/interactiveshell.py:3832\u001b[0m, in \u001b[0;36mInteractiveShell.find_user_code\u001b[0;34m(self, target, raw, py_only, skip_encoding_cookie, search_ns)\u001b[0m\n\u001b[1;32m   3831\u001b[0m \u001b[38;5;28;01mtry\u001b[39;00m:                                              \u001b[38;5;66;03m# User namespace\u001b[39;00m\n\u001b[0;32m-> 3832\u001b[0m     codeobj \u001b[38;5;241m=\u001b[39m \u001b[38;5;28;43meval\u001b[39;49m\u001b[43m(\u001b[49m\u001b[43mtarget\u001b[49m\u001b[43m,\u001b[49m\u001b[43m \u001b[49m\u001b[38;5;28;43mself\u001b[39;49m\u001b[38;5;241;43m.\u001b[39;49m\u001b[43muser_ns\u001b[49m\u001b[43m)\u001b[49m\n\u001b[1;32m   3833\u001b[0m \u001b[38;5;28;01mexcept\u001b[39;00m \u001b[38;5;167;01mException\u001b[39;00m \u001b[38;5;28;01mas\u001b[39;00m e:\n",
      "File \u001b[0;32m<string>:1\u001b[0m\n",
      "\u001b[0;31mNameError\u001b[0m: name 'sql' is not defined",
      "\nThe above exception was the direct cause of the following exception:\n",
      "\u001b[0;31mValueError\u001b[0m                                Traceback (most recent call last)",
      "Cell \u001b[0;32mIn[22], line 1\u001b[0m\n\u001b[0;32m----> 1\u001b[0m \u001b[43mget_ipython\u001b[49m\u001b[43m(\u001b[49m\u001b[43m)\u001b[49m\u001b[38;5;241;43m.\u001b[39;49m\u001b[43mrun_line_magic\u001b[49m\u001b[43m(\u001b[49m\u001b[38;5;124;43m'\u001b[39;49m\u001b[38;5;124;43mload\u001b[39;49m\u001b[38;5;124;43m'\u001b[39;49m\u001b[43m,\u001b[49m\u001b[43m \u001b[49m\u001b[38;5;124;43m'\u001b[39;49m\u001b[38;5;124;43msql\u001b[39;49m\u001b[38;5;124;43m'\u001b[39;49m\u001b[43m)\u001b[49m\n\u001b[1;32m      2\u001b[0m \u001b[38;5;28;01mfrom\u001b[39;00m \u001b[38;5;21;01mpublic_data\u001b[39;00m\u001b[38;5;21;01m.\u001b[39;00m\u001b[38;5;21;01mmodels\u001b[39;00m \u001b[38;5;28;01mimport\u001b[39;00m ZoneUrba, Commune, ArtifAreaZoneUrba\n\u001b[1;32m      4\u001b[0m z \u001b[38;5;241m=\u001b[39m ZoneUrba\u001b[38;5;241m.\u001b[39mobjects\u001b[38;5;241m.\u001b[39mget(\u001b[38;5;28mid\u001b[39m\u001b[38;5;241m=\u001b[39m\u001b[38;5;241m762778\u001b[39m)\n",
      "File \u001b[0;32m/usr/local/lib/python3.10/site-packages/IPython/core/interactiveshell.py:2417\u001b[0m, in \u001b[0;36mInteractiveShell.run_line_magic\u001b[0;34m(self, magic_name, line, _stack_depth)\u001b[0m\n\u001b[1;32m   2415\u001b[0m     kwargs[\u001b[38;5;124m'\u001b[39m\u001b[38;5;124mlocal_ns\u001b[39m\u001b[38;5;124m'\u001b[39m] \u001b[38;5;241m=\u001b[39m \u001b[38;5;28mself\u001b[39m\u001b[38;5;241m.\u001b[39mget_local_scope(stack_depth)\n\u001b[1;32m   2416\u001b[0m \u001b[38;5;28;01mwith\u001b[39;00m \u001b[38;5;28mself\u001b[39m\u001b[38;5;241m.\u001b[39mbuiltin_trap:\n\u001b[0;32m-> 2417\u001b[0m     result \u001b[38;5;241m=\u001b[39m \u001b[43mfn\u001b[49m\u001b[43m(\u001b[49m\u001b[38;5;241;43m*\u001b[39;49m\u001b[43margs\u001b[49m\u001b[43m,\u001b[49m\u001b[43m \u001b[49m\u001b[38;5;241;43m*\u001b[39;49m\u001b[38;5;241;43m*\u001b[39;49m\u001b[43mkwargs\u001b[49m\u001b[43m)\u001b[49m\n\u001b[1;32m   2419\u001b[0m \u001b[38;5;66;03m# The code below prevents the output from being displayed\u001b[39;00m\n\u001b[1;32m   2420\u001b[0m \u001b[38;5;66;03m# when using magics with decodator @output_can_be_silenced\u001b[39;00m\n\u001b[1;32m   2421\u001b[0m \u001b[38;5;66;03m# when the last Python token in the expression is a ';'.\u001b[39;00m\n\u001b[1;32m   2422\u001b[0m \u001b[38;5;28;01mif\u001b[39;00m \u001b[38;5;28mgetattr\u001b[39m(fn, magic\u001b[38;5;241m.\u001b[39mMAGIC_OUTPUT_CAN_BE_SILENCED, \u001b[38;5;28;01mFalse\u001b[39;00m):\n",
      "File \u001b[0;32m/usr/local/lib/python3.10/site-packages/IPython/core/magics/code.py:359\u001b[0m, in \u001b[0;36mCodeMagics.load\u001b[0;34m(self, arg_s)\u001b[0m\n\u001b[1;32m    357\u001b[0m opts,args \u001b[38;5;241m=\u001b[39m \u001b[38;5;28mself\u001b[39m\u001b[38;5;241m.\u001b[39mparse_options(arg_s,\u001b[38;5;124m'\u001b[39m\u001b[38;5;124myns:r:\u001b[39m\u001b[38;5;124m'\u001b[39m)\n\u001b[1;32m    358\u001b[0m search_ns \u001b[38;5;241m=\u001b[39m \u001b[38;5;124m'\u001b[39m\u001b[38;5;124mn\u001b[39m\u001b[38;5;124m'\u001b[39m \u001b[38;5;129;01min\u001b[39;00m opts\n\u001b[0;32m--> 359\u001b[0m contents \u001b[38;5;241m=\u001b[39m \u001b[38;5;28;43mself\u001b[39;49m\u001b[38;5;241;43m.\u001b[39;49m\u001b[43mshell\u001b[49m\u001b[38;5;241;43m.\u001b[39;49m\u001b[43mfind_user_code\u001b[49m\u001b[43m(\u001b[49m\u001b[43margs\u001b[49m\u001b[43m,\u001b[49m\u001b[43m \u001b[49m\u001b[43msearch_ns\u001b[49m\u001b[38;5;241;43m=\u001b[39;49m\u001b[43msearch_ns\u001b[49m\u001b[43m)\u001b[49m\n\u001b[1;32m    361\u001b[0m \u001b[38;5;28;01mif\u001b[39;00m \u001b[38;5;124m'\u001b[39m\u001b[38;5;124ms\u001b[39m\u001b[38;5;124m'\u001b[39m \u001b[38;5;129;01min\u001b[39;00m opts:\n\u001b[1;32m    362\u001b[0m     \u001b[38;5;28;01mtry\u001b[39;00m:\n",
      "File \u001b[0;32m/usr/local/lib/python3.10/site-packages/IPython/core/interactiveshell.py:3834\u001b[0m, in \u001b[0;36mInteractiveShell.find_user_code\u001b[0;34m(self, target, raw, py_only, skip_encoding_cookie, search_ns)\u001b[0m\n\u001b[1;32m   3832\u001b[0m     codeobj \u001b[38;5;241m=\u001b[39m \u001b[38;5;28meval\u001b[39m(target, \u001b[38;5;28mself\u001b[39m\u001b[38;5;241m.\u001b[39muser_ns)\n\u001b[1;32m   3833\u001b[0m \u001b[38;5;28;01mexcept\u001b[39;00m \u001b[38;5;167;01mException\u001b[39;00m \u001b[38;5;28;01mas\u001b[39;00m e:\n\u001b[0;32m-> 3834\u001b[0m     \u001b[38;5;28;01mraise\u001b[39;00m \u001b[38;5;167;01mValueError\u001b[39;00m((\u001b[38;5;124m\"\u001b[39m\u001b[38;5;124m'\u001b[39m\u001b[38;5;132;01m%s\u001b[39;00m\u001b[38;5;124m'\u001b[39m\u001b[38;5;124m was not found in history, as a file, url, \u001b[39m\u001b[38;5;124m\"\u001b[39m\n\u001b[1;32m   3835\u001b[0m                         \u001b[38;5;124m\"\u001b[39m\u001b[38;5;124mnor in the user namespace.\u001b[39m\u001b[38;5;124m\"\u001b[39m) \u001b[38;5;241m%\u001b[39m target) \u001b[38;5;28;01mfrom\u001b[39;00m \u001b[38;5;21;01me\u001b[39;00m\n\u001b[1;32m   3837\u001b[0m \u001b[38;5;28;01mif\u001b[39;00m \u001b[38;5;28misinstance\u001b[39m(codeobj, \u001b[38;5;28mstr\u001b[39m):\n\u001b[1;32m   3838\u001b[0m     \u001b[38;5;28;01mreturn\u001b[39;00m codeobj\n",
      "\u001b[0;31mValueError\u001b[0m: 'sql' was not found in history, as a file, url, nor in the user namespace."
     ]
    }
   ],
   "source": [
    "from public_data.models import ZoneUrba, Commune, ArtifAreaZoneUrba\n",
    "\n",
    "z = ZoneUrba.objects.get(id=762778)\n",
    "Commune.objects.intersect(z.mpoly)"
   ]
  },
  {
   "cell_type": "code",
   "execution_count": 8,
   "id": "768698f7",
   "metadata": {},
   "outputs": [
    {
     "data": {
      "text/plain": [
       "(1856,\n",
       " <QuerySet [<ZoneUrba: 32162 U 2.1841Ha>, <ZoneUrba: 32402 A 0.8140Ha>, <ZoneUrba: 32382 A 1.6528Ha>, <ZoneUrba: 32382 U 0.0150Ha>, <ZoneUrba: 32382 A 1.9692Ha>, <ZoneUrba: 32382 A 0.9210Ha>, <ZoneUrba: 32083 N 0.3255Ha>, <ZoneUrba: 32059 A 0.1929Ha>, <ZoneUrba: 32083 N 10.2648Ha>, <ZoneUrba: 32083 A 0.5538Ha>, <ZoneUrba: 32083 A 0.3306Ha>, <ZoneUrba: 32083 A 0.4833Ha>, <ZoneUrba: 32083 A 0.0300Ha>, <ZoneUrba: 32083 A 0.3704Ha>, <ZoneUrba: 32083 A 0.1751Ha>, <ZoneUrba: 32083 A 0.1493Ha>, <ZoneUrba: 32083 A 1.0497Ha>, <ZoneUrba: 32083 A 0.0630Ha>, <ZoneUrba: 32382 AUc 0.1137Ha>, <ZoneUrba: 32382 U 4.4532Ha>, '...(remaining elements truncated)...']>)"
      ]
     },
     "execution_count": 8,
     "metadata": {},
     "output_type": "execute_result"
    }
   ],
   "source": [
    "from django.db.models import Prefetch, F\n",
    "from project.models import Project\n",
    "\n",
    "diagnostic = Project.objects.get(id=1504)\n",
    "year = 2019\n",
    "prefetcher = Prefetch(\"artifareazoneurba_set\", queryset=ArtifAreaZoneUrba.objects.filter(year=year))\n",
    "qs = ZoneUrba.objects.intersect(diagnostic.combined_emprise).prefetch_related(prefetcher)\n",
    "qs.count(), qs"
   ]
  },
  {
   "cell_type": "code",
   "execution_count": 37,
   "id": "6ed824ae",
   "metadata": {},
   "outputs": [
    {
     "data": {
      "text/plain": [
       "<QuerySet [{'zone_urba__typezone': 'A', 'year': 2016, 'artif_area': Decimal('877.8247'), 'total_area': Decimal('20385.5585'), 'nb_zones': 626}, {'zone_urba__typezone': 'A', 'year': 2019, 'artif_area': Decimal('882.2287'), 'total_area': Decimal('20385.7734'), 'nb_zones': 627}, {'zone_urba__typezone': 'AUc', 'year': 2016, 'artif_area': Decimal('33.9506'), 'total_area': Decimal('250.8629'), 'nb_zones': 63}, {'zone_urba__typezone': 'AUc', 'year': 2019, 'artif_area': Decimal('46.1665'), 'total_area': Decimal('256.1524'), 'nb_zones': 64}, {'zone_urba__typezone': 'AUs', 'year': 2016, 'artif_area': Decimal('17.3476'), 'total_area': Decimal('163.8537'), 'nb_zones': 27}, {'zone_urba__typezone': 'AUs', 'year': 2019, 'artif_area': Decimal('17.3234'), 'total_area': Decimal('163.8537'), 'nb_zones': 27}, {'zone_urba__typezone': 'N', 'year': 2016, 'artif_area': Decimal('492.8827'), 'total_area': Decimal('5488.9660'), 'nb_zones': 517}, {'zone_urba__typezone': 'N', 'year': 2019, 'artif_area': Decimal('495.8789'), 'total_area': Decimal('5495.9726'), 'nb_zones': 519}, {'zone_urba__typezone': 'U', 'year': 2016, 'artif_area': Decimal('1742.7183'), 'total_area': Decimal('2227.8843'), 'nb_zones': 250}, {'zone_urba__typezone': 'U', 'year': 2019, 'artif_area': Decimal('1769.2628'), 'total_area': Decimal('2227.8843'), 'nb_zones': 250}]>"
      ]
     },
     "execution_count": 37,
     "metadata": {},
     "output_type": "execute_result"
    }
   ],
   "source": [
    "from django.db.models import Sum, Count\n",
    "\n",
    "qs = (\n",
    "    ArtifAreaZoneUrba.objects.filter(zone_urba__in=ZoneUrba.objects.intersect(diagnostic.combined_emprise))\n",
    "    .filter(year__in=[2016, 2019])  # first and last ocsge\n",
    "    .order_by(\"zone_urba__typezone\", \"year\")\n",
    "    .values(\"zone_urba__typezone\", \"year\")\n",
    "    .annotate(\n",
    "        artif_area=Sum(\"area\"),\n",
    "        total_area=Sum(\"zone_urba__area\"),\n",
    "        nb_zones=Count(\"zone_urba_id\"),\n",
    "    )\n",
    ")\n",
    "qs"
   ]
  },
  {
   "cell_type": "code",
   "execution_count": 16,
   "id": "88d751f3",
   "metadata": {},
   "outputs": [
    {
     "data": {
      "text/plain": [
       "1349682"
      ]
     },
     "execution_count": 16,
     "metadata": {},
     "output_type": "execute_result"
    }
   ],
   "source": [
    "ZoneUrba.objects.intersect(diagnostic.combined_emprise).first().id"
   ]
  },
  {
   "cell_type": "code",
   "execution_count": 19,
   "id": "788cb528",
   "metadata": {},
   "outputs": [
    {
     "data": {
      "text/plain": [
       "1183.2267009415218"
      ]
     },
     "execution_count": 19,
     "metadata": {},
     "output_type": "execute_result"
    }
   ],
   "source": [
    "zone = ZoneUrba.objects.get(id=1349682)\n",
    "geom = zone.mpoly.transform(\"2154\", clone=True)\n",
    "geom.area"
   ]
  },
  {
   "cell_type": "code",
   "execution_count": 32,
   "id": "df800a28",
   "metadata": {},
   "outputs": [
    {
     "data": {
      "text/plain": [
       "<QuerySet [<ArtifAreaZoneUrba: 1349682 2016 0.1108Ha>, <ArtifAreaZoneUrba: 1349682 2019 0.1108Ha>]>"
      ]
     },
     "execution_count": 32,
     "metadata": {},
     "output_type": "execute_result"
    }
   ],
   "source": [
    "zone.artifareazoneurba_set.all()"
   ]
  },
  {
   "cell_type": "code",
   "execution_count": 35,
   "id": "c891b818",
   "metadata": {},
   "outputs": [
    {
     "name": "stdout",
     "output_type": "stream",
     "text": [
      " * postgresql://postgres:***@db:5432/postgres\n",
      "0 rows affected.\n"
     ]
    },
    {
     "data": {
      "text/plain": [
       "[]"
      ]
     },
     "execution_count": 35,
     "metadata": {},
     "output_type": "execute_result"
    }
   ],
   "source": [
    "query = (\n",
    "    \"insert into public_data_artifareazoneurba (zone_urba_id, year, area) \"\n",
    "    \"select pdz.id, pdo.year, ST_Area(ST_Transform(ST_Union(ST_Intersection(pdo.mpoly, pdz.mpoly)), 2154)) / 10000 as artificial_area \"\n",
    "    \"from public_data_zoneurba pdz left join public_data_artifareazoneurba pda on pda.zone_urba_id = pdz.id \"\n",
    "    \"inner join public_data_ocsge pdo on ST_Intersects(pdo.mpoly, pdz.mpoly) and is_artificial = true \"\n",
    "    \"where pda.id is null \"\n",
    "    \"group by pdz.id, pdo.year;\"\n",
    ")\n",
    "%sql $query"
   ]
  },
  {
   "cell_type": "code",
   "execution_count": null,
   "id": "9a07d2bc",
   "metadata": {},
   "outputs": [],
   "source": []
  },
  {
   "cell_type": "code",
   "execution_count": null,
   "id": "aab6be7a",
   "metadata": {},
   "outputs": [],
   "source": []
  }
 ],
 "metadata": {
  "kernelspec": {
   "display_name": "Django Shell-Plus",
   "language": "python",
   "name": "django_extensions"
  },
  "language_info": {
   "codemirror_mode": {
    "name": "ipython",
    "version": 3
   },
   "file_extension": ".py",
   "mimetype": "text/x-python",
   "name": "python",
   "nbconvert_exporter": "python",
   "pygments_lexer": "ipython3",
   "version": "3.10.10"
  }
 },
 "nbformat": 4,
 "nbformat_minor": 5
}
