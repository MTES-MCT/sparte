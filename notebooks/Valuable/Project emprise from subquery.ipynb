{
 "cells": [
  {
   "cell_type": "code",
   "execution_count": 16,
   "id": "7cb28122",
   "metadata": {},
   "outputs": [
    {
     "data": {
      "text/plain": [
       "<Project: Diagnostic de De gascogne>"
      ]
     },
     "execution_count": 16,
     "metadata": {},
     "output_type": "execute_result"
    }
   ],
   "source": [
    "from project.models import Project, Emprise\n",
    "from public_data.models import Commune\n",
    "from django.contrib.gis.db.models import Union\n",
    "\n",
    "project = Project.objects.get(id=1542)\n",
    "project"
   ]
  },
  {
   "cell_type": "code",
   "execution_count": 17,
   "id": "ba5099b5",
   "metadata": {},
   "outputs": [
    {
     "data": {
      "text/plain": [
       "<QuerySet []>"
      ]
     },
     "execution_count": 17,
     "metadata": {},
     "output_type": "execute_result"
    }
   ],
   "source": [
    "project.cities.all()"
   ]
  },
  {
   "cell_type": "code",
   "execution_count": 18,
   "id": "571a6d50",
   "metadata": {},
   "outputs": [],
   "source": [
    "combined_emprise = project.cities.all().aggregate(emprise=Union(\"mpoly\"))\n",
    "combined_emprise['emprise']"
   ]
  },
  {
   "cell_type": "code",
   "execution_count": 4,
   "id": "12746fa8",
   "metadata": {},
   "outputs": [
    {
     "data": {
      "text/plain": [
       "4246"
      ]
     },
     "execution_count": 4,
     "metadata": {},
     "output_type": "execute_result"
    }
   ],
   "source": [
    "project.cities.all().values(\"name\").distinct().count()\n",
    "# .select_related(\"epci\", \"departement\", \"scot\", \"departement__region\")"
   ]
  },
  {
   "cell_type": "code",
   "execution_count": 5,
   "id": "aa35a176",
   "metadata": {},
   "outputs": [
    {
     "data": {
      "text/plain": [
       "164"
      ]
     },
     "execution_count": 5,
     "metadata": {},
     "output_type": "execute_result"
    }
   ],
   "source": [
    "project.cities.all().select_related(\"epci\").values(\"epci__name\").distinct().count()"
   ]
  },
  {
   "cell_type": "code",
   "execution_count": 6,
   "id": "03514b6a",
   "metadata": {},
   "outputs": [
    {
     "data": {
      "text/plain": [
       "1"
      ]
     },
     "execution_count": 6,
     "metadata": {},
     "output_type": "execute_result"
    }
   ],
   "source": [
    "project.cities.all().select_related(\"departement__region\").values(\"departement__region__name\").distinct().count()"
   ]
  },
  {
   "cell_type": "code",
   "execution_count": 8,
   "id": "ee12e71e",
   "metadata": {},
   "outputs": [
    {
     "data": {
      "text/plain": [
       "164"
      ]
     },
     "execution_count": 8,
     "metadata": {},
     "output_type": "execute_result"
    }
   ],
   "source": [
    "qs = project.cities.all().select_related(\"epci\", \"departement\", \"scot\", \"departement__region\")\n",
    "qs.values(\"epci__name\").distinct().count()"
   ]
  },
  {
   "cell_type": "code",
   "execution_count": 11,
   "id": "13738840",
   "metadata": {},
   "outputs": [
    {
     "data": {
      "text/plain": [
       "'Occitanie'"
      ]
     },
     "execution_count": 11,
     "metadata": {},
     "output_type": "execute_result"
    }
   ],
   "source": [
    "qs.values(\"departement__region__name\").distinct().first()['departement__region__name']"
   ]
  },
  {
   "cell_type": "code",
   "execution_count": 12,
   "id": "4f93252b",
   "metadata": {},
   "outputs": [
    {
     "data": {
      "text/plain": [
       "{'departement__name': 'Ariège'}"
      ]
     },
     "execution_count": 12,
     "metadata": {},
     "output_type": "execute_result"
    }
   ],
   "source": [
    "qs.values(\"departement__name\").distinct().first()['departement__name']"
   ]
  },
  {
   "cell_type": "code",
   "execution_count": 23,
   "id": "1db60c5d",
   "metadata": {},
   "outputs": [
    {
     "data": {
      "text/plain": [
       "('Diagnostic de CC du Saves',\n",
       " datetime.datetime(2023, 5, 4, 14, 2, 51, 8959, tzinfo=datetime.timezone.utc),\n",
       " None)"
      ]
     },
     "execution_count": 23,
     "metadata": {},
     "output_type": "execute_result"
    }
   ],
   "source": [
    "from metabase.models import StatDiagnostic\n",
    "\n",
    "s = StatDiagnostic.objects.filter(project_id=1543).first()\n",
    "s.project.name, s.created_date, s.region"
   ]
  },
  {
   "cell_type": "code",
   "execution_count": 24,
   "id": "0f27ca23",
   "metadata": {},
   "outputs": [
    {
     "name": "stderr",
     "output_type": "stream",
     "text": [
      "[04052023 140728]ERROR   Cannot resolve keyword 'epci_name' into field. Choices are: artificialarea, communediff, communesol, departement, departement_id, epci, epci_id, id, insee, last_millesime, map_color, mpoly, name, pop, project, projectcommune, scot, scot_id, surface_artif\n",
      "[04052023 140728]ERROR   Cannot resolve keyword 'epci_name' into field. Choices are: artificialarea, communediff, communesol, departement, departement_id, epci, epci_id, id, insee, last_millesime, map_color, mpoly, name, pop, project, projectcommune, scot, scot_id, surface_artif\n",
      "Traceback (most recent call last):\n",
      "  File \"/usr/local/lib/python3.10/site-packages/django/db/models/sql/query.py\", line 2114, in add_fields\n",
      "    join_info = self.setup_joins(\n",
      "  File \"/usr/local/lib/python3.10/site-packages/django/db/models/sql/query.py\", line 1776, in setup_joins\n",
      "    path, final_field, targets, rest = self.names_to_path(\n",
      "  File \"/usr/local/lib/python3.10/site-packages/django/db/models/sql/query.py\", line 1677, in names_to_path\n",
      "    raise FieldError(\n",
      "django.core.exceptions.FieldError: Cannot resolve keyword 'epci_name' into field. Choices are: artificialarea, communediff, communesol, departement, departement_id, epci, epci_id, id, insee, last_millesime, map_color, mpoly, name, pop, project, projectcommune, scot, scot_id, surface_artif\n",
      "\n",
      "During handling of the above exception, another exception occurred:\n",
      "\n",
      "Traceback (most recent call last):\n",
      "  File \"/app/metabase/tasks.py\", line 15, in async_create_stat_for_project\n",
      "    StatDiagnostic.project_post_save(project_id, do_location)\n",
      "  File \"/app/metabase/models.py\", line 143, in project_post_save\n",
      "  File \"/app/metabase/models.py\", line 82, in update_locations\n",
      "  File \"/usr/local/lib/python3.10/site-packages/django/db/models/query.py\", line 1313, in values\n",
      "    clone = self._values(*fields, **expressions)\n",
      "  File \"/usr/local/lib/python3.10/site-packages/django/db/models/query.py\", line 1308, in _values\n",
      "    clone.query.set_values(fields)\n",
      "  File \"/usr/local/lib/python3.10/site-packages/django/db/models/sql/query.py\", line 2413, in set_values\n",
      "    self.add_fields(field_names, True)\n",
      "  File \"/usr/local/lib/python3.10/site-packages/django/db/models/sql/query.py\", line 2147, in add_fields\n",
      "    raise FieldError(\n",
      "django.core.exceptions.FieldError: Cannot resolve keyword 'epci_name' into field. Choices are: artificialarea, communediff, communesol, departement, departement_id, epci, epci_id, id, insee, last_millesime, map_color, mpoly, name, pop, project, projectcommune, scot, scot_id, surface_artif\n"
     ]
    },
    {
     "name": "stdout",
     "output_type": "stream",
     "text": [
      "Unexpected exception formatting exception. Falling back to standard exception\n"
     ]
    },
    {
     "name": "stderr",
     "output_type": "stream",
     "text": [
      "Traceback (most recent call last):\n",
      "  File \"/usr/local/lib/python3.10/site-packages/django/db/models/sql/query.py\", line 2114, in add_fields\n",
      "    join_info = self.setup_joins(\n",
      "  File \"/usr/local/lib/python3.10/site-packages/django/db/models/sql/query.py\", line 1776, in setup_joins\n",
      "    path, final_field, targets, rest = self.names_to_path(\n",
      "  File \"/usr/local/lib/python3.10/site-packages/django/db/models/sql/query.py\", line 1677, in names_to_path\n",
      "    raise FieldError(\n",
      "django.core.exceptions.FieldError: Cannot resolve keyword 'epci_name' into field. Choices are: artificialarea, communediff, communesol, departement, departement_id, epci, epci_id, id, insee, last_millesime, map_color, mpoly, name, pop, project, projectcommune, scot, scot_id, surface_artif\n",
      "\n",
      "During handling of the above exception, another exception occurred:\n",
      "\n",
      "Traceback (most recent call last):\n",
      "  File \"/usr/local/lib/python3.10/site-packages/IPython/core/interactiveshell.py\", line 3505, in run_code\n",
      "    exec(code_obj, self.user_global_ns, self.user_ns)\n",
      "  File \"/tmp/ipykernel_30/566780759.py\", line 2, in <module>\n",
      "    async_create_stat_for_project(project_id=1543, do_location=True)\n",
      "  File \"/usr/local/lib/python3.10/site-packages/celery/local.py\", line 188, in __call__\n",
      "    return self._get_current_object()(*a, **kw)\n",
      "  File \"/usr/local/lib/python3.10/site-packages/celery/app/task.py\", line 392, in __call__\n",
      "    return self.run(*args, **kwargs)\n",
      "  File \"/app/metabase/tasks.py\", line 19, in async_create_stat_for_project\n",
      "    self.retry(exc=exc, countdown=300)  # 5 minutes\n",
      "  File \"/usr/local/lib/python3.10/site-packages/celery/app/task.py\", line 701, in retry\n",
      "    raise_with_context(exc or Retry('Task can be retried', None))\n",
      "  File \"/app/metabase/tasks.py\", line 15, in async_create_stat_for_project\n",
      "    StatDiagnostic.project_post_save(project_id, do_location)\n",
      "  File \"/app/metabase/models.py\", line 143, in project_post_save\n",
      "  File \"/app/metabase/models.py\", line 82, in update_locations\n",
      "  File \"/usr/local/lib/python3.10/site-packages/django/db/models/query.py\", line 1313, in values\n",
      "    clone = self._values(*fields, **expressions)\n",
      "  File \"/usr/local/lib/python3.10/site-packages/django/db/models/query.py\", line 1308, in _values\n",
      "    clone.query.set_values(fields)\n",
      "  File \"/usr/local/lib/python3.10/site-packages/django/db/models/sql/query.py\", line 2413, in set_values\n",
      "    self.add_fields(field_names, True)\n",
      "  File \"/usr/local/lib/python3.10/site-packages/django/db/models/sql/query.py\", line 2147, in add_fields\n",
      "    raise FieldError(\n",
      "django.core.exceptions.FieldError: Cannot resolve keyword 'epci_name' into field. Choices are: artificialarea, communediff, communesol, departement, departement_id, epci, epci_id, id, insee, last_millesime, map_color, mpoly, name, pop, project, projectcommune, scot, scot_id, surface_artif\n",
      "\n",
      "During handling of the above exception, another exception occurred:\n",
      "\n",
      "Traceback (most recent call last):\n",
      "  File \"/usr/local/lib/python3.10/site-packages/IPython/core/interactiveshell.py\", line 2102, in showtraceback\n",
      "    stb = self.InteractiveTB.structured_traceback(\n",
      "  File \"/usr/local/lib/python3.10/site-packages/IPython/core/ultratb.py\", line 1310, in structured_traceback\n",
      "    return FormattedTB.structured_traceback(\n",
      "  File \"/usr/local/lib/python3.10/site-packages/IPython/core/ultratb.py\", line 1199, in structured_traceback\n",
      "    return VerboseTB.structured_traceback(\n",
      "  File \"/usr/local/lib/python3.10/site-packages/IPython/core/ultratb.py\", line 1052, in structured_traceback\n",
      "    formatted_exception = self.format_exception_as_a_whole(etype, evalue, etb, number_of_lines_of_context,\n",
      "  File \"/usr/local/lib/python3.10/site-packages/IPython/core/ultratb.py\", line 978, in format_exception_as_a_whole\n",
      "    frames.append(self.format_record(record))\n",
      "  File \"/usr/local/lib/python3.10/site-packages/IPython/core/ultratb.py\", line 878, in format_record\n",
      "    frame_info.lines, Colors, self.has_colors, lvals\n",
      "  File \"/usr/local/lib/python3.10/site-packages/IPython/core/ultratb.py\", line 712, in lines\n",
      "    return self._sd.lines\n",
      "  File \"/usr/local/lib/python3.10/site-packages/stack_data/utils.py\", line 144, in cached_property_wrapper\n",
      "    value = obj.__dict__[self.func.__name__] = self.func(obj)\n",
      "  File \"/usr/local/lib/python3.10/site-packages/stack_data/core.py\", line 734, in lines\n",
      "    pieces = self.included_pieces\n",
      "  File \"/usr/local/lib/python3.10/site-packages/stack_data/utils.py\", line 144, in cached_property_wrapper\n",
      "    value = obj.__dict__[self.func.__name__] = self.func(obj)\n",
      "  File \"/usr/local/lib/python3.10/site-packages/stack_data/core.py\", line 681, in included_pieces\n",
      "    pos = scope_pieces.index(self.executing_piece)\n",
      "  File \"/usr/local/lib/python3.10/site-packages/stack_data/utils.py\", line 144, in cached_property_wrapper\n",
      "    value = obj.__dict__[self.func.__name__] = self.func(obj)\n",
      "  File \"/usr/local/lib/python3.10/site-packages/stack_data/core.py\", line 660, in executing_piece\n",
      "    return only(\n",
      "  File \"/usr/local/lib/python3.10/site-packages/executing/executing.py\", line 190, in only\n",
      "    raise NotOneValueFound('Expected one value, found 0')\n",
      "executing.executing.NotOneValueFound: Expected one value, found 0\n"
     ]
    }
   ],
   "source": [
    "from metabase.tasks import async_create_stat_for_project\n",
    "async_create_stat_for_project(project_id=1543, do_location=True)"
   ]
  },
  {
   "cell_type": "code",
   "execution_count": 25,
   "id": "02560bdb",
   "metadata": {},
   "outputs": [
    {
     "data": {
      "text/plain": [
       "<AsyncResult: 2aa9e343-c274-4309-810f-3fe4e9d3970f>"
      ]
     },
     "execution_count": 25,
     "metadata": {},
     "output_type": "execute_result"
    }
   ],
   "source": [
    "async_create_stat_for_project.delay(project_id=1543, do_location=True)"
   ]
  },
  {
   "cell_type": "code",
   "execution_count": null,
   "id": "888fc1cc",
   "metadata": {},
   "outputs": [],
   "source": []
  }
 ],
 "metadata": {
  "kernelspec": {
   "display_name": "Django Shell-Plus",
   "language": "python",
   "name": "django_extensions"
  },
  "language_info": {
   "codemirror_mode": {
    "name": "ipython",
    "version": 3
   },
   "file_extension": ".py",
   "mimetype": "text/x-python",
   "name": "python",
   "nbconvert_exporter": "python",
   "pygments_lexer": "ipython3",
   "version": "3.10.10"
  }
 },
 "nbformat": 4,
 "nbformat_minor": 5
}
