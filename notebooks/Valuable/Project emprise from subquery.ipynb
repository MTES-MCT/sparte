{
 "cells": [
  {
   "cell_type": "code",
   "execution_count": 8,
   "id": "7cb28122",
   "metadata": {},
   "outputs": [
    {
     "data": {
      "text/plain": [
       "<Project: Diagnostic de Occitanie>"
      ]
     },
     "execution_count": 8,
     "metadata": {},
     "output_type": "execute_result"
    }
   ],
   "source": [
    "from project.models import Project, Emprise\n",
    "from public_data.models import Commune\n",
    "from django.contrib.gis.db.models import Union\n",
    "\n",
    "project = Project.objects.filter(name__icontains=\"occitanie\").first()\n",
    "project"
   ]
  },
  {
   "cell_type": "code",
   "execution_count": 4,
   "id": "ba5099b5",
   "metadata": {},
   "outputs": [
    {
     "data": {
      "text/plain": [
       "<QuerySet [<Commune: Aigues-Juntes (09001)>, <Commune: Aigues-Vives (09002)>, <Commune: L'Aiguillon (09003)>, <Commune: Albiès (09004)>, <Commune: Aleu (09005)>, <Commune: Alliat (09006)>, <Commune: Allières (09007)>, <Commune: Alos (09008)>, <Commune: Alzen (09009)>, <Commune: Antras (09011)>, <Commune: Appy (09012)>, <Commune: Arabaux (09013)>, <Commune: Argein (09014)>, <Commune: Arignac (09015)>, <Commune: Arnave (09016)>, <Commune: Arrien-en-Bethmale (09017)>, <Commune: Arrout (09018)>, <Commune: Artigat (09019)>, <Commune: Artigues (09020)>, <Commune: Artix (09021)>, '...(remaining elements truncated)...']>"
      ]
     },
     "execution_count": 4,
     "metadata": {},
     "output_type": "execute_result"
    }
   ],
   "source": [
    "project.cities.all()"
   ]
  },
  {
   "cell_type": "code",
   "execution_count": 10,
   "id": "571a6d50",
   "metadata": {},
   "outputs": [
    {
     "data": {
      "text/plain": [
       "<MultiPolygon object at 0x7f0fa3bbfa90>"
      ]
     },
     "execution_count": 10,
     "metadata": {},
     "output_type": "execute_result"
    }
   ],
   "source": [
    "combined_emprise = project.cities.all().aggregate(emprise=Union(\"mpoly\"))\n",
    "combined_emprise['emprise']"
   ]
  },
  {
   "cell_type": "code",
   "execution_count": null,
   "id": "12746fa8",
   "metadata": {},
   "outputs": [],
   "source": []
  }
 ],
 "metadata": {
  "kernelspec": {
   "display_name": "Django Shell-Plus",
   "language": "python",
   "name": "django_extensions"
  },
  "language_info": {
   "codemirror_mode": {
    "name": "ipython",
    "version": 3
   },
   "file_extension": ".py",
   "mimetype": "text/x-python",
   "name": "python",
   "nbconvert_exporter": "python",
   "pygments_lexer": "ipython3",
   "version": "3.10.10"
  }
 },
 "nbformat": 4,
 "nbformat_minor": 5
}
