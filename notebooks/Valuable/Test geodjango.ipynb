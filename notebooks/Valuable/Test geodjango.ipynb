{
 "cells": [
  {
   "cell_type": "code",
   "execution_count": null,
   "id": "440269e7",
   "metadata": {},
   "outputs": [],
   "source": [
    "from project.models import Project, Emprise, Plan, PlanEmprise\n",
    "from public_data.models import CommunesSybarval as Comm\n",
    "from django.contrib.gis.db.models import Union\n",
    "from django.contrib.gis.db.models.functions import Intersection, Area, Transform\n",
    "from users.models import User\n",
    "from django.conf import settings\n",
    "from django.core.serializers import serialize\n",
    "from prettytable import PrettyTable\n",
    "from django.db.models import F\n",
    "import random\n",
    "\n",
    "default_user = User.objects.get(email__startswith=\"swann\")"
   ]
  },
  {
   "cell_type": "code",
   "execution_count": null,
   "id": "d5371353",
   "metadata": {},
   "outputs": [],
   "source": [
    "# show available project to let you choose an id\n",
    "x = PrettyTable(field_names=[\"id\", \"Nom du projet\"], align=\"l\")\n",
    "x.add_rows([(p.id, p.name) for p in Project.objects.all().order_by(\"id\")])\n",
    "print(x)"
   ]
  },
  {
   "cell_type": "code",
   "execution_count": null,
   "id": "a8704dad",
   "metadata": {
    "scrolled": true
   },
   "outputs": [],
   "source": [
    "# get project and combined emprise\n",
    "test_project = Project.objects.get(pk=2)\n",
    "print(f\"Project: {test_project.name}\")\n",
    "print(\"=========================\")\n",
    "geom = test_project.combined_emprise\n",
    "\n",
    "test_filters = [\"coveredby\", \"within\", \"contained\", \"crosses\", \"disjoint\", \"intersects\", \"overlaps\"]\n",
    "# contained : boss avec le rectangle englobant\n",
    "\n",
    "communes = {_._commune: [] for _ in Comm.objects.all()}\n",
    "\n",
    "for t in test_filters:\n",
    "    for city_name in communes.keys():\n",
    "        communes[city_name].append(\"\")\n",
    "    for city in Comm.objects.filter(**{f\"mpoly__{t}\": geom}):\n",
    "        communes[city._commune][-1] = \"OUI\"\n",
    "\n",
    "x = PrettyTable(field_names=[\"Commune\"]+test_filters, align=\"l\")\n",
    "for name, row in communes.items():\n",
    "    x.add_row([name]+row)\n",
    "print(x)"
   ]
  },
  {
   "cell_type": "code",
   "execution_count": null,
   "id": "81353cfe",
   "metadata": {},
   "outputs": [],
   "source": [
    "from rest_framework_gis.serializers import GeoFeatureModelSerializer, GeometryField\n",
    "from rest_framework import serializers\n",
    "\n",
    "class CustomSerializer(GeoFeatureModelSerializer):\n",
    "    # intersection_area = serializers.FloatField()\n",
    "    intersection = GeometryField()\n",
    "    \n",
    "    class Meta:\n",
    "        model = Comm\n",
    "        geo_field = \"intersection\"\n",
    "        fields=('_commune', )\n",
    "\n",
    "test_project = Project.objects.get(pk=4)\n",
    "geom = test_project.combined_emprise\n",
    "qs = Comm.objects.filter(mpoly__intersects=geom)\n",
    "qs = qs.annotate(intersection=Intersection(\"mpoly\", geom))\n",
    "qs = qs.annotate(intersection_area=Area(\"intersection\"))\n",
    "qs = qs.annotate(area=Area(\"mpoly\"))\n",
    "for city in qs:\n",
    "    print(city._commune, city.area /  1000000, city.intersection_area)\n",
    "    \n",
    "serializer = CustomSerializer(qs, many=True)\n",
    "    \n",
    "data = serializer.data\n",
    "data"
   ]
  },
  {
   "cell_type": "code",
   "execution_count": null,
   "id": "9a399588",
   "metadata": {},
   "outputs": [],
   "source": [
    "from ipyleaflet import Map, GeoJSON\n",
    "from rest_framework_gis.serializers import GeoFeatureModelSerializer\n",
    "from django.contrib.gis.db.models.functions import Intersection, Area, Transform\n",
    "from django.conf import settings\n",
    "# from my django app\n",
    "from public_data.models import CommunesSybarval as Comm\n",
    "from project.models import Project, Emprise, Plan, PlanEmprise\n",
    "\n",
    "class CustomSerializer(GeoFeatureModelSerializer):\n",
    "    intersection = GeometryField()\n",
    "    \n",
    "    class Meta:\n",
    "        model = Comm\n",
    "        geo_field = \"intersection\"\n",
    "        fields=('_commune', )\n",
    "\n",
    "# get the data from the database\n",
    "geom = Project.objects.get(pk=4).combined_emprise\n",
    "qs = Comm.objects.filter(mpoly__intersects=geom).annotate(intersection=Intersection(\"mpoly\", geom))\n",
    "qs = qs.annotate(intersection_area=Area(\"intersection\")).annotate(area=Area(\"mpoly\"))\n",
    "    \n",
    "serializer = CustomSerializer(qs, many=True)\n",
    "\n",
    "# Start map renderint\n",
    "m = Map(center=(44.6586, -1.164), zoom=11)\n",
    "\n",
    "geo_json = GeoJSON(\n",
    "    data=serializer.data,\n",
    "    style={'opacity': 1, 'dashArray': '9', 'fillOpacity': 0.1, 'weight': 1},\n",
    "    hover_style={'color': 'white', 'dashArray': '0', 'fillOpacity': 0.5},\n",
    "    style_callback={'color': 'black',\n",
    "                    'fillColor': random.choice(['red', 'yellow', 'green', 'orange']),}\n",
    ")\n",
    "m.add_layer(geo_json)\n",
    "m"
   ]
  },
  {
   "cell_type": "code",
   "execution_count": null,
   "id": "66795b6d",
   "metadata": {},
   "outputs": [],
   "source": [
    "# lambert 93 - EPSG 2154\n",
    "mios = Comm.objects.get(_commune=\"Mios\")\n",
    "\n",
    "def get_km_sq(mpoly): \n",
    "    \"\"\" \n",
    "    Returns the area in acres. \n",
    "    \"\"\" \n",
    "    # Convert our geographic polygons (in WGS84)\n",
    "    # into a local projection for France (here lambert 93 - EPSG 2154) \n",
    "    mpoly.transform(2154)\n",
    "    # we are in m² and we want km²\n",
    "    return mpoly.area / (1000 * 1000)\n",
    "\n",
    "print(get_km_sq(mios.mpoly))"
   ]
  },
  {
   "cell_type": "code",
   "execution_count": null,
   "id": "bd51a5bc",
   "metadata": {},
   "outputs": [],
   "source": [
    "test_project = Project.objects.get(pk=4)\n",
    "geom = test_project.combined_emprise\n",
    "qs = Comm.objects.filter(mpoly__intersects=geom)\n",
    "qs = qs.annotate(mpoly_2=Transform(\"mpoly\", 2154))\n",
    "# qs = qs.annotate(intersection=Intersection(\"mpoly\", geom))\n",
    "# qs = qs.annotate(intersection2=Transform(\"intersection\", 2154))\n",
    "qs = qs.annotate(intersection=Transform(Intersection(\"mpoly\", geom), 2154))\n",
    "qs = qs.annotate(intersection_area=Area(\"intersection\"))\n",
    "qs = qs.annotate(area=Area(\"mpoly_2\"))\n",
    "\n",
    "x = PrettyTable()\n",
    "x.field_names = [\"Commune\", \"Aire (km²)\", \"Aire (km²) intersection COBAS\", ]\n",
    "x.align = \"r\"\n",
    "x.align[\"Commune\"] = \"l\"\n",
    "for city in qs:\n",
    "    x.add_row([city._commune, f\"{city.area.sq_km:.2f}\", f\"{city.intersection_area.sq_km:.2f}\"])\n",
    "print(x)"
   ]
  },
  {
   "cell_type": "code",
   "execution_count": null,
   "id": "351df3d6",
   "metadata": {},
   "outputs": [],
   "source": [
    "qs = qs.filter(intersection_area__gt=F(\"area\") * 0.95 )\n",
    "\n",
    "x = PrettyTable()\n",
    "x.field_names = [\"Commune\", \"Aire (km²)\", \"Aire (km²) intersection COBAS\", ]\n",
    "x.align = \"r\"\n",
    "x.align[\"Commune\"] = \"l\"\n",
    "for city in qs:\n",
    "    x.add_row([city._commune, f\"{city.area.sq_km:.2f}\", f\"{city.intersection_area.sq_km:.2f}\"])\n",
    "print(x)"
   ]
  },
  {
   "cell_type": "code",
   "execution_count": null,
   "id": "5f061400",
   "metadata": {},
   "outputs": [],
   "source": [
    "from django.db import connection\n",
    "qs = Comm.objects.filter(code_insee__in=[\"33527\", ])\n",
    "qs = qs.aggregate(mpoly=Union(\"mpoly\"))\n",
    "connection.queries.pop()"
   ]
  },
  {
   "cell_type": "code",
   "execution_count": null,
   "id": "106ca221",
   "metadata": {},
   "outputs": [],
   "source": [
    "from django.contrib.gis.geos import Polygon as dj_Polygon\n",
    "\n",
    "poly = dj_Polygon.from_bbox((43, -1, 44, 0))\n",
    "poly.srid = 4326\n",
    "poly_2 = dj_Polygon.from_bbox((43.25, -0.75, 43.75, -0.25))\n",
    "poly_3 = dj_Polygon.from_bbox((43.4, -0.6, 43.6, -0.4))\n",
    "\n",
    "\n",
    "clone = poly.transform(2154, clone=True)\n",
    "clone.area / 10000"
   ]
  },
  {
   "cell_type": "code",
   "execution_count": null,
   "id": "48639f04",
   "metadata": {},
   "outputs": [],
   "source": [
    "from ipyleaflet import Map, Polygon\n",
    "\n",
    "m = Map(center=(43.5, -0.5), zoom=8)\n",
    "\n",
    "m.add_layer(Polygon(\n",
    "    locations=poly.coords,\n",
    "    color=\"green\",\n",
    "    fill_color=\"green\"\n",
    "))\n",
    "\n",
    "m.add_layer(Polygon(\n",
    "    locations=poly_2.coords,\n",
    "    color=\"red\",\n",
    "    fill_color=\"red\"\n",
    "))\n",
    "\n",
    "m.add_layer(Polygon(\n",
    "    locations=poly_3.coords,\n",
    "    color=\"blue\",\n",
    "    fill_color=\"blue\"\n",
    "))\n",
    "\n",
    "m"
   ]
  },
  {
   "cell_type": "code",
   "execution_count": null,
   "id": "cba42200",
   "metadata": {},
   "outputs": [],
   "source": [
    "from django.contrib.gis.geos import Polygon, MultiPolygon\n",
    "\n",
    "BIG_SQUARE = MultiPolygon([\n",
    "    Polygon.from_bbox((43, -1, 44, 0)),\n",
    "], srid=4326)\n",
    "\n",
    "BIG_SQUARE.transform(2154, clone=True).area / 1000 ** 2"
   ]
  },
  {
   "cell_type": "code",
   "execution_count": null,
   "id": "35e1a86f",
   "metadata": {},
   "outputs": [],
   "source": []
  }
 ],
 "metadata": {
  "kernelspec": {
   "display_name": "Django Shell-Plus",
   "language": "python",
   "name": "django_extensions"
  },
  "language_info": {
   "codemirror_mode": {
    "name": "ipython",
    "version": 3
   },
   "file_extension": ".py",
   "mimetype": "text/x-python",
   "name": "python",
   "nbconvert_exporter": "python",
   "pygments_lexer": "ipython3",
   "version": "3.9.7"
  }
 },
 "nbformat": 4,
 "nbformat_minor": 5
}
