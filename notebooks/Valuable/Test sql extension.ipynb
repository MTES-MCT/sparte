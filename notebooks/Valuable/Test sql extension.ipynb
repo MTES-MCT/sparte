{
 "cells": [
  {
   "cell_type": "markdown",
   "id": "2f85fc84",
   "metadata": {},
   "source": [
    "See [https://pypi.org/project/ipython-sql/](https://pypi.org/project/ipython-sql/) to find out more on how to use ipython-sql extension"
   ]
  },
  {
   "cell_type": "code",
   "execution_count": 1,
   "id": "ce3ed47e",
   "metadata": {},
   "outputs": [],
   "source": [
    "%load_ext sql"
   ]
  },
  {
   "cell_type": "code",
   "execution_count": 5,
   "id": "b7cc0df1",
   "metadata": {},
   "outputs": [],
   "source": [
    "# connect to db\n",
    "%sql postgresql://postgres:postgres@db:5432/postgres"
   ]
  },
  {
   "cell_type": "code",
   "execution_count": 11,
   "id": "1ee43b43",
   "metadata": {},
   "outputs": [
    {
     "name": "stdout",
     "output_type": "stream",
     "text": [
      " * postgresql://postgres:***@db:5432/postgres\n",
      "3 rows affected.\n"
     ]
    },
    {
     "data": {
      "text/html": [
       "<table>\n",
       "    <thead>\n",
       "        <tr>\n",
       "            <th>id</th>\n",
       "            <th>libelle</th>\n",
       "            <th>typezone</th>\n",
       "            <th>insee</th>\n",
       "        </tr>\n",
       "    </thead>\n",
       "    <tbody>\n",
       "        <tr>\n",
       "            <td>1355729</td>\n",
       "            <td>Ah</td>\n",
       "            <td>A</td>\n",
       "            <td>32147</td>\n",
       "        </tr>\n",
       "        <tr>\n",
       "            <td>486661</td>\n",
       "            <td>N</td>\n",
       "            <td>N</td>\n",
       "            <td>38257</td>\n",
       "        </tr>\n",
       "        <tr>\n",
       "            <td>1355760</td>\n",
       "            <td>N</td>\n",
       "            <td>N</td>\n",
       "            <td>32147</td>\n",
       "        </tr>\n",
       "    </tbody>\n",
       "</table>"
      ],
      "text/plain": [
       "[(1355729, 'Ah', 'A', '32147'),\n",
       " (486661, 'N', 'N', '38257'),\n",
       " (1355760, 'N', 'N', '32147')]"
      ]
     },
     "execution_count": 11,
     "metadata": {},
     "output_type": "execute_result"
    }
   ],
   "source": [
    "# single line query\n",
    "%sql select id, libelle, typezone, insee from public_data_zoneurba pdz limit 3;"
   ]
  },
  {
   "cell_type": "code",
   "execution_count": 14,
   "id": "33338c9c",
   "metadata": {},
   "outputs": [],
   "source": [
    "# using multi lines query"
   ]
  },
  {
   "cell_type": "code",
   "execution_count": 15,
   "id": "1097fb1f",
   "metadata": {},
   "outputs": [
    {
     "name": "stdout",
     "output_type": "stream",
     "text": [
      " * postgresql://postgres:***@db:5432/postgres\n",
      "10 rows affected.\n"
     ]
    },
    {
     "data": {
      "text/html": [
       "<table>\n",
       "    <thead>\n",
       "        <tr>\n",
       "            <th>id</th>\n",
       "            <th>origin_insee</th>\n",
       "            <th>commune_id</th>\n",
       "            <th>insee</th>\n",
       "            <th>area</th>\n",
       "        </tr>\n",
       "    </thead>\n",
       "    <tbody>\n",
       "        <tr>\n",
       "            <td>1355729</td>\n",
       "            <td>None</td>\n",
       "            <td>11988</td>\n",
       "            <td>32147</td>\n",
       "            <td>3603.472278945657</td>\n",
       "        </tr>\n",
       "        <tr>\n",
       "            <td>486661</td>\n",
       "            <td>None</td>\n",
       "            <td>14069</td>\n",
       "            <td>38047</td>\n",
       "            <td>2944.596791721538</td>\n",
       "        </tr>\n",
       "        <tr>\n",
       "            <td>486661</td>\n",
       "            <td>None</td>\n",
       "            <td>14477</td>\n",
       "            <td>38498</td>\n",
       "            <td>30919.517841298293</td>\n",
       "        </tr>\n",
       "        <tr>\n",
       "            <td>486661</td>\n",
       "            <td>None</td>\n",
       "            <td>14256</td>\n",
       "            <td>38257</td>\n",
       "            <td>5424638.237172062</td>\n",
       "        </tr>\n",
       "        <tr>\n",
       "            <td>486661</td>\n",
       "            <td>None</td>\n",
       "            <td>14066</td>\n",
       "            <td>38044</td>\n",
       "            <td>1811051.503960022</td>\n",
       "        </tr>\n",
       "        <tr>\n",
       "            <td>486661</td>\n",
       "            <td>None</td>\n",
       "            <td>14158</td>\n",
       "            <td>38147</td>\n",
       "            <td>1829478.15389549</td>\n",
       "        </tr>\n",
       "        <tr>\n",
       "            <td>486661</td>\n",
       "            <td>None</td>\n",
       "            <td>14246</td>\n",
       "            <td>38246</td>\n",
       "            <td>1027294.467023069</td>\n",
       "        </tr>\n",
       "        <tr>\n",
       "            <td>486661</td>\n",
       "            <td>None</td>\n",
       "            <td>14447</td>\n",
       "            <td>38464</td>\n",
       "            <td>2756059.1869664895</td>\n",
       "        </tr>\n",
       "        <tr>\n",
       "            <td>486661</td>\n",
       "            <td>None</td>\n",
       "            <td>14060</td>\n",
       "            <td>38038</td>\n",
       "            <td>699831.5606788923</td>\n",
       "        </tr>\n",
       "        <tr>\n",
       "            <td>486661</td>\n",
       "            <td>None</td>\n",
       "            <td>14117</td>\n",
       "            <td>38098</td>\n",
       "            <td>17613.937424635045</td>\n",
       "        </tr>\n",
       "    </tbody>\n",
       "</table>"
      ],
      "text/plain": [
       "[(1355729, None, 11988, '32147', 3603.472278945657),\n",
       " (486661, None, 14069, '38047', 2944.596791721538),\n",
       " (486661, None, 14477, '38498', 30919.517841298293),\n",
       " (486661, None, 14256, '38257', 5424638.237172062),\n",
       " (486661, None, 14066, '38044', 1811051.503960022),\n",
       " (486661, None, 14158, '38147', 1829478.15389549),\n",
       " (486661, None, 14246, '38246', 1027294.467023069),\n",
       " (486661, None, 14447, '38464', 2756059.1869664895),\n",
       " (486661, None, 14060, '38038', 699831.5606788923),\n",
       " (486661, None, 14117, '38098', 17613.937424635045)]"
      ]
     },
     "execution_count": 15,
     "metadata": {},
     "output_type": "execute_result"
    }
   ],
   "source": [
    "%%sql select pdz.id, pdz.origin_insee, pdc.id as commune_id, pdc.insee, ST_Area(ST_Transform(ST_Intersection(pdc.mpoly, pdz.mpoly), 2154)) as area\n",
    "from public_data_zoneurba as pdz\n",
    "inner join public_data_commune as pdc on ST_Intersects(pdz.mpoly, pdc.mpoly)\n",
    "limit 10;"
   ]
  },
  {
   "cell_type": "code",
   "execution_count": 21,
   "id": "96ed54c9",
   "metadata": {},
   "outputs": [
    {
     "name": "stdout",
     "output_type": "stream",
     "text": [
      " * postgresql://postgres:***@db:5432/postgres\n",
      "5 rows affected.\n"
     ]
    },
    {
     "data": {
      "text/html": [
       "<table>\n",
       "    <thead>\n",
       "        <tr>\n",
       "            <th>id</th>\n",
       "            <th>name</th>\n",
       "            <th>insee</th>\n",
       "        </tr>\n",
       "    </thead>\n",
       "    <tbody>\n",
       "        <tr>\n",
       "            <td>12235</td>\n",
       "            <td>Saint-Michel</td>\n",
       "            <td>32397</td>\n",
       "        </tr>\n",
       "        <tr>\n",
       "            <td>13118</td>\n",
       "            <td>Saint-Michel</td>\n",
       "            <td>34278</td>\n",
       "        </tr>\n",
       "        <tr>\n",
       "            <td>5476</td>\n",
       "            <td>Saint-Michel</td>\n",
       "            <td>16341</td>\n",
       "        </tr>\n",
       "        <tr>\n",
       "            <td>16691</td>\n",
       "            <td>Saint-Michel</td>\n",
       "            <td>45294</td>\n",
       "        </tr>\n",
       "        <tr>\n",
       "            <td>3080</td>\n",
       "            <td>Saint-Michel</td>\n",
       "            <td>09271</td>\n",
       "        </tr>\n",
       "    </tbody>\n",
       "</table>"
      ],
      "text/plain": [
       "[(12235, 'Saint-Michel', '32397'),\n",
       " (13118, 'Saint-Michel', '34278'),\n",
       " (5476, 'Saint-Michel', '16341'),\n",
       " (16691, 'Saint-Michel', '45294'),\n",
       " (3080, 'Saint-Michel', '09271')]"
      ]
     },
     "execution_count": 21,
     "metadata": {},
     "output_type": "execute_result"
    }
   ],
   "source": [
    "# using parameters\n",
    "name = 'Saint-Michel'\n",
    "%sql select id, name, insee from public_data_commune where name = :name limit 5"
   ]
  }
 ],
 "metadata": {
  "kernelspec": {
   "display_name": "Python 3 (ipykernel)",
   "language": "python",
   "name": "python3"
  },
  "language_info": {
   "codemirror_mode": {
    "name": "ipython",
    "version": 3
   },
   "file_extension": ".py",
   "mimetype": "text/x-python",
   "name": "python",
   "nbconvert_exporter": "python",
   "pygments_lexer": "ipython3",
   "version": "3.10.10"
  }
 },
 "nbformat": 4,
 "nbformat_minor": 5
}
