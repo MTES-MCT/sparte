{
 "cells": [
  {
   "cell_type": "code",
   "execution_count": null,
   "id": "43c77853",
   "metadata": {},
   "outputs": [],
   "source": [
    "from project.models import Project\n",
    "import geopandas\n",
    "from shapely.geometry import MultiPolygon, Polygon\n",
    "import matplotlib.pyplot as plt\n",
    "\n",
    "filepath = \"../../public_data/local_data/obs_artif_conso_com_2009_2021/obs_artif_conso_com_2009_2021.shp\""
   ]
  },
  {
   "cell_type": "code",
   "execution_count": null,
   "id": "c2ff9570",
   "metadata": {},
   "outputs": [],
   "source": [
    "gdf = geopandas.read_file(filepath).to_crs(epsg=4326)\n",
    "gdf"
   ]
  },
  {
   "cell_type": "code",
   "execution_count": null,
   "id": "c53c9391",
   "metadata": {},
   "outputs": [],
   "source": [
    "import fiona\n",
    "fiona.supported_drivers"
   ]
  },
  {
   "cell_type": "code",
   "execution_count": null,
   "id": "438b27ea",
   "metadata": {},
   "outputs": [],
   "source": [
    "gdf = gdf.set_index(\"idcomtxt\")\n",
    "gdf[\"area\"] = gdf.area\n",
    "gdf[\"area\"]"
   ]
  },
  {
   "cell_type": "code",
   "execution_count": null,
   "id": "33a398d0",
   "metadata": {},
   "outputs": [],
   "source": [
    "gdf.plot(\"area\", legend=True)"
   ]
  },
  {
   "cell_type": "code",
   "execution_count": null,
   "id": "bf4fbad5",
   "metadata": {},
   "outputs": [],
   "source": [
    "diagnostic = Project.objects.all().first()\n",
    "diagnostic"
   ]
  },
  {
   "cell_type": "code",
   "execution_count": null,
   "id": "2f6bf212",
   "metadata": {},
   "outputs": [],
   "source": [
    "polygons = MultiPolygon([Polygon(coord) for coord in diagnostic.combined_emprise.coords])\n",
    "\n",
    "selection = gdf.intersects(polygons)\n",
    "\n",
    "grand_coeur = gdf.loc[selection]\n",
    "\n",
    "grand_coeur"
   ]
  },
  {
   "cell_type": "code",
   "execution_count": null,
   "id": "668c4ea1",
   "metadata": {},
   "outputs": [],
   "source": [
    "gdf.crs"
   ]
  },
  {
   "cell_type": "code",
   "execution_count": null,
   "id": "9664f2b2",
   "metadata": {},
   "outputs": [],
   "source": [
    "import shapely.wkt\n",
    "# polygon = shapely.wkt.loads('POLYGON ((51.0 3.0, 51.3 3.61, 51.3 3.0, 51.0 3.0))')\n",
    "wkt_str = diagnostic.combined_emprise.ewkt.split(\";\")[-1]\n",
    "polygon = shapely.wkt.loads(wkt_str)\n",
    "polygon"
   ]
  },
  {
   "cell_type": "code",
   "execution_count": null,
   "id": "ce3ca446",
   "metadata": {},
   "outputs": [],
   "source": [
    "grand_coeur = grand_coeur.to_crs(epsg=2154)\n",
    "grand_coeur[\"area\"] = grand_coeur.area\n",
    "grand_coeur.plot(\"area\", legend=True)\n",
    "plt.savefig('foo.png')"
   ]
  },
  {
   "cell_type": "code",
   "execution_count": null,
   "id": "c55ebae0",
   "metadata": {},
   "outputs": [],
   "source": [
    "import contextily as cx\n",
    "grand_coeur = grand_coeur.to_crs(epsg=3857)\n",
    "ax = grand_coeur.plot(figsize=(10, 10), alpha=0.5, edgecolor='k')\n",
    "cx.add_basemap(ax)"
   ]
  },
  {
   "cell_type": "code",
   "execution_count": null,
   "id": "0498c6bb",
   "metadata": {},
   "outputs": [],
   "source": []
  },
  {
   "cell_type": "code",
   "execution_count": null,
   "id": "a117123e",
   "metadata": {},
   "outputs": [],
   "source": []
  },
  {
   "cell_type": "code",
   "execution_count": null,
   "id": "2ba7cf09",
   "metadata": {},
   "outputs": [],
   "source": []
  }
 ],
 "metadata": {
  "kernelspec": {
   "display_name": "Django Shell-Plus",
   "language": "python",
   "name": "django_extensions"
  },
  "language_info": {
   "codemirror_mode": {
    "name": "ipython",
    "version": 3
   },
   "file_extension": ".py",
   "mimetype": "text/x-python",
   "name": "python",
   "nbconvert_exporter": "python",
   "pygments_lexer": "ipython3",
   "version": "3.9.7"
  }
 },
 "nbformat": 4,
 "nbformat_minor": 5
}
