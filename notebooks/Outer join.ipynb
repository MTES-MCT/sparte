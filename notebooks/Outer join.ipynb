{
 "cells": [
  {
   "cell_type": "code",
   "execution_count": 21,
   "id": "3946fe11",
   "metadata": {},
   "outputs": [],
   "source": [
    "from django.db.models import OuterRef, Subquery\n",
    "from django.db.models import F\n",
    "from public_data.models import Ocsge2015, CouvertureSol, UsageSol, Artificielle2018\n",
    "from django.db import connection"
   ]
  },
  {
   "cell_type": "code",
   "execution_count": 42,
   "id": "c6d3882b",
   "metadata": {},
   "outputs": [
    {
     "data": {
      "text/plain": [
       "{'sql': 'UPDATE \"public_data_artificielle2018\" SET \"couverture_label\" = (SELECT U0.\"label\" FROM \"public_data_couverturesol\" U0 WHERE U0.\"code_prefix\" = \"public_data_artificielle2018\".\"couverture\" LIMIT 1)',\n",
       " 'time': '0.143'}"
      ]
     },
     "execution_count": 42,
     "metadata": {},
     "output_type": "execute_result"
    }
   ],
   "source": [
    "# update avec une sous requête\n",
    "code_couverture = 'couverture'\n",
    "code_usage = None\n",
    "\n",
    "label_couv = CouvertureSol.objects.filter(code_prefix=OuterRef(code_couverture))\n",
    "Artificielle2018.objects.all().update(couverture_label=Subquery(label.values('label')[:1]))\n",
    "connection.queries.pop()"
   ]
  },
  {
   "cell_type": "code",
   "execution_count": 40,
   "id": "2df522c8",
   "metadata": {},
   "outputs": [
    {
     "data": {
      "text/plain": [
       "18104"
      ]
     },
     "execution_count": 40,
     "metadata": {},
     "output_type": "execute_result"
    }
   ],
   "source": [
    "Artificielle2018.objects.all().update(couverture_label=\"\")"
   ]
  },
  {
   "cell_type": "code",
   "execution_count": 32,
   "id": "cd31cb12",
   "metadata": {},
   "outputs": [
    {
     "name": "stdout",
     "output_type": "stream",
     "text": [
      "SELECT (public_data_couverturesol.label) AS \"couverture_label\", \"public_data_artificielle2018\".\"id\", \"public_data_artificielle2018\".\"couverture\", \"public_data_artificielle2018\".\"surface\", \"public_data_artificielle2018\".couverture_label, \"public_data_artificielle2018\".\"usage_label\", \"public_data_artificielle2018\".\"mpoly\"::bytea FROM \"public_data_artificielle2018\" , \"public_data_couverturesol\" WHERE (public_data_couverturesol.code_prefix = public_data_artificielle2018.couverture)\n"
     ]
    }
   ],
   "source": [
    "# test de l'utilisation de extra pour faire une jointure\n",
    "qs = Artificielle2018.objects.all()\n",
    "table_name = Artificielle2018._meta.db_table\n",
    "kwargs = {\n",
    "    \"select\": {\"couverture_label\": \"public_data_couverturesol.label\"},\n",
    "    \"tables\": [\"public_data_couverturesol\"],\n",
    "    \"where\": [f\"public_data_couverturesol.code_prefix = {table_name}.couverture\"]\n",
    "}\n",
    "qs = qs.extra(**kwargs)\n",
    "print(qs.query)"
   ]
  },
  {
   "cell_type": "code",
   "execution_count": 33,
   "id": "afc60ac3",
   "metadata": {},
   "outputs": [],
   "source": [
    "# executer une raw query pour faire un update\n",
    "update_query = \"\"\"\n",
    "UPDATE public_data_artificielle2018 a\n",
    "SET couverture_label = c.label\n",
    "FROM \n",
    "    public_data_couverturesol c\n",
    "WHERE \n",
    "    c.code_prefix = a.couverture\n",
    "\"\"\"\n",
    "\n",
    "with connection.cursor() as cursor:\n",
    "    cursor.execute(update_query)"
   ]
  },
  {
   "cell_type": "code",
   "execution_count": 37,
   "id": "0e6de411",
   "metadata": {},
   "outputs": [
    {
     "name": "stdout",
     "output_type": "stream",
     "text": [
      "CS1.1 Surfaces anthropisées\n"
     ]
    }
   ],
   "source": [
    "for o in Artificielle2018.objects.all().values(\"couverture\", \"couverture_label\").distinct()[:10]:\n",
    "    print(o[\"couverture\"], o[\"couverture_label\"])"
   ]
  },
  {
   "cell_type": "code",
   "execution_count": 38,
   "id": "b924a17b",
   "metadata": {},
   "outputs": [],
   "source": [
    "with connection.cursor() as cursor:\n",
    "    cursor.execute(update_query)"
   ]
  },
  {
   "cell_type": "code",
   "execution_count": 20,
   "id": "74ee8cbf",
   "metadata": {},
   "outputs": [
    {
     "name": "stdout",
     "output_type": "stream",
     "text": [
      "6\n",
      "{'usage': 'INDETERMINE'}\n",
      "{'usage': 'US4.1.1'}\n",
      "{'usage': 'US4.1.2'}\n",
      "{'usage': 'US4.1.3'}\n",
      "{'usage': 'US4.1.4'}\n",
      "{'usage': None}\n"
     ]
    }
   ],
   "source": [
    "qs = Ocsge2015.objects.filter(usage_label__isnull=True)\n",
    "qs = qs.values(\"usage\").order_by(\"usage\").distinct()\n",
    "print(qs.count())\n",
    "for item in qs:\n",
    "    print(item)\n",
    "    # print(UsageSol.objects.filter(code_prefix=item[\"usage\"]))"
   ]
  },
  {
   "cell_type": "code",
   "execution_count": 12,
   "id": "21073fe2",
   "metadata": {},
   "outputs": [
    {
     "name": "stdout",
     "output_type": "stream",
     "text": [
      "US1 Production primaire\n",
      "US1.2 Sylviculture\n",
      "US1.3 Activités d’extraction\n",
      "US1.4 Pêche et aquaculture\n",
      "US1.5 Autre\n",
      "US2 Secondaire\n",
      "US235 Production secondaire; tertiaire et usage résidentiel\n",
      "US3 Tertiaire\n",
      "US4 Réseaux de transport logistiques et infrastructures\n",
      "US4.1 Réseaux de transport\n",
      "US4.2 Services de logistique et de stockage\n",
      "US4.3 Réseaux d’utilité publique\n",
      "US5 Résidentiel\n",
      "US6 Autre usage\n",
      "US6.1 Zones en transition\n",
      "US6.2 Zones abandonnées\n",
      "US6.3 Sans usage\n",
      "US6.6 Usage Inconnu\n",
      "US1.1 Agriculture\n"
     ]
    }
   ],
   "source": [
    "qs = UsageSol.objects.all()\n",
    "for u in qs:\n",
    "    print(u.code_prefix, u.label)"
   ]
  },
  {
   "cell_type": "code",
   "execution_count": 15,
   "id": "8e065a85",
   "metadata": {},
   "outputs": [
    {
     "data": {
      "text/plain": [
       "76748"
      ]
     },
     "execution_count": 15,
     "metadata": {},
     "output_type": "execute_result"
    }
   ],
   "source": [
    "label = UsageSol.objects.filter(code_prefix=OuterRef(\"usage\"))\n",
    "label = label.values(\"label\")[:1]\n",
    "kwargs = {\"usage_label\": Subquery(label)}\n",
    "Ocsge2015.objects.all().update(**kwargs)"
   ]
  },
  {
   "cell_type": "code",
   "execution_count": null,
   "id": "d31388a0",
   "metadata": {},
   "outputs": [],
   "source": []
  }
 ],
 "metadata": {
  "kernelspec": {
   "display_name": "Django Shell-Plus",
   "language": "python",
   "name": "django_extensions"
  },
  "language_info": {
   "codemirror_mode": {
    "name": "ipython",
    "version": 3
   },
   "file_extension": ".py",
   "mimetype": "text/x-python",
   "name": "python",
   "nbconvert_exporter": "python",
   "pygments_lexer": "ipython3",
   "version": "3.9.7"
  }
 },
 "nbformat": 4,
 "nbformat_minor": 5
}
