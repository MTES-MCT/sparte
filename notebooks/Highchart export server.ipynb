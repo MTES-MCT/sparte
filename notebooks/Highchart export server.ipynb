{
 "cells": [
  {
   "cell_type": "code",
   "execution_count": null,
   "id": "1bd8f809",
   "metadata": {},
   "outputs": [],
   "source": [
    "import requests\n",
    "import json\n",
    "from IPython import display\n",
    "from base64 import b64decode\n",
    "\n",
    "from project.models import Project\n",
    "from project.charts import ConsoComparisonChart\n",
    "from utils.functions import decimal2float\n",
    "\n",
    "server_url = \"https://highcharts-export.osc-fr1.scalingo.io\"\n",
    "\n",
    "project = Project.objects.all().first()\n",
    "project"
   ]
  },
  {
   "cell_type": "code",
   "execution_count": null,
   "id": "c66f2ba0",
   "metadata": {},
   "outputs": [],
   "source": [
    "chart = ConsoComparisonChart(project)\n",
    "chart"
   ]
  },
  {
   "cell_type": "code",
   "execution_count": null,
   "id": "8abbbd26",
   "metadata": {},
   "outputs": [],
   "source": [
    "data = {\n",
    "    \"infile\": chart.chart,\n",
    "    \"width\": 1000,\n",
    "    \"scale\": False,\n",
    "    \"constr\": \"chart\",\n",
    "    \"type\": \"image/png\",\n",
    "    \"b64\": True,\n",
    "}\n",
    "r = requests.post(\n",
    "    server_url,\n",
    "    data=json.dumps(data, default=decimal2float),\n",
    "    headers={\"content-type\": \"application/json\"},\n",
    ")\n",
    "r.content"
   ]
  },
  {
   "cell_type": "code",
   "execution_count": null,
   "id": "655dfa73",
   "metadata": {},
   "outputs": [],
   "source": [
    "display.Image(b64decode(r.content))"
   ]
  },
  {
   "cell_type": "code",
   "execution_count": null,
   "id": "5a5646fb",
   "metadata": {},
   "outputs": [],
   "source": [
    "json.dumps(data, default=decimal2float)"
   ]
  },
  {
   "cell_type": "code",
   "execution_count": null,
   "id": "cd85b1ed",
   "metadata": {},
   "outputs": [],
   "source": [
    "data2 = '{\"infile\":{\"title\": {\"text\": \"Steep Chart\"}, \"xAxis\": {\"categories\": [\"Jan\", \"Feb\", \"Mar\"]}, \"series\": [{\"data\": [29.9, 71.5, 106.4]}]}}'\n",
    "r2 = requests.post(\n",
    "    server_url,\n",
    "    data=data2,\n",
    "    headers={\"content-type\": \"application/json\"},\n",
    ")\n",
    "r2.content"
   ]
  },
  {
   "cell_type": "code",
   "execution_count": null,
   "id": "28a50b94",
   "metadata": {},
   "outputs": [],
   "source": [
    "display.Image(b64decode(r2.content))"
   ]
  },
  {
   "cell_type": "code",
   "execution_count": null,
   "id": "d425eeca",
   "metadata": {},
   "outputs": [],
   "source": []
  }
 ],
 "metadata": {
  "kernelspec": {
   "display_name": "Django Shell-Plus",
   "language": "python",
   "name": "django_extensions"
  },
  "language_info": {
   "codemirror_mode": {
    "name": "ipython",
    "version": 3
   },
   "file_extension": ".py",
   "mimetype": "text/x-python",
   "name": "python",
   "nbconvert_exporter": "python",
   "pygments_lexer": "ipython3",
   "version": "3.9.7"
  }
 },
 "nbformat": 4,
 "nbformat_minor": 5
}
