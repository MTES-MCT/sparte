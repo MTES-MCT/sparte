{
 "cells": [
  {
   "cell_type": "code",
   "execution_count": null,
   "id": "06d75c8c",
   "metadata": {},
   "outputs": [],
   "source": [
    "from project.models import Project\n",
    "import shapely\n",
    "import geopandas\n",
    "import contextily as cx\n",
    "from public_data.models.gpu import ZoneUrba\n",
    "import matplotlib.pyplot as plt\n",
    "from matplotlib_scalebar.scalebar import ScaleBar\n",
    "from django.conf import settings\n",
    "import io\n",
    "\n",
    "project_id = 1504\n",
    "\n",
    "diagnostic = Project.objects.get(id=int(project_id))\n",
    "\n",
    "geom = diagnostic.combined_emprise.transform(\"3857\", clone=True)\n",
    "srid, wkt = geom.ewkt.split(\";\")\n",
    "polygons = shapely.wkt.loads(wkt)\n",
    "gdf_emprise = geopandas.GeoDataFrame({\"geometry\": [polygons]}, crs=\"EPSG:3857\")\n",
    "\n",
    "data = {\"color\": [], \"geometry\": []}\n",
    "# add zone_urba to map\n",
    "queryset = ZoneUrba.objects.intersect(diagnostic.combined_emprise)\n",
    "for zone_urba in queryset:\n",
    "    srid, wkt = zone_urba.intersection.ewkt.split(\";\")\n",
    "    polygons = shapely.wkt.loads(wkt)\n",
    "    data[\"geometry\"].append(polygons)\n",
    "    data[\"color\"].append((*[_/255 for _ in zone_urba.get_color()], 0.9))\n",
    "\n",
    "data"
   ]
  },
  {
   "cell_type": "code",
   "execution_count": null,
   "id": "4a761aa2",
   "metadata": {},
   "outputs": [],
   "source": [
    "zone_urba_gdf = geopandas.GeoDataFrame(data, crs=\"EPSG:4326\").to_crs(epsg=3857)\n",
    "\n",
    "fig, ax = plt.subplots(figsize=(15, 10))\n",
    "plt.axis(\"off\")\n",
    "fig.set_dpi(150)\n",
    "\n",
    "zone_urba_gdf.plot(ax=ax, color=zone_urba_gdf[\"color\"])\n",
    "gdf_emprise.plot(ax=ax, facecolor=\"none\", edgecolor=\"yellow\")\n",
    "ax.add_artist(ScaleBar(1))\n",
    "ax.set_title(\"Les zones d'urbanisme de son territoire\")\n",
    "cx.add_basemap(ax, source=settings.ORTHOPHOTO_URL)\n",
    "\n",
    "geom = diagnostic.combined_emprise.transform(\"3857\", clone=True)\n",
    "srid, wkt = geom.ewkt.split(\";\")\n",
    "polygons = shapely.wkt.loads(wkt)\n",
    "gdf_emprise = geopandas.GeoDataFrame({\"geometry\": [polygons]}, crs=\"EPSG:3857\")"
   ]
  },
  {
   "cell_type": "code",
   "execution_count": null,
   "id": "c1b03d80",
   "metadata": {},
   "outputs": [],
   "source": [
    "img_data = io.BytesIO()\n",
    "plt.savefig(img_data, bbox_inches=\"tight\")\n",
    "plt.close()\n",
    "img_data.seek(0)"
   ]
  },
  {
   "cell_type": "code",
   "execution_count": null,
   "id": "9c2821b2",
   "metadata": {},
   "outputs": [],
   "source": [
    "from project.tasks import generate_theme_map_gpu\n",
    "\n",
    "generate_theme_map_gpu(1504)"
   ]
  },
  {
   "cell_type": "code",
   "execution_count": null,
   "id": "b8a56e70",
   "metadata": {},
   "outputs": [],
   "source": [
    "Project.objects.get(id=int(project_id)).theme_map_gpu"
   ]
  },
  {
   "cell_type": "code",
   "execution_count": null,
   "id": "0449ba61",
   "metadata": {},
   "outputs": [],
   "source": [
    "diagnostic.theme_map_gpu = None\n",
    "diagnostic.save()"
   ]
  },
  {
   "cell_type": "code",
   "execution_count": null,
   "id": "b702a793",
   "metadata": {},
   "outputs": [],
   "source": []
  },
  {
   "cell_type": "code",
   "execution_count": null,
   "id": "1b91082d",
   "metadata": {},
   "outputs": [],
   "source": [
    "from project.models import HistoricalProject"
   ]
  },
  {
   "cell_type": "code",
   "execution_count": null,
   "id": "7b4925ac",
   "metadata": {},
   "outputs": [],
   "source": []
  }
 ],
 "metadata": {
  "kernelspec": {
   "display_name": "Django Shell-Plus",
   "language": "python",
   "name": "django_extensions"
  },
  "language_info": {
   "codemirror_mode": {
    "name": "ipython",
    "version": 3
   },
   "file_extension": ".py",
   "mimetype": "text/x-python",
   "name": "python",
   "nbconvert_exporter": "python",
   "pygments_lexer": "ipython3",
   "version": "3.11.4"
  }
 },
 "nbformat": 4,
 "nbformat_minor": 5
}
