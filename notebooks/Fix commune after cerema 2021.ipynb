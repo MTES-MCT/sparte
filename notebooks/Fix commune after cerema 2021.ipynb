{
 "cells": [
  {
   "cell_type": "code",
   "execution_count": 8,
   "id": "694372b8",
   "metadata": {},
   "outputs": [],
   "source": [
    "from public_data.models import Departement, Epci, Region, Commune, Cerema\n",
    "from django.core.management import call_command"
   ]
  },
  {
   "cell_type": "code",
   "execution_count": 1,
   "id": "cb5e7a0f",
   "metadata": {},
   "outputs": [
    {
     "name": "stdout",
     "output_type": "stream",
     "text": [
      "vérification des régions\n",
      "0\n",
      "0\n",
      "vérification des départements\n",
      "0\n",
      "0\n",
      "vérification des EPCI\n",
      "0\n",
      "0\n",
      "vérification des Communes\n",
      "11\n",
      "1\n"
     ]
    }
   ],
   "source": [
    "print(\"vérification des régions\")\n",
    "print(Region.objects.exclude(source_id__in=Cerema.objects.all().values_list(\"region_id\").distinct()).count())\n",
    "print(Cerema.objects.exclude(region_id__in=Region.objects.all().values_list(\"source_id\").distinct()).count())\n",
    "print(\"vérification des départements\")\n",
    "print(Departement.objects.exclude(source_id__in=Cerema.objects.all().values_list(\"dept_id\").distinct()).count())\n",
    "print(Cerema.objects.exclude(dept_id__in=Departement.objects.all().values_list(\"source_id\").distinct()).count())\n",
    "print(\"vérification des EPCI\")\n",
    "print(Epci.objects.exclude(source_id__in=Cerema.objects.all().values_list(\"epci_id\").distinct()).count())\n",
    "print(Cerema.objects.exclude(epci_id__in=Epci.objects.all().values_list(\"source_id\").distinct()).count())\n",
    "print(\"vérification des Communes\")\n",
    "print(Commune.objects.exclude(insee__in=Cerema.objects.all().values_list(\"city_insee\")).count())\n",
    "print(Cerema.objects.exclude(city_insee__in=Commune.objects.all().values_list(\"insee\").distinct()).count())"
   ]
  },
  {
   "cell_type": "code",
   "execution_count": 2,
   "id": "95a8a8e2",
   "metadata": {},
   "outputs": [],
   "source": [
    "# premier fix:\n",
    "cerema_city = Cerema.objects.exclude(city_insee__in=Commune.objects.all().values_list(\"insee\")).first()\n",
    "Commune.objects.filter(name=cerema_city.city_name).update(insee=cerema_city.city_insee)"
   ]
  },
  {
   "cell_type": "code",
   "execution_count": 3,
   "id": "25bdc374",
   "metadata": {},
   "outputs": [
    {
     "data": {
      "text/plain": [
       "[<Cerema: 27058>,\n",
       " <Commune: Bazoches-sur-Vesles (02054)>,\n",
       " <Commune: Bazoches-sur-Vesles (02054)>,\n",
       " <Commune: Lignières-Sonneville (16186)>,\n",
       " <Commune: Lignières-Sonneville (16186)>,\n",
       " <Commune: Montaignac-Saint-Hippolyte (19143)>,\n",
       " <Commune: Montaignac-Saint-Hippolyte (19143)>,\n",
       " <Commune: Peyrillac-et-Millac (24325)>,\n",
       " <Commune: Peyrillac-et-Millac (24325)>,\n",
       " <Commune: Peyrillac-et-Millac (24325)>,\n",
       " <Commune: Cussey-sur-Lison (25185)>,\n",
       " <Commune: Cussey-sur-Lison (25185)>,\n",
       " <Commune: Mérey-sous-Montrond (25375)>,\n",
       " <Commune: Mérey-sous-Montrond (25375)>,\n",
       " <Commune: La Motte-de-Galaure (26216)>,\n",
       " <Commune: La Motte-de-Galaure (26216)>,\n",
       " <Commune: Saint-Gérand (56213)>,\n",
       " <Commune: Saint-Gérand (56213)>,\n",
       " <Commune: L'Aiguillon-sur-Mer (85001)>,\n",
       " <Commune: L'Aiguillon-sur-Mer (85001)>]"
      ]
     },
     "execution_count": 3,
     "metadata": {},
     "output_type": "execute_result"
    }
   ],
   "source": [
    "communes = {c.insee: c for c in Commune.objects.all()}\n",
    "ceremas = {c.city_insee: c for c in Cerema.objects.all()}\n",
    "for insee, comm in communes.items():\n",
    "    print(comm)\n",
    "    if insee not in ceremas:\n",
    "        new_comm = Commune.objects.get(insee=Cerema.objects.get(mpoly__contains=comm.mpoly).city_insee)\n",
    "        for pc in comm.projectcommune_set.all():\n",
    "            try:\n",
    "                pc.project.cities.add(new_comm)\n",
    "            except IntegrityError:\n",
    "                print(\"ignore integrity error\")\n",
    "            pc.delete()\n",
    "        comm.delete()\n",
    "    elif comm.mpoly != ceremas[insee].mpoly:\n",
    "        comm.mpoly = ceremas[insee].mpoly\n",
    "        comm.save(update_fields=[\"mpoly\"])"
   ]
  },
  {
   "cell_type": "code",
   "execution_count": 17,
   "id": "698cba43",
   "metadata": {},
   "outputs": [
    {
     "name": "stdout",
     "output_type": "stream",
     "text": [
      "Vendée\n",
      "Doubs\n",
      "Charente\n",
      "Corrèze\n",
      "Morbihan\n",
      "Drôme\n",
      "Doubs\n",
      "Aisne\n",
      "Dordogne\n"
     ]
    }
   ],
   "source": []
  },
  {
   "cell_type": "code",
   "execution_count": 12,
   "id": "4b25693d",
   "metadata": {},
   "outputs": [
    {
     "data": {
      "text/plain": [
       "<Departement: Vendée>"
      ]
     },
     "execution_count": 12,
     "metadata": {},
     "output_type": "execute_result"
    }
   ],
   "source": [
    "comm.departement"
   ]
  },
  {
   "cell_type": "code",
   "execution_count": null,
   "id": "8d900829",
   "metadata": {},
   "outputs": [],
   "source": []
  },
  {
   "cell_type": "code",
   "execution_count": null,
   "id": "91dd8fb0",
   "metadata": {},
   "outputs": [],
   "source": []
  },
  {
   "cell_type": "code",
   "execution_count": null,
   "id": "dbc0dbab",
   "metadata": {},
   "outputs": [],
   "source": []
  },
  {
   "cell_type": "code",
   "execution_count": null,
   "id": "c04d844e",
   "metadata": {},
   "outputs": [],
   "source": []
  }
 ],
 "metadata": {
  "kernelspec": {
   "display_name": "Django Shell-Plus",
   "language": "python",
   "name": "django_extensions"
  },
  "language_info": {
   "codemirror_mode": {
    "name": "ipython",
    "version": 3
   },
   "file_extension": ".py",
   "mimetype": "text/x-python",
   "name": "python",
   "nbconvert_exporter": "python",
   "pygments_lexer": "ipython3",
   "version": "3.9.7"
  }
 },
 "nbformat": 4,
 "nbformat_minor": 5
}
