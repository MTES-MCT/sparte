{
 "cells": [
  {
   "cell_type": "code",
   "execution_count": 40,
   "id": "6e994f27",
   "metadata": {},
   "outputs": [
    {
     "data": {
      "text/plain": [
       "(['user_0001', 'user_1'], [])"
      ]
     },
     "execution_count": 40,
     "metadata": {},
     "output_type": "execute_result"
    }
   ],
   "source": [
    "import os\n",
    "from pathlib import Path\n",
    "import shutil\n",
    "from tempfile import mkstemp\n",
    "from zipfile import ZipFile\n",
    "\n",
    "from storages.backends.s3boto3 import S3Boto3Storage\n",
    "\n",
    "from django.core.files.storage import default_storage\n",
    "from django.contrib.gis.utils import LayerMapping\n",
    "from django.conf import settings\n",
    "\n",
    "from public_data.storages import DataStorage\n",
    "from public_data.models import Ocsge2015, Artificialisee2015to2018\n",
    "\n",
    "default_storage.listdir(\"\")"
   ]
  },
  {
   "cell_type": "code",
   "execution_count": 36,
   "id": "a4f848a5",
   "metadata": {},
   "outputs": [
    {
     "data": {
      "text/plain": [
       "([],\n",
       " ['.',\n",
       "  'A_Brute_2018.zip',\n",
       "  'Enveloppe_urbaine.zip',\n",
       "  'OCSGE_2015.zip',\n",
       "  'OCSGE_2018.zip',\n",
       "  'Sybarval.zip',\n",
       "  'Voirire_2018.zip',\n",
       "  'a_b_2015_2018.zip',\n",
       "  'a_b_2018_2015.zip',\n",
       "  'communes_sybarval.zip',\n",
       "  'emprise_arrondissement_arcachon.zip',\n",
       "  'zones_baties_2018.zip'])"
      ]
     },
     "execution_count": 36,
     "metadata": {},
     "output_type": "execute_result"
    }
   ],
   "source": [
    "storage = DataStorage()\n",
    "storage.listdir(\".\")"
   ]
  },
  {
   "cell_type": "code",
   "execution_count": 57,
   "id": "64c8a63d",
   "metadata": {},
   "outputs": [
    {
     "data": {
      "text/plain": [
       "True"
      ]
     },
     "execution_count": 57,
     "metadata": {},
     "output_type": "execute_result"
    }
   ],
   "source": [
    "path = \"a_b_2015_2018.zip\"\n",
    "storage.exists(path)"
   ]
  },
  {
   "cell_type": "code",
   "execution_count": 58,
   "id": "b9e17350",
   "metadata": {},
   "outputs": [
    {
     "data": {
      "text/plain": [
       "[PosixPath('/tmp/tmpm5ol4jel/A_B_2015_2018.shp'),\n",
       " PosixPath('/tmp/tmpm5ol4jel/A_B_2015_2018.dbf'),\n",
       " PosixPath('/tmp/tmpm5ol4jel/A_B_2015_2018.shx'),\n",
       " PosixPath('/tmp/tmpm5ol4jel/A_B_2015_2018.prj'),\n",
       " PosixPath('/tmp/tmpm5ol4jel/A_B_2015_2018.qpj')]"
      ]
     },
     "execution_count": 58,
     "metadata": {},
     "output_type": "execute_result"
    }
   ],
   "source": [
    "temp_dir_path = Path(tempfile.TemporaryDirectory().name)\n",
    "file_stream = storage.open(path)\n",
    "with ZipFile(file_stream) as zip_file:\n",
    "    zip_file.extractall(temp_dir_path)  # extract files to dir\n",
    "\n",
    "list(temp_dir_path.iterdir())"
   ]
  },
  {
   "cell_type": "code",
   "execution_count": 60,
   "id": "e031945f",
   "metadata": {},
   "outputs": [
    {
     "data": {
      "text/plain": [
       "PosixPath('/tmp/tmpm5ol4jel/A_B_2015_2018.shp')"
      ]
     },
     "execution_count": 60,
     "metadata": {},
     "output_type": "execute_result"
    }
   ],
   "source": [
    "# get shape file\n",
    "shp_file = None\n",
    "for file in temp_dir_path.iterdir():\n",
    "    if file.is_file() and file.suffix == \".shp\":\n",
    "        shp_file = file\n",
    "shp_file"
   ]
  },
  {
   "cell_type": "code",
   "execution_count": 61,
   "id": "15c28b3c",
   "metadata": {},
   "outputs": [
    {
     "data": {
      "text/plain": [
       "3970"
      ]
     },
     "execution_count": 61,
     "metadata": {},
     "output_type": "execute_result"
    }
   ],
   "source": [
    "cls = Artificialisee2015to2018\n",
    "\n",
    "cls.objects.all().delete()\n",
    "lm = LayerMapping(cls, shp_file, cls.mapping)\n",
    "lm.save(strict=True, verbose=False)\n",
    "\n",
    "cls.objects.all().count()"
   ]
  },
  {
   "cell_type": "code",
   "execution_count": 63,
   "id": "65a27f86",
   "metadata": {},
   "outputs": [
    {
     "data": {
      "text/plain": [
       "False"
      ]
     },
     "execution_count": 63,
     "metadata": {},
     "output_type": "execute_result"
    }
   ],
   "source": [
    "# delete temporary folder\n",
    "if Path.exists(temp_dir_path):\n",
    "    shutil. rmtree(temp_dir_path)\n",
    "    \n",
    "Path.exists(temp_dir_path)"
   ]
  },
  {
   "cell_type": "code",
   "execution_count": 35,
   "id": "14d02c48",
   "metadata": {},
   "outputs": [],
   "source": [
    "# zip all folders within a folder\n",
    "folders = [p for p in Path(\"../public_data/media/\").iterdir() if p.is_dir()]\n",
    "for p in folders: \n",
    "    shutil.make_archive(f\"{p}\", \"zip\", p)"
   ]
  },
  {
   "cell_type": "code",
   "execution_count": null,
   "id": "686474b5",
   "metadata": {},
   "outputs": [],
   "source": []
  },
  {
   "cell_type": "code",
   "execution_count": null,
   "id": "5365d0f5",
   "metadata": {},
   "outputs": [],
   "source": []
  }
 ],
 "metadata": {
  "kernelspec": {
   "display_name": "Django Shell-Plus",
   "language": "python",
   "name": "django_extensions"
  },
  "language_info": {
   "codemirror_mode": {
    "name": "ipython",
    "version": 3
   },
   "file_extension": ".py",
   "mimetype": "text/x-python",
   "name": "python",
   "nbconvert_exporter": "python",
   "pygments_lexer": "ipython3",
   "version": "3.9.7"
  }
 },
 "nbformat": 4,
 "nbformat_minor": 5
}
