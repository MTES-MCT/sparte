{
 "cells": [
  {
   "cell_type": "code",
   "execution_count": 1,
   "id": "0615f9ad",
   "metadata": {},
   "outputs": [
    {
     "data": {
      "text/plain": [
       "([],\n",
       " ['A_Brute_2018.zip',\n",
       "  'Artif_conso_NAF.csv',\n",
       "  'CouvertureSol-2022-06-08.csv',\n",
       "  'CouvertureUsageMatrix-2022-06-08.csv',\n",
       "  'Enveloppe_urbaine.zip',\n",
       "  'OCSGE_2015.zip',\n",
       "  'OCSGE_2018.zip',\n",
       "  'UsageSol-2022-06-08.csv',\n",
       "  'a_b_2015_2018.zip',\n",
       "  'a_b_2018_2015.zip',\n",
       "  'communes_sybarval.zip',\n",
       "  'conso_cerema.zip',\n",
       "  'emprise_arrondissement_arcachon.zip',\n",
       "  'foo.png',\n",
       "  'foo_35lVmMq.png',\n",
       "  'gers_diff_2016_2019.zip',\n",
       "  'gers_emprise.zip',\n",
       "  'gers_ocsge_2016.zip',\n",
       "  'gers_ocsge_2019.zip',\n",
       "  'gers_zone_construite_2016.zip',\n",
       "  'gers_zone_construite_2019.zip',\n",
       "  'obs_artif_conso_com_2009_2021.zip',\n",
       "  'zones_baties_2018.zip'])"
      ]
     },
     "execution_count": 1,
     "metadata": {},
     "output_type": "execute_result"
    }
   ],
   "source": [
    "from public_data.storages import DataStorage\n",
    "from config.storages import PublicMediaStorage\n",
    "\n",
    "storage = DataStorage()\n",
    "\n",
    "storage.listdir(\"\")"
   ]
  },
  {
   "cell_type": "code",
   "execution_count": 2,
   "id": "82733150",
   "metadata": {},
   "outputs": [
    {
     "data": {
      "text/plain": [
       "([], ['foo.png'])"
      ]
     },
     "execution_count": 2,
     "metadata": {},
     "output_type": "execute_result"
    }
   ],
   "source": [
    "media = PublicMediaStorage()\n",
    "media.listdir(\"\")"
   ]
  },
  {
   "cell_type": "code",
   "execution_count": 4,
   "id": "053f982a",
   "metadata": {},
   "outputs": [
    {
     "data": {
      "text/plain": [
       "'https://sparte-staging.s3.amazonaws.com/media/foo_bKUlxcM.png'"
      ]
     },
     "execution_count": 4,
     "metadata": {},
     "output_type": "execute_result"
    }
   ],
   "source": [
    "filename = media.save('foo.png', open('Valuable/foo.png', 'br'))\n",
    "image_url = media.url(filename)\n",
    "image_url"
   ]
  },
  {
   "cell_type": "code",
   "execution_count": null,
   "id": "e2fb8a58",
   "metadata": {},
   "outputs": [],
   "source": []
  },
  {
   "cell_type": "code",
   "execution_count": null,
   "id": "40bdded4",
   "metadata": {},
   "outputs": [],
   "source": []
  }
 ],
 "metadata": {
  "kernelspec": {
   "display_name": "Django Shell-Plus",
   "language": "python",
   "name": "django_extensions"
  },
  "language_info": {
   "codemirror_mode": {
    "name": "ipython",
    "version": 3
   },
   "file_extension": ".py",
   "mimetype": "text/x-python",
   "name": "python",
   "nbconvert_exporter": "python",
   "pygments_lexer": "ipython3",
   "version": "3.9.7"
  }
 },
 "nbformat": 4,
 "nbformat_minor": 5
}
