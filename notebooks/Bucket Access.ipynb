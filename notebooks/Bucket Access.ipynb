{
 "cells": [
  {
   "cell_type": "code",
   "execution_count": 2,
   "id": "0615f9ad",
   "metadata": {},
   "outputs": [
    {
     "data": {
      "text/plain": [
       "([],\n",
       " ['A_Brute_2018.zip',\n",
       "  'Artif_conso_NAF.csv',\n",
       "  'CouvertureSol-2022-06-08.csv',\n",
       "  'CouvertureUsageMatrix-2022-06-08.csv',\n",
       "  'Enveloppe_urbaine.zip',\n",
       "  'OCSGE_2015.zip',\n",
       "  'OCSGE_2018.zip',\n",
       "  'Sybarval.zip',\n",
       "  'UsageSol-2022-06-08.csv',\n",
       "  'Voirire_2018.zip',\n",
       "  'a_b_2015_2018.zip',\n",
       "  'a_b_2018_2015.zip',\n",
       "  'communes_sybarval.zip',\n",
       "  'conso_cerema.zip',\n",
       "  'emprise_arrondissement_arcachon.zip',\n",
       "  'gers_diff_2016_2019.zip',\n",
       "  'gers_emprise.zip',\n",
       "  'gers_ocsge_2016.zip',\n",
       "  'gers_ocsge_2019.zip',\n",
       "  'gers_zone_construite_2016.zip',\n",
       "  'gers_zone_construite_2019.zip',\n",
       "  'ref_plan.zip',\n",
       "  'zones_baties_2018.zip'])"
      ]
     },
     "execution_count": 2,
     "metadata": {},
     "output_type": "execute_result"
    }
   ],
   "source": [
    "from public_data.storages import DataStorage\n",
    "\n",
    "storage = DataStorage()\n",
    "\n",
    "storage.listdir(\"\")"
   ]
  },
  {
   "cell_type": "code",
   "execution_count": null,
   "id": "82733150",
   "metadata": {},
   "outputs": [],
   "source": []
  }
 ],
 "metadata": {
  "kernelspec": {
   "display_name": "Django Shell-Plus",
   "language": "python",
   "name": "django_extensions"
  },
  "language_info": {
   "codemirror_mode": {
    "name": "ipython",
    "version": 3
   },
   "file_extension": ".py",
   "mimetype": "text/x-python",
   "name": "python",
   "nbconvert_exporter": "python",
   "pygments_lexer": "ipython3",
   "version": "3.9.7"
  }
 },
 "nbformat": 4,
 "nbformat_minor": 5
}
