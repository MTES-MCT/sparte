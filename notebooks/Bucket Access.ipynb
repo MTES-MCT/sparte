{
 "cells": [
  {
   "cell_type": "code",
   "execution_count": null,
   "id": "0615f9ad",
   "metadata": {},
   "outputs": [],
   "source": [
    "from public_data.storages import DataStorage\n",
    "from config.storages import PublicMediaStorage\n",
    "from tempfile import NamedTemporaryFile\n",
    "from project.models import Project\n",
    "from IPython import display\n",
    "\n",
    "storage = DataStorage()\n",
    "\n",
    "storage.listdir(\"\")"
   ]
  },
  {
   "cell_type": "code",
   "execution_count": null,
   "id": "82733150",
   "metadata": {},
   "outputs": [],
   "source": [
    "media = PublicMediaStorage()\n",
    "media.listdir(\"\")"
   ]
  },
  {
   "cell_type": "code",
   "execution_count": null,
   "id": "053f982a",
   "metadata": {},
   "outputs": [],
   "source": [
    "filename = media.save('foo.png', open('Valuable/foo.png', 'br'))\n",
    "image_url = media.url(filename)\n",
    "image_url"
   ]
  },
  {
   "cell_type": "code",
   "execution_count": null,
   "id": "4115be30",
   "metadata": {},
   "outputs": [],
   "source": [
    "media.listdir(\"\")"
   ]
  },
  {
   "cell_type": "code",
   "execution_count": null,
   "id": "e2fb8a58",
   "metadata": {},
   "outputs": [],
   "source": [
    "media.delete('foo.png')"
   ]
  },
  {
   "cell_type": "code",
   "execution_count": null,
   "id": "40bdded4",
   "metadata": {},
   "outputs": [],
   "source": [
    "media.listdir(\"\")"
   ]
  },
  {
   "cell_type": "code",
   "execution_count": null,
   "id": "0d04fbf9",
   "metadata": {},
   "outputs": [],
   "source": [
    "media.open('foo_bKUlxcM.png').read()[:50]"
   ]
  },
  {
   "cell_type": "code",
   "execution_count": null,
   "id": "eac2b3b1",
   "metadata": {
    "scrolled": true
   },
   "outputs": [],
   "source": [
    "project = Project.objects.get(id=7)\n",
    "display.Image(project.cover_image.open().read())"
   ]
  },
  {
   "cell_type": "code",
   "execution_count": null,
   "id": "c993a7a8",
   "metadata": {},
   "outputs": [],
   "source": [
    "fp = NamedTemporaryFile(delete=False)\n",
    "fp.write(project.cover_image.open().read())\n",
    "file_path = fp.name\n",
    "fp.close()\n",
    "file_path"
   ]
  },
  {
   "cell_type": "code",
   "execution_count": null,
   "id": "c14eb853",
   "metadata": {
    "scrolled": true
   },
   "outputs": [],
   "source": [
    "display.Image(open(file_path, \"br\").read())"
   ]
  },
  {
   "cell_type": "code",
   "execution_count": null,
   "id": "73f333ec",
   "metadata": {},
   "outputs": [],
   "source": []
  }
 ],
 "metadata": {
  "kernelspec": {
   "display_name": "Django Shell-Plus",
   "language": "python",
   "name": "django_extensions"
  },
  "language_info": {
   "codemirror_mode": {
    "name": "ipython",
    "version": 3
   },
   "file_extension": ".py",
   "mimetype": "text/x-python",
   "name": "python",
   "nbconvert_exporter": "python",
   "pygments_lexer": "ipython3",
   "version": "3.9.7"
  }
 },
 "nbformat": 4,
 "nbformat_minor": 5
}
