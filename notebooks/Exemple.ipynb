{
 "cells": [
  {
   "cell_type": "code",
   "execution_count": 1,
   "id": "694372b8",
   "metadata": {},
   "outputs": [],
   "source": [
    "# Ipython feature to reload updated code\n",
    "%load_ext autoreload\n",
    "%autoreload 2"
   ]
  },
  {
   "cell_type": "code",
   "execution_count": 10,
   "id": "cb5e7a0f",
   "metadata": {},
   "outputs": [
    {
     "data": {
      "text/plain": [
       "<QuerySet [('243500725', '22'), ('200010650', '39'), ('200042703', '51'), ('200068757', '88'), ('243600327', '36'), ('248500589', '85'), ('200073161', '37'), ('248719312', '87'), ('242020071', '2B'), ('200090751', '62'), ('200036549', '70'), ('200070068', '76'), ('200040509', '26'), ('245500327', '55'), ('200071116', '39'), ('241700699', '17'), ('200069698', '71'), ('243200599', '32'), ('241000447', '10'), ('200067817', '69'), '...(remaining elements truncated)...']>"
      ]
     },
     "execution_count": 10,
     "metadata": {},
     "output_type": "execute_result"
    }
   ],
   "source": [
    "from public_data.models import RefPlan, Departement, Epci\n",
    "\n",
    "association = RefPlan.objects.values_list('epci_id', 'dept_id').distinct()\n",
    "\n",
    "association"
   ]
  },
  {
   "cell_type": "code",
   "execution_count": null,
   "id": "95a8a8e2",
   "metadata": {},
   "outputs": [],
   "source": []
  },
  {
   "cell_type": "code",
   "execution_count": null,
   "id": "25bdc374",
   "metadata": {},
   "outputs": [],
   "source": []
  },
  {
   "cell_type": "code",
   "execution_count": null,
   "id": "698cba43",
   "metadata": {},
   "outputs": [],
   "source": []
  },
  {
   "cell_type": "code",
   "execution_count": null,
   "id": "4b25693d",
   "metadata": {},
   "outputs": [],
   "source": []
  }
 ],
 "metadata": {
  "kernelspec": {
   "display_name": "Django Shell-Plus",
   "language": "python",
   "name": "django_extensions"
  },
  "language_info": {
   "codemirror_mode": {
    "name": "ipython",
    "version": 3
   },
   "file_extension": ".py",
   "mimetype": "text/x-python",
   "name": "python",
   "nbconvert_exporter": "python",
   "pygments_lexer": "ipython3",
   "version": "3.9.7"
  }
 },
 "nbformat": 4,
 "nbformat_minor": 5
}
