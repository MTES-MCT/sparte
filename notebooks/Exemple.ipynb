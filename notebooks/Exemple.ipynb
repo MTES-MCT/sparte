{
 "cells": [
  {
   "cell_type": "code",
   "execution_count": 2,
   "id": "694372b8",
   "metadata": {},
   "outputs": [],
   "source": [
    "from public_data.models import Departement, Epci\n",
    "from project.models import Project"
   ]
  },
  {
   "cell_type": "code",
   "execution_count": 4,
   "id": "cb5e7a0f",
   "metadata": {},
   "outputs": [
    {
     "data": {
      "text/plain": [
       "<QuerySet [<Project: Diagnostic de CA Grand Auch Cœur de Gascogne>, <Project: Diagnostic de CC de la Forêt>, <Project: Diagnostic de Corse-du-Sud>, <Project: Diagnostic de Grand Est>]>"
      ]
     },
     "execution_count": 4,
     "metadata": {},
     "output_type": "execute_result"
    }
   ],
   "source": [
    "Project.objects.filter(cover_image__isnull=False)"
   ]
  },
  {
   "cell_type": "code",
   "execution_count": 5,
   "id": "95a8a8e2",
   "metadata": {},
   "outputs": [
    {
     "data": {
      "text/plain": [
       "<QuerySet []>"
      ]
     },
     "execution_count": 5,
     "metadata": {},
     "output_type": "execute_result"
    }
   ],
   "source": [
    "Project.objects.filter(cover_image=None)"
   ]
  },
  {
   "cell_type": "code",
   "execution_count": 6,
   "id": "25bdc374",
   "metadata": {},
   "outputs": [
    {
     "data": {
      "text/plain": [
       "<QuerySet [<Project: Diagnostic de Corse-du-Sud>]>"
      ]
     },
     "execution_count": 6,
     "metadata": {},
     "output_type": "execute_result"
    }
   ],
   "source": [
    "Project.objects.filter(cover_image=\"\")"
   ]
  },
  {
   "cell_type": "code",
   "execution_count": null,
   "id": "698cba43",
   "metadata": {},
   "outputs": [],
   "source": []
  },
  {
   "cell_type": "code",
   "execution_count": null,
   "id": "4b25693d",
   "metadata": {},
   "outputs": [],
   "source": []
  }
 ],
 "metadata": {
  "kernelspec": {
   "display_name": "Django Shell-Plus",
   "language": "python",
   "name": "django_extensions"
  },
  "language_info": {
   "codemirror_mode": {
    "name": "ipython",
    "version": 3
   },
   "file_extension": ".py",
   "mimetype": "text/x-python",
   "name": "python",
   "nbconvert_exporter": "python",
   "pygments_lexer": "ipython3",
   "version": "3.9.7"
  }
 },
 "nbformat": 4,
 "nbformat_minor": 5
}
