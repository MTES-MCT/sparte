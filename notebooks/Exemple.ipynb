{
 "cells": [
  {
   "cell_type": "code",
   "execution_count": 1,
   "id": "694372b8",
   "metadata": {},
   "outputs": [],
   "source": [
    "# Ipython feature to reload updated code\n",
    "%load_ext autoreload\n",
    "%autoreload 2"
   ]
  },
  {
   "cell_type": "code",
   "execution_count": 2,
   "id": "cb5e7a0f",
   "metadata": {},
   "outputs": [
    {
     "data": {
      "text/plain": [
       "{'NAME': 'new_autonomy',\n",
       " 'USER': 'autonomy',\n",
       " 'PASSWORD': 'password',\n",
       " 'HOST': 'db',\n",
       " 'PORT': 3306,\n",
       " 'ENGINE': 'django.db.backends.mysql',\n",
       " 'ATOMIC_REQUESTS': False,\n",
       " 'AUTOCOMMIT': True,\n",
       " 'CONN_MAX_AGE': 0,\n",
       " 'OPTIONS': {},\n",
       " 'TIME_ZONE': None,\n",
       " 'TEST': {'CHARSET': None,\n",
       "  'COLLATION': None,\n",
       "  'MIGRATE': True,\n",
       "  'MIRROR': None,\n",
       "  'NAME': None}}"
      ]
     },
     "execution_count": 2,
     "metadata": {},
     "output_type": "execute_result"
    }
   ],
   "source": [
    "# can access all django\n",
    "from django.conf import settings\n",
    "settings.DATABASES[\"default\"]"
   ]
  },
  {
   "cell_type": "code",
   "execution_count": 3,
   "id": "95a8a8e2",
   "metadata": {},
   "outputs": [
    {
     "data": {
      "text/plain": [
       "60694"
      ]
     },
     "execution_count": 3,
     "metadata": {},
     "output_type": "execute_result"
    }
   ],
   "source": [
    "# can run database query\n",
    "from invoice_app.models import Invoice\n",
    "cpt = Invoice.objects.all().count()\n",
    "cpt"
   ]
  },
  {
   "cell_type": "code",
   "execution_count": 4,
   "id": "25bdc374",
   "metadata": {},
   "outputs": [
    {
     "data": {
      "text/plain": [
       "'Véronique'"
      ]
     },
     "execution_count": 4,
     "metadata": {},
     "output_type": "execute_result"
    }
   ],
   "source": [
    "from random import randint\n",
    "index = randint(0,cpt)\n",
    "Invoice.objects.all()[index].editor.firstname"
   ]
  },
  {
   "cell_type": "code",
   "execution_count": null,
   "id": "698cba43",
   "metadata": {},
   "outputs": [],
   "source": []
  },
  {
   "cell_type": "code",
   "execution_count": null,
   "id": "4b25693d",
   "metadata": {},
   "outputs": [],
   "source": []
  }
 ],
 "metadata": {
  "kernelspec": {
   "display_name": "Django Shell-Plus",
   "language": "python",
   "name": "django_extensions"
  },
  "language_info": {
   "codemirror_mode": {
    "name": "ipython",
    "version": 3
   },
   "file_extension": ".py",
   "mimetype": "text/x-python",
   "name": "python",
   "nbconvert_exporter": "python",
   "pygments_lexer": "ipython3",
   "version": "3.9.7"
  }
 },
 "nbformat": 4,
 "nbformat_minor": 5
}
