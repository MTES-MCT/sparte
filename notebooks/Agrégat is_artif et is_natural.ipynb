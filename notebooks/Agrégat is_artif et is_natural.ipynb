{
 "cells": [
  {
   "cell_type": "code",
   "execution_count": 48,
   "id": "6f8bb6f8",
   "metadata": {},
   "outputs": [],
   "source": [
    "import os\n",
    "os.environ[\"DJANGO_ALLOW_ASYNC_UNSAFE\"] = \"true\"\n",
    "\n",
    "\n",
    "from public_data.models import Commune, OcsgeDiff, CommuneDiff, Ocsge, Departement\n",
    "\n",
    "from django.contrib.gis.db.models.functions import Intersection, Area, Transform\n",
    "from django.db.models import Sum, Q"
   ]
  },
  {
   "cell_type": "code",
   "execution_count": 45,
   "id": "a07d38c5",
   "metadata": {},
   "outputs": [
    {
     "data": {
      "text/plain": [
       "12315"
      ]
     },
     "execution_count": 45,
     "metadata": {},
     "output_type": "execute_result"
    }
   ],
   "source": [
    "city = Commune.objects.get(name=\"Arcachon\")\n",
    "city.id"
   ]
  },
  {
   "cell_type": "code",
   "execution_count": 46,
   "id": "7fd8ecda",
   "metadata": {},
   "outputs": [
    {
     "data": {
      "text/plain": [
       "156"
      ]
     },
     "execution_count": 46,
     "metadata": {},
     "output_type": "execute_result"
    }
   ],
   "source": [
    "qs1 = OcsgeDiff.objects.filter(mpoly__intersects=city.mpoly)\n",
    "qs1.count()"
   ]
  },
  {
   "cell_type": "code",
   "execution_count": 36,
   "id": "da9a0528",
   "metadata": {},
   "outputs": [
    {
     "data": {
      "text/plain": [
       "<QuerySet [{'year_old': 2016, 'year_new': 2019}, {'year_old': 2016, 'year_new': 2019}, {'year_old': 2016, 'year_new': 2019}, {'year_old': 2016, 'year_new': 2019}, {'year_old': 2016, 'year_new': 2019}, {'year_old': 2016, 'year_new': 2019}, {'year_old': 2016, 'year_new': 2019}, {'year_old': 2016, 'year_new': 2019}, {'year_old': 2016, 'year_new': 2019}, {'year_old': 2016, 'year_new': 2019}, {'year_old': 2016, 'year_new': 2019}, {'year_old': 2016, 'year_new': 2019}, {'year_old': 2016, 'year_new': 2019}, {'year_old': 2016, 'year_new': 2019}, {'year_old': 2016, 'year_new': 2019}, {'year_old': 2016, 'year_new': 2019}, {'year_old': 2016, 'year_new': 2019}, {'year_old': 2016, 'year_new': 2019}, {'year_old': 2016, 'year_new': 2019}, {'year_old': 2016, 'year_new': 2019}, '...(remaining elements truncated)...']>"
      ]
     },
     "execution_count": 36,
     "metadata": {},
     "output_type": "execute_result"
    }
   ],
   "source": [
    "qs = OcsgeDiff.objects.filter(mpoly__intersects=city.mpoly)\n",
    "qs = qs.annotate(intersection=Intersection(\"mpoly\", city.mpoly))\n",
    "qs = qs.annotate(intersection_area=Area(Transform(\"intersection\", 2154)))\n",
    "qs = qs.values(\"year_old\", \"year_new\")\n",
    "qs"
   ]
  },
  {
   "cell_type": "code",
   "execution_count": 44,
   "id": "46191f43",
   "metadata": {},
   "outputs": [
    {
     "data": {
      "text/plain": [
       "<QuerySet [{'year_old': 2016, 'year_new': 2019, 'new_artif': Area(sq_m=258436.29981787197), 'new_natural': Area(sq_m=16151.660983201931)}]>"
      ]
     },
     "execution_count": 44,
     "metadata": {},
     "output_type": "execute_result"
    }
   ],
   "source": [
    "qs = OcsgeDiff.objects.filter(mpoly__intersects=city.mpoly)\n",
    "qs = qs.annotate(intersection=Intersection(\"mpoly\", city.mpoly))\n",
    "qs = qs.annotate(intersection_area=Area(Transform(\"intersection\", 2154)))\n",
    "qs = qs.values(\"year_old\", \"year_new\")\n",
    "qs = qs.annotate(new_artif=Sum(\"intersection_area\", filter=Q(is_new_artif=True)))\n",
    "qs = qs.annotate(new_natural=Sum(\"intersection_area\", filter=Q(is_new_natural=True)))\n",
    "qs"
   ]
  },
  {
   "cell_type": "code",
   "execution_count": 39,
   "id": "176e2fe5",
   "metadata": {},
   "outputs": [
    {
     "name": "stdout",
     "output_type": "stream",
     "text": [
      "5037.653377501541\n",
      "13261.478738368618\n"
     ]
    }
   ],
   "source": [
    "print(qs[0][\"new_natural\"].sq_m)\n",
    "print(qs[0][\"new_artif\"].sq_m)"
   ]
  },
  {
   "cell_type": "code",
   "execution_count": 41,
   "id": "6742b76b",
   "metadata": {},
   "outputs": [
    {
     "data": {
      "text/plain": [
       "<QuerySet [{'year_old': 2016, 'year_new': 2019, 'new_artif': Area(sq_m=13261.478738368618), 'new_natural': Area(sq_m=5037.653377501541)}]>"
      ]
     },
     "execution_count": 41,
     "metadata": {},
     "output_type": "execute_result"
    }
   ],
   "source": [
    "qs = OcsgeDiff.objects.filter(mpoly__intersects=city.mpoly)\n",
    "qs = qs.annotate(intersection=Intersection(\"mpoly\", city.mpoly))\n",
    "qs = qs.annotate(intersection_area=Area(Transform(\"intersection\", 2154)))\n",
    "qs = qs.values(\"year_old\", \"year_new\")\n",
    "qs = qs.annotate(\n",
    "    new_artif=Sum(\"intersection_area\", filter=Q(is_new_artif=True))\n",
    ")\n",
    "qs = qs.annotate(\n",
    "    new_natural=Sum(\"intersection_area\", filter=Q(is_new_natural=True))\n",
    ")\n",
    "qs"
   ]
  },
  {
   "cell_type": "code",
   "execution_count": 32,
   "id": "574ad139",
   "metadata": {},
   "outputs": [
    {
     "data": {
      "text/plain": [
       "18610"
      ]
     },
     "execution_count": 32,
     "metadata": {},
     "output_type": "execute_result"
    }
   ],
   "source": [
    "qs = Ocsge.objects.filter(mpoly__intersects=city.mpoly)\n",
    "qs.filter(year=2019, is_artificial=True)\n",
    "qs.count()"
   ]
  },
  {
   "cell_type": "code",
   "execution_count": 34,
   "id": "d0591c44",
   "metadata": {},
   "outputs": [
    {
     "data": {
      "text/plain": [
       "404704"
      ]
     },
     "execution_count": 34,
     "metadata": {},
     "output_type": "execute_result"
    }
   ],
   "source": [
    "qs.first().id\n"
   ]
  },
  {
   "cell_type": "code",
   "execution_count": 47,
   "id": "7fe515d4",
   "metadata": {},
   "outputs": [
    {
     "data": {
      "text/plain": [
       "0"
      ]
     },
     "execution_count": 47,
     "metadata": {},
     "output_type": "execute_result"
    }
   ],
   "source": [
    "arcachon = Commune.objects.get(name=\"Arcachon\")\n",
    "OcsgeDiff.objects.filter(mpoly__intersects=city.mpoly, is_new_natural=True).count()"
   ]
  },
  {
   "cell_type": "code",
   "execution_count": 56,
   "id": "5b0ac448",
   "metadata": {},
   "outputs": [
    {
     "data": {
      "text/plain": [
       "0"
      ]
     },
     "execution_count": 56,
     "metadata": {},
     "output_type": "execute_result"
    }
   ],
   "source": [
    "OcsgeDiff.objects.filter(\n",
    "    mpoly__intersects=Departement.objects.get(name=\"Gironde\").mpoly, is_new_natural=True\n",
    ").count()"
   ]
  },
  {
   "cell_type": "code",
   "execution_count": 55,
   "id": "62bd6c78",
   "metadata": {},
   "outputs": [
    {
     "data": {
      "text/plain": [
       "11886"
      ]
     },
     "execution_count": 55,
     "metadata": {},
     "output_type": "execute_result"
    }
   ],
   "source": [
    "OcsgeDiff.objects.filter(mpoly__intersects=Departement.objects.get(name=\"Gironde\").mpoly).count()"
   ]
  },
  {
   "cell_type": "code",
   "execution_count": null,
   "id": "365fa753",
   "metadata": {},
   "outputs": [],
   "source": []
  }
 ],
 "metadata": {
  "kernelspec": {
   "display_name": "Django Shell-Plus",
   "language": "python",
   "name": "django_extensions"
  },
  "language_info": {
   "codemirror_mode": {
    "name": "ipython",
    "version": 3
   },
   "file_extension": ".py",
   "mimetype": "text/x-python",
   "name": "python",
   "nbconvert_exporter": "python",
   "pygments_lexer": "ipython3",
   "version": "3.9.6"
  }
 },
 "nbformat": 4,
 "nbformat_minor": 5
}
