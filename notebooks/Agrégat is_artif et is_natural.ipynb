{
 "cells": [
  {
   "cell_type": "code",
   "execution_count": 1,
   "id": "6f8bb6f8",
   "metadata": {},
   "outputs": [],
   "source": [
    "import os\n",
    "os.environ[\"DJANGO_ALLOW_ASYNC_UNSAFE\"] = \"true\"\n",
    "\n",
    "\n",
    "from public_data.models import Commune, OcsgeDiff, CommuneDiff, Ocsge, Departement, CommuneSol, CouvertureSol\n",
    "from project.models import Project\n",
    "\n",
    "from django.contrib.gis.db.models.functions import Intersection, Area, Transform\n",
    "from django.db.models import Sum, Q, Value\n",
    "from django.db.models.functions import Concat\n",
    "\n",
    "from prettytable import PrettyTable"
   ]
  },
  {
   "cell_type": "code",
   "execution_count": 2,
   "id": "a07d38c5",
   "metadata": {},
   "outputs": [
    {
     "data": {
      "text/plain": [
       "12315"
      ]
     },
     "execution_count": 2,
     "metadata": {},
     "output_type": "execute_result"
    }
   ],
   "source": [
    "city = Commune.objects.get(name=\"Arcachon\")\n",
    "city.id"
   ]
  },
  {
   "cell_type": "code",
   "execution_count": 3,
   "id": "7fd8ecda",
   "metadata": {},
   "outputs": [
    {
     "data": {
      "text/plain": [
       "<QuerySet [{'year_old': 2015, 'year_new': 2018, 'new_artif': Area(sq_m=35656.28473884208), 'new_natural': None}]>"
      ]
     },
     "execution_count": 3,
     "metadata": {},
     "output_type": "execute_result"
    }
   ],
   "source": [
    "qs = OcsgeDiff.objects.filter(mpoly__intersects=city.mpoly)\n",
    "qs = qs.annotate(intersection=Intersection(\"mpoly\", city.mpoly))\n",
    "qs = qs.annotate(intersection_area=Area(Transform(\"intersection\", 2154)))\n",
    "qs = qs.values(\"year_old\", \"year_new\")\n",
    "qs = qs.annotate(\n",
    "    new_artif=Sum(\"intersection_area\", filter=Q(is_new_artif=True))\n",
    ")\n",
    "qs = qs.annotate(\n",
    "    new_natural=Sum(\"intersection_area\", filter=Q(is_new_natural=True))\n",
    ")\n",
    "qs"
   ]
  },
  {
   "cell_type": "code",
   "execution_count": 4,
   "id": "da9a0528",
   "metadata": {},
   "outputs": [
    {
     "data": {
      "text/plain": [
       "'Diagnostic de Ordan-Larroque'"
      ]
     },
     "execution_count": 4,
     "metadata": {},
     "output_type": "execute_result"
    }
   ],
   "source": [
    "project = Project.objects.get(pk=6)\n",
    "project.name"
   ]
  },
  {
   "cell_type": "code",
   "execution_count": 5,
   "id": "f2775c94",
   "metadata": {},
   "outputs": [
    {
     "data": {
      "text/plain": [
       "2019"
      ]
     },
     "execution_count": 5,
     "metadata": {},
     "output_type": "execute_result"
    }
   ],
   "source": [
    "millesime = Ocsge.objects.filter(mpoly__intersects=project.combined_emprise).latest(\"year\").year\n",
    "millesime"
   ]
  },
  {
   "cell_type": "code",
   "execution_count": 6,
   "id": "46191f43",
   "metadata": {},
   "outputs": [
    {
     "data": {
      "text/plain": [
       "<QuerySet [{'code_prefix': 'CS1.1.1.1', 'surface': Decimal('21.9313')}, {'code_prefix': 'CS1.1.1.2', 'surface': Decimal('60.0556')}, {'code_prefix': 'CS1.1.2.1', 'surface': Decimal('2.5660')}, {'code_prefix': 'CS1.2.2', 'surface': Decimal('25.8912')}, {'code_prefix': 'CS2.1.1.1', 'surface': Decimal('806.7629')}, {'code_prefix': 'CS2.1.1.2', 'surface': Decimal('33.1402')}, {'code_prefix': 'CS2.1.1.3', 'surface': Decimal('22.8766')}, {'code_prefix': 'CS2.1.2', 'surface': Decimal('88.8456')}, {'code_prefix': 'CS2.2.1', 'surface': Decimal('3243.8550')}]>"
      ]
     },
     "execution_count": 6,
     "metadata": {},
     "output_type": "execute_result"
    }
   ],
   "source": [
    "qs = CommuneSol.objects.filter(city__in=project.cities.all(), year=millesime)\n",
    "qs = qs.annotate(code_prefix=F(\"matrix__couverture__code_prefix\"))\n",
    "qs = qs.values(\"code_prefix\")\n",
    "qs = qs.annotate(surface=Sum(\"surface\"))\n",
    "qs"
   ]
  },
  {
   "cell_type": "code",
   "execution_count": 7,
   "id": "176e2fe5",
   "metadata": {},
   "outputs": [
    {
     "name": "stdout",
     "output_type": "stream",
     "text": [
      "+------+-----------------+-----------+---------+\n",
      "| code | label           | Surface   | color   |\n",
      "+------+-----------------+-----------+---------+\n",
      "| 1.1  | Surfaces anthro | 84.5529   | #ff377a |\n",
      "| 1.2  | Surfaces nature | 25.8912   | #ccc    |\n",
      "| 2.1  | Végétation lign | 951.6253  | #80ff00 |\n",
      "| 2.2  | Végétation non  | 3243.8550 | #ccf24d |\n",
      "+------+-----------------+-----------+---------+\n"
     ]
    }
   ],
   "source": [
    "x = PrettyTable(field_names=[\"code\", \"label\", \"Surface\", \"color\"], align=\"l\")\n",
    "\n",
    "data = list(qs)\n",
    "\n",
    "for couv in CouvertureSol.objects.all().order_by(\"code\"):\n",
    "    if couv.level == 2:\n",
    "        couv.surface = sum([_[\"surface\"] for _ in data if _[\"code_prefix\"].startswith(couv.code_prefix)])\n",
    "        x.add_row((couv.code, couv.label[:15], couv.surface, couv.map_color))\n",
    "\n",
    "print(x)"
   ]
  },
  {
   "cell_type": "code",
   "execution_count": 8,
   "id": "6742b76b",
   "metadata": {},
   "outputs": [
    {
     "data": {
      "text/plain": [
       "2016"
      ]
     },
     "execution_count": 8,
     "metadata": {},
     "output_type": "execute_result"
    }
   ],
   "source": [
    "first_millesime = Ocsge.objects.filter(mpoly__intersects=project.combined_emprise).earliest(\"year\").year\n",
    "first_millesime"
   ]
  },
  {
   "cell_type": "code",
   "execution_count": 9,
   "id": "574ad139",
   "metadata": {},
   "outputs": [
    {
     "data": {
      "text/plain": [
       "<QuerySet [{'code_prefix': 'CS1.1.1.1', 'surface_first': Decimal('21.4977'), 'surface_last': Decimal('21.9313')}, {'code_prefix': 'CS1.1.1.2', 'surface_first': Decimal('59.6789'), 'surface_last': Decimal('60.0556')}, {'code_prefix': 'CS1.1.2.1', 'surface_first': Decimal('2.3400'), 'surface_last': Decimal('2.5660')}, {'code_prefix': 'CS1.2.2', 'surface_first': Decimal('25.8912'), 'surface_last': Decimal('25.8912')}, {'code_prefix': 'CS2.1.1.1', 'surface_first': Decimal('807.1855'), 'surface_last': Decimal('806.7629')}, {'code_prefix': 'CS2.1.1.2', 'surface_first': Decimal('33.1402'), 'surface_last': Decimal('33.1402')}, {'code_prefix': 'CS2.1.1.3', 'surface_first': Decimal('22.8766'), 'surface_last': Decimal('22.8766')}, {'code_prefix': 'CS2.1.2', 'surface_first': Decimal('88.8456'), 'surface_last': Decimal('88.8456')}, {'code_prefix': 'CS2.2.1', 'surface_first': Decimal('3244.4686'), 'surface_last': Decimal('3243.8550')}]>"
      ]
     },
     "execution_count": 9,
     "metadata": {},
     "output_type": "execute_result"
    }
   ],
   "source": [
    "qs = CommuneSol.objects.filter(city__in=project.cities.all(), year__in=[first_millesime, millesime])\n",
    "qs = qs.annotate(code_prefix=F(\"matrix__couverture__code_prefix\"))\n",
    "qs = qs.values(\"code_prefix\")\n",
    "qs = qs.annotate(surface_first=Sum(\"surface\", filter=Q(year=first_millesime)))\n",
    "qs = qs.annotate(surface_last=Sum(\"surface\", filter=Q(year=millesime)))\n",
    "qs"
   ]
  },
  {
   "cell_type": "code",
   "execution_count": 10,
   "id": "d0591c44",
   "metadata": {},
   "outputs": [
    {
     "name": "stdout",
     "output_type": "stream",
     "text": [
      "+------+-----------------+---------------+--------------+--------------+\n",
      "| code | label           | Surface first | Surface diff | surface last |\n",
      "+------+-----------------+---------------+--------------+--------------+\n",
      "| 1.1  | Surfaces anthro | 83.5166       | 1.0363       | 84.5529      |\n",
      "| 1.2  | Surfaces nature | 25.8912       | 0.0000       | 25.8912      |\n",
      "| 2.1  | Végétation lign | 952.0479      | -0.4226      | 951.6253     |\n",
      "| 2.2  | Végétation non  | 3244.4686     | -0.6136      | 3243.8550    |\n",
      "+------+-----------------+---------------+--------------+--------------+\n"
     ]
    }
   ],
   "source": [
    "x = PrettyTable(field_names=[\"code\", \"label\", \"Surface first\", \"Surface diff\", \"surface last\"], align=\"l\")\n",
    "\n",
    "data = list(qs)\n",
    "\n",
    "for couv in CouvertureSol.objects.all().order_by(\"code\"):\n",
    "    if couv.level == 2:\n",
    "        couv.surface_first = sum([_[\"surface_first\"] for _ in data if _[\"code_prefix\"].startswith(couv.code_prefix)])\n",
    "        couv.surface_last = sum([_[\"surface_last\"] for _ in data if _[\"code_prefix\"].startswith(couv.code_prefix)])\n",
    "        couv.surface_diff = couv.surface_last - couv.surface_first\n",
    "        x.add_row((couv.code, couv.label[:15], couv.surface_first, couv.surface_diff, couv.surface_last))\n",
    "\n",
    "print(x)"
   ]
  },
  {
   "cell_type": "code",
   "execution_count": 11,
   "id": "7fe515d4",
   "metadata": {},
   "outputs": [
    {
     "data": {
      "text/plain": [
       "<Commune: L'Abergement-Clémenciat (01001)>"
      ]
     },
     "execution_count": 11,
     "metadata": {},
     "output_type": "execute_result"
    }
   ],
   "source": [
    "c = Commune.objects.first()\n",
    "c"
   ]
  },
  {
   "cell_type": "code",
   "execution_count": 12,
   "id": "5b0ac448",
   "metadata": {},
   "outputs": [
    {
     "data": {
      "text/plain": [
       "'01'"
      ]
     },
     "execution_count": 12,
     "metadata": {},
     "output_type": "execute_result"
    }
   ],
   "source": [
    "c.departement.source_id"
   ]
  },
  {
   "cell_type": "code",
   "execution_count": 13,
   "id": "62bd6c78",
   "metadata": {},
   "outputs": [
    {
     "ename": "AttributeError",
     "evalue": "'Commune' object has no attribute 'communediff'",
     "output_type": "error",
     "traceback": [
      "\u001b[0;31m---------------------------------------------------------------------------\u001b[0m",
      "\u001b[0;31mAttributeError\u001b[0m                            Traceback (most recent call last)",
      "Input \u001b[0;32mIn [13]\u001b[0m, in \u001b[0;36m<cell line: 1>\u001b[0;34m()\u001b[0m\n\u001b[0;32m----> 1\u001b[0m \u001b[43mCommune\u001b[49m\u001b[38;5;241;43m.\u001b[39;49m\u001b[43mobjects\u001b[49m\u001b[38;5;241;43m.\u001b[39;49m\u001b[43mget\u001b[49m\u001b[43m(\u001b[49m\u001b[43minsee\u001b[49m\u001b[38;5;241;43m=\u001b[39;49m\u001b[38;5;241;43m32301\u001b[39;49m\u001b[43m)\u001b[49m\u001b[38;5;241;43m.\u001b[39;49m\u001b[43mcommunediff\u001b[49m\n",
      "\u001b[0;31mAttributeError\u001b[0m: 'Commune' object has no attribute 'communediff'"
     ]
    }
   ],
   "source": [
    "Commune.objects.get(insee=32301).communediff"
   ]
  },
  {
   "cell_type": "code",
   "execution_count": 15,
   "id": "365fa753",
   "metadata": {},
   "outputs": [
    {
     "data": {
      "text/plain": [
       "<QuerySet [<CommuneDiff: CommuneDiff object (13)>]>"
      ]
     },
     "execution_count": 15,
     "metadata": {},
     "output_type": "execute_result"
    }
   ],
   "source": [
    "sub_cerema = Cerema.objects.filter(city_insee=OuterRef(\"insee\"))\n",
    "c = Commune.objects.annotate(\n",
    "    conso_1121_art=Subquery(sub_cerema.values(\"naf11art21\")[:1]) / 10000,\n",
    "    conso_1121_hab=Subquery(sub_cerema.values(\"art11hab21\")[:1]) / 10000,\n",
    "    conso_1121_act=Subquery(sub_cerema.values(\"art11act21\")[:1]) / 10000,\n",
    ").prefetch_related(\"communediff_set\").get(name=\"Auch\")\n",
    "c.communediff_set.all()"
   ]
  },
  {
   "cell_type": "code",
   "execution_count": null,
   "id": "720d879d",
   "metadata": {},
   "outputs": [],
   "source": []
  }
 ],
 "metadata": {
  "kernelspec": {
   "display_name": "Django Shell-Plus",
   "language": "python",
   "name": "django_extensions"
  },
  "language_info": {
   "codemirror_mode": {
    "name": "ipython",
    "version": 3
   },
   "file_extension": ".py",
   "mimetype": "text/x-python",
   "name": "python",
   "nbconvert_exporter": "python",
   "pygments_lexer": "ipython3",
   "version": "3.9.6"
  }
 },
 "nbformat": 4,
 "nbformat_minor": 5
}
