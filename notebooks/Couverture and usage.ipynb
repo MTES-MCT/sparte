{
 "cells": [
  {
   "cell_type": "code",
   "execution_count": 2,
   "id": "e6cee58f",
   "metadata": {},
   "outputs": [],
   "source": [
    "from public_data.models import CouvertureSol, UsageSol\n",
    "from prettytable import PrettyTable"
   ]
  },
  {
   "cell_type": "code",
   "execution_count": 10,
   "id": "90998e0e",
   "metadata": {},
   "outputs": [
    {
     "name": "stdout",
     "output_type": "stream",
     "text": [
      "+----+---------+------------------------------------------+-----------------------------------+---------+--------+\n",
      "| id | code    | label                                    | label court                       | Couleur | Parent |\n",
      "+----+---------+------------------------------------------+-----------------------------------+---------+--------+\n",
      "| 1  | 1       | Sans végétation                          | Sans végétation                   | #ff377a |        |\n",
      "| 2  | 1.1     | Surfaces anthropisées                    | Surfaces anthropisées             | #ff377a | 1      |\n",
      "| 3  | 1.1.1   | Zones imperméables                       | Zones imperméables                | #ff377a | 1.1    |\n",
      "| 4  | 1.1.1.1 | Zones bâties                             | Zones bâties                      | #ff377a | 1.1.1  |\n",
      "| 5  | 1.1.1.2 | Zones non bâties (Routes, places, parkin | Zones non bâties                  | #ff9191 | 1.1.1  |\n",
      "| 6  | 1.1.2   | Zones perméables                         | Zones perméables                  | #ff9    | 1.1    |\n",
      "| 7  | 1.1.2.1 | Zones à matériaux minéraux               | Zones à matériaux minéraux        | #ff9    | 1.1.2  |\n",
      "| 8  | 1.1.2.2 | Zones à autres matériaux composites      | Zones à autres matériaux compo... | #a64d00 | 1.1.2  |\n",
      "| 9  | 1.2     | Surfaces naturelles                      | Surfaces naturelles               | #ccc    | 1      |\n",
      "| 10 | 1.2.1   | Sols nus (Sable, pierres meubles, rocher | Sols nus                          | #ccc    | 1.2    |\n",
      "| 11 | 1.2.2   | Surfaces d'eau (Eau continentale et mari | Surfaces d'eau                    | #00ccf2 | 1.2    |\n",
      "| 12 | 1.2.3   | Névés et glaciers                        | Névés et glaciers                 | #a6e6cc | 1.2    |\n",
      "| 13 | 2       | Avec végétation                          | Avec végétation                   | #80ff00 |        |\n",
      "| 14 | 2.1     | Végétation ligneuse                      | Végétation ligneuse               | #80ff00 | 2      |\n",
      "| 15 | 2.1.1   | Formations arborées                      | Formations arborées               | #80be00 | 2.1    |\n",
      "| 16 | 2.1.1.1 | Peuplement de feuillus                   | Peuplement de feuillus            | #80ff00 | 2.1.1  |\n",
      "| 17 | 2.1.1.2 | Peuplement de conifères                  | Peuplement de conifères           | #00a600 | 2.1.1  |\n",
      "| 18 | 2.1.1.3 | Peuplement mixte                         | Peuplement mixte                  | #80be00 | 2.1.1  |\n",
      "| 19 | 2.1.2   | Formations arbustives et sous-arbrisseau | Formations arbustives et sous-... | #a6ff80 | 2.1    |\n",
      "| 20 | 2.1.3   | Autres formations ligneuses (Vignes et a | Autres formations ligneuses       | #e68000 | 2.1    |\n",
      "| 21 | 2.2     | Végétation non ligneuse                  | Végétation non ligneuse           | #ccf24d | 2      |\n",
      "| 22 | 2.2.1   | Formations herbacées (Pelouses et prairi | Formations herbacées              | #ccf24d | 2.2    |\n",
      "| 23 | 2.2.2   | Autres formations non ligneuses (Lichen, | Autres formations non ligneuse... | #cfc    | 2.2    |\n",
      "+----+---------+------------------------------------------+-----------------------------------+---------+--------+\n"
     ]
    }
   ],
   "source": [
    "x = PrettyTable(field_names=[\"id\", \"code\", \"label\", \"label court\", \"Couleur\", \"Parent\"], align=\"l\")\n",
    "\n",
    "x.add_rows(\n",
    "    (c.id, c.code, c.label[:40], c.label_short, c.map_color, c.parent.code if c.parent else '')\n",
    "    for c in CouvertureSol.objects.all().order_by(\"code\")\n",
    ")\n",
    "\n",
    "print(x)"
   ]
  },
  {
   "cell_type": "code",
   "execution_count": 11,
   "id": "d3d77e65",
   "metadata": {},
   "outputs": [
    {
     "name": "stdout",
     "output_type": "stream",
     "text": [
      "+----+-------+------------------------------------------+-----------------------------------+---------+--------+\n",
      "| id | code  | label                                    | label court                       | Couleur | Parent |\n",
      "+----+-------+------------------------------------------+-----------------------------------+---------+--------+\n",
      "| 1  | 1     | Production primaire                      | Production primaire               | green   |        |\n",
      "| 2  | 1.1   | Agriculture                              | Agriculture                       | #ffffa8 | 1      |\n",
      "| 3  | 1.2   | Sylviculture                             | Sylviculture                      | green   | 1      |\n",
      "| 4  | 1.3   | Activités d’extraction                   | Activités d’extraction            | #a600cc | 1      |\n",
      "| 5  | 1.4   | Pêche et aquaculture                     | Pêche et aquaculture              | #009    | 1      |\n",
      "| 6  | 1.5   | Autre                                    | Autre                             | #963    | 1      |\n",
      "| 7  | 2     | Secondaire                               | Secondaire                        | #e6004d |        |\n",
      "| 8  | 235   | Production secondaire, tertiaire et usag | Production secondaire, tertiai... | #e6004d | 2      |\n",
      "| 9  | 3     | Tertiaire                                | Tertiaire                         | #e6004d |        |\n",
      "| 10 | 4     | Réseaux de transport logistiques et infr | Réseaux de transport logistiqu... | #c00    |        |\n",
      "| 11 | 4.1   | Réseaux de transport                     | Réseaux de transport              | #c00    | 4      |\n",
      "| 12 | 4.1.1 | Routier                                  | Routier                           | #c00    | 4.1    |\n",
      "| 13 | 4.1.2 | Ferré                                    | Ferré                             | #5a5a5a | 4.1    |\n",
      "| 14 | 4.1.3 | Aérien                                   | Aérien                            | #e6cce6 | 4.1    |\n",
      "| 15 | 4.1.4 | Eau                                      | Eau                               | #06f    | 4.1    |\n",
      "| 16 | 4.1.5 | Autres réseaux de transport              | Autres réseaux de transport       | #603    | 4.1    |\n",
      "| 17 | 4.2   | Services de logistique et de stockage    | Services de logistique et de s... | red     | 4      |\n",
      "| 18 | 4.3   | Réseaux d’utilité publique               | Réseaux d’utilité publique        | #ff4b00 | 4      |\n",
      "| 19 | 5     | Résidentiel                              | Résidentiel                       | #e6004d |        |\n",
      "| 20 | 6     | Autre usage                              | Autre usage                       | #fc0    |        |\n",
      "| 21 | 6.1   | Zones en transition                      | Zones en transition               | #ff4dff | 6      |\n",
      "| 22 | 6.2   | Zones abandonnées                        | Zones abandonnées                 | #404040 | 6      |\n",
      "| 23 | 6.3   | Sans usage                               | Sans usage                        | #f0f028 | 6      |\n",
      "| 24 | 6.6   | Usage Inconnu                            | Usage Inconnu                     | #fc0    | 6      |\n",
      "+----+-------+------------------------------------------+-----------------------------------+---------+--------+\n"
     ]
    }
   ],
   "source": [
    "x = PrettyTable(field_names=[\"id\", \"code\", \"label\", \"label court\", \"Couleur\", \"Parent\"], align=\"l\")\n",
    "\n",
    "x.add_rows(\n",
    "    (c.id, c.code, c.label[:40], c.label_short, c.map_color, c.parent.code if c.parent else '')\n",
    "    for c in UsageSol.objects.all().order_by(\"code\")\n",
    ")\n",
    "\n",
    "print(x)"
   ]
  },
  {
   "cell_type": "code",
   "execution_count": null,
   "id": "62316889",
   "metadata": {},
   "outputs": [],
   "source": []
  }
 ],
 "metadata": {
  "kernelspec": {
   "display_name": "Django Shell-Plus",
   "language": "python",
   "name": "django_extensions"
  },
  "language_info": {
   "codemirror_mode": {
    "name": "ipython",
    "version": 3
   },
   "file_extension": ".py",
   "mimetype": "text/x-python",
   "name": "python",
   "nbconvert_exporter": "python",
   "pygments_lexer": "ipython3",
   "version": "3.9.7"
  }
 },
 "nbformat": 4,
 "nbformat_minor": 5
}
