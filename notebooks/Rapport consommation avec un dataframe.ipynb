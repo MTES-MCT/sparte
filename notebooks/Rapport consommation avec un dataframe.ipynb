{
 "cells": [
  {
   "cell_type": "code",
   "execution_count": null,
   "id": "d793b1fe",
   "metadata": {},
   "outputs": [],
   "source": [
    "%load_ext autoreload\n",
    "%autoreload 2"
   ]
  },
  {
   "cell_type": "code",
   "execution_count": null,
   "id": "ec9e1c7d",
   "metadata": {},
   "outputs": [],
   "source": [
    "import numpy as np\n",
    "import pandas as pd\n",
    "from public_data.models import CouvertureSol, UsageSol, ArtifCommune\n",
    "from project.models import Project\n",
    "from prettytable import PrettyTable"
   ]
  },
  {
   "cell_type": "code",
   "execution_count": null,
   "id": "51710660",
   "metadata": {},
   "outputs": [],
   "source": [
    "project = Project.objects.get(pk=4)\n",
    "project"
   ]
  },
  {
   "cell_type": "code",
   "execution_count": null,
   "id": "54c57020",
   "metadata": {},
   "outputs": [],
   "source": [
    "headers = ['nom', ]\n",
    "headers += ArtifCommune.list_attr()\n",
    "\n",
    "table = PrettyTable(field_names=headers, align=\"l\")\n",
    "\n",
    "for city in project.cities.all():\n",
    "    row = [city.name, ]\n",
    "    row += city.list_artif()\n",
    "    table.add_row(row)\n",
    "\n",
    "print(table)"
   ]
  },
  {
   "cell_type": "code",
   "execution_count": null,
   "id": "b50c5f1d",
   "metadata": {},
   "outputs": [],
   "source": [
    "# initialise le DataFrame avec les lignes\n",
    "indexes = ArtifCommune.list_attr()\n",
    "df = pd.DataFrame(0, index=indexes, columns=list())\n",
    "df"
   ]
  },
  {
   "cell_type": "code",
   "execution_count": null,
   "id": "8b392490",
   "metadata": {},
   "outputs": [],
   "source": [
    "# on rempli le tableau avec les villes du projet\n",
    "for city in project.cities.all():\n",
    "    df[city.name] = city.list_artif()\n",
    "df"
   ]
  },
  {
   "cell_type": "code",
   "execution_count": null,
   "id": "9bcf448a",
   "metadata": {},
   "outputs": [],
   "source": [
    "df.T"
   ]
  },
  {
   "cell_type": "code",
   "execution_count": null,
   "id": "d4fa959e",
   "metadata": {},
   "outputs": [],
   "source": [
    "# on réduit le DF aux données qui nous intéressent\n",
    "year_min = 2014\n",
    "year_max = 2016\n",
    "\n",
    "\n",
    "index_to_keep = index_to_sum = index_to_exclude = None\n",
    "\n",
    "# identification des années supérieures qui ne nous intéresse pas (to exclude)\n",
    "index_to_exclude = []\n",
    "for i in indexes:\n",
    "    year = int(i.split(\"_\")[-1])\n",
    "    if year > year_max:\n",
    "        index_to_exclude.append(i)\n",
    "        \n",
    "index_to_exclude"
   ]
  },
  {
   "cell_type": "code",
   "execution_count": null,
   "id": "ead76bc0",
   "metadata": {},
   "outputs": [],
   "source": [
    "# on identifie les index qui font parties des années à garder\n",
    "index_to_keep = {f\"artif_{y}\" for y in range(year_min, year_max + 1)}\n",
    "index_to_keep = set(indexes).intersection(index_to_keep)\n",
    "index_to_keep"
   ]
  },
  {
   "cell_type": "code",
   "execution_count": null,
   "id": "5c166765",
   "metadata": {},
   "outputs": [],
   "source": [
    "# on déduit les années à exclure qu'il va falloir sommer \n",
    "index_to_sum = set(indexes) - index_to_keep - set(index_to_exclude)\n",
    "index_to_sum"
   ]
  },
  {
   "cell_type": "code",
   "execution_count": null,
   "id": "d7daa421",
   "metadata": {},
   "outputs": [],
   "source": [
    "# on construit le df des années que l'on va devoir sommer\n",
    "df_sum = df.loc[list(index_to_sum)]\n",
    "df_sum"
   ]
  },
  {
   "cell_type": "code",
   "execution_count": null,
   "id": "1fb3426d",
   "metadata": {},
   "outputs": [],
   "source": [
    "df_sum.sum()"
   ]
  },
  {
   "cell_type": "code",
   "execution_count": null,
   "id": "9bdcc6a3",
   "metadata": {},
   "outputs": [],
   "source": [
    "avant = total = None\n",
    "df_final = df.loc[index_to_keep]\n",
    "df_final"
   ]
  },
  {
   "cell_type": "code",
   "execution_count": null,
   "id": "84ca6165",
   "metadata": {},
   "outputs": [],
   "source": [
    "# on ajoute la ligne \"artificialisée avant\"\n",
    "avant = pd.DataFrame(df_sum.sum(), index=df.columns, columns=[f\"Avant {year_min}\"])\n",
    "avant = avant.T\n",
    "df_final = avant.append(df_final)\n",
    "df_final"
   ]
  },
  {
   "cell_type": "code",
   "execution_count": null,
   "id": "7defbd44",
   "metadata": {},
   "outputs": [],
   "source": [
    "total = pd.DataFrame(df_final.sum(), index=df.columns, columns=[\"Total\"]).T\n",
    "df_final = df_final.append(total)\n",
    "df_final.T"
   ]
  },
  {
   "cell_type": "code",
   "execution_count": null,
   "id": "3c940e84",
   "metadata": {},
   "outputs": [],
   "source": [
    "df2 = df_final.T\n",
    "df2"
   ]
  },
  {
   "cell_type": "code",
   "execution_count": null,
   "id": "580f5922",
   "metadata": {},
   "outputs": [],
   "source": [
    "# Add progression column (final - init) / init\n",
    "progression = (df2.loc[:, \"Total\"] - df2.loc[:, f\"Avant {year_min}\"]) / df2.loc[:, f\"Avant {year_min}\"]\n",
    "progression"
   ]
  },
  {
   "cell_type": "code",
   "execution_count": null,
   "id": "90e8a3e7",
   "metadata": {},
   "outputs": [],
   "source": [
    "indexes = [f\"artif_{y}\" for y in range(year_min, year_max + 1)]\n",
    "indexes = [f\"Avant {year_min}\"] + indexes + [\"Total\", \"Progression\"]\n",
    "df_final = df_final.reindex(indexes)\n",
    "df_final"
   ]
  },
  {
   "cell_type": "code",
   "execution_count": null,
   "id": "fd861882",
   "metadata": {},
   "outputs": [],
   "source": [
    "df3 = df_final.T\n",
    "df3[\"Progression\"] = progression\n",
    "df3"
   ]
  },
  {
   "cell_type": "code",
   "execution_count": null,
   "id": "daf570a1",
   "metadata": {},
   "outputs": [],
   "source": [
    "table = []\n",
    "for city, row in df3.iterrows():\n",
    "    table.append({\n",
    "        \"name\": city,\n",
    "        \"before\": row[0],\n",
    "        \"items\": list(row[1:-2]),\n",
    "        \"total\": row[-2],\n",
    "        # \"surface\": city.surface,\n",
    "        \"progression\": f\"{row[-1]}%\",\n",
    "    })\n",
    "table"
   ]
  },
  {
   "cell_type": "code",
   "execution_count": null,
   "id": "45e86bae",
   "metadata": {},
   "outputs": [],
   "source": [
    "df_final"
   ]
  },
  {
   "cell_type": "code",
   "execution_count": null,
   "id": "ad3fbb4d",
   "metadata": {},
   "outputs": [],
   "source": [
    "final = df_final.loc[\"Total\"].sum()\n",
    "final"
   ]
  },
  {
   "cell_type": "code",
   "execution_count": null,
   "id": "036226db",
   "metadata": {},
   "outputs": [],
   "source": [
    "label = f\"Avant {year_min}\"\n",
    "init = df_final.loc[label].sum()\n",
    "init"
   ]
  },
  {
   "cell_type": "code",
   "execution_count": null,
   "id": "9d42426c",
   "metadata": {},
   "outputs": [],
   "source": [
    "global_progression = (final - init) / init\n",
    "global_progression"
   ]
  },
  {
   "cell_type": "code",
   "execution_count": null,
   "id": "cf1606b9",
   "metadata": {},
   "outputs": [],
   "source": [
    "df_final.sum()"
   ]
  },
  {
   "cell_type": "code",
   "execution_count": null,
   "id": "210d5bc2",
   "metadata": {},
   "outputs": [],
   "source": []
  }
 ],
 "metadata": {
  "kernelspec": {
   "display_name": "Django Shell-Plus",
   "language": "python",
   "name": "django_extensions"
  },
  "language_info": {
   "codemirror_mode": {
    "name": "ipython",
    "version": 3
   },
   "file_extension": ".py",
   "mimetype": "text/x-python",
   "name": "python",
   "nbconvert_exporter": "python",
   "pygments_lexer": "ipython3",
   "version": "3.9.7"
  }
 },
 "nbformat": 4,
 "nbformat_minor": 5
}
