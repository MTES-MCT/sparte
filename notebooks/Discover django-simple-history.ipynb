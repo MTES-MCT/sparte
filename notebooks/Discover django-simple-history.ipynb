{
 "cells": [
  {
   "cell_type": "code",
   "execution_count": 1,
   "id": "73011acd",
   "metadata": {},
   "outputs": [
    {
     "data": {
      "text/plain": [
       "<Project: Diagnostic de Saint-Onen-la-Chapelle>"
      ]
     },
     "execution_count": 1,
     "metadata": {},
     "output_type": "execute_result"
    }
   ],
   "source": [
    "from project.models import Project\n",
    "\n",
    "project = Project.objects.get(pk=1494)\n",
    "project"
   ]
  },
  {
   "cell_type": "code",
   "execution_count": 2,
   "id": "ead6a3a4",
   "metadata": {},
   "outputs": [
    {
     "data": {
      "text/plain": [
       "<HistoricalQuerySet [<HistoricalProject: Diagnostic de Saint-Onen-la-Chapelle as of 2023-03-28 13:54:35.646445+00:00>, <HistoricalProject: Diagnostic de Saint-Onen-la-Chapelle as of 2023-03-28 13:54:33.955320+00:00>, <HistoricalProject: Diagnostic de Saint-Onen-la-Chapelle as of 2023-03-28 13:54:32.601939+00:00>, <HistoricalProject: Diagnostic de Saint-Onen-la-Chapelle as of 2023-03-28 13:54:24.412143+00:00>, <HistoricalProject: Diagnostic de Saint-Onen-la-Chapelle as of 2023-03-28 13:54:24.219544+00:00>, <HistoricalProject: Diagnostic de Saint-Onen-la-Chapelle as of 2023-03-28 13:53:55.781664+00:00>, <HistoricalProject: Diagnostic de Saint-Onen-la-Chapelle as of 2023-03-28 13:37:54.600732+00:00>]>"
      ]
     },
     "execution_count": 2,
     "metadata": {},
     "output_type": "execute_result"
    }
   ],
   "source": [
    "project.history.all()"
   ]
  },
  {
   "cell_type": "code",
   "execution_count": null,
   "id": "f6451c5b",
   "metadata": {},
   "outputs": [],
   "source": []
  }
 ],
 "metadata": {
  "kernelspec": {
   "display_name": "Django Shell-Plus",
   "language": "python",
   "name": "django_extensions"
  },
  "language_info": {
   "codemirror_mode": {
    "name": "ipython",
    "version": 3
   },
   "file_extension": ".py",
   "mimetype": "text/x-python",
   "name": "python",
   "nbconvert_exporter": "python",
   "pygments_lexer": "ipython3",
   "version": "3.10.10"
  }
 },
 "nbformat": 4,
 "nbformat_minor": 5
}
