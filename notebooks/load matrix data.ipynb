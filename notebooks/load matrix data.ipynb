{
 "cells": [
  {
   "cell_type": "code",
   "execution_count": 1,
   "id": "55a99a0b",
   "metadata": {},
   "outputs": [],
   "source": [
    "import csv\n",
    "from public_data.storages import DataStorage\n",
    "from prettytable import PrettyTable\n",
    "from public_data.models import CouvertureSol, UsageSol, CouvertureUsageMatrix\n",
    "\n",
    "filename = \"Artif_conso_NAF.csv\"\n",
    "storage = DataStorage()\n"
   ]
  },
  {
   "cell_type": "code",
   "execution_count": 2,
   "id": "a05a5df4",
   "metadata": {},
   "outputs": [
    {
     "data": {
      "text/plain": [
       "[';CS1.1.1.1;CS1.1.1.2;CS1.1.2.1;CS1.1.2.2;CS1.2.1;CS1.2.2;CS1.2.3;CS2.1.1.1;CS2.1.1.2;CS2.1.1.3;CS2.1.2;CS2.1.3;CS2.2.1;CS2.2.2\\r\\n',\n",
       " 'US1.1;Artif non conso;Artif;Artif;;;NAF;;NAF;;;NAF;NAF;NAF;NAF\\r\\n',\n",
       " 'US1.2;Artif non conso;Artif;Artif;;;;;NAF;NAF;NAF;NAF;;;\\r\\n',\n",
       " 'US1.3;Artif;Artif;Artif;;;NAF;;NAF;NAF;NAF;NAF;;NAF;NAF\\r\\n',\n",
       " 'US1.4;Artif;Artif;Artif;;;NAF;;NAF;NAF;NAF;NAF;;NAF;\\r\\n',\n",
       " 'US1.5;Artif;Artif;Artif;;;;;NAF;NAF;NAF;NAF;;NAF;\\r\\n',\n",
       " 'US235;Artif;Artif;Artif;Artif;NAF;NAF;;Conso;Conso;Conso;Conso;Conso;Conso;\\r\\n',\n",
       " 'US2;Artif;Artif;Artif;;NAF;NAF;;Conso;Conso;Conso;Conso;Conso;Conso;\\r\\n',\n",
       " 'US3;Artif;Artif;Artif;Artif;NAF;NAF;;Conso;Conso;Conso;Conso;Conso;Conso;\\r\\n',\n",
       " 'US5;Artif;Artif;Artif;Artif;NAF;NAF;;Conso;Conso;Conso;Conso;Conso;Conso;\\r\\n',\n",
       " 'US4.1.1;Artif;Artif;Artif;;;NAF;;Conso;Conso;Conso;Conso;Conso;Conso;Conso\\r\\n',\n",
       " 'US4.1.2;Artif;Artif;Artif;;;;;Conso;Conso;Conso;Conso;Conso;Conso;Conso\\r\\n',\n",
       " 'US4.1.3;Artif;Artif;Artif;;;;;Conso;Conso;Conso;Conso;;Conso;\\r\\n',\n",
       " 'US4.1.4;Artif;Artif;Artif;;;NAF;;Conso;Conso;Conso;Conso;Conso;Conso;Conso\\r\\n',\n",
       " 'US4.1.5;Artif;Artif;Artif;;;;;Conso;Conso;Conso;Conso;Conso;Conso;Conso\\r\\n',\n",
       " 'US4.2;Artif;Artif;Artif;;;;;;;;Conso;;Conso;\\r\\n',\n",
       " 'US4.3;Artif;Artif;Artif;Artif;;NAF;;Conso;Conso;Conso;Conso;;Conso;\\r\\n',\n",
       " 'US6.1;Artif;Artif;Artif;;;;;;;;Conso;;Conso;\\r\\n',\n",
       " 'US6.2;Artif;Artif;Artif;Artif;;;;Conso;Conso;Conso;Conso;;Conso;\\r\\n',\n",
       " 'US6.3;;;Artif;;NAF;NAF;NAF;NAF;NAF;NAF;NAF;;NAF;NAF\\r\\n',\n",
       " 'US6.6;;Artif;Artif;Artif;NAF;NAF;;NAF;NAF;NAF;NAF;NAF;NAF;NAF\\r\\n']"
      ]
     },
     "execution_count": 2,
     "metadata": {},
     "output_type": "execute_result"
    }
   ],
   "source": [
    "file_stream = storage.open(filename)\n",
    "lines = file_stream.read()\n",
    "lines = lines.decode('utf-8-sig')\n",
    "lines = lines.splitlines(True)\n",
    "lines[0] = lines[0].replace(\" \", \".\")\n",
    "lines"
   ]
  },
  {
   "cell_type": "code",
   "execution_count": 3,
   "id": "4be9901c",
   "metadata": {},
   "outputs": [
    {
     "data": {
      "text/plain": [
       "['CS1.1.1.1',\n",
       " 'CS1.1.1.2',\n",
       " 'CS1.1.2.1',\n",
       " 'CS1.1.2.2',\n",
       " 'CS1.2.1',\n",
       " 'CS1.2.2',\n",
       " 'CS1.2.3',\n",
       " 'CS2.1.1.1',\n",
       " 'CS2.1.1.2',\n",
       " 'CS2.1.1.3',\n",
       " 'CS2.1.2',\n",
       " 'CS2.1.3',\n",
       " 'CS2.2.1',\n",
       " 'CS2.2.2']"
      ]
     },
     "execution_count": 3,
     "metadata": {},
     "output_type": "execute_result"
    }
   ],
   "source": [
    "headers = lines[0].split(\";\")\n",
    "headers = [_.replace(\"\\r\\n\", \"\") for _ in headers if _]\n",
    "headers"
   ]
  },
  {
   "cell_type": "code",
   "execution_count": 4,
   "id": "d5777ae9",
   "metadata": {
    "scrolled": true
   },
   "outputs": [
    {
     "name": "stdout",
     "output_type": "stream",
     "text": [
      "192\n"
     ]
    },
    {
     "data": {
      "text/plain": [
       "[('US1.1', 'CS1.1.1.1', 'Artif non conso'),\n",
       " ('US1.1', 'CS1.1.1.2', 'Artif'),\n",
       " ('US1.1', 'CS1.1.2.1', 'Artif'),\n",
       " ('US1.1', 'CS1.2.2', 'NAF'),\n",
       " ('US1.1', 'CS2.1.1.1', 'NAF'),\n",
       " ('US1.1', 'CS2.1.2', 'NAF'),\n",
       " ('US1.1', 'CS2.1.3', 'NAF'),\n",
       " ('US1.1', 'CS2.2.1', 'NAF'),\n",
       " ('US1.1', 'CS2.2.2', 'NAF'),\n",
       " ('US1.2', 'CS1.1.1.1', 'Artif non conso')]"
      ]
     },
     "execution_count": 4,
     "metadata": {},
     "output_type": "execute_result"
    }
   ],
   "source": [
    "reader = csv.DictReader(lines, delimiter=';')\n",
    "items = []\n",
    "for row in reader:\n",
    "    usage_code = row['']\n",
    "    for couv_code in headers:\n",
    "        if row[couv_code]:\n",
    "            items.append((usage_code, couv_code, row[couv_code]))\n",
    "\n",
    "items.append((\"US2\", \"CS1.1.2.2\", \"Artif\"))            \n",
    "\n",
    "print(len(items))\n",
    "items[:10]"
   ]
  },
  {
   "cell_type": "code",
   "execution_count": 5,
   "id": "551e0926",
   "metadata": {},
   "outputs": [
    {
     "data": {
      "text/plain": [
       "192"
      ]
     },
     "execution_count": 5,
     "metadata": {},
     "output_type": "execute_result"
    }
   ],
   "source": [
    "def get_all_children(cs):\n",
    "    children = []\n",
    "    for cs_child in cs.children.all():\n",
    "        children += get_all_children(cs_child)\n",
    "        children.append(cs_child)\n",
    "    return children\n",
    "\n",
    "for usage_code, couv_code, label in items:\n",
    "    cs = CouvertureSol.objects.get(code_prefix=couv_code)\n",
    "    us = UsageSol.objects.get(code_prefix=usage_code)\n",
    "    all_cs = get_all_children(cs) + [cs]\n",
    "    all_us = get_all_children(us) + [us]\n",
    "    all = list(zip(all_cs, all_us))\n",
    "    if len(all) > 1:\n",
    "        print(usage_code, couv_code, label)\n",
    "        print(all)\n",
    "len(items)    "
   ]
  },
  {
   "cell_type": "code",
   "execution_count": 6,
   "id": "ced36816",
   "metadata": {},
   "outputs": [],
   "source": [
    "for usage_code, couv_code, label in items:\n",
    "    try:\n",
    "        matrix = CouvertureUsageMatrix.objects.get(\n",
    "            couverture__code_prefix=couv_code, usage__code_prefix=usage_code\n",
    "        )\n",
    "    except CouvertureUsageMatrix.DoesNotExist:\n",
    "        print(usage_code, couv_code, label)"
   ]
  },
  {
   "cell_type": "code",
   "execution_count": 7,
   "id": "2dc8c88d",
   "metadata": {},
   "outputs": [
    {
     "data": {
      "text/plain": [
       "{'Artif', 'Artif non conso', 'Conso', 'NAF'}"
      ]
     },
     "execution_count": 7,
     "metadata": {},
     "output_type": "execute_result"
    }
   ],
   "source": [
    "labels = set([item[2] for item in items])\n",
    "labels"
   ]
  },
  {
   "cell_type": "code",
   "execution_count": 9,
   "id": "c39d5ea8",
   "metadata": {},
   "outputs": [
    {
     "data": {
      "text/plain": [
       "{'Artif': <LabelChoices.ARTIFICIAL: 'ARTIF'>,\n",
       " 'Artif non conso': <LabelChoices.ARTIF_NOT_CONSUMED: 'ARTIF_NOT_CONSU'>,\n",
       " 'Conso': <LabelChoices.CONSUMED: 'CONSU'>,\n",
       " 'NAF': <LabelChoices.NAF: 'NAF'>}"
      ]
     },
     "execution_count": 9,
     "metadata": {},
     "output_type": "execute_result"
    }
   ],
   "source": [
    "transco = {\n",
    "    'Artif': CouvertureUsageMatrix.LabelChoices.ARTIFICIAL,\n",
    "    'Artif non conso': CouvertureUsageMatrix.LabelChoices.ARTIF_NOT_CONSUMED,\n",
    "    'Conso': CouvertureUsageMatrix.LabelChoices.CONSUMED,\n",
    "    'NAF': CouvertureUsageMatrix.LabelChoices.NAF,\n",
    "}\n",
    "transco"
   ]
  },
  {
   "cell_type": "code",
   "execution_count": 10,
   "id": "9093c3a8",
   "metadata": {},
   "outputs": [
    {
     "name": "stdout",
     "output_type": "stream",
     "text": [
      "Artif non conso CS1.1.1.1-US1.1:a\n",
      "Artif CS1.1.1.2-US1.1:ac\n",
      "Artif CS1.1.2.1-US1.1:ac\n",
      "NAF CS1.2.2-US1.1:n\n",
      "NAF CS2.1.1.1-US1.1:n\n",
      "NAF CS2.1.2-US1.1:n\n",
      "NAF CS2.1.3-US1.1:n\n",
      "NAF CS2.2.1-US1.1:n\n",
      "NAF CS2.2.2-US1.1:n\n",
      "Artif non conso CS1.1.1.1-US1.2:a\n",
      "Artif CS1.1.1.2-US1.2:ac\n",
      "Artif CS1.1.2.1-US1.2:ac\n",
      "NAF CS2.1.1.1-US1.2:n\n",
      "NAF CS2.1.1.2-US1.2:n\n",
      "NAF CS2.1.1.3-US1.2:n\n",
      "NAF CS2.1.2-US1.2:n\n",
      "Artif CS1.1.1.1-US1.3:ac\n",
      "Artif CS1.1.1.2-US1.3:ac\n",
      "Artif CS1.1.2.1-US1.3:ac\n",
      "NAF CS1.2.2-US1.3:n\n",
      "NAF CS2.1.1.1-US1.3:n\n",
      "NAF CS2.1.1.2-US1.3:n\n",
      "NAF CS2.1.1.3-US1.3:n\n",
      "NAF CS2.1.2-US1.3:n\n",
      "NAF CS2.2.1-US1.3:n\n",
      "NAF CS2.2.2-US1.3:n\n",
      "Artif CS1.1.1.1-US1.4:ac\n",
      "Artif CS1.1.1.2-US1.4:ac\n",
      "Artif CS1.1.2.1-US1.4:ac\n",
      "NAF CS1.2.2-US1.4:n\n",
      "NAF CS2.1.1.1-US1.4:n\n",
      "NAF CS2.1.1.2-US1.4:n\n",
      "NAF CS2.1.1.3-US1.4:n\n",
      "NAF CS2.1.2-US1.4:n\n",
      "NAF CS2.2.1-US1.4:n\n",
      "Artif CS1.1.1.1-US1.5:ac\n",
      "Artif CS1.1.1.2-US1.5:ac\n",
      "Artif CS1.1.2.1-US1.5:ac\n",
      "NAF CS2.1.1.1-US1.5:n\n",
      "NAF CS2.1.1.2-US1.5:n\n",
      "NAF CS2.1.1.3-US1.5:n\n",
      "NAF CS2.1.2-US1.5:n\n",
      "NAF CS2.2.1-US1.5:n\n",
      "Artif CS1.1.1.1-US235:ac\n",
      "Artif CS1.1.1.2-US235:ac\n",
      "Artif CS1.1.2.1-US235:ac\n",
      "Artif CS1.1.2.2-US235:ac\n",
      "NAF CS1.2.1-US235:n\n",
      "NAF CS1.2.2-US235:n\n",
      "Conso CS2.1.1.1-US235:cn\n",
      "Conso CS2.1.1.2-US235:cn\n",
      "Conso CS2.1.1.3-US235:cn\n",
      "Conso CS2.1.2-US235:cn\n",
      "Conso CS2.1.3-US235:cn\n",
      "Conso CS2.2.1-US235:cn\n",
      "Artif CS1.1.1.1-US2:ac\n",
      "Artif CS1.1.1.2-US2:ac\n",
      "Artif CS1.1.2.1-US2:ac\n",
      "NAF CS1.2.1-US2:n\n",
      "NAF CS1.2.2-US2:n\n",
      "Conso CS2.1.1.1-US2:cn\n",
      "Conso CS2.1.1.2-US2:cn\n",
      "Conso CS2.1.1.3-US2:cn\n",
      "Conso CS2.1.2-US2:cn\n",
      "Conso CS2.1.3-US2:cn\n",
      "Conso CS2.2.1-US2:cn\n",
      "Artif CS1.1.1.1-US3:ac\n",
      "Artif CS1.1.1.2-US3:ac\n",
      "Artif CS1.1.2.1-US3:ac\n",
      "Artif CS1.1.2.2-US3:ac\n",
      "NAF CS1.2.1-US3:n\n",
      "NAF CS1.2.2-US3:n\n",
      "Conso CS2.1.1.1-US3:cn\n",
      "Conso CS2.1.1.2-US3:cn\n",
      "Conso CS2.1.1.3-US3:cn\n",
      "Conso CS2.1.2-US3:cn\n",
      "Conso CS2.1.3-US3:cn\n",
      "Conso CS2.2.1-US3:cn\n",
      "Artif CS1.1.1.1-US5:ac\n",
      "Artif CS1.1.1.2-US5:ac\n",
      "Artif CS1.1.2.1-US5:ac\n",
      "Artif CS1.1.2.2-US5:ac\n",
      "NAF CS1.2.1-US5:n\n",
      "NAF CS1.2.2-US5:n\n",
      "Conso CS2.1.1.1-US5:cn\n",
      "Conso CS2.1.1.2-US5:cn\n",
      "Conso CS2.1.1.3-US5:cn\n",
      "Conso CS2.1.2-US5:cn\n",
      "Conso CS2.1.3-US5:cn\n",
      "Conso CS2.2.1-US5:cn\n",
      "Artif CS1.1.1.1-US4.1.1:ac\n",
      "Artif CS1.1.1.2-US4.1.1:ac\n",
      "Artif CS1.1.2.1-US4.1.1:ac\n",
      "NAF CS1.2.2-US4.1.1:n\n",
      "Conso CS2.1.1.1-US4.1.1:cn\n",
      "Conso CS2.1.1.2-US4.1.1:cn\n",
      "Conso CS2.1.1.3-US4.1.1:cn\n",
      "Conso CS2.1.2-US4.1.1:cn\n",
      "Conso CS2.1.3-US4.1.1:cn\n",
      "Conso CS2.2.1-US4.1.1:cn\n",
      "Conso CS2.2.2-US4.1.1:cn\n",
      "Artif CS1.1.1.1-US4.1.2:ac\n",
      "Artif CS1.1.1.2-US4.1.2:ac\n",
      "Artif CS1.1.2.1-US4.1.2:ac\n",
      "Conso CS2.1.1.1-US4.1.2:cn\n",
      "Conso CS2.1.1.2-US4.1.2:cn\n",
      "Conso CS2.1.1.3-US4.1.2:cn\n",
      "Conso CS2.1.2-US4.1.2:cn\n",
      "Conso CS2.1.3-US4.1.2:cn\n",
      "Conso CS2.2.1-US4.1.2:cn\n",
      "Conso CS2.2.2-US4.1.2:cn\n",
      "Artif CS1.1.1.1-US4.1.3:ac\n",
      "Artif CS1.1.1.2-US4.1.3:ac\n",
      "Artif CS1.1.2.1-US4.1.3:ac\n",
      "Conso CS2.1.1.1-US4.1.3:cn\n",
      "Conso CS2.1.1.2-US4.1.3:cn\n",
      "Conso CS2.1.1.3-US4.1.3:cn\n",
      "Conso CS2.1.2-US4.1.3:cn\n",
      "Conso CS2.2.1-US4.1.3:cn\n",
      "Artif CS1.1.1.1-US4.1.4:ac\n",
      "Artif CS1.1.1.2-US4.1.4:ac\n",
      "Artif CS1.1.2.1-US4.1.4:ac\n",
      "NAF CS1.2.2-US4.1.4:n\n",
      "Conso CS2.1.1.1-US4.1.4:cn\n",
      "Conso CS2.1.1.2-US4.1.4:cn\n",
      "Conso CS2.1.1.3-US4.1.4:cn\n",
      "Conso CS2.1.2-US4.1.4:cn\n",
      "Conso CS2.1.3-US4.1.4:cn\n",
      "Conso CS2.2.1-US4.1.4:cn\n",
      "Conso CS2.2.2-US4.1.4:cn\n",
      "Artif CS1.1.1.1-US4.1.5:ac\n",
      "Artif CS1.1.1.2-US4.1.5:ac\n",
      "Artif CS1.1.2.1-US4.1.5:ac\n",
      "Conso CS2.1.1.1-US4.1.5:cn\n",
      "Conso CS2.1.1.2-US4.1.5:cn\n",
      "Conso CS2.1.1.3-US4.1.5:cn\n",
      "Conso CS2.1.2-US4.1.5:cn\n",
      "Conso CS2.1.3-US4.1.5:cn\n",
      "Conso CS2.2.1-US4.1.5:cn\n",
      "Conso CS2.2.2-US4.1.5:cn\n",
      "Artif CS1.1.1.1-US4.2:ac\n",
      "Artif CS1.1.1.2-US4.2:ac\n",
      "Artif CS1.1.2.1-US4.2:ac\n",
      "Conso CS2.1.2-US4.2:cn\n",
      "Conso CS2.2.1-US4.2:cn\n",
      "Artif CS1.1.1.1-US4.3:ac\n",
      "Artif CS1.1.1.2-US4.3:ac\n",
      "Artif CS1.1.2.1-US4.3:ac\n",
      "Artif CS1.1.2.2-US4.3:ac\n",
      "NAF CS1.2.2-US4.3:n\n",
      "Conso CS2.1.1.1-US4.3:cn\n",
      "Conso CS2.1.1.2-US4.3:cn\n",
      "Conso CS2.1.1.3-US4.3:cn\n",
      "Conso CS2.1.2-US4.3:cn\n",
      "Conso CS2.2.1-US4.3:cn\n",
      "Artif CS1.1.1.1-US6.1:ac\n",
      "Artif CS1.1.1.2-US6.1:ac\n",
      "Artif CS1.1.2.1-US6.1:ac\n",
      "Conso CS2.1.2-US6.1:cn\n",
      "Conso CS2.2.1-US6.1:cn\n",
      "Artif CS1.1.1.1-US6.2:ac\n",
      "Artif CS1.1.1.2-US6.2:ac\n",
      "Artif CS1.1.2.1-US6.2:ac\n",
      "Artif CS1.1.2.2-US6.2:ac\n",
      "Conso CS2.1.1.1-US6.2:cn\n",
      "Conso CS2.1.1.2-US6.2:cn\n",
      "Conso CS2.1.1.3-US6.2:cn\n",
      "Conso CS2.1.2-US6.2:cn\n",
      "Conso CS2.2.1-US6.2:cn\n",
      "Artif CS1.1.2.1-US6.3:ac\n",
      "NAF CS1.2.1-US6.3:n\n",
      "NAF CS1.2.2-US6.3:n\n",
      "NAF CS1.2.3-US6.3:n\n",
      "NAF CS2.1.1.1-US6.3:n\n",
      "NAF CS2.1.1.2-US6.3:n\n",
      "NAF CS2.1.1.3-US6.3:n\n",
      "NAF CS2.1.2-US6.3:n\n",
      "NAF CS2.2.1-US6.3:n\n",
      "NAF CS2.2.2-US6.3:n\n",
      "Artif CS1.1.1.2-US6.6:ac\n",
      "Artif CS1.1.2.1-US6.6:ac\n",
      "Artif CS1.1.2.2-US6.6:ac\n",
      "NAF CS1.2.1-US6.6:n\n",
      "NAF CS1.2.2-US6.6:n\n",
      "NAF CS2.1.1.1-US6.6:n\n",
      "NAF CS2.1.1.2-US6.6:n\n",
      "NAF CS2.1.1.3-US6.6:n\n",
      "NAF CS2.1.2-US6.6:n\n",
      "NAF CS2.1.3-US6.6:n\n",
      "NAF CS2.2.1-US6.6:n\n",
      "NAF CS2.2.2-US6.6:n\n",
      "Artif CS1.1.2.2-US2:ac\n"
     ]
    }
   ],
   "source": [
    "for usage_code, couv_code, label in items:\n",
    "    matrix = CouvertureUsageMatrix.objects.get(couverture__code_prefix=couv_code, usage__code_prefix=usage_code)\n",
    "    matrix.label = transco[label]\n",
    "    matrix.compute()\n",
    "    print(label, matrix)\n",
    "    matrix.save()"
   ]
  },
  {
   "cell_type": "code",
   "execution_count": null,
   "id": "65d8bbaa",
   "metadata": {},
   "outputs": [],
   "source": []
  },
  {
   "cell_type": "code",
   "execution_count": null,
   "id": "53815094",
   "metadata": {},
   "outputs": [],
   "source": []
  },
  {
   "cell_type": "code",
   "execution_count": null,
   "id": "4c9fb1b4",
   "metadata": {},
   "outputs": [],
   "source": []
  }
 ],
 "metadata": {
  "kernelspec": {
   "display_name": "Django Shell-Plus",
   "language": "python",
   "name": "django_extensions"
  },
  "language_info": {
   "codemirror_mode": {
    "name": "ipython",
    "version": 3
   },
   "file_extension": ".py",
   "mimetype": "text/x-python",
   "name": "python",
   "nbconvert_exporter": "python",
   "pygments_lexer": "ipython3",
   "version": "3.9.7"
  }
 },
 "nbformat": 4,
 "nbformat_minor": 5
}
