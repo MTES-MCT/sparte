{
 "cells": [
  {
   "cell_type": "code",
   "execution_count": 68,
   "id": "440269e7",
   "metadata": {},
   "outputs": [],
   "source": [
    "from project.models import Project, Emprise, Plan, PlanEmprise\n",
    "from public_data.models import CommunesSybarval as Comm\n",
    "from django.contrib.gis.db.models import Union\n",
    "from django.contrib.gis.db.models.functions import Intersection, Area, Transform\n",
    "from users.models import User\n",
    "from django.conf import settings\n",
    "from django.core.serializers import serialize\n",
    "from prettytable import PrettyTable\n",
    "from django.db.models import F\n",
    "\n",
    "default_user = User.objects.get(email__startswith=\"swann\")"
   ]
  },
  {
   "cell_type": "code",
   "execution_count": 60,
   "id": "d5371353",
   "metadata": {},
   "outputs": [
    {
     "name": "stdout",
     "output_type": "stream",
     "text": [
      "+----+---------------+\n",
      "| id | Nom du projet |\n",
      "+----+---------------+\n",
      "| 1  | Eyre          |\n",
      "| 2  | COBAS         |\n",
      "| 3  | Test geo      |\n",
      "| 4  | COBAS_SHAPE   |\n",
      "+----+---------------+\n"
     ]
    }
   ],
   "source": [
    "# show available project to let you choose an id\n",
    "\n",
    "x = PrettyTable(field_names=[\"id\", \"Nom du projet\"], align=\"l\")\n",
    "x.add_rows([(p.id, p.name) for p in Project.objects.all().order_by(\"id\")])\n",
    "print(x)"
   ]
  },
  {
   "cell_type": "code",
   "execution_count": 64,
   "id": "a8704dad",
   "metadata": {
    "scrolled": true
   },
   "outputs": [
    {
     "name": "stdout",
     "output_type": "stream",
     "text": [
      "Project: COBAS\n",
      "=========================\n",
      "+--------------------+-----------+--------+-----------+---------+----------+------------+----------+\n",
      "| Commune            | coveredby | within | contained | crosses | disjoint | intersects | overlaps |\n",
      "+--------------------+-----------+--------+-----------+---------+----------+------------+----------+\n",
      "| Belin-Beliet       |           |        |           |         | OUI      |            |          |\n",
      "| Salles             |           |        |           |         |          | OUI        |          |\n",
      "| Audenge            |           |        |           |         | OUI      |            |          |\n",
      "| Marcheprime        |           |        |           |         | OUI      |            |          |\n",
      "| Andernos-les-Bains |           |        |           |         | OUI      |            |          |\n",
      "| Gujan-Mestras      | OUI       | OUI    | OUI       |         |          | OUI        |          |\n",
      "| Ares               |           |        |           |         | OUI      |            |          |\n",
      "| Le Barp            |           |        |           |         | OUI      |            |          |\n",
      "| Arcachon           | OUI       | OUI    | OUI       |         |          | OUI        |          |\n",
      "| Lanton             |           |        |           |         | OUI      |            |          |\n",
      "| Le Teich           | OUI       | OUI    | OUI       |         |          | OUI        |          |\n",
      "| Lege-Cap-Ferret    |           |        |           |         | OUI      |            |          |\n",
      "| La Teste-de-Buch   | OUI       | OUI    | OUI       |         |          | OUI        |          |\n",
      "| Saint-Magne        |           |        |           |         | OUI      |            |          |\n",
      "| Mios               |           |        |           |         |          | OUI        |          |\n",
      "| Biganos            |           |        |           |         |          | OUI        |          |\n",
      "| Lugos              |           |        |           |         | OUI      |            |          |\n",
      "+--------------------+-----------+--------+-----------+---------+----------+------------+----------+\n"
     ]
    }
   ],
   "source": [
    "# get project and combined emprise\n",
    "test_project = Project.objects.get(pk=2)\n",
    "print(f\"Project: {test_project.name}\")\n",
    "print(\"=========================\")\n",
    "geom = test_project.combined_emprise\n",
    "\n",
    "test_filters = [\"coveredby\", \"within\", \"contained\", \"crosses\", \"disjoint\", \"intersects\", \"overlaps\"]\n",
    "# contained : boss avec le rectangle englobant\n",
    "\n",
    "communes = {_._commune: [] for _ in Comm.objects.all()}\n",
    "\n",
    "for t in test_filters:\n",
    "    for city_name in communes.keys():\n",
    "        communes[city_name].append(\"\")\n",
    "    for city in Comm.objects.filter(**{f\"mpoly__{t}\": geom}):\n",
    "        communes[city._commune][-1] = \"OUI\"\n",
    "\n",
    "x = PrettyTable(field_names=[\"Commune\"]+test_filters, align=\"l\")\n",
    "for name, row in communes.items():\n",
    "    x.add_row([name]+row)\n",
    "print(x)"
   ]
  },
  {
   "cell_type": "code",
   "execution_count": 33,
   "id": "81353cfe",
   "metadata": {},
   "outputs": [
    {
     "name": "stdout",
     "output_type": "stream",
     "text": [
      "Salles 1.5660665856949803e-08 sq_m 3.4531283614048655e-22 sq_m\n",
      "Gujan-Mestras 5.733100597698255e-09 sq_m 0.005733080526963266 sq_m\n",
      "Arcachon 8.739505356990526e-10 sq_m 0.0008739417713880599 sq_m\n",
      "Le Teich 9.744691378456302e-09 sq_m 0.009744663421105871 sq_m\n",
      "La Teste-de-Buch 2.0035415737886224e-08 sq_m 0.020035362010338183 sq_m\n",
      "Mios 1.557048535973245e-08 sq_m 1.1700839029969788e-08 sq_m\n",
      "Biganos 5.805485982194225e-09 sq_m 4.044118039452189e-09 sq_m\n"
     ]
    }
   ],
   "source": [
    "from rest_framework_gis.serializers import GeoFeatureModelSerializer, GeometryField\n",
    "from rest_framework import serializers\n",
    "\n",
    "class CustomSerializer(GeoFeatureModelSerializer):\n",
    "    # intersection_area = serializers.FloatField()\n",
    "    intersection = GeometryField()\n",
    "    \n",
    "    class Meta:\n",
    "        model = Comm\n",
    "        geo_field = \"intersection\"\n",
    "        fields=('_commune', )\n",
    "\n",
    "test_project = Project.objects.get(pk=4)\n",
    "geom = test_project.combined_emprise\n",
    "qs = Comm.objects.filter(mpoly__intersects=geom)\n",
    "qs = qs.annotate(intersection=Intersection(\"mpoly\", geom))\n",
    "qs = qs.annotate(intersection_area=Area(\"intersection\"))\n",
    "qs = qs.annotate(area=Area(\"mpoly\"))\n",
    "for city in qs:\n",
    "    print(city._commune, city.area /  1000000, city.intersection_area)\n",
    "    \n",
    "serializer = CustomSerializer(qs, many=True)\n",
    "    \n",
    "data = serializer.data\n",
    "# data"
   ]
  },
  {
   "cell_type": "code",
   "execution_count": 27,
   "id": "9a399588",
   "metadata": {},
   "outputs": [
    {
     "data": {
      "application/vnd.jupyter.widget-view+json": {
       "model_id": "21e271a2def44037a3cae09a9203fbd0",
       "version_major": 2,
       "version_minor": 0
      },
      "text/plain": [
       "Map(center=[44.6586, -1.164], controls=(ZoomControl(options=['position', 'zoom_in_text', 'zoom_in_title', 'zoo…"
      ]
     },
     "metadata": {},
     "output_type": "display_data"
    }
   ],
   "source": [
    "import os\n",
    "import json\n",
    "import random\n",
    "import requests\n",
    "\n",
    "from ipyleaflet import Map, GeoJSON\n",
    "\n",
    "\n",
    "def random_color(feature):\n",
    "    return {\n",
    "        'color': 'black',\n",
    "        'fillColor': random.choice(['red', 'yellow', 'green', 'orange']),\n",
    "    }\n",
    "\n",
    "m = Map(center=(44.6586, -1.164), zoom=11)\n",
    "\n",
    "geo_json = GeoJSON(\n",
    "    data=data,\n",
    "    style={\n",
    "        'opacity': 1, 'dashArray': '9', 'fillOpacity': 0.1, 'weight': 1\n",
    "    },\n",
    "    hover_style={\n",
    "        'color': 'white', 'dashArray': '0', 'fillOpacity': 0.5\n",
    "    },\n",
    "    style_callback=random_color\n",
    ")\n",
    "m.add_layer(geo_json)\n",
    "\n",
    "m"
   ]
  },
  {
   "cell_type": "code",
   "execution_count": 32,
   "id": "66795b6d",
   "metadata": {},
   "outputs": [
    {
     "name": "stdout",
     "output_type": "stream",
     "text": [
      "137.21781664992756\n"
     ]
    }
   ],
   "source": [
    "# lambert 93 - EPSG 2154\n",
    "mios = Comm.objects.get(_commune=\"Mios\")\n",
    "\n",
    "def get_km_sq(mpoly): \n",
    "    \"\"\" \n",
    "    Returns the area in acres. \n",
    "    \"\"\" \n",
    "    # Convert our geographic polygons (in WGS84)\n",
    "    # into a local projection for France (here lambert 93 - EPSG 2154) \n",
    "    mpoly.transform(2154)\n",
    "    # we are in m² and we want km²\n",
    "    return mpoly.area / (1000 * 1000)\n",
    "\n",
    "print(get_km_sq(mios.mpoly))"
   ]
  },
  {
   "cell_type": "code",
   "execution_count": 71,
   "id": "bd51a5bc",
   "metadata": {},
   "outputs": [
    {
     "name": "stdout",
     "output_type": "stream",
     "text": [
      "+------------------+------------+-------------------------------+\n",
      "| Commune          | Aire (km²) | Aire (km²) intersection COBAS |\n",
      "+------------------+------------+-------------------------------+\n",
      "| Salles           |     138.20 |                          0.00 |\n",
      "| Gujan-Mestras    |      50.55 |                         50.55 |\n",
      "| Arcachon         |       7.70 |                          7.70 |\n",
      "| Le Teich         |      85.94 |                         85.94 |\n",
      "| La Teste-de-Buch |     176.76 |                        176.76 |\n",
      "| Mios             |     137.22 |                          0.00 |\n",
      "| Biganos          |      51.12 |                          0.00 |\n",
      "+------------------+------------+-------------------------------+\n"
     ]
    }
   ],
   "source": [
    "test_project = Project.objects.get(pk=4)\n",
    "geom = test_project.combined_emprise\n",
    "qs = Comm.objects.filter(mpoly__intersects=geom)\n",
    "qs = qs.annotate(mpoly_2=Transform(\"mpoly\", 2154))\n",
    "# qs = qs.annotate(intersection=Intersection(\"mpoly\", geom))\n",
    "# qs = qs.annotate(intersection2=Transform(\"intersection\", 2154))\n",
    "qs = qs.annotate(intersection=Transform(Intersection(\"mpoly\", geom), 2154))\n",
    "qs = qs.annotate(intersection_area=Area(\"intersection\"))\n",
    "qs = qs.annotate(area=Area(\"mpoly_2\"))\n",
    "\n",
    "x = PrettyTable()\n",
    "x.field_names = [\"Commune\", \"Aire (km²)\", \"Aire (km²) intersection COBAS\", ]\n",
    "x.align = \"r\"\n",
    "x.align[\"Commune\"] = \"l\"\n",
    "for city in qs:\n",
    "    x.add_row([city._commune, f\"{city.area.sq_km:.2f}\", f\"{city.intersection_area.sq_km:.2f}\"])\n",
    "print(x)"
   ]
  },
  {
   "cell_type": "code",
   "execution_count": 69,
   "id": "351df3d6",
   "metadata": {},
   "outputs": [
    {
     "name": "stdout",
     "output_type": "stream",
     "text": [
      "+------------------+------------+-------------------------------+\n",
      "| Commune          | Aire (km²) | Aire (km²) intersection COBAS |\n",
      "+------------------+------------+-------------------------------+\n",
      "| Arcachon         |       7.70 |                          7.70 |\n",
      "| Le Teich         |      85.94 |                         85.94 |\n",
      "| Gujan-Mestras    |      50.55 |                         50.55 |\n",
      "| La Teste-de-Buch |     176.76 |                        176.76 |\n",
      "+------------------+------------+-------------------------------+\n"
     ]
    }
   ],
   "source": [
    "qs = qs.filter(intersection_area__gt=F(\"area\") * 0.95 )\n",
    "\n",
    "x = PrettyTable()\n",
    "x.field_names = [\"Commune\", \"Aire (km²)\", \"Aire (km²) intersection COBAS\", ]\n",
    "x.align = \"r\"\n",
    "x.align[\"Commune\"] = \"l\"\n",
    "for city in qs:\n",
    "    x.add_row([city._commune, f\"{city.area.sq_km:.2f}\", f\"{city.intersection_area.sq_km:.2f}\"])\n",
    "print(x)"
   ]
  },
  {
   "cell_type": "code",
   "execution_count": 66,
   "id": "5f061400",
   "metadata": {},
   "outputs": [
    {
     "data": {
      "text/plain": [
       "{'sql': 'SELECT ST_Union(\"public_data_communessybarval\".\"mpoly\")::bytea AS \"mpoly\" FROM \"public_data_communessybarval\" WHERE \"public_data_communessybarval\".\"code_insee\" IN (\\'33527\\')',\n",
       " 'time': '0.001'}"
      ]
     },
     "execution_count": 66,
     "metadata": {},
     "output_type": "execute_result"
    }
   ],
   "source": [
    "from django.db import connection\n",
    "qs = Comm.objects.filter(code_insee__in=[\"33527\", ])\n",
    "qs = qs.aggregate(mpoly=Union(\"mpoly\"))\n",
    "connection.queries.pop()"
   ]
  },
  {
   "cell_type": "code",
   "execution_count": 7,
   "id": "106ca221",
   "metadata": {},
   "outputs": [
    {
     "ename": "TypeError",
     "evalue": "Object of type Area is not JSON serializable",
     "output_type": "error",
     "traceback": [
      "\u001b[0;31m---------------------------------------------------------------------------\u001b[0m",
      "\u001b[0;31mTypeError\u001b[0m                                 Traceback (most recent call last)",
      "\u001b[0;32m/tmp/ipykernel_63/4153454999.py\u001b[0m in \u001b[0;36m<module>\u001b[0;34m\u001b[0m\n\u001b[1;32m      3\u001b[0m \u001b[0mp\u001b[0m \u001b[0;34m=\u001b[0m \u001b[0mProject\u001b[0m\u001b[0;34m.\u001b[0m\u001b[0mobjects\u001b[0m\u001b[0;34m.\u001b[0m\u001b[0mget\u001b[0m\u001b[0;34m(\u001b[0m\u001b[0mname\u001b[0m\u001b[0;34m=\u001b[0m\u001b[0;34m\"COBAS\"\u001b[0m\u001b[0;34m)\u001b[0m\u001b[0;34m\u001b[0m\u001b[0;34m\u001b[0m\u001b[0m\n\u001b[1;32m      4\u001b[0m \u001b[0;34m\u001b[0m\u001b[0m\n\u001b[0;32m----> 5\u001b[0;31m \u001b[0mevaluate_couverture_and_usage\u001b[0m\u001b[0;34m(\u001b[0m\u001b[0mp\u001b[0m\u001b[0;34m)\u001b[0m\u001b[0;34m\u001b[0m\u001b[0;34m\u001b[0m\u001b[0m\n\u001b[0m\u001b[1;32m      6\u001b[0m \u001b[0;34m\u001b[0m\u001b[0m\n\u001b[1;32m      7\u001b[0m \u001b[0mp\u001b[0m\u001b[0;34m.\u001b[0m\u001b[0mcouverture_usage\u001b[0m\u001b[0;34m\u001b[0m\u001b[0;34m\u001b[0m\u001b[0m\n",
      "\u001b[0;32m/app/project/tasks/project.py\u001b[0m in \u001b[0;36mevaluate_couverture_and_usage\u001b[0;34m(project)\u001b[0m\n\u001b[1;32m     97\u001b[0m             \u001b[0;34m\"usage\"\u001b[0m\u001b[0;34m:\u001b[0m \u001b[0mOcsge2018\u001b[0m\u001b[0;34m.\u001b[0m\u001b[0mget_groupby\u001b[0m\u001b[0;34m(\u001b[0m\u001b[0;34m\"usage\"\u001b[0m\u001b[0;34m,\u001b[0m \u001b[0mcoveredby\u001b[0m\u001b[0;34m=\u001b[0m\u001b[0mgeom\u001b[0m\u001b[0;34m)\u001b[0m\u001b[0;34m,\u001b[0m\u001b[0;34m\u001b[0m\u001b[0;34m\u001b[0m\u001b[0m\n\u001b[1;32m     98\u001b[0m         },\n\u001b[0;32m---> 99\u001b[0;31m     }\n\u001b[0m\u001b[1;32m    100\u001b[0m     \u001b[0mproject\u001b[0m\u001b[0;34m.\u001b[0m\u001b[0mcouverture_usage\u001b[0m \u001b[0;34m=\u001b[0m \u001b[0mjson\u001b[0m\u001b[0;34m.\u001b[0m\u001b[0mdumps\u001b[0m\u001b[0;34m(\u001b[0m\u001b[0mdata\u001b[0m\u001b[0;34m)\u001b[0m\u001b[0;34m\u001b[0m\u001b[0;34m\u001b[0m\u001b[0m\n",
      "\u001b[0;32m/usr/local/lib/python3.9/json/__init__.py\u001b[0m in \u001b[0;36mdumps\u001b[0;34m(obj, skipkeys, ensure_ascii, check_circular, allow_nan, cls, indent, separators, default, sort_keys, **kw)\u001b[0m\n\u001b[1;32m    229\u001b[0m         \u001b[0mcls\u001b[0m \u001b[0;32mis\u001b[0m \u001b[0;32mNone\u001b[0m \u001b[0;32mand\u001b[0m \u001b[0mindent\u001b[0m \u001b[0;32mis\u001b[0m \u001b[0;32mNone\u001b[0m \u001b[0;32mand\u001b[0m \u001b[0mseparators\u001b[0m \u001b[0;32mis\u001b[0m \u001b[0;32mNone\u001b[0m \u001b[0;32mand\u001b[0m\u001b[0;34m\u001b[0m\u001b[0;34m\u001b[0m\u001b[0m\n\u001b[1;32m    230\u001b[0m         default is None and not sort_keys and not kw):\n\u001b[0;32m--> 231\u001b[0;31m         \u001b[0;32mreturn\u001b[0m \u001b[0m_default_encoder\u001b[0m\u001b[0;34m.\u001b[0m\u001b[0mencode\u001b[0m\u001b[0;34m(\u001b[0m\u001b[0mobj\u001b[0m\u001b[0;34m)\u001b[0m\u001b[0;34m\u001b[0m\u001b[0;34m\u001b[0m\u001b[0m\n\u001b[0m\u001b[1;32m    232\u001b[0m     \u001b[0;32mif\u001b[0m \u001b[0mcls\u001b[0m \u001b[0;32mis\u001b[0m \u001b[0;32mNone\u001b[0m\u001b[0;34m:\u001b[0m\u001b[0;34m\u001b[0m\u001b[0;34m\u001b[0m\u001b[0m\n\u001b[1;32m    233\u001b[0m         \u001b[0mcls\u001b[0m \u001b[0;34m=\u001b[0m \u001b[0mJSONEncoder\u001b[0m\u001b[0;34m\u001b[0m\u001b[0;34m\u001b[0m\u001b[0m\n",
      "\u001b[0;32m/usr/local/lib/python3.9/json/encoder.py\u001b[0m in \u001b[0;36mencode\u001b[0;34m(self, o)\u001b[0m\n\u001b[1;32m    197\u001b[0m         \u001b[0;31m# exceptions aren't as detailed.  The list call should be roughly\u001b[0m\u001b[0;34m\u001b[0m\u001b[0;34m\u001b[0m\u001b[0m\n\u001b[1;32m    198\u001b[0m         \u001b[0;31m# equivalent to the PySequence_Fast that ''.join() would do.\u001b[0m\u001b[0;34m\u001b[0m\u001b[0;34m\u001b[0m\u001b[0m\n\u001b[0;32m--> 199\u001b[0;31m         \u001b[0mchunks\u001b[0m \u001b[0;34m=\u001b[0m \u001b[0mself\u001b[0m\u001b[0;34m.\u001b[0m\u001b[0miterencode\u001b[0m\u001b[0;34m(\u001b[0m\u001b[0mo\u001b[0m\u001b[0;34m,\u001b[0m \u001b[0m_one_shot\u001b[0m\u001b[0;34m=\u001b[0m\u001b[0;32mTrue\u001b[0m\u001b[0;34m)\u001b[0m\u001b[0;34m\u001b[0m\u001b[0;34m\u001b[0m\u001b[0m\n\u001b[0m\u001b[1;32m    200\u001b[0m         \u001b[0;32mif\u001b[0m \u001b[0;32mnot\u001b[0m \u001b[0misinstance\u001b[0m\u001b[0;34m(\u001b[0m\u001b[0mchunks\u001b[0m\u001b[0;34m,\u001b[0m \u001b[0;34m(\u001b[0m\u001b[0mlist\u001b[0m\u001b[0;34m,\u001b[0m \u001b[0mtuple\u001b[0m\u001b[0;34m)\u001b[0m\u001b[0;34m)\u001b[0m\u001b[0;34m:\u001b[0m\u001b[0;34m\u001b[0m\u001b[0;34m\u001b[0m\u001b[0m\n\u001b[1;32m    201\u001b[0m             \u001b[0mchunks\u001b[0m \u001b[0;34m=\u001b[0m \u001b[0mlist\u001b[0m\u001b[0;34m(\u001b[0m\u001b[0mchunks\u001b[0m\u001b[0;34m)\u001b[0m\u001b[0;34m\u001b[0m\u001b[0;34m\u001b[0m\u001b[0m\n",
      "\u001b[0;32m/usr/local/lib/python3.9/json/encoder.py\u001b[0m in \u001b[0;36miterencode\u001b[0;34m(self, o, _one_shot)\u001b[0m\n\u001b[1;32m    255\u001b[0m                 \u001b[0mself\u001b[0m\u001b[0;34m.\u001b[0m\u001b[0mkey_separator\u001b[0m\u001b[0;34m,\u001b[0m \u001b[0mself\u001b[0m\u001b[0;34m.\u001b[0m\u001b[0mitem_separator\u001b[0m\u001b[0;34m,\u001b[0m \u001b[0mself\u001b[0m\u001b[0;34m.\u001b[0m\u001b[0msort_keys\u001b[0m\u001b[0;34m,\u001b[0m\u001b[0;34m\u001b[0m\u001b[0;34m\u001b[0m\u001b[0m\n\u001b[1;32m    256\u001b[0m                 self.skipkeys, _one_shot)\n\u001b[0;32m--> 257\u001b[0;31m         \u001b[0;32mreturn\u001b[0m \u001b[0m_iterencode\u001b[0m\u001b[0;34m(\u001b[0m\u001b[0mo\u001b[0m\u001b[0;34m,\u001b[0m \u001b[0;36m0\u001b[0m\u001b[0;34m)\u001b[0m\u001b[0;34m\u001b[0m\u001b[0;34m\u001b[0m\u001b[0m\n\u001b[0m\u001b[1;32m    258\u001b[0m \u001b[0;34m\u001b[0m\u001b[0m\n\u001b[1;32m    259\u001b[0m def _make_iterencode(markers, _default, _encoder, _indent, _floatstr,\n",
      "\u001b[0;32m/usr/local/lib/python3.9/json/encoder.py\u001b[0m in \u001b[0;36mdefault\u001b[0;34m(self, o)\u001b[0m\n\u001b[1;32m    177\u001b[0m \u001b[0;34m\u001b[0m\u001b[0m\n\u001b[1;32m    178\u001b[0m         \"\"\"\n\u001b[0;32m--> 179\u001b[0;31m         raise TypeError(f'Object of type {o.__class__.__name__} '\n\u001b[0m\u001b[1;32m    180\u001b[0m                         f'is not JSON serializable')\n\u001b[1;32m    181\u001b[0m \u001b[0;34m\u001b[0m\u001b[0m\n",
      "\u001b[0;31mTypeError\u001b[0m: Object of type Area is not JSON serializable"
     ]
    }
   ],
   "source": [
    "\n"
   ]
  },
  {
   "cell_type": "code",
   "execution_count": 3,
   "id": "48639f04",
   "metadata": {},
   "outputs": [
    {
     "data": {
      "text/plain": [
       "<Project: COBAS>"
      ]
     },
     "execution_count": 3,
     "metadata": {},
     "output_type": "execute_result"
    }
   ],
   "source": [
    "evaluate_couverture_and_usage.delay(p)"
   ]
  },
  {
   "cell_type": "code",
   "execution_count": null,
   "id": "cba42200",
   "metadata": {},
   "outputs": [],
   "source": []
  }
 ],
 "metadata": {
  "kernelspec": {
   "display_name": "Django Shell-Plus",
   "language": "python",
   "name": "django_extensions"
  },
  "language_info": {
   "codemirror_mode": {
    "name": "ipython",
    "version": 3
   },
   "file_extension": ".py",
   "mimetype": "text/x-python",
   "name": "python",
   "nbconvert_exporter": "python",
   "pygments_lexer": "ipython3",
   "version": "3.9.7"
  }
 },
 "nbformat": 4,
 "nbformat_minor": 5
}
