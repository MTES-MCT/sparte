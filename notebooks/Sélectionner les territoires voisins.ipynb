{
 "cells": [
  {
   "cell_type": "code",
   "execution_count": 1,
   "id": "708339a3",
   "metadata": {},
   "outputs": [
    {
     "data": {
      "text/plain": [
       "<Departement: Gers>"
      ]
     },
     "execution_count": 1,
     "metadata": {},
     "output_type": "execute_result"
    }
   ],
   "source": [
    "from public_data.models import Departement, Epci\n",
    "from ipyleaflet import Map, Marker, GeoJSON, Polygon as iPolygon, Icon, WKTLayer\n",
    "from rest_framework_gis.serializers import GeoFeatureModelSerializer\n",
    "from django.contrib.gis.db.models import Union\n",
    "\n",
    "class SinglePolySerializer(GeoFeatureModelSerializer):\n",
    "    class Meta:\n",
    "        model = RefPlan\n",
    "        geo_field = \"mpoly\"\n",
    "        fields=()\n",
    "\n",
    "gers = Departement.objects.get(name=\"Gers\")\n",
    "gers"
   ]
  },
  {
   "cell_type": "code",
   "execution_count": 2,
   "id": "e0a85738",
   "metadata": {},
   "outputs": [
    {
     "data": {
      "application/vnd.jupyter.widget-view+json": {
       "model_id": "6d559300bed248c08ed151430d7f4b56",
       "version_major": 2,
       "version_minor": 0
      },
      "text/plain": [
       "Map(center=[43.692902025099244, 0.45289513340753274], controls=(ZoomControl(options=['position', 'zoom_in_text…"
      ]
     },
     "metadata": {},
     "output_type": "display_data"
    }
   ],
   "source": [
    "center = (gers.mpoly.centroid.y, gers.mpoly.centroid.x)\n",
    "m = Map(center=center, zoom=7)\n",
    "\n",
    "m.add_layer(Marker(location=center))\n",
    "\n",
    "serializer = SinglePolySerializer(Departement.objects.filter(mpoly__touches=gers.mpoly), many=True)\n",
    "m.add_layer(GeoJSON(\n",
    "    data=serializer.data,\n",
    "    style={'color': 'yellow', 'fillOpacity': 0.3, 'weight': 1},\n",
    "))\n",
    "\n",
    "m"
   ]
  },
  {
   "cell_type": "code",
   "execution_count": 3,
   "id": "beb7987d",
   "metadata": {},
   "outputs": [
    {
     "data": {
      "application/vnd.jupyter.widget-view+json": {
       "model_id": "098ab1b8b9464c52930268ef5be61cd8",
       "version_major": 2,
       "version_minor": 0
      },
      "text/plain": [
       "Map(center=[43.68577116408002, -0.2949701089042165], controls=(ZoomControl(options=['position', 'zoom_in_text'…"
      ]
     },
     "metadata": {},
     "output_type": "display_data"
    }
   ],
   "source": [
    "epci = Epci.objects.get(name=\"CC d'Aire-sur-l'Adour\")\n",
    "\n",
    "center = (epci.mpoly.centroid.y, epci.mpoly.centroid.x)\n",
    "m = Map(center=center, zoom=9)\n",
    "m.add_layer(Marker(location=center))\n",
    "\n",
    "serializer = SinglePolySerializer(Epci.objects.filter(mpoly__touches=epci.mpoly), many=True)\n",
    "m.add_layer(GeoJSON(\n",
    "    data=serializer.data,\n",
    "    style={'color': 'green', 'fillOpacity': 0.3, 'weight': 1},\n",
    "))\n",
    "\n",
    "m"
   ]
  },
  {
   "cell_type": "code",
   "execution_count": 4,
   "id": "e2f5231a",
   "metadata": {},
   "outputs": [
    {
     "data": {
      "application/vnd.jupyter.widget-view+json": {
       "model_id": "87bfeb6ba08948bb97ac1b0ba5aa8994",
       "version_major": 2,
       "version_minor": 0
      },
      "text/plain": [
       "Map(center=[43.68577116408002, -0.2949701089042165], controls=(ZoomControl(options=['position', 'zoom_in_text'…"
      ]
     },
     "metadata": {},
     "output_type": "display_data"
    }
   ],
   "source": [
    "center = (epci.mpoly.centroid.y, epci.mpoly.centroid.x)\n",
    "m = Map(center=center, zoom=7)\n",
    "\n",
    "m.add_layer(Marker(location=center))\n",
    "\n",
    "serializer = SinglePolySerializer(Departement.objects.filter(mpoly__touches=epci.mpoly), many=True)\n",
    "m.add_layer(GeoJSON(\n",
    "    data=serializer.data,\n",
    "    style={'color': 'yellow', 'fillOpacity': 0.3, 'weight': 1},\n",
    "))\n",
    "\n",
    "\n",
    "serializer = SinglePolySerializer(epci)\n",
    "m.add_layer(GeoJSON(\n",
    "    data=serializer.data,\n",
    "    style={'color': 'red', 'fillOpacity': 0.3, 'weight': 1},\n",
    "))\n",
    "\n",
    "m"
   ]
  },
  {
   "cell_type": "code",
   "execution_count": 5,
   "id": "e2613ca8",
   "metadata": {},
   "outputs": [
    {
     "data": {
      "application/vnd.jupyter.widget-view+json": {
       "model_id": "87bfeb6ba08948bb97ac1b0ba5aa8994",
       "version_major": 2,
       "version_minor": 0
      },
      "text/plain": [
       "Map(center=[43.68577116408002, -0.2949701089042165], controls=(ZoomControl(options=['position', 'zoom_in_text'…"
      ]
     },
     "metadata": {},
     "output_type": "display_data"
    }
   ],
   "source": [
    "m"
   ]
  },
  {
   "cell_type": "code",
   "execution_count": null,
   "id": "ef6856a1",
   "metadata": {},
   "outputs": [],
   "source": []
  },
  {
   "cell_type": "code",
   "execution_count": null,
   "id": "3d964466",
   "metadata": {},
   "outputs": [],
   "source": []
  },
  {
   "cell_type": "code",
   "execution_count": null,
   "id": "d2ab419f",
   "metadata": {},
   "outputs": [],
   "source": []
  },
  {
   "cell_type": "code",
   "execution_count": null,
   "id": "669086d6",
   "metadata": {},
   "outputs": [],
   "source": []
  }
 ],
 "metadata": {
  "kernelspec": {
   "display_name": "Django Shell-Plus",
   "language": "python",
   "name": "django_extensions"
  },
  "language_info": {
   "codemirror_mode": {
    "name": "ipython",
    "version": 3
   },
   "file_extension": ".py",
   "mimetype": "text/x-python",
   "name": "python",
   "nbconvert_exporter": "python",
   "pygments_lexer": "ipython3",
   "version": "3.9.7"
  }
 },
 "nbformat": 4,
 "nbformat_minor": 5
}
