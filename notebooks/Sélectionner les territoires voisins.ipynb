{
 "cells": [
  {
   "cell_type": "code",
   "execution_count": 1,
   "id": "708339a3",
   "metadata": {},
   "outputs": [
    {
     "data": {
      "text/plain": [
       "<Departement: Gers>"
      ]
     },
     "execution_count": 1,
     "metadata": {},
     "output_type": "execute_result"
    }
   ],
   "source": [
    "from public_data.models import Departement, Epci\n",
    "from ipyleaflet import Map, Marker, GeoJSON, Polygon as iPolygon, Icon, WKTLayer\n",
    "from rest_framework_gis.serializers import GeoFeatureModelSerializer\n",
    "\n",
    "class SinglePolySerializer(GeoFeatureModelSerializer):\n",
    "    class Meta:\n",
    "        model = RefPlan\n",
    "        geo_field = \"mpoly\"\n",
    "        fields=()\n",
    "\n",
    "gers = Departement.objects.get(name=\"Gers\")\n",
    "gers"
   ]
  },
  {
   "cell_type": "code",
   "execution_count": 2,
   "id": "e0a85738",
   "metadata": {},
   "outputs": [
    {
     "data": {
      "application/vnd.jupyter.widget-view+json": {
       "model_id": "47b53f4fa3ac4a66b14290d2f6efd377",
       "version_major": 2,
       "version_minor": 0
      },
      "text/plain": [
       "Map(center=[43.692902025099244, 0.45289513340753274], controls=(ZoomControl(options=['position', 'zoom_in_text…"
      ]
     },
     "metadata": {},
     "output_type": "display_data"
    }
   ],
   "source": [
    "center = (gers.mpoly.centroid.y, gers.mpoly.centroid.x)\n",
    "m = Map(center=center, zoom=7)\n",
    "\n",
    "m.add_layer(Marker(location=center))\n",
    "\n",
    "serializer = SinglePolySerializer(Departement.objects.filter(mpoly__touches=gers.mpoly), many=True)\n",
    "m.add_layer(GeoJSON(\n",
    "    data=serializer.data,\n",
    "    style={'color': 'yellow', 'fillOpacity': 0.3, 'weight': 1},\n",
    "))\n",
    "\n",
    "m"
   ]
  },
  {
   "cell_type": "code",
   "execution_count": 3,
   "id": "beb7987d",
   "metadata": {},
   "outputs": [
    {
     "data": {
      "application/vnd.jupyter.widget-view+json": {
       "model_id": "82b93d2e22784cef9b8ab53c57259399",
       "version_major": 2,
       "version_minor": 0
      },
      "text/plain": [
       "Map(center=[43.68577116408002, -0.2949701089042165], controls=(ZoomControl(options=['position', 'zoom_in_text'…"
      ]
     },
     "metadata": {},
     "output_type": "display_data"
    }
   ],
   "source": [
    "epci = Epci.objects.get(name=\"CC d'Aire-sur-l'Adour\")\n",
    "\n",
    "center = (epci.mpoly.centroid.y, epci.mpoly.centroid.x)\n",
    "m = Map(center=center, zoom=9)\n",
    "m.add_layer(Marker(location=center))\n",
    "\n",
    "serializer = SinglePolySerializer(Epci.objects.filter(mpoly__touches=epci.mpoly), many=True)\n",
    "m.add_layer(GeoJSON(\n",
    "    data=serializer.data,\n",
    "    style={'color': 'green', 'fillOpacity': 0.3, 'weight': 1},\n",
    "))\n",
    "\n",
    "m"
   ]
  },
  {
   "cell_type": "code",
   "execution_count": 6,
   "id": "e2f5231a",
   "metadata": {},
   "outputs": [
    {
     "data": {
      "application/vnd.jupyter.widget-view+json": {
       "model_id": "189c8f1eb80c427fa05731d56a30dc0d",
       "version_major": 2,
       "version_minor": 0
      },
      "text/plain": [
       "Map(center=[43.68577116408002, -0.2949701089042165], controls=(ZoomControl(options=['position', 'zoom_in_text'…"
      ]
     },
     "metadata": {},
     "output_type": "display_data"
    }
   ],
   "source": [
    "center = (epci.mpoly.centroid.y, epci.mpoly.centroid.x)\n",
    "m = Map(center=center, zoom=7)\n",
    "\n",
    "m.add_layer(Marker(location=center))\n",
    "\n",
    "serializer = SinglePolySerializer(Departement.objects.filter(mpoly__touches=epci.mpoly), many=True)\n",
    "m.add_layer(GeoJSON(\n",
    "    data=serializer.data,\n",
    "    style={'color': 'yellow', 'fillOpacity': 0.3, 'weight': 1},\n",
    "))\n",
    "\n",
    "\n",
    "serializer = SinglePolySerializer(epci)\n",
    "m.add_layer(GeoJSON(\n",
    "    data=serializer.data,\n",
    "    style={'color': 'red', 'fillOpacity': 0.3, 'weight': 1},\n",
    "))\n",
    "\n",
    "m"
   ]
  },
  {
   "cell_type": "code",
   "execution_count": 16,
   "id": "e2613ca8",
   "metadata": {},
   "outputs": [
    {
     "data": {
      "text/plain": [
       "{1, 3, 4}"
      ]
     },
     "execution_count": 16,
     "metadata": {},
     "output_type": "execute_result"
    }
   ],
   "source": [
    "a = {1, 2, 3}\n",
    "a.add(4)\n",
    "a.add(3)\n",
    "a.remove(2)\n",
    "a"
   ]
  },
  {
   "cell_type": "code",
   "execution_count": 17,
   "id": "ef6856a1",
   "metadata": {},
   "outputs": [
    {
     "ename": "KeyError",
     "evalue": "2",
     "output_type": "error",
     "traceback": [
      "\u001b[0;31m---------------------------------------------------------------------------\u001b[0m",
      "\u001b[0;31mKeyError\u001b[0m                                  Traceback (most recent call last)",
      "Input \u001b[0;32mIn [17]\u001b[0m, in \u001b[0;36m<cell line: 1>\u001b[0;34m()\u001b[0m\n\u001b[0;32m----> 1\u001b[0m \u001b[43ma\u001b[49m\u001b[38;5;241;43m.\u001b[39;49m\u001b[43mremove\u001b[49m\u001b[43m(\u001b[49m\u001b[38;5;241;43m2\u001b[39;49m\u001b[43m)\u001b[49m\n",
      "\u001b[0;31mKeyError\u001b[0m: 2"
     ]
    }
   ],
   "source": [
    "a.remove(2)"
   ]
  },
  {
   "cell_type": "code",
   "execution_count": 20,
   "id": "3d964466",
   "metadata": {},
   "outputs": [
    {
     "data": {
      "text/plain": [
       "[None, None, None]"
      ]
     },
     "execution_count": 20,
     "metadata": {},
     "output_type": "execute_result"
    }
   ],
   "source": [
    "b = set()\n",
    "[b.add(_) for _ in a]"
   ]
  },
  {
   "cell_type": "code",
   "execution_count": null,
   "id": "d2ab419f",
   "metadata": {},
   "outputs": [],
   "source": []
  }
 ],
 "metadata": {
  "kernelspec": {
   "display_name": "Django Shell-Plus",
   "language": "python",
   "name": "django_extensions"
  },
  "language_info": {
   "codemirror_mode": {
    "name": "ipython",
    "version": 3
   },
   "file_extension": ".py",
   "mimetype": "text/x-python",
   "name": "python",
   "nbconvert_exporter": "python",
   "pygments_lexer": "ipython3",
   "version": "3.9.7"
  }
 },
 "nbformat": 4,
 "nbformat_minor": 5
}
