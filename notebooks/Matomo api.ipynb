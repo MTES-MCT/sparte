{
 "cells": [
  {
   "cell_type": "code",
   "execution_count": null,
   "id": "23ee8534",
   "metadata": {},
   "outputs": [],
   "source": [
    "from prettytable import PrettyTable\n",
    "import os\n",
    "os.environ[\"DJANGO_ALLOW_ASYNC_UNSAFE\"] = \"true\""
   ]
  },
  {
   "cell_type": "code",
   "execution_count": null,
   "id": "a32c8c06",
   "metadata": {},
   "outputs": [],
   "source": [
    "from datetime import date, timedelta\n",
    "import json\n",
    "import requests\n",
    "\n",
    "\n",
    "class DefaultFilter:\n",
    "    def filter(self, data):\n",
    "        return data\n",
    "\n",
    "\n",
    "class ReFilter(DefaultFilter):\n",
    "    def __init__(self, pattern, key):\n",
    "        self.key = key\n",
    "        self.pattern = pattern\n",
    "        self.re_pattern = re.compile(pattern)\n",
    "\n",
    "    def filter(self, data):\n",
    "        return [row for row in data if self.re_pattern.search(row[key])]\n",
    "\n",
    "\n",
    "class DefaultReader:\n",
    "    def __init__(self):\n",
    "        self.format = \"xml\"\n",
    "\n",
    "    def decode(self):\n",
    "        return request.content\n",
    "\n",
    "\n",
    "class JsonReader:\n",
    "    def __init__(self):\n",
    "        self.format = \"json\"\n",
    "\n",
    "    def decode(self, request):\n",
    "        return json.loads(request.content)\n",
    "\n",
    "\n",
    "class Matomo:\n",
    "    def __init__(self, reader=DefaultReader, period=None, filter=None, **init_params):\n",
    "        self.url = \"https://stats.data.gouv.fr/index.php\"\n",
    "        self.parameters = {\n",
    "            \"module\": \"API\",\n",
    "            \"method\": \"Actions.getPageUrls\",\n",
    "            \"idSite\": 236,\n",
    "            \"period\": \"day\",\n",
    "            \"date\": \"today\",\n",
    "            \"token_auth\": \"e13428c4dc3dcb05b0b5cb0cbbf31714\",\n",
    "            \"expanded\": 1,\n",
    "            \"flat\": 1,\n",
    "        }\n",
    "        self.set_period(*period)\n",
    "        self.parameters.update(init_params)\n",
    "        self.reader = reader()\n",
    "        self.parameters.update({\"format\": self.reader.format})\n",
    "        if filter:\n",
    "            self.filter = filter\n",
    "        else:\n",
    "            self.filter = lambda x: x\n",
    "\n",
    "    def set_period(self, *args):\n",
    "        if args is None:\n",
    "            return\n",
    "        start, end = min(args), max(args)\n",
    "        self.parameters.update({\n",
    "            \"period\": \"range\",\n",
    "            \"date\": f\"{start.strftime('%Y-%m-%d')},{end.strftime('%Y-%m-%d')}\"\n",
    "        })\n",
    "\n",
    "    def send(self):\n",
    "        request = requests.get(self.url, params=self.parameters)\n",
    "        return self.reader.decode(request)"
   ]
  },
  {
   "cell_type": "code",
   "execution_count": null,
   "id": "79e18ad0",
   "metadata": {},
   "outputs": [],
   "source": [
    "mato = Matomo(reader=JsonReader, period=(date(2022, 6, 20), date(2022, 6, 1)))\n",
    "data = mato.send()\n",
    "data"
   ]
  },
  {
   "cell_type": "code",
   "execution_count": null,
   "id": "686a3d1b",
   "metadata": {},
   "outputs": [],
   "source": [
    "x = PrettyTable(field_names=[\"page\", \"visits\", \"visiteurs\"], align=\"l\")\n",
    "x.add_rows((row[\"label\"][:75], row[\"nb_hits\"], row[\"nb_visits\"]) for row in data)\n",
    "print(x)"
   ]
  },
  {
   "cell_type": "markdown",
   "id": "c048db06",
   "metadata": {},
   "source": [
    "Plan de taggage\n",
    "\n",
    "page => indicateur\n",
    "index => visites de l'app"
   ]
  },
  {
   "cell_type": "code",
   "execution_count": null,
   "id": "a9df0bcf",
   "metadata": {},
   "outputs": [],
   "source": [
    "import re\n",
    "from collections import defaultdict\n",
    "\n",
    "re_map = re.compile(r\"(consommation|couverture|synthesis|usage|artificialisation)\")\n",
    "\n",
    "total = defaultdict(lambda: 0)\n",
    "for row in data:\n",
    "    match = re_map.search(row[\"label\"])\n",
    "    if match:\n",
    "        total[match.group(0)] += row[\"nb_hits\"]\n",
    "        \n",
    "\n",
    "x = PrettyTable(field_names=[\"Rapport\", \"Hits\"], align=\"l\")\n",
    "x.add_rows((k, v) for k, v in total.items())\n",
    "print(x)"
   ]
  },
  {
   "cell_type": "code",
   "execution_count": null,
   "id": "633941d5",
   "metadata": {},
   "outputs": [],
   "source": [
    "[row[\"label\"] for row in data]"
   ]
  },
  {
   "cell_type": "code",
   "execution_count": null,
   "id": "f858fcc2",
   "metadata": {},
   "outputs": [],
   "source": [
    "re_map.search(\"/project/2396/map\").group(0)"
   ]
  },
  {
   "cell_type": "code",
   "execution_count": null,
   "id": "104d623a",
   "metadata": {},
   "outputs": [],
   "source": [
    "today = date.today()\n",
    "today"
   ]
  },
  {
   "cell_type": "code",
   "execution_count": null,
   "id": "8a77b282",
   "metadata": {},
   "outputs": [],
   "source": [
    "first = date(year=today.year - 1, month=today.month + 1, day=1)\n",
    "first"
   ]
  },
  {
   "cell_type": "code",
   "execution_count": null,
   "id": "d50212ec",
   "metadata": {},
   "outputs": [],
   "source": [
    "from django.db.models import Subquery, OuterRef, F\n",
    "from project.models import Request, Emprise\n",
    "from public_data.models import Region\n",
    "from utils.colors import get_color_gradient\n",
    "\n",
    "project_list = Request.objects.all().values_list(\"project\", flat=True)\n",
    "emprise_list = \n",
    "qs_regions = Region.objects.all().annotate(total=Subquery(emprise_list[:1])).order_by(\"total\")\n",
    "colors = get_color_gradient(scale=qs.regions.count())\n",
    "for region in qs_regions:\n",
    "    region.map_color = colors.pop(0)\n",
    "for region in qs_regions:\n",
    "    print(region.name, region.map_color)"
   ]
  },
  {
   "cell_type": "code",
   "execution_count": null,
   "id": "ed35543d",
   "metadata": {},
   "outputs": [],
   "source": [
    "project_list = Request.objects.all().values_list(\"project\", flat=True)\n",
    "sub_qs = Emprise.objects.filter(mpoly__contained=OuterRef(\"mpoly\")).annotate(total=Count(\"project_id\", distinct=True)).values(\"total\")[:1]\n",
    "qs = (\n",
    "    Region.objects\n",
    "    .annotate(total=Subquery(sub_qs))\n",
    "    .order_by(\"total\")\n",
    ")\n",
    "\n",
    "for region in qs:\n",
    "    print(region.name, region.total)"
   ]
  },
  {
   "cell_type": "code",
   "execution_count": null,
   "id": "552d72a9",
   "metadata": {},
   "outputs": [],
   "source": []
  },
  {
   "cell_type": "code",
   "execution_count": null,
   "id": "3c409d3d",
   "metadata": {},
   "outputs": [],
   "source": [
    "Emprise.objects.filter(\n",
    "    # project__in=project_list,\n",
    "    mpoly__intersects=region.mpoly\n",
    ").annotate(total=Count(\"project_id\", distinct=True)).values(\"total\")[:1]"
   ]
  },
  {
   "cell_type": "code",
   "execution_count": null,
   "id": "72507b6f",
   "metadata": {},
   "outputs": [],
   "source": [
    "Request.objects.all().values_list(\"project\", flat=True)"
   ]
  },
  {
   "cell_type": "code",
   "execution_count": null,
   "id": "a5c3da46",
   "metadata": {},
   "outputs": [],
   "source": []
  }
 ],
 "metadata": {
  "kernelspec": {
   "display_name": "Django Shell-Plus",
   "language": "python",
   "name": "django_extensions"
  },
  "language_info": {
   "codemirror_mode": {
    "name": "ipython",
    "version": 3
   },
   "file_extension": ".py",
   "mimetype": "text/x-python",
   "name": "python",
   "nbconvert_exporter": "python",
   "pygments_lexer": "ipython3",
   "version": "3.9.7"
  }
 },
 "nbformat": 4,
 "nbformat_minor": 5
}
