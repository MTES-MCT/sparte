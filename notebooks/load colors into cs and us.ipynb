{
 "cells": [
  {
   "cell_type": "code",
   "execution_count": 6,
   "id": "8981d890",
   "metadata": {},
   "outputs": [
    {
     "data": {
      "text/plain": [
       "{'US1.1': ['255', '255', '168'],\n",
       " 'US1.2': ['0', '128', '0'],\n",
       " 'US1.3': ['166', '0', '204'],\n",
       " 'US1.4': ['0', '0', '153'],\n",
       " 'US1.5': ['153', '102', '51'],\n",
       " 'US235': ['230', '0', '77'],\n",
       " 'US4.1.1': ['204', '0', '0'],\n",
       " 'US4.1.2': ['90', '90', '90'],\n",
       " 'US4.1.3': ['230', '204', '230'],\n",
       " 'US4.1.4': ['0', '102', '255'],\n",
       " 'US4.1.5': ['102', '0', '51'],\n",
       " 'US4.2': ['255', '0', '0'],\n",
       " 'US4.3': ['255', '75', '0'],\n",
       " 'US6.1': ['255', '77', '255'],\n",
       " 'US6.2': ['64', '64', '64'],\n",
       " 'US6.3': ['240', '240', '40'],\n",
       " 'US6.6': ['255', '204', '0']}"
      ]
     },
     "execution_count": 6,
     "metadata": {},
     "output_type": "execute_result"
    }
   ],
   "source": [
    "from colour import Color\n",
    "from public_data.models import CouvertureSol, UsageSol\n",
    "\n",
    "data_cs = \"\"\"CS1.1.1.1;255;55;122\n",
    "CS1.1.1.2;255;145;145\n",
    "CS1.1.2.1;255;255;153\n",
    "CS1.1.2.2;166;77;0\n",
    "CS1.2.1;204;204;204\n",
    "CS1.2.2;0;204;242\n",
    "CS1.2.3;166;230;204\n",
    "CS2.1.1.1;128;255;0\n",
    "CS2.1.1.2;0;166;0\n",
    "CS2.1.1.3;128;190;0\n",
    "CS2.1.2;166;255;128\n",
    "CS2.1.3;230;128;0\n",
    "CS2.2.1;204;242;77\n",
    "CS2.2.2;204;255;204\"\"\"\n",
    "\n",
    "data_us = \"\"\"US1.1;255;255;168\n",
    "US1.2;0;128;0\n",
    "US1.3;166;0;204\n",
    "US1.4;0;0;153\n",
    "US1.5;153;102;51\n",
    "US235;230;0;77\n",
    "US4.1.1;204;0;0\n",
    "US4.1.2;90;90;90\n",
    "US4.1.3;230;204;230\n",
    "US4.1.4;0;102;255\n",
    "US4.1.5;102;0;51\n",
    "US4.2;255;0;0\n",
    "US4.3;255;75;0\n",
    "US6.1;255;77;255\n",
    "US6.2;64;64;64\n",
    "US6.3;240;240;40\n",
    "US6.6;255;204;0\"\"\"\n",
    "\n",
    "data = data_us\n",
    "\n",
    "data = {row.split(\";\")[0]: row.split(\";\")[1:] for row in data.split(\"\\n\")}\n",
    "\n",
    "data"
   ]
  },
  {
   "cell_type": "code",
   "execution_count": 7,
   "id": "51759633",
   "metadata": {},
   "outputs": [
    {
     "data": {
      "text/plain": [
       "{'US1.1': <Color #ffffa8>,\n",
       " 'US1.2': <Color green>,\n",
       " 'US1.3': <Color #a600cc>,\n",
       " 'US1.4': <Color #009>,\n",
       " 'US1.5': <Color #963>,\n",
       " 'US235': <Color #e6004d>,\n",
       " 'US4.1.1': <Color #c00>,\n",
       " 'US4.1.2': <Color #5a5a5a>,\n",
       " 'US4.1.3': <Color #e6cce6>,\n",
       " 'US4.1.4': <Color #06f>,\n",
       " 'US4.1.5': <Color #603>,\n",
       " 'US4.2': <Color red>,\n",
       " 'US4.3': <Color #ff4b00>,\n",
       " 'US6.1': <Color #ff4dff>,\n",
       " 'US6.2': <Color #404040>,\n",
       " 'US6.3': <Color #f0f028>,\n",
       " 'US6.6': <Color #fc0>}"
      ]
     },
     "execution_count": 7,
     "metadata": {},
     "output_type": "execute_result"
    }
   ],
   "source": [
    "for code, rgb in data.items():\n",
    "    rgb = map(lambda x: int(x)/255, rgb)\n",
    "    data[code] = Color(rgb=rgb)\n",
    "    \n",
    "data"
   ]
  },
  {
   "cell_type": "code",
   "execution_count": 9,
   "id": "a688976f",
   "metadata": {},
   "outputs": [],
   "source": [
    "for code, color in data.items():\n",
    "    cs = UsageSol.objects.get(code_prefix=code)\n",
    "    cs.map_color = color\n",
    "    cs.save()"
   ]
  },
  {
   "cell_type": "code",
   "execution_count": null,
   "id": "81e60b07",
   "metadata": {},
   "outputs": [],
   "source": []
  }
 ],
 "metadata": {
  "kernelspec": {
   "display_name": "Django Shell-Plus",
   "language": "python",
   "name": "django_extensions"
  },
  "language_info": {
   "codemirror_mode": {
    "name": "ipython",
    "version": 3
   },
   "file_extension": ".py",
   "mimetype": "text/x-python",
   "name": "python",
   "nbconvert_exporter": "python",
   "pygments_lexer": "ipython3",
   "version": "3.9.7"
  }
 },
 "nbformat": 4,
 "nbformat_minor": 5
}
