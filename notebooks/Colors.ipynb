{
 "cells": [
  {
   "cell_type": "code",
   "execution_count": 1,
   "id": "61e8efd8",
   "metadata": {},
   "outputs": [
    {
     "name": "stderr",
     "output_type": "stream",
     "text": [
      "display-im6.q16: unable to open X server `' @ error/display.c/DisplayImageCommand/412.\n",
      "display-im6.q16: unable to open X server `' @ error/display.c/DisplayImageCommand/412.\n",
      "display-im6.q16: unable to open X server `' @ error/display.c/DisplayImageCommand/412.\n",
      "display-im6.q16: unable to open X server `' @ error/display.c/DisplayImageCommand/412.\n"
     ]
    }
   ],
   "source": [
    "from colour import Color, RGB_TO_COLOR_NAMES\n",
    "from PIL import Image, ImageDraw\n",
    "\n",
    "def to_rgb(c: Color) -> tuple:\n",
    "    return tuple([int(_ * 255) for _ in c.rgb])\n",
    "\n",
    "def square(color: Color) -> None:\n",
    "    im = Image.new('RGB', (40, 40), to_rgb(color))\n",
    "    im.show()\n",
    "\n",
    "def scale(colors: list) -> None:\n",
    "    im = Image.new('RGB', (400, 40), to_rgb(Color(\"white\")))\n",
    "    draw = ImageDraw.Draw(im)\n",
    "    for i, c in enumerate(colors):\n",
    "        draw.rectangle((i * 10, 0, 10 + i * 10, 40), fill=to_rgb(c))\n",
    "    im.show()\n",
    "\n",
    "ALL_COLORS = [Color(_) for t in RGB_TO_COLOR_NAMES.items() for _ in t[1]]\n",
    "for i in range(0, len(ALL_COLORS), 40):\n",
    "    scale(ALL_COLORS[i:i+40])"
   ]
  },
  {
   "cell_type": "code",
   "execution_count": null,
   "id": "238e283c",
   "metadata": {},
   "outputs": [],
   "source": []
  }
 ],
 "metadata": {
  "kernelspec": {
   "display_name": "Python 3 (ipykernel)",
   "language": "python",
   "name": "python3"
  },
  "language_info": {
   "codemirror_mode": {
    "name": "ipython",
    "version": 3
   },
   "file_extension": ".py",
   "mimetype": "text/x-python",
   "name": "python",
   "nbconvert_exporter": "python",
   "pygments_lexer": "ipython3",
   "version": "3.9.7"
  }
 },
 "nbformat": 4,
 "nbformat_minor": 5
}
