{
 "cells": [
  {
   "cell_type": "code",
   "execution_count": 1,
   "id": "500627be",
   "metadata": {},
   "outputs": [],
   "source": [
    "%load_ext autoreload\n",
    "%autoreload 2"
   ]
  },
  {
   "cell_type": "code",
   "execution_count": 2,
   "id": "80ce32a8",
   "metadata": {},
   "outputs": [],
   "source": [
    "from project.models import Project\n",
    "from public_data.models import Ocsge2015, CouvertureSol, UsageSol\n",
    "from prettytable import PrettyTable"
   ]
  },
  {
   "cell_type": "code",
   "execution_count": 3,
   "id": "1fe5f68b",
   "metadata": {},
   "outputs": [
    {
     "data": {
      "text/plain": [
       "<Project: COBAS>"
      ]
     },
     "execution_count": 3,
     "metadata": {},
     "output_type": "execute_result"
    }
   ],
   "source": [
    "p = Project.objects.all().first()\n",
    "p"
   ]
  },
  {
   "cell_type": "code",
   "execution_count": 5,
   "id": "b63027d6",
   "metadata": {},
   "outputs": [
    {
     "ename": "TypeError",
     "evalue": "string indices must be integers",
     "output_type": "error",
     "traceback": [
      "\u001b[0;31m---------------------------------------------------------------------------\u001b[0m",
      "\u001b[0;31mTypeError\u001b[0m                                 Traceback (most recent call last)",
      "\u001b[0;32m/tmp/ipykernel_159/4100913396.py\u001b[0m in \u001b[0;36m<module>\u001b[0;34m\u001b[0m\n\u001b[1;32m      1\u001b[0m \u001b[0mqs\u001b[0m \u001b[0;34m=\u001b[0m \u001b[0mOcsge2015\u001b[0m\u001b[0;34m.\u001b[0m\u001b[0mget_groupby\u001b[0m\u001b[0;34m(\u001b[0m\u001b[0;34m\"usage\"\u001b[0m\u001b[0;34m,\u001b[0m \u001b[0mp\u001b[0m\u001b[0;34m.\u001b[0m\u001b[0mcombined_emprise\u001b[0m\u001b[0;34m)\u001b[0m\u001b[0;34m\u001b[0m\u001b[0;34m\u001b[0m\u001b[0m\n\u001b[0;32m----> 2\u001b[0;31m \u001b[0mdata\u001b[0m \u001b[0;34m=\u001b[0m \u001b[0;34m[\u001b[0m\u001b[0;34m(\u001b[0m\u001b[0m_\u001b[0m\u001b[0;34m[\u001b[0m\u001b[0;34m\"usage\"\u001b[0m\u001b[0;34m]\u001b[0m\u001b[0;34m,\u001b[0m \u001b[0m_\u001b[0m\u001b[0;34m[\u001b[0m\u001b[0;34m\"total_surface\"\u001b[0m\u001b[0;34m]\u001b[0m\u001b[0;34m)\u001b[0m \u001b[0;32mfor\u001b[0m \u001b[0m_\u001b[0m \u001b[0;32min\u001b[0m \u001b[0mqs\u001b[0m\u001b[0;34m]\u001b[0m\u001b[0;34m\u001b[0m\u001b[0;34m\u001b[0m\u001b[0m\n\u001b[0m\u001b[1;32m      3\u001b[0m \u001b[0mdata\u001b[0m\u001b[0;34m\u001b[0m\u001b[0;34m\u001b[0m\u001b[0m\n",
      "\u001b[0;32m/tmp/ipykernel_159/4100913396.py\u001b[0m in \u001b[0;36m<listcomp>\u001b[0;34m(.0)\u001b[0m\n\u001b[1;32m      1\u001b[0m \u001b[0mqs\u001b[0m \u001b[0;34m=\u001b[0m \u001b[0mOcsge2015\u001b[0m\u001b[0;34m.\u001b[0m\u001b[0mget_groupby\u001b[0m\u001b[0;34m(\u001b[0m\u001b[0;34m\"usage\"\u001b[0m\u001b[0;34m,\u001b[0m \u001b[0mp\u001b[0m\u001b[0;34m.\u001b[0m\u001b[0mcombined_emprise\u001b[0m\u001b[0;34m)\u001b[0m\u001b[0;34m\u001b[0m\u001b[0;34m\u001b[0m\u001b[0m\n\u001b[0;32m----> 2\u001b[0;31m \u001b[0mdata\u001b[0m \u001b[0;34m=\u001b[0m \u001b[0;34m[\u001b[0m\u001b[0;34m(\u001b[0m\u001b[0m_\u001b[0m\u001b[0;34m[\u001b[0m\u001b[0;34m\"usage\"\u001b[0m\u001b[0;34m]\u001b[0m\u001b[0;34m,\u001b[0m \u001b[0m_\u001b[0m\u001b[0;34m[\u001b[0m\u001b[0;34m\"total_surface\"\u001b[0m\u001b[0;34m]\u001b[0m\u001b[0;34m)\u001b[0m \u001b[0;32mfor\u001b[0m \u001b[0m_\u001b[0m \u001b[0;32min\u001b[0m \u001b[0mqs\u001b[0m\u001b[0;34m]\u001b[0m\u001b[0;34m\u001b[0m\u001b[0;34m\u001b[0m\u001b[0m\n\u001b[0m\u001b[1;32m      3\u001b[0m \u001b[0mdata\u001b[0m\u001b[0;34m\u001b[0m\u001b[0;34m\u001b[0m\u001b[0m\n",
      "\u001b[0;31mTypeError\u001b[0m: string indices must be integers"
     ]
    }
   ],
   "source": [
    "qs = Ocsge2015.get_groupby(\"usage\", p.combined_emprise)\n",
    "data = [(_[\"usage\"], _[\"total_surface\"]) for _ in qs]\n",
    "data"
   ]
  },
  {
   "cell_type": "code",
   "execution_count": null,
   "id": "9e62622f",
   "metadata": {},
   "outputs": [],
   "source": [
    "usage_labels = UsageSol.get_dict_label(prefix=True)\n",
    "formated_data = [(x[0], usage_labels.get(x[0], \"Inconnu\")[:25], f\"{x[1].sq_km:.2f}\") for x in data]\n",
    "pt = PrettyTable(field_names=[\"Usage\", \"libellé\", \"Surface totale\"], align=\"l\")\n",
    "pt.add_rows(formated_data)\n",
    "print(pt)"
   ]
  },
  {
   "cell_type": "code",
   "execution_count": 1,
   "id": "65edd060",
   "metadata": {},
   "outputs": [
    {
     "data": {
      "text/plain": [
       "'{\"2015\": {\"couverture\": {\"CS1.1.1.1\": 12.346011157649775, \"CS1.1.1.2\": 8.353790943271829, \"CS1.1.2.1\": 1.8775381227445744, \"CS1.1.2.2\": 0.020639335751014093, \"CS1.2.1\": 0.6755343264939202, \"CS1.2.2\": 2.1887880369889166, \"CS2.1.1\": 20.015232693518588, \"CS2.1.1.1\": 8.531365901337079, \"CS2.1.1.2\": 96.43963412660102, \"CS2.1.1.3\": 29.64869883730206, \"CS2.1.2\": 2.6674023874470487, \"CS2.1.3\": 0.0021360862888054766, \"CS2.2.1\": 31.585855842339164, \"null\": 4.844420234890133e-05}, \"usage\": {\"US1.1\": 3.675876984459525, \"US1.2\": 124.3451135576876, \"US1.3\": 0.31350708252396703, \"US1.4\": 0.3720643490726117, \"US2\": 0.2745068565634901, \"US235\": 2.3794764576160805, \"US3\": 37.96626040873842, \"US4.1.1\": 7.048390469188443, \"US4.1.2\": 0.3208873758635757, \"US4.1.3\": 0.5802470259952119, \"US4.1.4\": 0.030229502822491726, \"US4.2\": 0.47794744613004947, \"US4.3\": 2.6706426755149937, \"US5\": 28.558033251480282, \"US6.1\": 0.3340150044469527, \"US6.2\": 0.007414481649227401, \"US6.3\": 4.998014867980674, \"null\": 4.844420234890133e-05}}, \"2018\": {\"couverture\": {\"CS1.1.1.1\": 12.926620807073606, \"CS1.1.1.2\": 8.49366271563, \"CS1.1.2.1\": 1.9947567472414391, \"CS1.1.2.2\": 0.01200178085566955, \"CS1.2.1\": 0.678107603035909, \"CS1.2.2\": 2.3154540824486585, \"CS2.1.1\": 20.63105898419731, \"CS2.1.1.1\": 8.298990433584715, \"CS2.1.1.2\": 96.18022375236409, \"CS2.1.1.3\": 29.369435722049044, \"CS2.1.2\": 2.645121040382701, \"CS2.1.3\": 0.0021360862888054766, \"CS2.2.1\": 31.031051610969445}, \"usage\": {\"US1.1\": 3.723414982845777, \"US1.2\": 124.22427634661076, \"US1.3\": 0.3083290037409638, \"US1.4\": 0.3748171857682512, \"US2\": 0.26772776915877927, \"US235\": 2.3926739331638185, \"US3\": 37.893330328268725, \"US4.1.1\": 7.136681061651931, \"US4.1.2\": 0.3711197867790894, \"US4.1.3\": 0.5764794361381584, \"US4.1.4\": 0.030229502822491726, \"US4.2\": 0.47794744613004947, \"US4.3\": 2.6282125971941857, \"US5\": 28.793748469966573, \"US6.1\": 0.4074979853195502, \"US6.2\": 0.0007408860359447792, \"US6.3\": 4.971191463354529, \"US6.6\": 0.00020318117166566793}}}'"
      ]
     },
     "execution_count": 1,
     "metadata": {},
     "output_type": "execute_result"
    }
   ],
   "source": [
    "from project.models import Project\n",
    "from project.tasks.project import evaluate_couverture_and_usage\n",
    "import time\n",
    "\n",
    "p = Project.objects.get(name=\"COBAS\")\n",
    "\n",
    "evaluate_couverture_and_usage(p.id)\n",
    "\n",
    "p.couverture_usage"
   ]
  },
  {
   "cell_type": "code",
   "execution_count": null,
   "id": "a20f921f",
   "metadata": {},
   "outputs": [],
   "source": []
  },
  {
   "cell_type": "code",
   "execution_count": 3,
   "id": "ba85bf9c",
   "metadata": {},
   "outputs": [
    {
     "data": {
      "text/plain": [
       "{'2015': {'couverture': {'CS1.1.1.1': 12.348765754474607,\n",
       "   'CS1.1.1.2': 8.353790943271829,\n",
       "   'CS1.1.2.1': 1.8770371134357422,\n",
       "   'CS1.1.2.2': 0.020639335751014093,\n",
       "   'CS1.2.1': 0.6679596499533035,\n",
       "   'CS1.2.2': 1.9958958884423,\n",
       "   'CS2.1.1': 20.015232693518588,\n",
       "   'CS2.1.1.1': 8.554015271864605,\n",
       "   'CS2.1.1.2': 96.85909699370106,\n",
       "   'CS2.1.1.3': 29.64869883730206,\n",
       "   'CS2.1.2': 2.6674023874470487,\n",
       "   'CS2.1.3': 0.0021360862888054766,\n",
       "   'CS2.2.1': 31.58478109319975,\n",
       "   'null': 4.844420234890133e-05},\n",
       "  'usage': {'US1.1': 3.675876984459525,\n",
       "   'US1.2': 124.78722579531517,\n",
       "   'US1.3': 0.31350708252396703,\n",
       "   'US1.4': 0.37059738919656193,\n",
       "   'US2': 0.2745068565634901,\n",
       "   'US235': 2.382122255868726,\n",
       "   'US3': 37.96779249702634,\n",
       "   'US4.1.1': 7.048390469188443,\n",
       "   'US4.1.2': 0.3208873758635757,\n",
       "   'US4.1.3': 0.5802470259952119,\n",
       "   'US4.1.4': 0.030229502822491726,\n",
       "   'US4.2': 0.47794744613004947,\n",
       "   'US4.3': 2.6706426755149937,\n",
       "   'US5': 28.558033251480282,\n",
       "   'US6.1': 0.3340150044469527,\n",
       "   'US6.2': 0.007414481649227401,\n",
       "   'US6.3': 4.796015954605515,\n",
       "   'null': 4.844420234890133e-05}},\n",
       " '2018': {'couverture': {'CS1.1.1.1': 12.929375403898439,\n",
       "   'CS1.1.1.2': 8.49366271563,\n",
       "   'CS1.1.2.1': 1.994255737751534,\n",
       "   'CS1.1.2.2': 0.01200178085566955,\n",
       "   'CS1.2.1': 0.6705329264952924,\n",
       "   'CS1.2.2': 2.1225619339020425,\n",
       "   'CS2.1.1': 20.63105898419731,\n",
       "   'CS2.1.1.1': 8.321639628203862,\n",
       "   'CS2.1.1.2': 96.59968640397051,\n",
       "   'CS2.1.1.3': 29.369435722049044,\n",
       "   'CS2.1.2': 2.645121040382701,\n",
       "   'CS2.1.3': 0.0021360862888054766,\n",
       "   'CS2.2.1': 31.029976861830036},\n",
       "  'usage': {'US1.1': 3.723414982845777,\n",
       "   'US1.2': 124.66638819283635,\n",
       "   'US1.3': 0.3083290037409638,\n",
       "   'US1.4': 0.37335022571112836,\n",
       "   'US2': 0.26772776915877927,\n",
       "   'US235': 2.3953197314164645,\n",
       "   'US3': 37.89486241655664,\n",
       "   'US4.1.1': 7.136681061651931,\n",
       "   'US4.1.2': 0.3711197867790894,\n",
       "   'US4.1.3': 0.5764794361381584,\n",
       "   'US4.1.4': 0.030229502822491726,\n",
       "   'US4.2': 0.47794744613004947,\n",
       "   'US4.3': 2.6282125971941857,\n",
       "   'US5': 28.793748469966573,\n",
       "   'US6.1': 0.4074979853195502,\n",
       "   'US6.2': 0.0007408860359447792,\n",
       "   'US6.3': 4.7691925499793735,\n",
       "   'US6.6': 0.00020318117166566793}}}"
      ]
     },
     "execution_count": 3,
     "metadata": {},
     "output_type": "execute_result"
    }
   ],
   "source": []
  },
  {
   "cell_type": "code",
   "execution_count": 4,
   "id": "1a441152",
   "metadata": {},
   "outputs": [
    {
     "ename": "TypeError",
     "evalue": "'QuerySet' object is not callable",
     "output_type": "error",
     "traceback": [
      "\u001b[0;31m---------------------------------------------------------------------------\u001b[0m",
      "\u001b[0;31mTypeError\u001b[0m                                 Traceback (most recent call last)",
      "\u001b[0;32m/tmp/ipykernel_191/1637075291.py\u001b[0m in \u001b[0;36m<module>\u001b[0;34m\u001b[0m\n\u001b[1;32m      1\u001b[0m \u001b[0mmillesimes\u001b[0m \u001b[0;34m=\u001b[0m \u001b[0mraw_data\u001b[0m\u001b[0;34m.\u001b[0m\u001b[0mkeys\u001b[0m\u001b[0;34m(\u001b[0m\u001b[0;34m)\u001b[0m\u001b[0;34m\u001b[0m\u001b[0;34m\u001b[0m\u001b[0m\n\u001b[0;32m----> 2\u001b[0;31m \u001b[0;32mfor\u001b[0m \u001b[0mcouv\u001b[0m \u001b[0;32min\u001b[0m \u001b[0mCouvertureSol\u001b[0m\u001b[0;34m.\u001b[0m\u001b[0miter_total_surface\u001b[0m\u001b[0;34m(\u001b[0m\u001b[0mraw_data\u001b[0m\u001b[0;34m)\u001b[0m\u001b[0;34m:\u001b[0m\u001b[0;34m\u001b[0m\u001b[0;34m\u001b[0m\u001b[0m\n\u001b[0m\u001b[1;32m      3\u001b[0m     \u001b[0mprint\u001b[0m\u001b[0;34m(\u001b[0m\u001b[0mcouv\u001b[0m\u001b[0;34m.\u001b[0m\u001b[0mlabel\u001b[0m\u001b[0;34m,\u001b[0m \u001b[0mend\u001b[0m\u001b[0;34m=\u001b[0m\u001b[0;34m\" \"\u001b[0m\u001b[0;34m)\u001b[0m\u001b[0;34m\u001b[0m\u001b[0;34m\u001b[0m\u001b[0m\n\u001b[1;32m      4\u001b[0m     \u001b[0;32mfor\u001b[0m \u001b[0mm\u001b[0m \u001b[0;32min\u001b[0m \u001b[0mmillesimes\u001b[0m\u001b[0;34m:\u001b[0m\u001b[0;34m\u001b[0m\u001b[0;34m\u001b[0m\u001b[0m\n\u001b[1;32m      5\u001b[0m         \u001b[0mprint\u001b[0m\u001b[0;34m(\u001b[0m\u001b[0mcouv\u001b[0m\u001b[0;34m.\u001b[0m\u001b[0mtotal_surface\u001b[0m\u001b[0;34m[\u001b[0m\u001b[0mm\u001b[0m\u001b[0;34m]\u001b[0m\u001b[0;34m,\u001b[0m \u001b[0mend\u001b[0m\u001b[0;34m=\u001b[0m\u001b[0;34m\" \"\u001b[0m\u001b[0;34m)\u001b[0m\u001b[0;34m\u001b[0m\u001b[0;34m\u001b[0m\u001b[0m\n",
      "\u001b[0;32m/app/public_data/models.py\u001b[0m in \u001b[0;36miter_total_surface\u001b[0;34m(cls, raw_data)\u001b[0m\n\u001b[1;32m    589\u001b[0m         \u001b[0mparents\u001b[0m \u001b[0;34m=\u001b[0m \u001b[0mcls\u001b[0m\u001b[0;34m.\u001b[0m\u001b[0mobjects\u001b[0m\u001b[0;34m.\u001b[0m\u001b[0mfilter\u001b[0m\u001b[0;34m(\u001b[0m\u001b[0mparent__isnull\u001b[0m\u001b[0;34m=\u001b[0m\u001b[0;32mTrue\u001b[0m\u001b[0;34m)\u001b[0m\u001b[0;34m\u001b[0m\u001b[0;34m\u001b[0m\u001b[0m\n\u001b[1;32m    590\u001b[0m         \u001b[0;32mfor\u001b[0m \u001b[0mparent\u001b[0m \u001b[0;32min\u001b[0m \u001b[0mparents\u001b[0m\u001b[0;34m:\u001b[0m\u001b[0;34m\u001b[0m\u001b[0;34m\u001b[0m\u001b[0m\n\u001b[0;32m--> 591\u001b[0;31m             \u001b[0mparent\u001b[0m\u001b[0;34m.\u001b[0m\u001b[0mset_total_surface\u001b[0m\u001b[0;34m(\u001b[0m\u001b[0mraw_data\u001b[0m\u001b[0;34m)\u001b[0m\u001b[0;34m\u001b[0m\u001b[0;34m\u001b[0m\u001b[0m\n\u001b[0m\u001b[1;32m    592\u001b[0m             \u001b[0;32myield\u001b[0m \u001b[0mparent\u001b[0m\u001b[0;34m\u001b[0m\u001b[0;34m\u001b[0m\u001b[0m\n\u001b[1;32m    593\u001b[0m             \u001b[0;32mfor\u001b[0m \u001b[0mchild\u001b[0m \u001b[0;32min\u001b[0m \u001b[0mparent\u001b[0m\u001b[0;34m.\u001b[0m\u001b[0mto_list\u001b[0m\u001b[0;34m(\u001b[0m\u001b[0;34m)\u001b[0m\u001b[0;34m:\u001b[0m\u001b[0;34m\u001b[0m\u001b[0;34m\u001b[0m\u001b[0m\n",
      "\u001b[0;32m/app/public_data/models.py\u001b[0m in \u001b[0;36mset_total_surface\u001b[0;34m(self, raw_data)\u001b[0m\n\u001b[1;32m    572\u001b[0m \u001b[0;34m\u001b[0m\u001b[0m\n\u001b[1;32m    573\u001b[0m         \u001b[0;31m# step 3: add children surface to itself\u001b[0m\u001b[0;34m\u001b[0m\u001b[0;34m\u001b[0m\u001b[0m\n\u001b[0;32m--> 574\u001b[0;31m         \u001b[0;32mfor\u001b[0m \u001b[0mchild\u001b[0m \u001b[0;32min\u001b[0m \u001b[0mself\u001b[0m\u001b[0;34m.\u001b[0m\u001b[0mget_children\u001b[0m\u001b[0;34m(\u001b[0m\u001b[0;34m)\u001b[0m\u001b[0;34m:\u001b[0m\u001b[0;34m\u001b[0m\u001b[0;34m\u001b[0m\u001b[0m\n\u001b[0m\u001b[1;32m    575\u001b[0m             \u001b[0mtotal_surface\u001b[0m \u001b[0;34m=\u001b[0m \u001b[0mchild\u001b[0m\u001b[0;34m.\u001b[0m\u001b[0mset_total_surface\u001b[0m\u001b[0;34m(\u001b[0m\u001b[0mraw_data\u001b[0m\u001b[0;34m)\u001b[0m\u001b[0;34m\u001b[0m\u001b[0;34m\u001b[0m\u001b[0m\n\u001b[1;32m    576\u001b[0m             \u001b[0;32mfor\u001b[0m \u001b[0mmillesime\u001b[0m\u001b[0;34m,\u001b[0m \u001b[0msurface\u001b[0m \u001b[0;32min\u001b[0m \u001b[0mtotal_surface\u001b[0m\u001b[0;34m.\u001b[0m\u001b[0mitems\u001b[0m\u001b[0;34m(\u001b[0m\u001b[0;34m)\u001b[0m\u001b[0;34m:\u001b[0m\u001b[0;34m\u001b[0m\u001b[0;34m\u001b[0m\u001b[0m\n",
      "\u001b[0;31mTypeError\u001b[0m: 'QuerySet' object is not callable"
     ]
    }
   ],
   "source": []
  },
  {
   "cell_type": "code",
   "execution_count": null,
   "id": "9057bc52",
   "metadata": {},
   "outputs": [],
   "source": []
  },
  {
   "cell_type": "code",
   "execution_count": null,
   "id": "888261d3",
   "metadata": {},
   "outputs": [],
   "source": []
  }
 ],
 "metadata": {
  "kernelspec": {
   "display_name": "Django Shell-Plus",
   "language": "python",
   "name": "django_extensions"
  },
  "language_info": {
   "codemirror_mode": {
    "name": "ipython",
    "version": 3
   },
   "file_extension": ".py",
   "mimetype": "text/x-python",
   "name": "python",
   "nbconvert_exporter": "python",
   "pygments_lexer": "ipython3",
   "version": "3.9.7"
  }
 },
 "nbformat": 4,
 "nbformat_minor": 5
}
