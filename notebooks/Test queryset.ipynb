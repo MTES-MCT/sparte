{
 "cells": [
  {
   "cell_type": "code",
   "execution_count": 1,
   "id": "71ad8935",
   "metadata": {},
   "outputs": [
    {
     "data": {
      "text/plain": [
       "(<ZoneUrba: ZoneUrba object (599878)>,\n",
       " <Project: Diagnostic de CA Grand Auch Coeur de Gascogne>)"
      ]
     },
     "execution_count": 1,
     "metadata": {},
     "output_type": "execute_result"
    }
   ],
   "source": [
    "from django.contrib.gis.db.models.functions import Area\n",
    "from django.contrib.gis.geos import Polygon\n",
    "from django.db.models import Case, CharField, DecimalField, F, Q, Sum, Value, When\n",
    "from django.db.models.functions import Cast, Concat\n",
    "\n",
    "# from django.db.models import  F, Max, Min, Q, ,   \n",
    "# from django.db.models.functions import Coalesce,  Cast\n",
    "\n",
    "from project.models import Project\n",
    "from public_data.models import OcsgeDiff, Ocsge, ZoneUrba\n",
    "\n",
    "\n",
    "zone_urba = ZoneUrba.objects.get(pk=599878)\n",
    "diagnostic = Project.objects.get(pk=1504)\n",
    "zone_urba, diagnostic"
   ]
  },
  {
   "cell_type": "code",
   "execution_count": 2,
   "id": "7a620b20",
   "metadata": {},
   "outputs": [
    {
     "data": {
      "text/plain": [
       "Area(Value(<Polygon object at 0x7f2fb52eac90>))"
      ]
     },
     "execution_count": 2,
     "metadata": {},
     "output_type": "execute_result"
    }
   ],
   "source": [
    "Zero = Area(Polygon(((0, 0), (0, 0), (0, 0), (0, 0)), srid=2154))\n",
    "Zero"
   ]
  },
  {
   "cell_type": "code",
   "execution_count": 3,
   "id": "28af5bdc",
   "metadata": {},
   "outputs": [
    {
     "data": {
      "text/plain": [
       "<QuerySet [{'period': '2016 - 2019', 'new_artif': Decimal('12.57'), 'new_nat': Decimal('0.00')}]>"
      ]
     },
     "execution_count": 3,
     "metadata": {},
     "output_type": "execute_result"
    }
   ],
   "source": [
    "(\n",
    "    OcsgeDiff.objects.intersect(zone_urba.mpoly)\n",
    "    .filter(year_old__gte=diagnostic.first_year_ocsge, year_new__lte=diagnostic.last_year_ocsge)\n",
    "    .filter(Q(is_new_artif=True) | Q(is_new_natural=True))\n",
    "    .annotate(\n",
    "        period=Cast(Concat(\"year_old\", Value(\" - \"), \"year_new\"), CharField(max_length=15)),\n",
    "        area_artif=Case(When(is_new_artif=True, then=F(\"intersection_area\")), default=Zero),\n",
    "        area_renat=Case(When(is_new_natural=True, then=F(\"intersection_area\")), default=Zero),\n",
    "    )\n",
    "    .values(\"period\")\n",
    "    .annotate(\n",
    "        new_artif=Cast(Sum(\"area_artif\") / 10000, DecimalField(max_digits=15, decimal_places=2)),\n",
    "        new_nat=Cast(Sum(\"area_renat\") / 10000, DecimalField(max_digits=15, decimal_places=2)),\n",
    "    )\n",
    ")\n"
   ]
  },
  {
   "cell_type": "code",
   "execution_count": 4,
   "id": "35e8a2c7",
   "metadata": {},
   "outputs": [
    {
     "data": {
      "text/plain": [
       "{'area': 12.983959962204459}"
      ]
     },
     "execution_count": 4,
     "metadata": {},
     "output_type": "execute_result"
    }
   ],
   "source": [
    "(\n",
    "    Ocsge.objects.intersect(zone_urba.mpoly)\n",
    "    .filter(is_artificial=True)\n",
    "    .aggregate(area=Sum(\"intersection_area\") / 10000)\n",
    ")"
   ]
  },
  {
   "cell_type": "code",
   "execution_count": 5,
   "id": "13cd16c9",
   "metadata": {},
   "outputs": [
    {
     "data": {
      "text/plain": [
       "<QuerySet [{'code_prefix': 'CS1.1.1.1', 'label': 'Zones bâties', 'label_short': 'Zones bâties', 'map_color': '#ff377a', 'surface': Decimal('26193.4009')}, {'code_prefix': 'CS1.1.1.2', 'label': 'Zones non bâties (Routes; places; parking…)', 'label_short': 'Zones non bâties', 'map_color': '#ff9191', 'surface': Decimal('213978.4976')}, {'code_prefix': 'CS2.2.1', 'label': 'Formations herbacées (Pelouses et prairies; terres arables; roselières; …)', 'label_short': 'Formations herbacées', 'map_color': '#ccf24d', 'surface': Decimal('78269.8068')}]>"
      ]
     },
     "execution_count": 5,
     "metadata": {},
     "output_type": "execute_result"
    }
   ],
   "source": [
    "\"\"\"(\n",
    "    CommuneSol.objects.filter(\n",
    "        city__in=self.cities.all(),\n",
    "        year=self.last_year_ocsge,\n",
    "        matrix__is_artificial=True,\n",
    "    )\n",
    "    .annotate(\n",
    "        code_prefix=F(f\"matrix__{sol}__code_prefix\"),\n",
    "        label=F(f\"matrix__{sol}__label\"),\n",
    "        label_short=F(f\"matrix__{sol}__label_short\"),\n",
    "        map_color=F(f\"matrix__{sol}__map_color\"),\n",
    "    )\n",
    "    .values(\"code_prefix\", \"label\", \"label_short\", \"map_color\")\n",
    "    .annotate(surface=Sum(\"surface\"))\n",
    ")\n",
    "\"\"\"\n",
    "last_year_ocsge = 2019\n",
    "(\n",
    "    Ocsge.objects.intersect(zone_urba.mpoly)\n",
    "    .filter(is_artificial=True, year=last_year_ocsge)\n",
    "    .annotate(\n",
    "        code_prefix=F(f\"matrix__couverture__code_prefix\"),\n",
    "        label=F(f\"matrix__couverture__label\"),\n",
    "        label_short=F(f\"matrix__couverture__label_short\"),\n",
    "        map_color=F(f\"matrix__couverture__map_color\"),\n",
    "    )\n",
    "    .order_by(\"code_prefix\", \"label\", \"label_short\", \"map_color\")\n",
    "    .values(\"code_prefix\", \"label\", \"label_short\", \"map_color\")\n",
    "    .annotate(surface=Sum(\"surface\"))\n",
    ")"
   ]
  },
  {
   "cell_type": "code",
   "execution_count": 6,
   "id": "2fb8d907",
   "metadata": {},
   "outputs": [],
   "source": []
  },
  {
   "cell_type": "code",
   "execution_count": null,
   "id": "666e3d17",
   "metadata": {},
   "outputs": [],
   "source": []
  }
 ],
 "metadata": {
  "kernelspec": {
   "display_name": "Django Shell-Plus",
   "language": "python",
   "name": "django_extensions"
  },
  "language_info": {
   "codemirror_mode": {
    "name": "ipython",
    "version": 3
   },
   "file_extension": ".py",
   "mimetype": "text/x-python",
   "name": "python",
   "nbconvert_exporter": "python",
   "pygments_lexer": "ipython3",
   "version": "3.10.10"
  }
 },
 "nbformat": 4,
 "nbformat_minor": 5
}
