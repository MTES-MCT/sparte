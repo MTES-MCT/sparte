{
 "cells": [
  {
   "cell_type": "code",
   "execution_count": 2,
   "id": "71ad8935",
   "metadata": {},
   "outputs": [
    {
     "data": {
      "text/plain": [
       "(<ZoneUrba: ZoneUrba object (599878)>,\n",
       " <Project: Diagnostic de CA Grand Auch Coeur de Gascogne>)"
      ]
     },
     "execution_count": 2,
     "metadata": {},
     "output_type": "execute_result"
    }
   ],
   "source": [
    "from django.contrib.gis.db.models.functions import Area\n",
    "from django.contrib.gis.geos import Polygon\n",
    "from django.db.models import Case, CharField, DecimalField, F, Q, Sum, Value, When\n",
    "from django.db.models.functions import Cast, Concat\n",
    "\n",
    "# from django.db.models import  F, Max, Min, Q, ,   \n",
    "# from django.db.models.functions import Coalesce,  Cast\n",
    "\n",
    "from project.models import Project\n",
    "from public_data.models import OcsgeDiff, Ocsge, ZoneUrba\n",
    "\n",
    "from prettytable import PrettyTable\n",
    "\n",
    "\n",
    "zone_urba = ZoneUrba.objects.get(pk=599878)\n",
    "diagnostic = Project.objects.get(pk=1504)\n",
    "last_year_ocsge = diagnostic.last_year_ocsge\n",
    "zone_urba, diagnostic"
   ]
  },
  {
   "cell_type": "code",
   "execution_count": 2,
   "id": "7a620b20",
   "metadata": {},
   "outputs": [
    {
     "data": {
      "text/plain": [
       "Area(Value(<Polygon object at 0x7f2fb52eac90>))"
      ]
     },
     "execution_count": 2,
     "metadata": {},
     "output_type": "execute_result"
    }
   ],
   "source": [
    "Zero = Area(Polygon(((0, 0), (0, 0), (0, 0), (0, 0)), srid=2154))\n",
    "Zero"
   ]
  },
  {
   "cell_type": "code",
   "execution_count": 3,
   "id": "28af5bdc",
   "metadata": {},
   "outputs": [
    {
     "data": {
      "text/plain": [
       "<QuerySet [{'period': '2016 - 2019', 'new_artif': Decimal('12.57'), 'new_nat': Decimal('0.00')}]>"
      ]
     },
     "execution_count": 3,
     "metadata": {},
     "output_type": "execute_result"
    }
   ],
   "source": [
    "(\n",
    "    OcsgeDiff.objects.intersect(zone_urba.mpoly)\n",
    "    .filter(year_old__gte=diagnostic.first_year_ocsge, year_new__lte=diagnostic.last_year_ocsge)\n",
    "    .filter(Q(is_new_artif=True) | Q(is_new_natural=True))\n",
    "    .annotate(\n",
    "        period=Cast(Concat(\"year_old\", Value(\" - \"), \"year_new\"), CharField(max_length=15)),\n",
    "        area_artif=Case(When(is_new_artif=True, then=F(\"intersection_area\")), default=Zero),\n",
    "        area_renat=Case(When(is_new_natural=True, then=F(\"intersection_area\")), default=Zero),\n",
    "    )\n",
    "    .values(\"period\")\n",
    "    .annotate(\n",
    "        new_artif=Cast(Sum(\"area_artif\") / 10000, DecimalField(max_digits=15, decimal_places=2)),\n",
    "        new_nat=Cast(Sum(\"area_renat\") / 10000, DecimalField(max_digits=15, decimal_places=2)),\n",
    "    )\n",
    ")\n"
   ]
  },
  {
   "cell_type": "code",
   "execution_count": 29,
   "id": "35e8a2c7",
   "metadata": {},
   "outputs": [
    {
     "data": {
      "text/plain": [
       "{'area': 5000.653403862377}"
      ]
     },
     "execution_count": 29,
     "metadata": {},
     "output_type": "execute_result"
    }
   ],
   "source": [
    "(\n",
    "    Ocsge.objects.intersect(diagnostic.combined_emprise)\n",
    "    .filter(is_artificial=True, year=last_year_ocsge)\n",
    "    .aggregate(area=Sum(\"intersection_area\") / 10000)\n",
    ")"
   ]
  },
  {
   "cell_type": "code",
   "execution_count": 16,
   "id": "13cd16c9",
   "metadata": {},
   "outputs": [
    {
     "data": {
      "text/plain": [
       "12.776170209555929"
      ]
     },
     "execution_count": 16,
     "metadata": {},
     "output_type": "execute_result"
    }
   ],
   "source": [
    "qs = (\n",
    "    Ocsge.objects.intersect(zone_urba.mpoly)\n",
    "    .filter(is_artificial=True, year=last_year_ocsge)\n",
    "    .annotate(\n",
    "        code_prefix=F(f\"matrix__couverture__code_prefix\"),\n",
    "        label=F(f\"matrix__couverture__label\"),\n",
    "        label_short=F(f\"matrix__couverture__label_short\"),\n",
    "        map_color=F(f\"matrix__couverture__map_color\"),\n",
    "    )\n",
    "    .order_by(\"code_prefix\", \"label\", \"label_short\", \"map_color\")\n",
    "    .values(\"code_prefix\", \"label\", \"label_short\", \"map_color\")\n",
    "    .annotate(surface=Sum(\"intersection_area\") / 10000)\n",
    ")\n",
    "sum([_['surface'] for _ in qs])"
   ]
  },
  {
   "cell_type": "code",
   "execution_count": 17,
   "id": "2fb8d907",
   "metadata": {},
   "outputs": [
    {
     "data": {
      "text/plain": [
       "12.776170209555929"
      ]
     },
     "execution_count": 17,
     "metadata": {},
     "output_type": "execute_result"
    }
   ],
   "source": [
    "qs = (\n",
    "    Ocsge.objects.intersect(zone_urba.mpoly)\n",
    "    .filter(is_artificial=True, year=diagnostic.last_year_ocsge)\n",
    "    .annotate(\n",
    "        code_prefix=F(\"matrix__usage__code_prefix\"),\n",
    "        label=F(\"matrix__usage__label\"),\n",
    "        label_short=F(\"matrix__usage__label_short\"),\n",
    "        map_color=F(\"matrix__usage__map_color\"),\n",
    "    )\n",
    "    .order_by(\"code_prefix\", \"label\", \"label_short\", \"map_color\")\n",
    "    .values(\"code_prefix\", \"label\", \"label_short\", \"map_color\")\n",
    "    .annotate(surface=Sum(\"intersection_area\") / 10000)\n",
    ")\n",
    "sum([_['surface'] for _ in qs])"
   ]
  },
  {
   "cell_type": "code",
   "execution_count": 18,
   "id": "666e3d17",
   "metadata": {},
   "outputs": [
    {
     "data": {
      "text/plain": [
       "27"
      ]
     },
     "execution_count": 18,
     "metadata": {},
     "output_type": "execute_result"
    }
   ],
   "source": []
  },
  {
   "cell_type": "code",
   "execution_count": 25,
   "id": "c0a2398b",
   "metadata": {},
   "outputs": [
    {
     "data": {
      "text/plain": [
       "(416,\n",
       " <QuerySet [{'code_prefix': 'US1.1', 'label': 'Agriculture', 'label_short': 'Agriculture', 'artif': Decimal('3.66'), 'renat': Decimal('0.34')}, {'code_prefix': 'US2', 'label': 'Secondaire', 'label_short': 'Secondaire', 'artif': Decimal('7.82'), 'renat': Decimal('0.00')}, {'code_prefix': 'US235', 'label': 'Production secondaire; tertiaire et usage résidentiel', 'label_short': 'Production secondaire; tertiai...', 'artif': Decimal('0.90'), 'renat': Decimal('0.30')}, {'code_prefix': 'US3', 'label': 'Tertiaire', 'label_short': 'Tertiaire', 'artif': Decimal('18.95'), 'renat': Decimal('0.05')}, {'code_prefix': 'US4.1.1', 'label': 'Routier', 'label_short': 'Routier', 'artif': Decimal('1.91'), 'renat': Decimal('0.08')}, {'code_prefix': 'US4.1.2', 'label': 'Ferré', 'label_short': 'Ferré', 'artif': Decimal('0.62'), 'renat': Decimal('0.00')}, {'code_prefix': 'US4.3', 'label': 'Réseaux d’utilité publique', 'label_short': 'Réseaux d’utilité publique', 'artif': Decimal('0.75'), 'renat': Decimal('0.62')}, {'code_prefix': 'US5', 'label': 'Résidentiel', 'label_short': 'Résidentiel', 'artif': Decimal('18.39'), 'renat': Decimal('2.67')}, {'code_prefix': 'US6.1', 'label': 'Zones en transition', 'label_short': 'Zones en transition', 'artif': Decimal('15.59'), 'renat': Decimal('2.20')}, {'code_prefix': 'US6.2', 'label': 'Zones abandonnées', 'label_short': 'Zones abandonnées', 'artif': Decimal('0.02'), 'renat': Decimal('0.02')}]>)"
      ]
     },
     "execution_count": 25,
     "metadata": {},
     "output_type": "execute_result"
    }
   ],
   "source": [
    "sol = \"usage\"\n",
    "qs = (\n",
    "    OcsgeDiff.objects.intersect(diagnostic.combined_emprise)\n",
    "    .filter(\n",
    "        year_old__gte=diagnostic.analyse_start_date,\n",
    "        year_new__lte=diagnostic.analyse_end_date,\n",
    "    )\n",
    "    .filter(Q(is_new_artif=True) | Q(is_new_natural=True))\n",
    "    .annotate(\n",
    "        code_prefix=Case(\n",
    "            When(is_new_artif=True, then=F(f\"new_matrix__{sol}__code_prefix\")),\n",
    "            default=F(f\"old_matrix__{sol}__code_prefix\"),\n",
    "        ),\n",
    "        label=Case(\n",
    "            When(is_new_artif=True, then=F(f\"new_matrix__{sol}__label\")),\n",
    "            default=F(f\"old_matrix__{sol}__label\"),\n",
    "        ),\n",
    "        label_short=Case(\n",
    "            When(is_new_artif=True, then=F(f\"new_matrix__{sol}__label_short\")),\n",
    "            default=F(f\"old_matrix__{sol}__label_short\"),\n",
    "        ),\n",
    "        area_artif=Case(When(is_new_artif=True, then=F(\"intersection_area\")), default=Zero),\n",
    "        area_renat=Case(When(is_new_natural=True, then=F(\"intersection_area\")), default=Zero),\n",
    "    )\n",
    "    .order_by(\"code_prefix\", \"label\", \"label_short\")\n",
    "    .values(\"code_prefix\", \"label\", \"label_short\")\n",
    "    .annotate(\n",
    "        artif=Cast(Sum(\"area_artif\") / 10000, DecimalField(max_digits=15, decimal_places=2)),\n",
    "        renat=Cast(Sum(\"area_renat\") / 10000, DecimalField(max_digits=15, decimal_places=2)),\n",
    "    )\n",
    ")\n",
    "qs.count(), qs"
   ]
  },
  {
   "cell_type": "code",
   "execution_count": 28,
   "id": "be2581d8",
   "metadata": {},
   "outputs": [
    {
     "data": {
      "text/html": [
       "<table>\n",
       "    <thead>\n",
       "        <tr>\n",
       "            <th>code_prefix</th>\n",
       "            <th>label</th>\n",
       "            <th>label_short</th>\n",
       "            <th>artif</th>\n",
       "            <th>renat</th>\n",
       "        </tr>\n",
       "    </thead>\n",
       "    <tbody>\n",
       "        <tr>\n",
       "            <td>US1.1</td>\n",
       "            <td>Agriculture</td>\n",
       "            <td>Agriculture</td>\n",
       "            <td>3.66</td>\n",
       "            <td>0.34</td>\n",
       "        </tr>\n",
       "        <tr>\n",
       "            <td>US2</td>\n",
       "            <td>Secondaire</td>\n",
       "            <td>Secondaire</td>\n",
       "            <td>7.82</td>\n",
       "            <td>0.00</td>\n",
       "        </tr>\n",
       "        <tr>\n",
       "            <td>US235</td>\n",
       "            <td>Production secondaire; tertiaire et usage résidentiel</td>\n",
       "            <td>Production secondaire; tertiai...</td>\n",
       "            <td>0.90</td>\n",
       "            <td>0.30</td>\n",
       "        </tr>\n",
       "        <tr>\n",
       "            <td>US3</td>\n",
       "            <td>Tertiaire</td>\n",
       "            <td>Tertiaire</td>\n",
       "            <td>18.95</td>\n",
       "            <td>0.05</td>\n",
       "        </tr>\n",
       "        <tr>\n",
       "            <td>US4.1.1</td>\n",
       "            <td>Routier</td>\n",
       "            <td>Routier</td>\n",
       "            <td>1.91</td>\n",
       "            <td>0.08</td>\n",
       "        </tr>\n",
       "        <tr>\n",
       "            <td>US4.1.2</td>\n",
       "            <td>Ferré</td>\n",
       "            <td>Ferré</td>\n",
       "            <td>0.62</td>\n",
       "            <td>0.00</td>\n",
       "        </tr>\n",
       "        <tr>\n",
       "            <td>US4.3</td>\n",
       "            <td>Réseaux d’utilité publique</td>\n",
       "            <td>Réseaux d’utilité publique</td>\n",
       "            <td>0.75</td>\n",
       "            <td>0.62</td>\n",
       "        </tr>\n",
       "        <tr>\n",
       "            <td>US5</td>\n",
       "            <td>Résidentiel</td>\n",
       "            <td>Résidentiel</td>\n",
       "            <td>18.39</td>\n",
       "            <td>2.67</td>\n",
       "        </tr>\n",
       "        <tr>\n",
       "            <td>US6.1</td>\n",
       "            <td>Zones en transition</td>\n",
       "            <td>Zones en transition</td>\n",
       "            <td>15.59</td>\n",
       "            <td>2.20</td>\n",
       "        </tr>\n",
       "        <tr>\n",
       "            <td>US6.2</td>\n",
       "            <td>Zones abandonnées</td>\n",
       "            <td>Zones abandonnées</td>\n",
       "            <td>0.02</td>\n",
       "            <td>0.02</td>\n",
       "        </tr>\n",
       "    </tbody>\n",
       "</table>"
      ],
      "text/plain": [
       "+-------------+-------------------------------------------------------+-----------------------------------+-------+-------+\n",
       "| code_prefix |                         label                         |            label_short            | artif | renat |\n",
       "+-------------+-------------------------------------------------------+-----------------------------------+-------+-------+\n",
       "|    US1.1    |                      Agriculture                      |            Agriculture            |  3.66 |  0.34 |\n",
       "|     US2     |                       Secondaire                      |             Secondaire            |  7.82 |  0.00 |\n",
       "|    US235    | Production secondaire; tertiaire et usage résidentiel | Production secondaire; tertiai... |  0.90 |  0.30 |\n",
       "|     US3     |                       Tertiaire                       |             Tertiaire             | 18.95 |  0.05 |\n",
       "|   US4.1.1   |                        Routier                        |              Routier              |  1.91 |  0.08 |\n",
       "|   US4.1.2   |                         Ferré                         |               Ferré               |  0.62 |  0.00 |\n",
       "|    US4.3    |               Réseaux d’utilité publique              |     Réseaux d’utilité publique    |  0.75 |  0.62 |\n",
       "|     US5     |                      Résidentiel                      |            Résidentiel            | 18.39 |  2.67 |\n",
       "|    US6.1    |                  Zones en transition                  |        Zones en transition        | 15.59 |  2.20 |\n",
       "|    US6.2    |                   Zones abandonnées                   |         Zones abandonnées         |  0.02 |  0.02 |\n",
       "+-------------+-------------------------------------------------------+-----------------------------------+-------+-------+"
      ]
     },
     "execution_count": 28,
     "metadata": {},
     "output_type": "execute_result"
    }
   ],
   "source": [
    "headers = [\n",
    "    \"code_prefix\",\n",
    "    \"label\",\n",
    "    \"label_short\",\n",
    "    \"artif\",\n",
    "    \"renat\",\n",
    "]\n",
    "x = PrettyTable(field_names=headers)\n",
    "\n",
    "x.add_rows([\n",
    "    [_[t] for t in headers]\n",
    "    for _ in qs\n",
    "])\n",
    "\n",
    "x"
   ]
  },
  {
   "cell_type": "code",
   "execution_count": 36,
   "id": "d91aace3",
   "metadata": {},
   "outputs": [
    {
     "data": {
      "text/plain": [
       "<QuerySet [2016, 2019]>"
      ]
     },
     "execution_count": 36,
     "metadata": {},
     "output_type": "execute_result"
    }
   ],
   "source": [
    "qs = (\n",
    "    Ocsge.objects.intersect(diagnostic.combined_emprise)\n",
    "    .filter(year__gte=diagnostic.analyse_start_date, year__lte=diagnostic.analyse_end_date)\n",
    "    .order_by(\"year\")\n",
    "    .distinct()\n",
    "    .values_list(\"year\", flat=True)\n",
    ")\n",
    "qs"
   ]
  },
  {
   "cell_type": "code",
   "execution_count": 37,
   "id": "3e716375",
   "metadata": {},
   "outputs": [
    {
     "data": {
      "text/plain": [
       "{'first': 2016, 'last': 2019}"
      ]
     },
     "execution_count": 37,
     "metadata": {},
     "output_type": "execute_result"
    }
   ],
   "source": [
    "millesimes = qs\n",
    "{\"first\": min(millesimes), \"last\": max(millesimes)}"
   ]
  },
  {
   "cell_type": "code",
   "execution_count": 4,
   "id": "170b8a59",
   "metadata": {},
   "outputs": [
    {
     "data": {
      "text/plain": [
       "'/project/1504/carte/detail-zone-urbaine/0'"
      ]
     },
     "execution_count": 4,
     "metadata": {},
     "output_type": "execute_result"
    }
   ],
   "source": [
    "from django.urls import reverse\n",
    "\n",
    "reverse(\"project:map-pane-artif-zone-urba\", kwargs={\"project_id\": diagnostic.id, \"pk\": 0})"
   ]
  },
  {
   "cell_type": "code",
   "execution_count": null,
   "id": "d58c19c4",
   "metadata": {},
   "outputs": [],
   "source": []
  }
 ],
 "metadata": {
  "kernelspec": {
   "display_name": "Django Shell-Plus",
   "language": "python",
   "name": "django_extensions"
  },
  "language_info": {
   "codemirror_mode": {
    "name": "ipython",
    "version": 3
   },
   "file_extension": ".py",
   "mimetype": "text/x-python",
   "name": "python",
   "nbconvert_exporter": "python",
   "pygments_lexer": "ipython3",
   "version": "3.10.10"
  }
 },
 "nbformat": 4,
 "nbformat_minor": 5
}
