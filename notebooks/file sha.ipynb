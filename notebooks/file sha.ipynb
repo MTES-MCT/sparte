{
 "cells": [
  {
   "cell_type": "code",
   "execution_count": null,
   "id": "281318dc",
   "metadata": {},
   "outputs": [],
   "source": [
    "import hashlib, base64, requests\n",
    "from sri.templatetags.sri import sri_static"
   ]
  },
  {
   "cell_type": "code",
   "execution_count": null,
   "id": "0301217a",
   "metadata": {},
   "outputs": [],
   "source": [
    "sri_static(\"js/bootstrap.bundle.min.js\")"
   ]
  },
  {
   "cell_type": "code",
   "execution_count": null,
   "id": "b97f7601",
   "metadata": {},
   "outputs": [],
   "source": [
    "path = \"../static/js/bootstrap.bundle.min.js\""
   ]
  },
  {
   "cell_type": "code",
   "execution_count": null,
   "id": "02ecd3bc",
   "metadata": {},
   "outputs": [],
   "source": [
    "sha256 = hashlib.sha256()\n",
    "\n",
    "with open(path, \"rb\") as f:\n",
    "    data = f.read()\n",
    "    sha256.update(data)\n",
    "\n",
    "digest = sha256.digest()\n",
    "base64.b64encode(digest).decode()"
   ]
  },
  {
   "cell_type": "code",
   "execution_count": null,
   "id": "b54bd71c",
   "metadata": {},
   "outputs": [],
   "source": [
    "hasher = hashlib.sha256\n",
    "with open(path, \"br\") as f:\n",
    "    content = f.read()\n",
    "content"
   ]
  },
  {
   "cell_type": "code",
   "execution_count": null,
   "id": "0a09860f",
   "metadata": {},
   "outputs": [],
   "source": [
    "digest = hasher(content).digest()\n",
    "base64.b64encode(digest).decode()"
   ]
  },
  {
   "cell_type": "code",
   "execution_count": null,
   "id": "433e8d96",
   "metadata": {},
   "outputs": [],
   "source": [
    "response = requests.get(\"https://sparte-staging.incubateur.net/static/js/bootstrap.bundle.min.js\")\n",
    "data = response.text\n",
    "data.encode()"
   ]
  },
  {
   "cell_type": "code",
   "execution_count": null,
   "id": "5e22f093",
   "metadata": {},
   "outputs": [],
   "source": [
    "sha_dist = hashlib.sha256()\n",
    "sha_dist.update(data.encode())\n",
    "base64.b64encode(sha_dist.digest()).decode()"
   ]
  },
  {
   "cell_type": "code",
   "execution_count": null,
   "id": "43508b62",
   "metadata": {},
   "outputs": [],
   "source": [
    "content == data.encode()"
   ]
  },
  {
   "cell_type": "code",
   "execution_count": null,
   "id": "a1acc408",
   "metadata": {},
   "outputs": [],
   "source": []
  },
  {
   "cell_type": "code",
   "execution_count": null,
   "id": "dd3977b3",
   "metadata": {},
   "outputs": [],
   "source": []
  },
  {
   "cell_type": "code",
   "execution_count": null,
   "id": "f16a36c1",
   "metadata": {},
   "outputs": [],
   "source": []
  },
  {
   "cell_type": "code",
   "execution_count": null,
   "id": "dc053db6",
   "metadata": {},
   "outputs": [],
   "source": []
  },
  {
   "cell_type": "code",
   "execution_count": null,
   "id": "e2f82719",
   "metadata": {},
   "outputs": [],
   "source": []
  },
  {
   "cell_type": "code",
   "execution_count": null,
   "id": "60cf3447",
   "metadata": {},
   "outputs": [],
   "source": []
  }
 ],
 "metadata": {
  "kernelspec": {
   "display_name": "Django Shell-Plus",
   "language": "python",
   "name": "django_extensions"
  },
  "language_info": {
   "codemirror_mode": {
    "name": "ipython",
    "version": 3
   },
   "file_extension": ".py",
   "mimetype": "text/x-python",
   "name": "python",
   "nbconvert_exporter": "python",
   "pygments_lexer": "ipython3",
   "version": "3.9.7"
  },
  "vscode": {
   "interpreter": {
    "hash": "d800dbaff5bb401b273cf0e56d7a037f25be7438d0da49cf66f1a5ef75ed7b3a"
   }
  }
 },
 "nbformat": 4,
 "nbformat_minor": 5
}
