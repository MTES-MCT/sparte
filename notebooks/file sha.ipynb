{
 "cells": [
  {
   "cell_type": "code",
   "execution_count": 37,
   "id": "281318dc",
   "metadata": {},
   "outputs": [],
   "source": [
    "import hashlib, base64, requests\n",
    "from sri.templatetags.sri import sri_static"
   ]
  },
  {
   "cell_type": "code",
   "execution_count": 42,
   "id": "0301217a",
   "metadata": {},
   "outputs": [
    {
     "data": {
      "text/plain": [
       "'<link crossorigin=\"anonymous\" href=\"/static/carto/css/leaflet.css\" integrity=\"sha256-y4gDEU/pxJrmohmEZFiWzZiKDba4qNsDmUTkUJjIN5U=\" rel=\"stylesheet\" type=\"text/css\"/>'"
      ]
     },
     "execution_count": 42,
     "metadata": {},
     "output_type": "execute_result"
    }
   ],
   "source": [
    "sri_static(\"carto/css/leaflet.css\")"
   ]
  },
  {
   "cell_type": "code",
   "execution_count": 32,
   "id": "b97f7601",
   "metadata": {},
   "outputs": [],
   "source": [
    "path = \"../carto/static/carto/css/leaflet.css\""
   ]
  },
  {
   "cell_type": "code",
   "execution_count": 40,
   "id": "02ecd3bc",
   "metadata": {},
   "outputs": [
    {
     "data": {
      "text/plain": [
       "'BPfK9M5v34c2XP6p0cxVz1mUQLst0gTLk0mlc7kuodA='"
      ]
     },
     "execution_count": 40,
     "metadata": {},
     "output_type": "execute_result"
    }
   ],
   "source": [
    "sha256 = hashlib.sha256()\n",
    "\n",
    "with open(path, \"rb\") as f:\n",
    "    data = f.read()\n",
    "    sha256.update(data)\n",
    "\n",
    "digest = sha256.digest()\n",
    "base64.b64encode(digest).decode()"
   ]
  },
  {
   "cell_type": "code",
   "execution_count": 41,
   "id": "b54bd71c",
   "metadata": {},
   "outputs": [
    {
     "data": {
      "text/plain": [
       "'BPfK9M5v34c2XP6p0cxVz1mUQLst0gTLk0mlc7kuodA='"
      ]
     },
     "execution_count": 41,
     "metadata": {},
     "output_type": "execute_result"
    }
   ],
   "source": [
    "hasher = hashlib.sha256\n",
    "with open(path, \"br\") as f:\n",
    "    content = f.read()\n",
    "digest = hasher(content).digest()\n",
    "base64.b64encode(digest).decode()"
   ]
  },
  {
   "cell_type": "code",
   "execution_count": 36,
   "id": "433e8d96",
   "metadata": {},
   "outputs": [
    {
     "data": {
      "text/plain": [
       "'<link crossorigin=\"anonymous\" href=\"/static/carto/css/leaflet.css\" integrity=\"sha256-y4gDEU/pxJrmohmEZFiWzZiKDba4qNsDmUTkUJjIN5U=\" rel=\"stylesheet\" type=\"text/css\"/>'"
      ]
     },
     "execution_count": 36,
     "metadata": {},
     "output_type": "execute_result"
    }
   ],
   "source": []
  },
  {
   "cell_type": "code",
   "execution_count": 9,
   "id": "5e22f093",
   "metadata": {},
   "outputs": [
    {
     "data": {
      "text/plain": [
       "b'qnhX|\\xc5r\\n\\xf3\\xb8\\xab\\x81\\xb4\\xc8\\xb1m\\xf3\\xe3\\x9a\\xde'"
      ]
     },
     "execution_count": 9,
     "metadata": {},
     "output_type": "execute_result"
    }
   ],
   "source": []
  },
  {
   "cell_type": "code",
   "execution_count": 15,
   "id": "43508b62",
   "metadata": {},
   "outputs": [
    {
     "ename": "UnicodeDecodeError",
     "evalue": "'utf-8' codec can't decode byte 0xf7 in position 1: invalid start byte",
     "output_type": "error",
     "traceback": [
      "\u001b[0;31m---------------------------------------------------------------------------\u001b[0m",
      "\u001b[0;31mUnicodeDecodeError\u001b[0m                        Traceback (most recent call last)",
      "Input \u001b[0;32mIn [15]\u001b[0m, in \u001b[0;36m<cell line: 2>\u001b[0;34m()\u001b[0m\n\u001b[1;32m      1\u001b[0m \u001b[38;5;28mhash\u001b[39m \u001b[38;5;241m=\u001b[39m hashlib\u001b[38;5;241m.\u001b[39msha256(\u001b[38;5;28mopen\u001b[39m(\u001b[38;5;124m\"\u001b[39m\u001b[38;5;124m../carto/static/carto/css/leaflet.css\u001b[39m\u001b[38;5;124m\"\u001b[39m, \u001b[38;5;124m\"\u001b[39m\u001b[38;5;124mrb\u001b[39m\u001b[38;5;124m\"\u001b[39m)\u001b[38;5;241m.\u001b[39mread())\u001b[38;5;241m.\u001b[39mdigest()\n\u001b[0;32m----> 2\u001b[0m \u001b[38;5;28;43mhash\u001b[39;49m\u001b[38;5;241;43m.\u001b[39;49m\u001b[43mdecode\u001b[49m\u001b[43m(\u001b[49m\u001b[38;5;124;43m'\u001b[39;49m\u001b[38;5;124;43mutf-8\u001b[39;49m\u001b[38;5;124;43m'\u001b[39;49m\u001b[43m)\u001b[49m\n",
      "\u001b[0;31mUnicodeDecodeError\u001b[0m: 'utf-8' codec can't decode byte 0xf7 in position 1: invalid start byte"
     ]
    }
   ],
   "source": []
  },
  {
   "cell_type": "code",
   "execution_count": 24,
   "id": "a1acc408",
   "metadata": {},
   "outputs": [
    {
     "ename": "FileNotFoundError",
     "evalue": "[Errno 2] No such file or directory: 'https://sparte.beta.gouv.fr/static/carto/css/leaflet.css'",
     "output_type": "error",
     "traceback": [
      "\u001b[0;31m---------------------------------------------------------------------------\u001b[0m",
      "\u001b[0;31mFileNotFoundError\u001b[0m                         Traceback (most recent call last)",
      "Input \u001b[0;32mIn [24]\u001b[0m, in \u001b[0;36m<cell line: 2>\u001b[0;34m()\u001b[0m\n\u001b[1;32m      1\u001b[0m hasher \u001b[38;5;241m=\u001b[39m hashlib\u001b[38;5;241m.\u001b[39msha256\n\u001b[0;32m----> 2\u001b[0m \u001b[38;5;28;01mwith\u001b[39;00m \u001b[38;5;28;43mopen\u001b[39;49m\u001b[43m(\u001b[49m\u001b[38;5;124;43m\"\u001b[39;49m\u001b[38;5;124;43mhttps://sparte.beta.gouv.fr/static/carto/css/leaflet.css\u001b[39;49m\u001b[38;5;124;43m\"\u001b[39;49m\u001b[43m,\u001b[49m\u001b[43m \u001b[49m\u001b[38;5;124;43m\"\u001b[39;49m\u001b[38;5;124;43mr\u001b[39;49m\u001b[38;5;124;43m\"\u001b[39;49m\u001b[43m)\u001b[49m \u001b[38;5;28;01mas\u001b[39;00m f:\n\u001b[1;32m      3\u001b[0m     content \u001b[38;5;241m=\u001b[39m f\u001b[38;5;241m.\u001b[39mread()\n\u001b[1;32m      4\u001b[0m content[:\u001b[38;5;241m1000\u001b[39m]\n",
      "\u001b[0;31mFileNotFoundError\u001b[0m: [Errno 2] No such file or directory: 'https://sparte.beta.gouv.fr/static/carto/css/leaflet.css'"
     ]
    }
   ],
   "source": []
  },
  {
   "cell_type": "code",
   "execution_count": 20,
   "id": "dd3977b3",
   "metadata": {},
   "outputs": [
    {
     "data": {
      "text/plain": [
       "b'\\xcb\\x88\\x03\\x11O\\xe9\\xc4\\x9a\\xe6\\xa2\\x19\\x84dX\\x96\\xcd\\x98\\x8a\\r\\xb6\\xb8\\xa8\\xdb\\x03\\x99D\\xe4P\\x98\\xc87\\x95'"
      ]
     },
     "execution_count": 20,
     "metadata": {},
     "output_type": "execute_result"
    }
   ],
   "source": []
  },
  {
   "cell_type": "code",
   "execution_count": 22,
   "id": "f16a36c1",
   "metadata": {},
   "outputs": [
    {
     "data": {
      "text/plain": [
       "'y4gDEU/pxJrmohmEZFiWzZiKDba4qNsDmUTkUJjIN5U='"
      ]
     },
     "execution_count": 22,
     "metadata": {},
     "output_type": "execute_result"
    }
   ],
   "source": []
  },
  {
   "cell_type": "code",
   "execution_count": null,
   "id": "dc053db6",
   "metadata": {},
   "outputs": [],
   "source": []
  },
  {
   "cell_type": "code",
   "execution_count": 30,
   "id": "e2f82719",
   "metadata": {},
   "outputs": [
    {
     "name": "stdout",
     "output_type": "stream",
     "text": [
      "sha_dist: e3b0c44298fc1c149afbf4c8996fb92427ae41e4649b934ca495991b7852b855\n",
      "sha_dist: b\"\\xe3\\xb0\\xc4B\\x98\\xfc\\x1c\\x14\\x9a\\xfb\\xf4\\xc8\\x99o\\xb9$'\\xaeA\\xe4d\\x9b\\x93L\\xa4\\x95\\x99\\x1bxR\\xb8U\"\n"
     ]
    },
    {
     "data": {
      "text/plain": [
       "b'47DEQpj8HBSa+/TImW+5JCeuQeRkm5NMpJWZG3hSuFU='"
      ]
     },
     "execution_count": 30,
     "metadata": {},
     "output_type": "execute_result"
    }
   ],
   "source": [
    "\n",
    "\n",
    "response = requests.get(\"https://sparte.beta.gouv.fr/static/carto/css/leaflet.css\")\n",
    "data = response.text\n",
    "\n",
    "sha_dist = hashlib.sha256()\n",
    "print(f\"sha_dist: {sha_dist.hexdigest()}\")\n",
    "print(f\"sha_dist: {sha_dist.digest()}\")\n",
    "\n",
    "base64.b64encode(sha_dist.digest())"
   ]
  },
  {
   "cell_type": "code",
   "execution_count": null,
   "id": "60cf3447",
   "metadata": {},
   "outputs": [],
   "source": []
  }
 ],
 "metadata": {
  "kernelspec": {
   "display_name": "Django Shell-Plus",
   "language": "python",
   "name": "django_extensions"
  },
  "language_info": {
   "codemirror_mode": {
    "name": "ipython",
    "version": 3
   },
   "file_extension": ".py",
   "mimetype": "text/x-python",
   "name": "python",
   "nbconvert_exporter": "python",
   "pygments_lexer": "ipython3",
   "version": "3.9.7"
  }
 },
 "nbformat": 4,
 "nbformat_minor": 5
}
