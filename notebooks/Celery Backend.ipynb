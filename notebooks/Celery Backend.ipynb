{
 "cells": [
  {
   "cell_type": "code",
   "execution_count": 23,
   "id": "1039dac3",
   "metadata": {
    "scrolled": false
   },
   "outputs": [
    {
     "name": "stdout",
     "output_type": "stream",
     "text": [
      "+--------------------------------------+-----------------------------------+---------------------+--------------+-----------+---------+---------------------+\n",
      "|               task_id                |             task_name             |      task_args      | date_created | date_done |  status |        worker       |\n",
      "+--------------------------------------+-----------------------------------+---------------------+--------------+-----------+---------+---------------------+\n",
      "| cccd7c29-5e19-42fb-99ae-3fe7bd9239ce | add_city_and_set_combined_emprise | \"(3261, 'EPCI_54')\" | 130149       | 130149    | SUCCESS | celery@cd76dd7eb60d |\n",
      "| 32726c63-5fd2-43e3-b52b-c77c6e7368ff | find_first_and_last_ocsge         | \"(3261,)\"           | 130149       | 130149    | SUCCESS | celery@cd76dd7eb60d |\n",
      "| 9a544e32-7608-4a15-85e5-5735ec327f4e | add_neighboors                    | \"(3261,)\"           | 130149       | 130149    | SUCCESS | celery@cd76dd7eb60d |\n",
      "| 9378495b-101f-4851-8f04-d5069855df73 | generate_cover_image              | \"(3261,)\"           | 130152       | 130152    | SUCCESS | celery@cd76dd7eb60d |\n",
      "| 55531944-158d-48f2-8aaa-b754ef49cf29 | send_email_request_bilan          | \"(419,)\"            | 140209       | 140209    | SUCCESS | celery@cd76dd7eb60d |\n",
      "| c5c1908c-c25d-4b4d-9556-78c8e88407c8 | generate_word_diagnostic          | \"(419,)\"            | 140209       | 140209    | RETRY   | celery@cd76dd7eb60d |\n",
      "| 41ae662a-1008-4d88-9dd8-9a1d70b67729 | send_email_request_bilan          | \"(420,)\"            | 140211       | 140211    | SUCCESS | celery@0fd6f40518b0 |\n",
      "| 07f4cd4e-72ef-4ed7-97bf-58756446877b | generate_word_diagnostic          | \"(420,)\"            | 140211       | 140211    | SUCCESS | celery@0fd6f40518b0 |\n",
      "| 2a011755-4825-4a4c-ba61-19fd6bc91611 | send_word_diagnostic              | \"(420,)\"            | 140211       | 140211    | SUCCESS | celery@0fd6f40518b0 |\n",
      "+--------------------------------------+-----------------------------------+---------------------+--------------+-----------+---------+---------------------+\n"
     ]
    }
   ],
   "source": [
    "from prettytable import PrettyTable\n",
    "from django_celery_results.models import TaskResult, ChordCounter, GroupResult\n",
    "\n",
    "headers = [\n",
    "    \"task_id\",\n",
    "    # \"periodic_task_name\",\n",
    "    \"task_name\",\n",
    "    \"task_args\",\n",
    "    # \"task_kwargs\",\n",
    "    \"date_created\",\n",
    "    \"date_done\",\n",
    "    # \"traceback\",\n",
    "    # \"meta\",\n",
    "    \"status\",\n",
    "    \"worker\",\n",
    "    # \"result\",\n",
    "]\n",
    "x = PrettyTable(field_names=headers, align=\"l\")\n",
    "\n",
    "results = TaskResult.objects.all().order_by(\"id\")\n",
    "rows = [\n",
    "    [\n",
    "        p.task_id,\n",
    "        p.task_name.split(\".\")[-1],\n",
    "        p.task_args,\n",
    "        p.date_created.strftime(\"%H%I%M\"),\n",
    "        p.date_done.strftime(\"%H%I%M\"),\n",
    "        p.status,\n",
    "        p.worker,\n",
    "        # p.result,\n",
    "    ]\n",
    "    for p in results\n",
    "]\n",
    "x.add_rows(rows)\n",
    "\n",
    "print(x)\n"
   ]
  },
  {
   "cell_type": "code",
   "execution_count": 15,
   "id": "f4472a33",
   "metadata": {},
   "outputs": [
    {
     "data": {
      "text/plain": [
       "<QuerySet []>"
      ]
     },
     "execution_count": 15,
     "metadata": {},
     "output_type": "execute_result"
    }
   ],
   "source": [
    "ChordCounter.objects.all()"
   ]
  },
  {
   "cell_type": "code",
   "execution_count": 16,
   "id": "87340a34",
   "metadata": {},
   "outputs": [
    {
     "data": {
      "text/plain": [
       "<QuerySet []>"
      ]
     },
     "execution_count": 16,
     "metadata": {},
     "output_type": "execute_result"
    }
   ],
   "source": [
    "GroupResult.objects.all()"
   ]
  },
  {
   "cell_type": "code",
   "execution_count": null,
   "id": "a8643306",
   "metadata": {},
   "outputs": [],
   "source": []
  },
  {
   "cell_type": "code",
   "execution_count": null,
   "id": "882ff2f7",
   "metadata": {},
   "outputs": [],
   "source": []
  }
 ],
 "metadata": {
  "kernelspec": {
   "display_name": "Django Shell-Plus",
   "language": "python",
   "name": "django_extensions"
  },
  "language_info": {
   "codemirror_mode": {
    "name": "ipython",
    "version": 3
   },
   "file_extension": ".py",
   "mimetype": "text/x-python",
   "name": "python",
   "nbconvert_exporter": "python",
   "pygments_lexer": "ipython3",
   "version": "3.9.7"
  }
 },
 "nbformat": 4,
 "nbformat_minor": 5
}
