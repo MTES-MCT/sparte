{
 "cells": [
  {
   "cell_type": "code",
   "execution_count": 7,
   "id": "20ce9e7a",
   "metadata": {},
   "outputs": [],
   "source": [
    "from project.models import Project\n",
    "from public_data.models import Cerema\n",
    "from prettytable import PrettyTable"
   ]
  },
  {
   "cell_type": "code",
   "execution_count": 5,
   "id": "9885e0b9",
   "metadata": {},
   "outputs": [
    {
     "data": {
      "text/plain": [
       "<Cerema: 49007>"
      ]
     },
     "execution_count": 5,
     "metadata": {},
     "output_type": "execute_result"
    }
   ],
   "source": [
    "angers = Cerema.objects.filter(city_name = \"Angers\").first()\n",
    "angers"
   ]
  },
  {
   "cell_type": "code",
   "execution_count": 11,
   "id": "7cb897d8",
   "metadata": {},
   "outputs": [
    {
     "name": "stdout",
     "output_type": "stream",
     "text": [
      "Artif 2016: 18928.0\n",
      "Habitat 2016: 3131.0\n",
      "Activité 2016: 3558.0\n",
      "Mixte 2016: 8017.0\n",
      "Inconnue 2016: 4222.0\n"
     ]
    },
    {
     "data": {
      "text/plain": [
       "0.0"
      ]
     },
     "execution_count": 11,
     "metadata": {},
     "output_type": "execute_result"
    }
   ],
   "source": [
    "print(\"Artif 2016:\", angers.naf15art16)\n",
    "print(\"Habitat 2016:\", angers.art15hab16)\n",
    "print(\"Activité 2016:\", angers.art15act16)\n",
    "print(\"Mixte 2016:\", angers.art15mix16)\n",
    "print(\"Inconnue 2016:\", angers.art15inc16)\n",
    "\n",
    "angers.naf15art16 - sum((angers.art15hab16, angers.art15act16, angers.art15mix16, angers.art15inc16))"
   ]
  },
  {
   "cell_type": "code",
   "execution_count": 3,
   "id": "87ef3a3b",
   "metadata": {},
   "outputs": [
    {
     "name": "stdout",
     "output_type": "stream",
     "text": [
      "2121 CC du Val de l'Eyre 243301405\n"
     ]
    }
   ],
   "source": [
    "for epci in Epci.objects.filter(name__icontains=\"Eyre\"):\n",
    "    print(epci.id, epci, epci.source_id)"
   ]
  },
  {
   "cell_type": "code",
   "execution_count": 17,
   "id": "a75b4d81",
   "metadata": {},
   "outputs": [
    {
     "name": "stdout",
     "output_type": "stream",
     "text": [
      "+--------------+-------+--------------------+--------------+---------------+--------+----------+-------+\n",
      "| Commune      | Insee | Surface conso 2014 | Pour habitat | Pour activité | Mixte  | Inconnu  | total |\n",
      "+--------------+-------+--------------------+--------------+---------------+--------+----------+-------+\n",
      "| Belin-Béliet | 33042 | 84795.0            | 47867.0      | 141.0         | 3878.0 | 32909.0  | 0.0   |\n",
      "| Le Barp      | 33029 | 99721.0            | 14078.0      | 10848.0       | 0.0    | 74795.0  | 0.0   |\n",
      "| Lugos        | 33260 | 10306.0            | 10306.0      | 0.0           | 0.0    | 0.0      | 0.0   |\n",
      "| Saint-Magne  | 33436 | 0.0                | 0.0          | 0.0           | 0.0    | 0.0      | 0.0   |\n",
      "| Salles       | 33498 | 71150.0            | 53520.0      | 1571.0        | 2907.0 | 13152.0  | 0.0   |\n",
      "| Total        |       | 265972.0           | 125771.0     | 12560.0       | 6785.0 | 120856.0 |       |\n",
      "+--------------+-------+--------------------+--------------+---------------+--------+----------+-------+\n"
     ]
    }
   ],
   "source": [
    "fields = [\n",
    "    \"Commune\",\n",
    "    \"Insee\",\n",
    "    \"Surface conso 2014\",\n",
    "    \"Pour habitat\",\n",
    "    \"Pour activité\",\n",
    "    \"Mixte\",\n",
    "    \"Inconnu\",\n",
    "    \"total\",\n",
    "]\n",
    "pt = PrettyTable(field_names=fields, align=\"l\")\n",
    "total = 0\n",
    "cities = list(Cerema.objects.filter(epci_id=243301405))\n",
    "for city in cities:\n",
    "    pt.add_row([\n",
    "        city.city_name,\n",
    "        city.city_insee,\n",
    "        city.naf14art15,\n",
    "        city.art14hab15,\n",
    "        city.art14act15,\n",
    "        city.art14mix15,\n",
    "        city.art14inc15,\n",
    "        sum([city.art14hab15, city.art14act15, city.art14mix15, city.art14inc15,]) - city.naf14art15,\n",
    "    ])\n",
    "    total += city.naf14art15\n",
    "pt.add_row([\n",
    "    \"Total\",\n",
    "    \"\",\n",
    "    sum([c.naf14art15 for c in cities]),\n",
    "    sum([c.art14hab15 for c in cities]),\n",
    "    sum([c.art14act15 for c in cities]),\n",
    "    sum([c.art14mix15 for c in cities]),\n",
    "    sum([c.art14inc15 for c in cities]),\n",
    "    \"\",\n",
    "])\n",
    "print(pt)"
   ]
  },
  {
   "cell_type": "code",
   "execution_count": null,
   "id": "97c50eb2",
   "metadata": {},
   "outputs": [],
   "source": []
  }
 ],
 "metadata": {
  "kernelspec": {
   "display_name": "Django Shell-Plus",
   "language": "python",
   "name": "django_extensions"
  },
  "language_info": {
   "codemirror_mode": {
    "name": "ipython",
    "version": 3
   },
   "file_extension": ".py",
   "mimetype": "text/x-python",
   "name": "python",
   "nbconvert_exporter": "python",
   "pygments_lexer": "ipython3",
   "version": "3.9.7"
  }
 },
 "nbformat": 4,
 "nbformat_minor": 5
}
