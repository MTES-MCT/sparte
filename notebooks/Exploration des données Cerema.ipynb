{
 "cells": [
  {
   "cell_type": "code",
   "execution_count": 1,
   "id": "20ce9e7a",
   "metadata": {},
   "outputs": [],
   "source": [
    "from project.models import Project\n",
    "from public_data.models import Cerema"
   ]
  },
  {
   "cell_type": "code",
   "execution_count": 5,
   "id": "9885e0b9",
   "metadata": {},
   "outputs": [
    {
     "data": {
      "text/plain": [
       "<Cerema: 49007>"
      ]
     },
     "execution_count": 5,
     "metadata": {},
     "output_type": "execute_result"
    }
   ],
   "source": [
    "angers = Cerema.objects.filter(city_name = \"Angers\").first()\n",
    "angers"
   ]
  },
  {
   "cell_type": "code",
   "execution_count": 11,
   "id": "7cb897d8",
   "metadata": {},
   "outputs": [
    {
     "name": "stdout",
     "output_type": "stream",
     "text": [
      "Artif 2016: 18928.0\n",
      "Habitat 2016: 3131.0\n",
      "Activité 2016: 3558.0\n",
      "Mixte 2016: 8017.0\n",
      "Inconnue 2016: 4222.0\n"
     ]
    },
    {
     "data": {
      "text/plain": [
       "0.0"
      ]
     },
     "execution_count": 11,
     "metadata": {},
     "output_type": "execute_result"
    }
   ],
   "source": [
    "print(\"Artif 2016:\", angers.naf15art16)\n",
    "print(\"Habitat 2016:\", angers.art15hab16)\n",
    "print(\"Activité 2016:\", angers.art15act16)\n",
    "print(\"Mixte 2016:\", angers.art15mix16)\n",
    "print(\"Inconnue 2016:\", angers.art15inc16)\n",
    "\n",
    "angers.naf15art16 - sum((angers.art15hab16, angers.art15act16, angers.art15mix16, angers.art15inc16))"
   ]
  },
  {
   "cell_type": "code",
   "execution_count": null,
   "id": "87ef3a3b",
   "metadata": {},
   "outputs": [],
   "source": []
  }
 ],
 "metadata": {
  "kernelspec": {
   "display_name": "Django Shell-Plus",
   "language": "python",
   "name": "django_extensions"
  },
  "language_info": {
   "codemirror_mode": {
    "name": "ipython",
    "version": 3
   },
   "file_extension": ".py",
   "mimetype": "text/x-python",
   "name": "python",
   "nbconvert_exporter": "python",
   "pygments_lexer": "ipython3",
   "version": "3.9.7"
  }
 },
 "nbformat": 4,
 "nbformat_minor": 5
}
