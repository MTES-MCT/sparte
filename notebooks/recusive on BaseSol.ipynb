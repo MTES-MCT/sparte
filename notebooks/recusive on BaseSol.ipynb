{
 "cells": [
  {
   "cell_type": "code",
   "execution_count": 1,
   "id": "33bdd63b",
   "metadata": {},
   "outputs": [],
   "source": [
    "%load_ext autoreload\n",
    "%autoreload 2"
   ]
  },
  {
   "cell_type": "code",
   "execution_count": 2,
   "id": "df308318",
   "metadata": {},
   "outputs": [],
   "source": [
    "import json\n",
    "from project.models import Project\n",
    "from public_data.models import Ocsge2015, CouvertureSol, UsageSol"
   ]
  },
  {
   "cell_type": "code",
   "execution_count": 3,
   "id": "41fea6cc",
   "metadata": {},
   "outputs": [],
   "source": [
    "raw_data = json.loads(Project.objects.get(pk=4).couverture_usage)\n",
    "# raw_data"
   ]
  },
  {
   "cell_type": "code",
   "execution_count": 4,
   "id": "e052b747",
   "metadata": {},
   "outputs": [
    {
     "name": "stdout",
     "output_type": "stream",
     "text": [
      "1 Sans végétation 25.2640886853288 26.222390498532977 \n",
      "1.1 Surfaces anthropisées 22.600233146933196 23.429295638135642 \n",
      "1.1.1 Zones imperméables 20.702556697746438 21.42303811952844 \n",
      "1.1.1.1 Zones bâties 12.348765754474607 12.929375403898439 \n",
      "1.1.1.2 Zones non bâties (Routes; places; parking…) 8.353790943271829 8.49366271563 \n",
      "1.1.2 Zones perméables 1.8976764491867564 2.0062575186072036 \n",
      "1.1.2.1 Zones à matériaux minéraux 1.8770371134357422 1.994255737751534 \n",
      "1.1.2.2 Zones à autres matériaux composites 0.020639335751014093 0.01200178085566955 \n",
      "1.2 Surfaces naturelles 2.6638555383956035 2.7930948603973347 \n",
      "1.2.1 Sols nus (Sable; pierres meubles; rochers saillants; …) 0.6679596499533035 0.6705329264952924 \n",
      "1.2.2 Surfaces d'eau (Eau continentale et maritime) 1.9958958884423 2.1225619339020425 \n",
      "1.2.3 Névés et glaciers 0 0 \n",
      "2 Avec végétation 189.3313633633219 188.59905472692225 \n",
      "2.1 Végétation ligneuse 157.74658227012216 157.56907786509223 \n",
      "2.1.1 Formations arborées 155.0770437963863 154.92182073842073 \n",
      "2.1.1.1 Peuplement de feuillus 8.554015271864605 8.321639628203862 \n",
      "2.1.1.2 Peuplement de conifères 96.85909699370106 96.59968640397051 \n",
      "2.1.1.3 Peuplement mixte 29.64869883730206 29.369435722049044 \n",
      "2.1.2 Formations arbustives et sous-arbrisseaux (Landes basses; formations arbustives; formations arbustives organisées; …) 2.6674023874470487 2.645121040382701 \n",
      "2.1.3 Autres formations ligneuses (Vignes et autres lianes) 0.0021360862888054766 0.0021360862888054766 \n",
      "2.2 Végétation non ligneuse 31.58478109319975 31.029976861830036 \n",
      "2.2.1 Formations herbacées (Pelouses et prairies; terres arables; roselières; …) 31.58478109319975 31.029976861830036 \n",
      "2.2.2 Autres formations non ligneuses (Lichen; mousse; bananiers; bambous; ...) 0 0 \n"
     ]
    }
   ],
   "source": [
    "millesimes = raw_data.keys()\n",
    "for couv in CouvertureSol.iter_total_surface(raw_data):\n",
    "    print(couv.code, couv.label, end=\" \")\n",
    "    for m in millesimes:\n",
    "        print(couv.total_surface[m], end=\" \")\n",
    "    print()"
   ]
  },
  {
   "cell_type": "code",
   "execution_count": null,
   "id": "d1dbd35c",
   "metadata": {},
   "outputs": [],
   "source": []
  }
 ],
 "metadata": {
  "kernelspec": {
   "display_name": "Django Shell-Plus",
   "language": "python",
   "name": "django_extensions"
  },
  "language_info": {
   "codemirror_mode": {
    "name": "ipython",
    "version": 3
   },
   "file_extension": ".py",
   "mimetype": "text/x-python",
   "name": "python",
   "nbconvert_exporter": "python",
   "pygments_lexer": "ipython3",
   "version": "3.9.7"
  }
 },
 "nbformat": 4,
 "nbformat_minor": 5
}
