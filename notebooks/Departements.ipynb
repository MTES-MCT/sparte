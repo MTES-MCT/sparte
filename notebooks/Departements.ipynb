{
 "cells": [
  {
   "cell_type": "code",
   "execution_count": 1,
   "id": "92ae5647",
   "metadata": {},
   "outputs": [],
   "source": [
    "from public_data.models import Departement, Ocsge"
   ]
  },
  {
   "cell_type": "code",
   "execution_count": 6,
   "id": "59304023",
   "metadata": {},
   "outputs": [
    {
     "data": {
      "text/plain": [
       "<Departement: Gironde>"
      ]
     },
     "execution_count": 6,
     "metadata": {},
     "output_type": "execute_result"
    }
   ],
   "source": [
    "depts = Departement.objects.filter(name__icontains=\"gironde\")\n",
    "depts[0]"
   ]
  },
  {
   "cell_type": "code",
   "execution_count": 7,
   "id": "645b4fb4",
   "metadata": {},
   "outputs": [
    {
     "data": {
      "text/plain": [
       "155892"
      ]
     },
     "execution_count": 7,
     "metadata": {},
     "output_type": "execute_result"
    }
   ],
   "source": [
    "dept = depts[0]\n",
    "items = Ocsge.objects.filter(mpoly__intersects=dept.mpoly)\n",
    "items.count()"
   ]
  },
  {
   "cell_type": "code",
   "execution_count": 10,
   "id": "46e21f59",
   "metadata": {},
   "outputs": [
    {
     "data": {
      "text/plain": [
       "<QuerySet [{'year': 2015}, {'year': 2018}]>"
      ]
     },
     "execution_count": 10,
     "metadata": {},
     "output_type": "execute_result"
    }
   ],
   "source": [
    "items.values(\"year\").distinct()"
   ]
  },
  {
   "cell_type": "code",
   "execution_count": 13,
   "id": "99d976b3",
   "metadata": {},
   "outputs": [
    {
     "data": {
      "text/plain": [
       "<QuerySet [2015, 2018]>"
      ]
     },
     "execution_count": 13,
     "metadata": {},
     "output_type": "execute_result"
    }
   ],
   "source": [
    "years = items.values_list(\"year\", flat=True).distinct()\n",
    "years"
   ]
  },
  {
   "cell_type": "code",
   "execution_count": 14,
   "id": "036d8264",
   "metadata": {},
   "outputs": [
    {
     "data": {
      "text/plain": [
       "'2015;2018'"
      ]
     },
     "execution_count": 14,
     "metadata": {},
     "output_type": "execute_result"
    }
   ],
   "source": [
    "\";\".join(str(y) for y in years)"
   ]
  },
  {
   "cell_type": "code",
   "execution_count": 17,
   "id": "fdf7633a",
   "metadata": {},
   "outputs": [
    {
     "data": {
      "text/plain": [
       "<QuerySet [{'ocsge_millesimes': ''}, {'ocsge_millesimes': '2015;2018'}]>"
      ]
     },
     "execution_count": 17,
     "metadata": {},
     "output_type": "execute_result"
    }
   ],
   "source": [
    "Departement.objects.all().values(\"ocsge_millesimes\").distinct()"
   ]
  },
  {
   "cell_type": "code",
   "execution_count": 19,
   "id": "5beaf1a1",
   "metadata": {},
   "outputs": [
    {
     "data": {
      "text/plain": [
       "<QuerySet [<Departement: Gironde>, <Departement: Landes>]>"
      ]
     },
     "execution_count": 19,
     "metadata": {},
     "output_type": "execute_result"
    }
   ],
   "source": [
    "Departement.objects.filter(ocsge_millesimes__icontains='2018')"
   ]
  },
  {
   "cell_type": "code",
   "execution_count": null,
   "id": "d6158bd6",
   "metadata": {},
   "outputs": [],
   "source": []
  }
 ],
 "metadata": {
  "kernelspec": {
   "display_name": "Django Shell-Plus",
   "language": "python",
   "name": "django_extensions"
  },
  "language_info": {
   "codemirror_mode": {
    "name": "ipython",
    "version": 3
   },
   "file_extension": ".py",
   "mimetype": "text/x-python",
   "name": "python",
   "nbconvert_exporter": "python",
   "pygments_lexer": "ipython3",
   "version": "3.9.7"
  }
 },
 "nbformat": 4,
 "nbformat_minor": 5
}
