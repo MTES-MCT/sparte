{
 "cells": [
  {
   "cell_type": "code",
   "execution_count": 26,
   "id": "72d2848d",
   "metadata": {},
   "outputs": [],
   "source": [
    "from public_data.models import Commune, Cerema, Epci, Scot\n",
    "from django.contrib.gis.db.models import Union"
   ]
  },
  {
   "cell_type": "code",
   "execution_count": 6,
   "id": "413c60f6",
   "metadata": {},
   "outputs": [
    {
     "data": {
      "text/plain": [
       "(34826, 34806)"
      ]
     },
     "execution_count": 6,
     "metadata": {},
     "output_type": "execute_result"
    }
   ],
   "source": [
    "initials = {c: (e, s) for c, e, s in Commune.objects.all().values_list(\"insee\", \"epci__source_id\", \"scot__name\")}\n",
    "updated = {c: (e, s) for c, e, s in Cerema.objects.all().values_list(\"city_insee\", \"epci_id\", \"scot\")}\n",
    "len(initials), len(updated)"
   ]
  },
  {
   "cell_type": "code",
   "execution_count": 9,
   "id": "f65878a8",
   "metadata": {},
   "outputs": [
    {
     "data": {
      "text/plain": [
       "21"
      ]
     },
     "execution_count": 9,
     "metadata": {},
     "output_type": "execute_result"
    }
   ],
   "source": [
    "city_to_delete = [c for c in initials.keys() if c not in updated]\n",
    "len(city_to_delete)"
   ]
  },
  {
   "cell_type": "code",
   "execution_count": 10,
   "id": "141dc00d",
   "metadata": {},
   "outputs": [
    {
     "data": {
      "text/plain": [
       "['27058']"
      ]
     },
     "execution_count": 10,
     "metadata": {},
     "output_type": "execute_result"
    }
   ],
   "source": [
    "city_to_create = [c for c in updated.keys() if c not in initials]\n",
    "city_to_create"
   ]
  },
  {
   "cell_type": "code",
   "execution_count": 21,
   "id": "25d486b4",
   "metadata": {},
   "outputs": [
    {
     "data": {
      "text/plain": [
       "194"
      ]
     },
     "execution_count": 21,
     "metadata": {},
     "output_type": "execute_result"
    }
   ],
   "source": [
    "city_with_epci_to_update = [c for c, e in initials.items() if c in updated and e[0] != updated[c][0]]\n",
    "len(city_with_epci_to_update)"
   ]
  },
  {
   "cell_type": "code",
   "execution_count": 23,
   "id": "a7baa9bd",
   "metadata": {},
   "outputs": [
    {
     "data": {
      "text/plain": [
       "29540"
      ]
     },
     "execution_count": 23,
     "metadata": {},
     "output_type": "execute_result"
    }
   ],
   "source": [
    "city_with_scot_to_update = [c for c, e in initials.items() if c in updated and e[1] != updated[c][1]]\n",
    "len(city_with_scot_to_update)"
   ]
  },
  {
   "cell_type": "code",
   "execution_count": 25,
   "id": "0ecae6cd",
   "metadata": {},
   "outputs": [
    {
     "data": {
      "text/plain": [
       "<QuerySet ['SCoT du Pays de Brie et Champagne', 'SCoT du Gard Rhodanien', 'SCoT Gevaudan Lozère', \"SCoT de l'aire métropolitaine bordelaise\", 'SCoT Cap Atlantique', 'SCoT Littoral Sud', 'SCoT Golfe du Morbihan - Vannes agglomération', 'SCoT du Pays de Valençay en Berry', 'SCoT Nord Isere', \"SCoT de l'Agglomération d'Angoulême\", \"SCoT du Pays de l'Agenais\", 'SCoT du Bassin de Vie de Coulommiers', 'SCoT du Soissonnais en Valois', \"SCoT du Pays de l'auxois Morvan\", 'SCoT du Haut Bearn', 'SCoT du Pays de Langres', 'SCoT Roannais', 'SCoT du Grand Nevers', 'SCoT des Pyrénées Catalanes', 'SCoT du Pays de Morlaix', '...(remaining elements truncated)...']>"
      ]
     },
     "execution_count": 25,
     "metadata": {},
     "output_type": "execute_result"
    }
   ],
   "source": [
    "Cerema.objects.all().values_list(\"scot\", flat=True).distinct()"
   ]
  },
  {
   "cell_type": "code",
   "execution_count": 27,
   "id": "1cfd3cc9",
   "metadata": {},
   "outputs": [
    {
     "data": {
      "text/plain": [
       "<QuerySet [{'epci_id': '200000172', 'epci_name': 'CC Faucigny-Glières', 'geom': <Polygon object at 0x7fdcf5d0d7b0>}, {'epci_id': '200000438', 'epci_name': 'CC du Pays de Pontchâteau Saint-Gildas-des-Bois', 'geom': <Polygon object at 0x7fdcf5d0d840>}, {'epci_id': '200000545', 'epci_name': 'CC des Portes de Romilly-sur-Seine', 'geom': <Polygon object at 0x7fdcf5d0d8d0>}, {'epci_id': '200000628', 'epci_name': 'CC Rhône Lez Provence', 'geom': <Polygon object at 0x7fdcf5d0d960>}, {'epci_id': '200000800', 'epci_name': 'CC Cœur de Sologne', 'geom': <Polygon object at 0x7fdcf5d0d9f0>}, {'epci_id': '200000925', 'epci_name': 'CC de la Plaine Dijonnaise', 'geom': <Polygon object at 0x7fdcf5d0da80>}, {'epci_id': '200000933', 'epci_name': 'CC Sauldre et Sologne', 'geom': <Polygon object at 0x7fdcf5d0db10>}, {'epci_id': '200004802', 'epci_name': 'CC du Pays de Fayence', 'geom': <Polygon object at 0x7fdcf5d0dba0>}, {'epci_id': '200005932', 'epci_name': 'CC des Portes de Sologne', 'geom': <Polygon object at 0x7fdcf5d0dc30>}, {'epci_id': '200005957', 'epci_name': 'CC de la Région de Rambervillers', 'geom': <Polygon object at 0x7fdcf5d0dcc0>}, {'epci_id': '200006682', 'epci_name': 'CA Beaune, Côte et Sud - Communauté Beaune-Chagny-Nolay', 'geom': <Polygon object at 0x7fdcf5d0dd50>}, {'epci_id': '200006716', 'epci_name': 'CC du Nogentais', 'geom': <Polygon object at 0x7fdcf5d0dde0>}, {'epci_id': '200006930', 'epci_name': 'CC du Haut Allier', 'geom': <Polygon object at 0x7fdcf5d0de70>}, {'epci_id': '200006971', 'epci_name': 'CC du Perche', 'geom': <Polygon object at 0x7fdcf5d0df00>}, {'epci_id': '200007052', 'epci_name': 'CC de la Marche Berrichonne', 'geom': <Polygon object at 0x7fdcf5d0df90>}, {'epci_id': '200007177', 'epci_name': 'CC Pays de Nérondes', 'geom': <Polygon object at 0x7fdcf5d0e0b0>}, {'epci_id': '200010650', 'epci_name': 'CA du Grand Dole', 'geom': <Polygon object at 0x7fdcf5d0e140>}, {'epci_id': '200010700', 'epci_name': 'CA Caux Seine Agglo', 'geom': <Polygon object at 0x7fdcf5d0e1d0>}, {'epci_id': '200011773', 'epci_name': 'CA Annemasse-les Voirons-Agglomération', 'geom': <Polygon object at 0x7fdcf5d0e260>}, {'epci_id': '200011781', 'epci_name': \"CC Portes du Berry entre Loire et Val d'Aubois\", 'geom': <Polygon object at 0x7fdcf5d0e2f0>}, '...(remaining elements truncated)...']>"
      ]
     },
     "execution_count": 27,
     "metadata": {},
     "output_type": "execute_result"
    }
   ],
   "source": [
    "new_epci = Cerema.objects.all().values(\"epci_id\", \"epci_name\").annotate(geom=Union(\"mpoly\"))"
   ]
  },
  {
   "cell_type": "code",
   "execution_count": 35,
   "id": "9dfad4da",
   "metadata": {},
   "outputs": [
    {
     "name": "stdout",
     "output_type": "stream",
     "text": [
      "3\n",
      "2\n",
      "1\n",
      "[]\n"
     ]
    }
   ],
   "source": [
    "a = [1,2,3]\n",
    "while a:\n",
    "    b = a.pop()\n",
    "    print(b)\n",
    "print(a)"
   ]
  },
  {
   "cell_type": "code",
   "execution_count": 31,
   "id": "b8c58e74",
   "metadata": {},
   "outputs": [
    {
     "data": {
      "text/plain": [
       "<QuerySet [{'scot': 'Communautés de communes Usses et Rhône', 'geom': <Polygon object at 0x7fdcf7480490>, 'num_regions': 1, 'num_depts': 2}, {'scot': 'Redon Agglomeration', 'geom': <Polygon object at 0x7fdcf5d0e410>, 'num_regions': 2, 'num_depts': 3}, {'scot': 'SCoT  Corbieres Salanque Mediterranée', 'geom': <Polygon object at 0x7fdcf5d0e4a0>, 'num_regions': 1, 'num_depts': 2}, {'scot': 'SCoT AEC du Sud-Corse', 'geom': <MultiPolygon object at 0x7fdcf5d0e530>, 'num_regions': 1, 'num_depts': 1}, {'scot': 'SCoT AUTAN COCAGNE', 'geom': <Polygon object at 0x7fdcf5d0e5c0>, 'num_regions': 1, 'num_depts': 1}, {'scot': 'SCoT Adour Chalosse Tursan', 'geom': <Polygon object at 0x7fdcf5d0e650>, 'num_regions': 2, 'num_depts': 2}, {'scot': 'SCoT Aix-Marseille-Provence', 'geom': <MultiPolygon object at 0x7fdcf5d0e6e0>, 'num_regions': 1, 'num_depts': 3}, {'scot': \"SCoT Alpes d'Azur\", 'geom': <Polygon object at 0x7fdcf5d0e770>, 'num_regions': 1, 'num_depts': 1}, {'scot': 'SCoT Alpes-Provences-Verdon', 'geom': <Polygon object at 0x7fdcf5d0e800>, 'num_regions': 1, 'num_depts': 1}, {'scot': 'SCoT Arc Sud Bretagne', 'geom': <MultiPolygon object at 0x7fdcf5d0e890>, 'num_regions': 1, 'num_depts': 1}, {'scot': 'SCoT Ardèche Méridionale', 'geom': <Polygon object at 0x7fdcf5d0e920>, 'num_regions': 1, 'num_depts': 1}, {'scot': 'SCoT Arlysère', 'geom': <Polygon object at 0x7fdcf5d0e9b0>, 'num_regions': 1, 'num_depts': 1}, {'scot': 'SCoT Avant Pays Savoyard', 'geom': <Polygon object at 0x7fdcf5d0ea40>, 'num_regions': 1, 'num_depts': 1}, {'scot': 'SCoT Avord-Bourges-Vierzon', 'geom': <Polygon object at 0x7fdcf5d0ead0>, 'num_regions': 1, 'num_depts': 1}, {'scot': 'SCoT BUCOPA', 'geom': <Polygon object at 0x7fdcf5d0eb60>, 'num_regions': 1, 'num_depts': 1}, {'scot': 'SCoT Baie de Somme Trois Vallées', 'geom': <Polygon object at 0x7fdcf5d0ebf0>, 'num_regions': 1, 'num_depts': 1}, {'scot': 'SCoT Baugeois Vallées', 'geom': <Polygon object at 0x7fdcf5d0ec80>, 'num_regions': 1, 'num_depts': 1}, {'scot': 'SCoT Bourg-Bresse-Revermont', 'geom': <Polygon object at 0x7fdcf5d0ed10>, 'num_regions': 1, 'num_depts': 1}, {'scot': 'SCoT Brenne Marche', 'geom': <Polygon object at 0x7fdcf5d0eda0>, 'num_regions': 1, 'num_depts': 1}, {'scot': 'SCoT Bresse - Val-de-Saône', 'geom': <Polygon object at 0x7fdcf5d0e2f0>, 'num_regions': 1, 'num_depts': 1}, '...(remaining elements truncated)...']>"
      ]
     },
     "execution_count": 31,
     "metadata": {},
     "output_type": "execute_result"
    }
   ],
   "source": [
    "from django.db.models import Count, IntegerField\n",
    "\n",
    "Cerema.objects.all().values(\"scot\").annotate(\n",
    "    geom=Union(\"mpoly\"),\n",
    "    num_regions=Count(\"region_id\", distinct=True),\n",
    "    num_depts=Count(\"dept_id\", distinct=True),\n",
    ")"
   ]
  },
  {
   "cell_type": "code",
   "execution_count": null,
   "id": "4f039237",
   "metadata": {},
   "outputs": [],
   "source": []
  }
 ],
 "metadata": {
  "kernelspec": {
   "display_name": "Django Shell-Plus",
   "language": "python",
   "name": "django_extensions"
  },
  "language_info": {
   "codemirror_mode": {
    "name": "ipython",
    "version": 3
   },
   "file_extension": ".py",
   "mimetype": "text/x-python",
   "name": "python",
   "nbconvert_exporter": "python",
   "pygments_lexer": "ipython3",
   "version": "3.11.4"
  }
 },
 "nbformat": 4,
 "nbformat_minor": 5
}
