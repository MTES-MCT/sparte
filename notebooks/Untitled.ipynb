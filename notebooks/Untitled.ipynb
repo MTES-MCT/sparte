{
 "cells": [
  {
   "cell_type": "code",
   "execution_count": 16,
   "id": "29f1a19b",
   "metadata": {},
   "outputs": [
    {
     "data": {
      "text/plain": [
       "<Project: Diagnostic de Auch>"
      ]
     },
     "execution_count": 16,
     "metadata": {},
     "output_type": "execute_result"
    }
   ],
   "source": [
<<<<<<< HEAD
    "from project.models import Project\n",
=======
<<<<<<< HEAD
>>>>>>> testing in progress
    "from public_data.models import OcsgeDiff, CouvertureSol, Departement, Commune\n",
    "from utils.db import cast_sum\n",
    "from django.contrib.gis.db.models.functions import Centroid\n",
    "from django.contrib.gis.db.models import Union\n",
    "from django.db.models import Q\n",
    "\n",
<<<<<<< HEAD
    "project = Project.objects.order_by(\"?\").first()\n",
    "project\n",
    "\n",
    "project = Project.objects.get(pk=1470)\n",
    "project"
=======
    "dept = Departement.objects.filter(name=\"Gers\").first()"
=======
    "from public_data.models import Departement, Ocsge, Region, OcsgeDiff, Commune"
>>>>>>> testing in progress
   ]
  },
  {
   "cell_type": "code",
<<<<<<< HEAD
   "execution_count": 17,
   "id": "26619434",
   "metadata": {},
=======
   "execution_count": 2,
   "id": "f5f7aad0",
   "metadata": {},
   "outputs": [
    {
     "data": {
      "text/plain": [
       "(<Departement: Côte-d'Or>, <Commune: Dijon (21231)>)"
      ]
     },
     "execution_count": 2,
     "metadata": {},
     "output_type": "execute_result"
    }
   ],
   "source": [
    "dept = Departement.objects.get(name__icontains=\"côte-d'or\")\n",
    "dijon = Commune.objects.get(name=\"Dijon\")\n",
    "dept, dijon"
>>>>>>> testing in progress
   ]
  },
  {
   "cell_type": "code",
<<<<<<< HEAD
   "execution_count": null,
   "id": "26619434",
   "metadata": {},
   "outputs": [],
   "source": []
  },
  {
   "cell_type": "code",
   "execution_count": 40,
   "id": "48d811fe",
=======
   "execution_count": 6,
   "id": "f50170eb",
   "metadata": {},
   "outputs": [
    {
     "data": {
      "text/plain": [
       "17472"
      ]
     },
     "execution_count": 6,
     "metadata": {},
     "output_type": "execute_result"
    }
   ],
   "source": [
    "qs = Ocsge.objects.intersect(dijon.mpoly)\n",
    "qs.count()"
   ]
  },
  {
   "cell_type": "code",
   "execution_count": 7,
   "id": "6690db2b",
   "metadata": {},
   "outputs": [
    {
     "data": {
      "text/plain": [
       "16615"
      ]
     },
     "execution_count": 7,
     "metadata": {},
     "output_type": "execute_result"
    }
   ],
   "source": [
    "qs.filter(is_artificial=True).count()"
   ]
  },
  {
   "cell_type": "code",
   "execution_count": 10,
   "id": "976eb427",
>>>>>>> testing in progress
   "metadata": {},
>>>>>>> testing in progress
   "outputs": [
    {
     "data": {
      "text/plain": [
<<<<<<< HEAD
       "1"
      ]
     },
     "execution_count": 17,
=======
<<<<<<< HEAD
       "6"
      ]
     },
     "execution_count": 40,
=======
       "(Decimal('59.2300'), Decimal('14.0000'), Decimal('45.2300'))"
      ]
     },
     "execution_count": 10,
>>>>>>> testing in progress
>>>>>>> testing in progress
     "metadata": {},
     "output_type": "execute_result"
    }
   ],
   "source": [
<<<<<<< HEAD
    "qs = project.cities.all().select_related(\"epci\", \"departement\", \"scot\", \"departement__region\")\n",
=======
<<<<<<< HEAD
    "qs = (\n",
    "    OcsgeDiff.objects.filter(Q(is_new_artif=True) | Q(is_new_natural=True))\n",
    "    .filter(Q(new_matrix__couverture__code_prefix=\"CS1.1.2.2\") | Q(old_matrix__couverture__code_prefix=\"CS1.1.2.2\"))\n",
    "    .annotate(center=Centroid(\"mpoly\"))\n",
    ")\n",
>>>>>>> testing in progress
    "qs.count()"
=======
    "dijon_diff = CommuneDiff.objects.get(city=dijon)\n",
    "dijon_diff.new_artif, dijon_diff.new_natural, dijon_diff.net_artif"
>>>>>>> testing in progress
   ]
  },
  {
   "cell_type": "code",
<<<<<<< HEAD
   "execution_count": 18,
   "id": "48d811fe",
=======
<<<<<<< HEAD
   "execution_count": 43,
   "id": "1977b5f0",
   "metadata": {},
   "outputs": [
    {
     "name": "stdout",
     "output_type": "stream",
     "text": [
      "Biganos Gironde\n",
      "CS2.1.1.1-US5: CS1.1.2.2-US6.1:a\n",
      "Biganos Gironde\n",
      "CS2.1.1.1-US5: CS1.1.2.2-US6.1:a\n",
      "Maîche Doubs\n",
      "CS2.1.1.1-US1.2: CS1.1.2.2-US2:a\n",
      "La Roche-en-Brenil Côte-d'Or\n",
      "CS2.2.1.1-US1.1.3: CS1.1.2.2-US2:a\n",
      "Courlaoux Jura\n",
      "CS2.1.1.1-US4.3: CS1.1.2.2-US4.3:a\n",
      "Saint-Cyr-les-Colons Yonne\n",
      "CS2.2.1-US1.1: CS1.1.2.2-US4.3:a\n"
     ]
    }
   ],
   "source": [
    "for item in qs:\n",
    "    comm = Commune.objects.filter(mpoly__contains=item.mpoly).first()\n",
    "    print(comm.name, comm.departement)\n",
    "    print(item.old_matrix, item.new_matrix)"
   ]
  },
  {
   "cell_type": "code",
   "execution_count": 27,
   "id": "03c87d06",
>>>>>>> testing in progress
   "metadata": {},
   "outputs": [
    {
     "data": {
      "text/plain": [
       "({<Commune: Auch (32013)>},\n",
       " {<Epci: CA Grand Auch Coeur de Gascogne>},\n",
       " {<Scot: SCOT DE GASCOGNE>},\n",
       " {<Departement: Gers>},\n",
       " {<Region: Occitanie>})"
      ]
     },
     "execution_count": 18,
     "metadata": {},
     "output_type": "execute_result"
    }
   ],
   "source": [
    "city_set = set()\n",
    "epci = set()\n",
    "scot = set()\n",
    "departement = set()\n",
    "region = set()\n",
    "for city in qs:\n",
    "    city_set.add(city)\n",
    "    epci.add(city.epci)\n",
    "    scot.add(city.scot)\n",
    "    departement.add(city.departement)\n",
    "    region.add(city.departement.region)\n",
    "city_set, epci, scot, departement, region"
   ]
  },
  {
   "cell_type": "code",
   "execution_count": 15,
   "id": "1977b5f0",
   "metadata": {},
   "outputs": [
    {
     "data": {
      "text/plain": [
       "<Commune: Ablain-Saint-Nazaire (62001)>"
      ]
     },
     "execution_count": 15,
     "metadata": {},
     "output_type": "execute_result"
    }
   ],
   "source": [
    "next(iter(city_set))"
   ]
  },
  {
   "cell_type": "code",
   "execution_count": null,
   "id": "03c87d06",
   "metadata": {},
   "outputs": [],
   "source": []
  },
  {
   "cell_type": "code",
   "execution_count": null,
   "id": "093afe37",
   "metadata": {},
   "outputs": [],
   "source": []
  },
  {
   "cell_type": "code",
   "execution_count": null,
   "id": "5fc78f6b",
   "metadata": {},
<<<<<<< HEAD
   "outputs": [],
   "source": []
=======
   "outputs": [
    {
     "data": {
      "text/plain": [
       "4"
      ]
     },
     "execution_count": 38,
     "metadata": {},
     "output_type": "execute_result"
    }
   ],
   "source": [
    "qs = (\n",
    "    OcsgeDiff.objects.intersect(dept.mpoly)\n",
    "    .filter(Q(is_new_artif=True) | Q(is_new_natural=True))\n",
    "    .annotate(\n",
    "        code_prefix=Case(\n",
    "            When(\n",
    "                is_new_artif=True,\n",
    "                then=F(\"new_matrix__couverture__code_prefix\")\n",
    "            ),\n",
    "            default=F(\"old_matrix__couverture__code_prefix\"),\n",
    "        ),\n",
    "        label=Case(\n",
    "            When(is_new_artif=True, then=F(\"new_matrix__couverture__label\")),\n",
    "            default=F(\"old_matrix__couverture__label\"),\n",
    "        ),\n",
    "        label_short=Case(\n",
    "            When(is_new_artif=True, then=F(\"new_matrix__couverture__label_short\")),\n",
    "            default=F(\"old_matrix__couverture__label_short\"),\n",
    "        ),\n",
    "    )\n",
    "    .values(\"code_prefix\", \"label\", \"label_short\")\n",
    "    .annotate(\n",
    "        artif=cast_sum(\"intersection_area\", filter=Q(is_new_artif=True)),\n",
    "        renat=cast_sum(\"intersection_area\", filter=Q(is_new_natural=True)),\n",
    "    )\n",
    "    .order_by(\"code_prefix\", \"label\", \"label_short\")\n",
    ")\n",
    "qs.count()"
   ]
=======
   "execution_count": null,
   "id": "ca4dd723",
   "metadata": {},
   "outputs": [],
   "source": []
  },
  {
   "cell_type": "code",
   "execution_count": null,
   "id": "29ace90a",
   "metadata": {},
   "outputs": [],
   "source": []
  },
  {
   "cell_type": "code",
   "execution_count": null,
   "id": "252bb85a",
   "metadata": {},
   "outputs": [],
   "source": []
  },
  {
   "cell_type": "code",
   "execution_count": null,
   "id": "d0de7638",
   "metadata": {},
   "outputs": [],
   "source": []
  },
  {
   "cell_type": "code",
   "execution_count": null,
   "id": "13508880",
   "metadata": {},
   "outputs": [],
   "source": []
  },
  {
   "cell_type": "code",
   "execution_count": null,
   "id": "f743b098",
   "metadata": {},
   "outputs": [],
   "source": []
>>>>>>> testing in progress
>>>>>>> testing in progress
  },
  {
   "cell_type": "code",
   "execution_count": null,
   "id": "96e6807c",
   "metadata": {},
   "outputs": [],
   "source": []
  }
 ],
 "metadata": {
  "kernelspec": {
   "display_name": "Django Shell-Plus",
   "language": "python",
   "name": "django_extensions"
  },
  "language_info": {
   "codemirror_mode": {
    "name": "ipython",
    "version": 3
   },
   "file_extension": ".py",
   "mimetype": "text/x-python",
   "name": "python",
   "nbconvert_exporter": "python",
   "pygments_lexer": "ipython3",
   "version": "3.9.14"
  }
 },
 "nbformat": 4,
 "nbformat_minor": 5
}
