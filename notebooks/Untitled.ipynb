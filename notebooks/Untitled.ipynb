{
 "cells": [
  {
   "cell_type": "code",
   "execution_count": 16,
   "id": "29f1a19b",
   "metadata": {},
   "outputs": [
    {
     "data": {
      "text/plain": [
       "<Project: Diagnostic de Auch>"
      ]
     },
     "execution_count": 16,
     "metadata": {},
     "output_type": "execute_result"
    }
   ],
   "source": [
    "from project.models import Project\n",
    "from public_data.models import OcsgeDiff, CouvertureSol, Departement, Commune\n",
    "from utils.db import cast_sum\n",
    "from django.contrib.gis.db.models.functions import Centroid\n",
    "from django.contrib.gis.db.models import Union\n",
    "from django.db.models import Q\n",
    "\n",
    "project = Project.objects.order_by(\"?\").first()\n",
    "project\n",
    "\n",
    "project = Project.objects.get(pk=1470)\n",
    "project"
   ]
  },
  {
   "cell_type": "code",
   "execution_count": 17,
   "id": "26619434",
   "metadata": {},
   "outputs": [
    {
     "data": {
      "text/plain": [
       "1"
      ]
     },
     "execution_count": 17,
     "metadata": {},
     "output_type": "execute_result"
    }
   ],
   "source": [
    "qs = project.cities.all().select_related(\"epci\", \"departement\", \"scot\", \"departement__region\")\n",
    "qs.count()"
   ]
  },
  {
   "cell_type": "code",
   "execution_count": 18,
   "id": "48d811fe",
   "metadata": {},
   "outputs": [
    {
     "data": {
      "text/plain": [
       "({<Commune: Auch (32013)>},\n",
       " {<Epci: CA Grand Auch Coeur de Gascogne>},\n",
       " {<Scot: SCOT DE GASCOGNE>},\n",
       " {<Departement: Gers>},\n",
       " {<Region: Occitanie>})"
      ]
     },
     "execution_count": 18,
     "metadata": {},
     "output_type": "execute_result"
    }
   ],
   "source": [
    "city_set = set()\n",
    "epci = set()\n",
    "scot = set()\n",
    "departement = set()\n",
    "region = set()\n",
    "for city in qs:\n",
    "    city_set.add(city)\n",
    "    epci.add(city.epci)\n",
    "    scot.add(city.scot)\n",
    "    departement.add(city.departement)\n",
    "    region.add(city.departement.region)\n",
    "city_set, epci, scot, departement, region"
   ]
  },
  {
   "cell_type": "code",
   "execution_count": 15,
   "id": "1977b5f0",
   "metadata": {},
   "outputs": [
    {
     "data": {
      "text/plain": [
       "<Commune: Ablain-Saint-Nazaire (62001)>"
      ]
     },
     "execution_count": 15,
     "metadata": {},
     "output_type": "execute_result"
    }
   ],
   "source": [
    "next(iter(city_set))"
   ]
  },
  {
   "cell_type": "code",
   "execution_count": null,
   "id": "03c87d06",
   "metadata": {},
   "outputs": [],
   "source": []
  },
  {
   "cell_type": "code",
   "execution_count": null,
   "id": "093afe37",
   "metadata": {},
   "outputs": [],
   "source": []
  },
  {
   "cell_type": "code",
   "execution_count": null,
   "id": "5fc78f6b",
   "metadata": {},
   "outputs": [],
   "source": []
  },
  {
   "cell_type": "code",
   "execution_count": null,
   "id": "96e6807c",
   "metadata": {},
   "outputs": [],
   "source": []
  }
 ],
 "metadata": {
  "kernelspec": {
   "display_name": "Django Shell-Plus",
   "language": "python",
   "name": "django_extensions"
  },
  "language_info": {
   "codemirror_mode": {
    "name": "ipython",
    "version": 3
   },
   "file_extension": ".py",
   "mimetype": "text/x-python",
   "name": "python",
   "nbconvert_exporter": "python",
   "pygments_lexer": "ipython3",
   "version": "3.9.14"
  }
 },
 "nbformat": 4,
 "nbformat_minor": 5
}
