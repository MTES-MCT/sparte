{
 "cells": [
  {
   "cell_type": "code",
   "execution_count": 1,
   "id": "1d183856",
   "metadata": {},
   "outputs": [],
   "source": [
    "import os\n",
    "\n",
    "os.environ[\"DJANGO_ALLOW_ASYNC_UNSAFE\"] = \"true\"\n",
    "\n",
    "from public_data.models import Ocsge, Departement, CouvertureSol, UsageSol, OcsgeDiff, CouvertureUsageMatrix\n",
    "from django.db import connection\n",
    "from django.db.models import Subquery, OuterRef, DecimalField, CharField, F, Value\n",
    "from django.db.models.functions import Cast\n",
    "from django.contrib.gis.db.models.functions import Area, Transform\n",
    "\n",
    "\n",
    "params = [0.3658103942871094,43.646877927093804,0.6255340576171876,43.72917630660924, 2016]"
   ]
  },
  {
   "cell_type": "code",
   "execution_count": 2,
   "id": "be0b3358",
   "metadata": {},
   "outputs": [
    {
     "data": {
      "text/plain": [
       "11061"
      ]
     },
     "execution_count": 2,
     "metadata": {},
     "output_type": "execute_result"
    }
   ],
   "source": [
    "query = (\n",
    "    \"SELECT \"\n",
    "    \"o.id, o.couverture_label, o.usage_label, o.millesime, t.map_color, \"\n",
    "    \"o.year, st_AsGeoJSON(o.mpoly, 8) AS geojson \"\n",
    "    \"FROM public_data_ocsge o \"\n",
    "    \"INNER JOIN public_data_couverturesol t ON t.code_prefix = o.couverture \"\n",
    "    \"WHERE o. mpoly && ST_MakeEnvelope(%s, %s, %s, %s, 4326) \"\n",
    "    \"AND o.year = %s\"\n",
    ")\n",
    "with connection.cursor() as cursor:\n",
    "    cursor.execute(query, params)\n",
    "    rows = cursor.fetchall()\n",
    "len(rows)"
   ]
  },
  {
   "cell_type": "code",
   "execution_count": 3,
   "id": "0e22b4e8",
   "metadata": {},
   "outputs": [
    {
     "data": {
      "text/plain": [
       "Decimal('95.1684')"
      ]
     },
     "execution_count": 3,
     "metadata": {},
     "output_type": "execute_result"
    }
   ],
   "source": [
    "qs = Ocsge.objects.all()\n",
    "qs = qs.annotate(area=Cast(Area(Transform(\"mpoly\", 2154)), DecimalField(max_digits=15, decimal_places=4)))\n",
    "\n",
    "qs.get(id=2500).area"
   ]
  },
  {
   "cell_type": "code",
   "execution_count": 4,
   "id": "cda9d301",
   "metadata": {},
   "outputs": [
    {
     "data": {
      "text/plain": [
       "17239"
      ]
     },
     "execution_count": 4,
     "metadata": {},
     "output_type": "execute_result"
    }
   ],
   "source": [
    "OcsgeDiff.objects.all().count()"
   ]
  },
  {
   "cell_type": "code",
   "execution_count": 5,
   "id": "c98450fe",
   "metadata": {},
   "outputs": [
    {
     "data": {
      "text/plain": [
       "<OcsgeDiff: OcsgeDiff object (1000)>"
      ]
     },
     "execution_count": 5,
     "metadata": {},
     "output_type": "execute_result"
    }
   ],
   "source": [
    "ocsge_diff = OcsgeDiff.objects.get(pk=1000)\n",
    "ocsge_diff"
   ]
  },
  {
   "cell_type": "code",
   "execution_count": 6,
   "id": "6936875d",
   "metadata": {},
   "outputs": [
    {
     "data": {
      "text/plain": [
       "1"
      ]
     },
     "execution_count": 6,
     "metadata": {},
     "output_type": "execute_result"
    }
   ],
   "source": [
    "CouvertureUsageMatrix.objects.filter(\n",
    "    couverture__code_prefix=ocsge_diff.cs_old,\n",
    "    usage__code_prefix=ocsge_diff.us_old\n",
    ").count()"
   ]
  },
  {
   "cell_type": "code",
   "execution_count": 7,
   "id": "5001c31a",
   "metadata": {},
   "outputs": [
    {
     "data": {
      "text/plain": [
       "False"
      ]
     },
     "execution_count": 7,
     "metadata": {},
     "output_type": "execute_result"
    }
   ],
   "source": [
    "CouvertureUsageMatrix.objects.filter(\n",
    "    couverture__code_prefix=ocsge_diff.cs_old,\n",
    "    usage__code_prefix=ocsge_diff.us_old\n",
    ").get().is_artificial"
   ]
  },
  {
   "cell_type": "code",
   "execution_count": 8,
   "id": "bf7fa13b",
   "metadata": {},
   "outputs": [
    {
     "data": {
      "text/plain": [
       "True"
      ]
     },
     "execution_count": 8,
     "metadata": {},
     "output_type": "execute_result"
    }
   ],
   "source": [
    "CouvertureUsageMatrix.objects.filter(\n",
    "    couverture__code_prefix=ocsge_diff.cs_new,\n",
    "    usage__code_prefix=ocsge_diff.us_new\n",
    ").get().is_artificial"
   ]
  },
  {
   "cell_type": "code",
   "execution_count": 9,
   "id": "d18e761f",
   "metadata": {},
   "outputs": [
    {
     "name": "stdout",
     "output_type": "stream",
     "text": [
      "False\n",
      "True\n",
      "False\n",
      "True\n",
      "True\n",
      "False\n"
     ]
    }
   ],
   "source": [
    "qs = OcsgeDiff.objects.annotate(\n",
    "    old_is_art=Subquery(\n",
    "        CouvertureUsageMatrix.objects.filter(\n",
    "            couverture__code_prefix=OuterRef(\"cs_old\"),\n",
    "            usage__code_prefix=OuterRef(\"us_old\")\n",
    "        ).values(\"is_artificial\")[:1]\n",
    "    )\n",
    ").annotate(\n",
    "    new_is_art=Subquery(\n",
    "        CouvertureUsageMatrix.objects.filter(\n",
    "            couverture__code_prefix=OuterRef(\"cs_new\"),\n",
    "            usage__code_prefix=OuterRef(\"us_new\")\n",
    "        ).values(\"is_artificial\")[:1]\n",
    "    )\n",
    ").annotate(\n",
    "    is_new_artif_2=Value(F(\"new_is_art\") and not F(\"old_is_art\"))\n",
    ")\n",
    "\n",
    "print(qs.last().old_is_art)\n",
    "print(qs.last().new_is_art)\n",
    "print(qs.last().is_new_artif_2)\n",
    "\n",
    "print(qs.first().old_is_art)\n",
    "print(qs.first().new_is_art)\n",
    "print(qs.first().is_new_artif_2)"
   ]
  },
  {
   "cell_type": "code",
   "execution_count": 10,
   "id": "b02423d2",
   "metadata": {},
   "outputs": [
    {
     "name": "stdout",
     "output_type": "stream",
     "text": [
      "CS1.1.2.1\n",
      "US4.1.2\n",
      "True\n"
     ]
    }
   ],
   "source": [
    "print(qs.first().cs_new)\n",
    "print(qs.first().us_new)\n",
    "print(qs.first().new_is_art)"
   ]
  },
  {
   "cell_type": "code",
   "execution_count": 11,
   "id": "c4ef1ee7",
   "metadata": {},
   "outputs": [
    {
     "data": {
      "text/plain": [
       "<QuerySet [{'is_artificial': False}]>"
      ]
     },
     "execution_count": 11,
     "metadata": {},
     "output_type": "execute_result"
    }
   ],
   "source": [
    "CouvertureUsageMatrix.objects.filter(\n",
    "    couverture__code_prefix=\"CS2.2.1\",\n",
    "    usage__code_prefix=\"US1.1\"\n",
    ").values(\"is_artificial\")[:1]\n"
   ]
  },
  {
   "cell_type": "code",
   "execution_count": 12,
   "id": "067d2538",
   "metadata": {},
   "outputs": [
    {
     "name": "stdout",
     "output_type": "stream",
     "text": [
      "OLD : US235 CS2.2.1 True\n",
      "NEW : US235 CS1.1.1.2 True\n",
      "Test : False\n",
      "is_new_artif=False\n"
     ]
    }
   ],
   "source": [
    "o = qs.filter(id=2500).first()\n",
    "print(\"OLD :\", o.us_old, o.cs_old, o.old_is_art)\n",
    "print(\"NEW :\", o.us_new, o.cs_new, o.new_is_art)\n",
    "print(\"Test :\", o.new_is_art and not o.old_is_art)\n",
    "print(f\"is_new_artif={o.is_new_artif_2}\")"
   ]
  },
  {
   "cell_type": "code",
   "execution_count": 13,
   "id": "500acded",
   "metadata": {},
   "outputs": [
    {
     "data": {
      "text/plain": [
       "7"
      ]
     },
     "execution_count": 13,
     "metadata": {},
     "output_type": "execute_result"
    }
   ],
   "source": [
    "# Lister les diff avec CS et US null\n",
    "OcsgeDiff.objects.filter(cs_new__isnull=True).count()\n",
    "OcsgeDiff.objects.filter(us_new__isnull=True).count()\n",
    "OcsgeDiff.objects.filter(cs_old__isnull=True).count()\n",
    "OcsgeDiff.objects.filter(us_old__isnull=True).count()\n",
    "OcsgeDiff.objects.filter(cs_old__isnull=True, us_old__isnull=True).count()\n",
    "OcsgeDiff.objects.filter(cs_new__isnull=True, us_new__isnull=True).count()"
   ]
  },
  {
   "cell_type": "code",
   "execution_count": 14,
   "id": "9e6459a0",
   "metadata": {},
   "outputs": [
    {
     "name": "stdout",
     "output_type": "stream",
     "text": [
      "False\n"
     ]
    }
   ],
   "source": [
    "OcsgeDiff.objects.update(\n",
    "    is_new_artif=Value(\n",
    "        Subquery(\n",
    "            CouvertureUsageMatrix.objects.filter(\n",
    "                couverture__code_prefix=OuterRef(\"cs_new\"),\n",
    "                usage__code_prefix=OuterRef(\"us_new\")\n",
    "            ).values(\"is_artificial\")[:1]\n",
    "        ) and not Subquery(\n",
    "            CouvertureUsageMatrix.objects.filter(\n",
    "                couverture__code_prefix=OuterRef(\"cs_old\"),\n",
    "                usage__code_prefix=OuterRef(\"us_old\")\n",
    "            ).values(\"is_artificial\")[:1]\n",
    "        )\n",
    "    )\n",
    ")\n",
    "\n",
    "print(qs.last().is_new_artif_2)\n"
   ]
  },
  {
   "cell_type": "code",
   "execution_count": 15,
   "id": "cf638619",
   "metadata": {},
   "outputs": [
    {
     "data": {
      "text/plain": [
       "'SELECT m_old.is_artificial\\nFROM\\n    public_data_ocsgediff o\\n    INNER JOIN public_data_couverturesol cs_old ON o.cs_old = cs_old.code_prefix\\n    INNER JOIN public_data_usagesol us_old ON o.us_old = us_old.code_prefix\\n    INNER JOIN public_data_couvertureusagematrix m_old \\n        ON m_old.couverture_id = cs_old.id \\n        AND m_old.usage_id = us_old.id\\nLIMIT 10\\n'"
      ]
     },
     "execution_count": 15,
     "metadata": {},
     "output_type": "execute_result"
    }
   ],
   "source": [
    "query = f\"\"\"SELECT m_old.is_artificial\n",
    "FROM\n",
    "    public_data_ocsgediff o\n",
    "    INNER JOIN public_data_couverturesol cs_old ON o.cs_old = cs_old.code_prefix\n",
    "    INNER JOIN public_data_usagesol us_old ON o.us_old = us_old.code_prefix\n",
    "    INNER JOIN public_data_couvertureusagematrix m_old \n",
    "        ON m_old.couverture_id = cs_old.id \n",
    "        AND m_old.usage_id = us_old.id\n",
    "LIMIT 10\n",
    "\"\"\"\n",
    "\n",
    "query"
   ]
  },
  {
   "cell_type": "code",
   "execution_count": 16,
   "id": "ef7a0e84",
   "metadata": {},
   "outputs": [
    {
     "data": {
      "text/plain": [
       "'public_data_usagesol'"
      ]
     },
     "execution_count": 16,
     "metadata": {},
     "output_type": "execute_result"
    }
   ],
   "source": [
    "UsageSol._meta.db_table"
   ]
  },
  {
   "cell_type": "code",
   "execution_count": null,
   "id": "80bbf5a0",
   "metadata": {},
   "outputs": [],
   "source": []
  },
  {
   "cell_type": "code",
   "execution_count": null,
   "id": "38a684cf",
   "metadata": {},
   "outputs": [],
   "source": []
  },
  {
   "cell_type": "code",
   "execution_count": null,
   "id": "295a6b51",
   "metadata": {},
   "outputs": [],
   "source": []
  },
  {
   "cell_type": "code",
   "execution_count": null,
   "id": "55768ff6",
   "metadata": {},
   "outputs": [],
   "source": []
  }
 ],
 "metadata": {
  "kernelspec": {
   "display_name": "Django Shell-Plus",
   "language": "python",
   "name": "django_extensions"
  },
  "language_info": {
   "codemirror_mode": {
    "name": "ipython",
    "version": 3
   },
   "file_extension": ".py",
   "mimetype": "text/x-python",
   "name": "python",
   "nbconvert_exporter": "python",
   "pygments_lexer": "ipython3",
   "version": "3.9.6"
  }
 },
 "nbformat": 4,
 "nbformat_minor": 5
}
