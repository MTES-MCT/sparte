{
 "cells": [
  {
   "cell_type": "code",
   "execution_count": 1,
   "id": "129f425a",
   "metadata": {},
   "outputs": [
    {
     "data": {
      "text/plain": [
       "<QuerySet [<Trajectory: default>, <Trajectory: default>]>"
      ]
     },
     "execution_count": 1,
     "metadata": {},
     "output_type": "execute_result"
    }
   ],
   "source": [
    "from trajectory.models import Trajectory\n",
    "\n",
    "qs = Trajectory.objects.all()\n",
    "qs"
   ]
  },
  {
   "cell_type": "code",
   "execution_count": 2,
   "id": "2ef00aec",
   "metadata": {},
   "outputs": [
    {
     "name": "stdout",
     "output_type": "stream",
     "text": [
      "{'2022': {'value': 100.0, 'updated': False}, '2023': {'value': 5.4, 'updated': False}, '2024': {'value': 5.4, 'updated': False}, '2025': {'value': 5.4, 'updated': False}, '2026': {'value': 5.4, 'updated': False}, '2027': {'value': 5.4, 'updated': False}, '2028': {'value': 5.4, 'updated': False}, '2029': {'value': 5.4, 'updated': False}, '2030': {'value': 5.4, 'updated': False}}\n",
      "{'2022': {'value': 100.0, 'updated': True}, '2023': {'value': 5.4, 'updated': False}, '2024': {'value': 5.4, 'updated': False}, '2025': {'value': 5.4, 'updated': False}, '2026': {'value': 5.4, 'updated': False}, '2027': {'value': 5.4, 'updated': False}, '2028': {'value': 5.4, 'updated': False}, '2029': {'value': 5.4, 'updated': False}, '2030': {'value': 5.4, 'updated': False}}\n"
     ]
    }
   ],
   "source": [
    "for t in qs:\n",
    "    print(t.data)"
   ]
  },
  {
   "cell_type": "code",
   "execution_count": null,
   "id": "9a623513",
   "metadata": {},
   "outputs": [],
   "source": []
  }
 ],
 "metadata": {
  "kernelspec": {
   "display_name": "Django Shell-Plus",
   "language": "python",
   "name": "django_extensions"
  },
  "language_info": {
   "codemirror_mode": {
    "name": "ipython",
    "version": 3
   },
   "file_extension": ".py",
   "mimetype": "text/x-python",
   "name": "python",
   "nbconvert_exporter": "python",
   "pygments_lexer": "ipython3",
   "version": "3.11.4"
  }
 },
 "nbformat": 4,
 "nbformat_minor": 5
}
