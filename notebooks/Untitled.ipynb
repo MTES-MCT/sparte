{
 "cells": [
  {
   "cell_type": "code",
   "execution_count": 39,
   "id": "29f1a19b",
   "metadata": {},
   "outputs": [],
   "source": [
    "from public_data.models import OcsgeDiff, CouvertureSol, Departement, Commune\n",
    "from utils.db import cast_sum\n",
    "from django.contrib.gis.db.models.functions import Centroid\n",
    "from django.contrib.gis.db.models import Union\n",
    "from django.db.models import Q\n",
    "\n",
    "dept = Departement.objects.filter(name=\"Gers\").first()"
   ]
  },
  {
   "cell_type": "code",
   "execution_count": null,
   "id": "26619434",
   "metadata": {},
   "outputs": [],
   "source": []
  },
  {
   "cell_type": "code",
   "execution_count": 40,
   "id": "48d811fe",
   "metadata": {},
   "outputs": [
    {
     "data": {
      "text/plain": [
       "6"
      ]
     },
     "execution_count": 40,
     "metadata": {},
     "output_type": "execute_result"
    }
   ],
   "source": [
    "qs = (\n",
    "    OcsgeDiff.objects.filter(Q(is_new_artif=True) | Q(is_new_natural=True))\n",
    "    .filter(Q(new_matrix__couverture__code_prefix=\"CS1.1.2.2\") | Q(old_matrix__couverture__code_prefix=\"CS1.1.2.2\"))\n",
    "    .annotate(center=Centroid(\"mpoly\"))\n",
    ")\n",
    "qs.count()"
   ]
  },
  {
   "cell_type": "code",
   "execution_count": 43,
   "id": "1977b5f0",
   "metadata": {},
   "outputs": [
    {
     "name": "stdout",
     "output_type": "stream",
     "text": [
      "Biganos Gironde\n",
      "CS2.1.1.1-US5: CS1.1.2.2-US6.1:a\n",
      "Biganos Gironde\n",
      "CS2.1.1.1-US5: CS1.1.2.2-US6.1:a\n",
      "Maîche Doubs\n",
      "CS2.1.1.1-US1.2: CS1.1.2.2-US2:a\n",
      "La Roche-en-Brenil Côte-d'Or\n",
      "CS2.2.1.1-US1.1.3: CS1.1.2.2-US2:a\n",
      "Courlaoux Jura\n",
      "CS2.1.1.1-US4.3: CS1.1.2.2-US4.3:a\n",
      "Saint-Cyr-les-Colons Yonne\n",
      "CS2.2.1-US1.1: CS1.1.2.2-US4.3:a\n"
     ]
    }
   ],
   "source": [
    "for item in qs:\n",
    "    comm = Commune.objects.filter(mpoly__contains=item.mpoly).first()\n",
    "    print(comm.name, comm.departement)\n",
    "    print(item.old_matrix, item.new_matrix)"
   ]
  },
  {
   "cell_type": "code",
   "execution_count": 27,
   "id": "03c87d06",
   "metadata": {},
   "outputs": [
    {
     "data": {
      "text/plain": [
       "{'center': <Point object at 0x7face2378590>}"
      ]
     },
     "execution_count": 27,
     "metadata": {},
     "output_type": "execute_result"
    }
   ],
   "source": [
    "map_center = OcsgeDiff.objects.aggregate(center=Centroid(Union(\"mpoly\")))\n",
    "map_center"
   ]
  },
  {
   "cell_type": "code",
   "execution_count": 32,
   "id": "093afe37",
   "metadata": {},
   "outputs": [
    {
     "name": "stdout",
     "output_type": "stream",
     "text": [
      "(47.245559445309034, 6.7823342017161945)\n",
      "(47.38981669806705, 4.156134189086796)\n",
      "(44.662606023867085, -1.0003281522399863)\n",
      "(44.662606023867085, -1.0003281522399863)\n",
      "(46.68148678493917, 5.431466614590644)\n",
      "(47.71077127340695, 3.79501600538416)\n"
     ]
    },
    {
     "data": {
      "application/vnd.jupyter.widget-view+json": {
       "model_id": "f9e35c30b7284947b65c69a94701106f",
       "version_major": 2,
       "version_minor": 0
      },
      "text/plain": [
       "Map(center=[47.11085844623028, 4.860404177965002], controls=(ZoomControl(options=['position', 'zoom_in_text', …"
      ]
     },
     "execution_count": 32,
     "metadata": {},
     "output_type": "execute_result"
    }
   ],
   "source": [
    "from ipyleaflet import Map, Marker, GeoJSON, Polygon as iPolygon, Icon, WKTLayer\n",
    "from public_data.api.serializers import RegionSerializer\n",
    "from public_data.models import Region\n",
    "from django.contrib.gis.geos import Polygon as dPolygon\n",
    "\n",
    "m = Map(center=(map_center[\"center\"].y, map_center[\"center\"].x), zoom=5)\n",
    "for item in qs:\n",
    "    center = (item.center.y, item.center.x)\n",
    "    print(center)\n",
    "    m.add_layer(Marker(location=center, draggable=False))\n",
    "m"
   ]
  },
  {
   "cell_type": "code",
   "execution_count": 38,
   "id": "5fc78f6b",
   "metadata": {},
   "outputs": [
    {
     "data": {
      "text/plain": [
       "4"
      ]
     },
     "execution_count": 38,
     "metadata": {},
     "output_type": "execute_result"
    }
   ],
   "source": [
    "qs = (\n",
    "    OcsgeDiff.objects.intersect(dept.mpoly)\n",
    "    .filter(Q(is_new_artif=True) | Q(is_new_natural=True))\n",
    "    .annotate(\n",
    "        code_prefix=Case(\n",
    "            When(\n",
    "                is_new_artif=True,\n",
    "                then=F(\"new_matrix__couverture__code_prefix\")\n",
    "            ),\n",
    "            default=F(\"old_matrix__couverture__code_prefix\"),\n",
    "        ),\n",
    "        label=Case(\n",
    "            When(is_new_artif=True, then=F(\"new_matrix__couverture__label\")),\n",
    "            default=F(\"old_matrix__couverture__label\"),\n",
    "        ),\n",
    "        label_short=Case(\n",
    "            When(is_new_artif=True, then=F(\"new_matrix__couverture__label_short\")),\n",
    "            default=F(\"old_matrix__couverture__label_short\"),\n",
    "        ),\n",
    "    )\n",
    "    .values(\"code_prefix\", \"label\", \"label_short\")\n",
    "    .annotate(\n",
    "        artif=cast_sum(\"intersection_area\", filter=Q(is_new_artif=True)),\n",
    "        renat=cast_sum(\"intersection_area\", filter=Q(is_new_natural=True)),\n",
    "    )\n",
    "    .order_by(\"code_prefix\", \"label\", \"label_short\")\n",
    ")\n",
    "qs.count()"
   ]
  },
  {
   "cell_type": "code",
   "execution_count": null,
   "id": "96e6807c",
   "metadata": {},
   "outputs": [],
   "source": []
  }
 ],
 "metadata": {
  "kernelspec": {
   "display_name": "Django Shell-Plus",
   "language": "python",
   "name": "django_extensions"
  },
  "language_info": {
   "codemirror_mode": {
    "name": "ipython",
    "version": 3
   },
   "file_extension": ".py",
   "mimetype": "text/x-python",
   "name": "python",
   "nbconvert_exporter": "python",
   "pygments_lexer": "ipython3",
   "version": "3.9.14"
  }
 },
 "nbformat": 4,
 "nbformat_minor": 5
}
