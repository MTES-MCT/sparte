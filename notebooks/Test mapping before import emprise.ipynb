{
 "cells": [
  {
   "cell_type": "code",
   "execution_count": 1,
   "id": "79028fef",
   "metadata": {},
   "outputs": [
    {
     "name": "stdout",
     "output_type": "stream",
     "text": [
      "+----+------------------+----------------+\n",
      "| id | Nom du projet    | Nom du plan    |\n",
      "+----+------------------+----------------+\n",
      "| 4  | COBAS_SHAPE      | Waza           |\n",
      "| 2  | Vallée de l'Eyre | Plan numéro 2  |\n",
      "| 3  | Vallée de l'Eyre | Hello the plan |\n",
      "+----+------------------+----------------+\n"
     ]
    }
   ],
   "source": [
    "from prettytable import PrettyTable\n",
    "from project.models import Plan\n",
    "\n",
    "qs = Plan.objects.all()\n",
    "qs = qs.select_related(\"project\")\n",
    "qs = qs.order_by(\"project__name\", \"id\")\n",
    "\n",
    "# show available plan to let you choose an id\n",
    "x = PrettyTable(field_names=[\"id\", \"Nom du projet\", \"Nom du plan\"], align=\"l\")\n",
    "x.add_rows([(p.id, p.project.name, p.name) for p in qs])\n",
    "print(x)"
   ]
  },
  {
   "cell_type": "code",
   "execution_count": 2,
   "id": "68e7b88b",
   "metadata": {},
   "outputs": [
    {
     "data": {
      "text/plain": [
       "<Plan: Waza>"
      ]
     },
     "execution_count": 2,
     "metadata": {},
     "output_type": "execute_result"
    }
   ],
   "source": [
    "plan = Plan.objects.get(pk=4)\n",
    "plan"
   ]
  },
  {
   "cell_type": "code",
   "execution_count": 5,
   "id": "032ede28",
   "metadata": {},
   "outputs": [
    {
     "data": {
      "text/plain": [
       "PosixPath('/tmp/tmpo3bw50qk')"
      ]
     },
     "execution_count": 5,
     "metadata": {},
     "output_type": "execute_result"
    }
   ],
   "source": [
    "from tempfile import TemporaryDirectory\n",
    "from pathlib import Path\n",
    "from zipfile import ZipFile\n",
    "\n",
    "temp_dir_path = Path(TemporaryDirectory().name)\n",
    "temp_dir_path"
   ]
  },
  {
   "cell_type": "code",
   "execution_count": 7,
   "id": "63af554b",
   "metadata": {},
   "outputs": [
    {
     "data": {
      "text/plain": [
       "[PosixPath('/tmp/tmpo3bw50qk/emprise_arrondissement_Arcachon.shp')]"
      ]
     },
     "execution_count": 7,
     "metadata": {},
     "output_type": "execute_result"
    }
   ],
   "source": [
    "file_stream = plan.shape_file.open()\n",
    "with ZipFile(file_stream) as zip_file:\n",
    "        zip_file.extractall(temp_dir_path)  # extract files to dir\n",
    "files_path = [_ for _ in temp_dir_path.iterdir() if _.suffix == \".shp\"]\n",
    "files_path"
   ]
  },
  {
   "cell_type": "code",
   "execution_count": 8,
   "id": "ee234144",
   "metadata": {},
   "outputs": [
    {
     "name": "stdout",
     "output_type": "stream",
     "text": [
      "/tmp/tmpo3bw50qk/emprise_arrondissement_Arcachon.shp (ESRI Shapefile)\n"
     ]
    }
   ],
   "source": [
    "from django.contrib.gis.gdal import DataSource\n",
    "ds = DataSource(files_path[0])\n",
    "print(ds)"
   ]
  },
  {
   "cell_type": "code",
   "execution_count": 13,
   "id": "8d208b49",
   "metadata": {},
   "outputs": [
    {
     "name": "stdout",
     "output_type": "stream",
     "text": [
      "Nombre de layers: 1\n",
      "Premier layer: emprise_arrondissement_Arcachon\n",
      "Nombre d'items dans ce layer: 1\n",
      "Type de champ géométrique: Polygon\n"
     ]
    }
   ],
   "source": [
    "print(f\"Nombre de layers: {len(ds)}\")\n",
    "layer = ds[0]\n",
    "print(f\"Premier layer: {layer}\")\n",
    "print(f\"Nombre d'items dans ce layer: {len(layer)}\")\n",
    "print(f\"Type de champ géométrique: {layer.geom_type}\")"
   ]
  },
  {
   "cell_type": "code",
   "execution_count": 14,
   "id": "ac9c440a",
   "metadata": {},
   "outputs": [
    {
     "data": {
      "text/plain": [
       "['Id']"
      ]
     },
     "execution_count": 14,
     "metadata": {},
     "output_type": "execute_result"
    }
   ],
   "source": [
    "# fields disponibles\n",
    "layer.fields"
   ]
  },
  {
   "cell_type": "code",
   "execution_count": 16,
   "id": "dbc50c1f",
   "metadata": {},
   "outputs": [
    {
     "data": {
      "text/plain": [
       "{'mpoly': 'MULTIPOLYGON',\n",
       " 'name': 'NAME',\n",
       " 'description': 'DESCRIPTION',\n",
       " 'lot': 'LOT',\n",
       " 'surface': 'SURFACE',\n",
       " 'us_code': 'US_CODE',\n",
       " 'cs_code': 'CS_CODE'}"
      ]
     },
     "execution_count": 16,
     "metadata": {},
     "output_type": "execute_result"
    }
   ],
   "source": [
    "# expected fields\n",
    "from project.models import PlanEmprise\n",
    "\n",
    "PlanEmprise.mapping"
   ]
  },
  {
   "cell_type": "code",
   "execution_count": 21,
   "id": "a67288cb",
   "metadata": {},
   "outputs": [
    {
     "data": {
      "text/plain": [
       "{'MULTIPOLYGON'}"
      ]
     },
     "execution_count": 21,
     "metadata": {},
     "output_type": "execute_result"
    }
   ],
   "source": [
    "# what should be in mapping\n",
    "# rq: mpoly require to be there\n",
    "set(layer.fields).intersection(set(PlanEmprise.mapping.values())).union(set(['MULTIPOLYGON']))"
   ]
  },
  {
   "cell_type": "code",
   "execution_count": null,
   "id": "04aaa2d2",
   "metadata": {},
   "outputs": [],
   "source": []
  }
 ],
 "metadata": {
  "kernelspec": {
   "display_name": "Django Shell-Plus",
   "language": "python",
   "name": "django_extensions"
  },
  "language_info": {
   "codemirror_mode": {
    "name": "ipython",
    "version": 3
   },
   "file_extension": ".py",
   "mimetype": "text/x-python",
   "name": "python",
   "nbconvert_exporter": "python",
   "pygments_lexer": "ipython3",
   "version": "3.9.7"
  }
 },
 "nbformat": 4,
 "nbformat_minor": 5
}
