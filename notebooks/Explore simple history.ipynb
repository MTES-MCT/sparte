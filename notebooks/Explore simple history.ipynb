{
 "cells": [
  {
   "cell_type": "code",
   "execution_count": 8,
   "id": "0d11fc4f",
   "metadata": {},
   "outputs": [
    {
     "data": {
      "text/plain": [
       "1499"
      ]
     },
     "execution_count": 8,
     "metadata": {},
     "output_type": "execute_result"
    }
   ],
   "source": [
    "from project.models import Project\n",
    "project = Project.objects.order_by(\"id\").last()\n",
    "project.id"
   ]
  },
  {
   "cell_type": "code",
   "execution_count": 4,
   "id": "4f2613c0",
   "metadata": {},
   "outputs": [
    {
     "name": "stdout",
     "output_type": "stream",
     "text": [
      "folder_name changed from None to diag_001499\n"
     ]
    }
   ],
   "source": [
    "old_record = project.history.get(pk=245)\n",
    "new_record = project.history.get(pk=246)\n",
    "delta = new_record.diff_against(old_record)\n",
    "for change in delta.changes:\n",
    "    print(\"{} changed from {} to {}\".format(change.field, change.old, change.new))"
   ]
  },
  {
   "cell_type": "code",
   "execution_count": 3,
   "id": "4bf9fd22",
   "metadata": {},
   "outputs": [
    {
     "data": {
      "text/plain": [
       "<HistoricalProject: Diagnostic de CC Artagnan de Fezensac as of 2023-03-29 10:24:52.471566+00:00>"
      ]
     },
     "execution_count": 3,
     "metadata": {},
     "output_type": "execute_result"
    }
   ],
   "source": []
  },
  {
   "cell_type": "code",
   "execution_count": 7,
   "id": "4d480d56",
   "metadata": {
    "scrolled": true
   },
   "outputs": [
    {
     "name": "stdout",
     "output_type": "stream",
     "text": [
      "1499 to 1499\n",
      "    async_theme_map_understand_artif_done changed from False to True\n",
      "    theme_map_understand_artif changed from  to diagnostics/diag_001499/theme_map_understand_artif_1499_3ru2c7e.png\n",
      "1499 to 1499\n",
      "    async_generate_theme_map_artif_done changed from False to True\n",
      "    theme_map_artif changed from  to diagnostics/diag_001499/theme_map_artif_1499_LXK9wEV.png\n",
      "1499 to 1499\n",
      "    async_generate_theme_map_conso_done changed from False to True\n",
      "    theme_map_conso changed from  to diagnostics/diag_001499/theme_map_conso_1499_XUt5Pgc.png\n",
      "1499 to 1499\n",
      "    async_cover_image_done changed from False to True\n",
      "    cover_image changed from  to diagnostics/diag_001499/cover_1499_57E9gNl.png\n",
      "1499 to 1499\n",
      "    folder_name changed from None to diag_001499\n",
      "1499 to 1499\n",
      "    look_a_like changed from None to EPCI_7036;EPCI_6833;EPCI_7037;EPCI_7034;EPCI_6514;EPCI_7035;EPCI_6269\n",
      "    async_add_neighboors_done changed from False to True\n",
      "1499 to 1499\n",
      "    last_year_ocsge changed from None to 2019\n",
      "    first_year_ocsge changed from None to 2016\n",
      "    async_find_first_and_last_ocsge_done changed from False to True\n",
      "1499 to 1499\n",
      "    async_city_and_combined_emprise_done changed from False to True\n"
     ]
    }
   ],
   "source": [
    "old_record = None\n",
    "for record in project.history.all():\n",
    "    if old_record:\n",
    "        print(f\"{old_record.id} to {record.id}\")\n",
    "        delta = old_record.diff_against(record)\n",
    "        for change in delta.changes:\n",
    "            print(\"    {} changed from {} to {}\".format(change.field, change.old, change.new))\n",
    "    old_record = record"
   ]
  },
  {
   "cell_type": "code",
   "execution_count": null,
   "id": "ab04f655",
   "metadata": {},
   "outputs": [],
   "source": []
  }
 ],
 "metadata": {
  "kernelspec": {
   "display_name": "Django Shell-Plus",
   "language": "python",
   "name": "django_extensions"
  },
  "language_info": {
   "codemirror_mode": {
    "name": "ipython",
    "version": 3
   },
   "file_extension": ".py",
   "mimetype": "text/x-python",
   "name": "python",
   "nbconvert_exporter": "python",
   "pygments_lexer": "ipython3",
   "version": "3.10.10"
  }
 },
 "nbformat": 4,
 "nbformat_minor": 5
}
