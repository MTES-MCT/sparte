{
 "cells": [
  {
   "cell_type": "code",
   "execution_count": 1,
   "id": "d793b1fe",
   "metadata": {},
   "outputs": [],
   "source": [
    "%load_ext autoreload\n",
    "%autoreload 2"
   ]
  },
  {
   "cell_type": "code",
   "execution_count": 11,
   "id": "ec9e1c7d",
   "metadata": {},
   "outputs": [],
   "source": [
    "import numpy as np\n",
    "import pandas as pd\n",
    "from public_data.models import CouvertureSol, UsageSol, Ocsge2015\n",
    "from project.models import Project\n",
    "from prettytable import PrettyTable"
   ]
  },
  {
   "cell_type": "code",
   "execution_count": 4,
   "id": "69efbfe5",
   "metadata": {},
   "outputs": [
    {
     "data": {
      "text/plain": [
       "{'CS1.2.2': 0.06617968093403162,\n",
       " 'CS2.1.1': 1.5013475524779856,\n",
       " 'CS2.1.2': 0.026294332580778207,\n",
       " 'CS2.2.1': 3.5866900170010814,\n",
       " 'CS1.1.1.1': 2.9112523421580843,\n",
       " 'CS1.1.1.2': 0.7572144332912438,\n",
       " 'CS1.1.2.1': 0.1652766743760681,\n",
       " 'CS2.1.1.1': 1.3954532172160408,\n",
       " 'CS2.1.1.2': 3.8493473498101904,\n",
       " 'CS2.1.1.3': 1.074228816822308}"
      ]
     },
     "execution_count": 4,
     "metadata": {},
     "output_type": "execute_result"
    }
   ],
   "source": [
    "project = Project.objects.get(pk=3)\n",
    "project.couverture_usage[\"2015\"][\"couverture\"]"
   ]
  },
  {
   "cell_type": "code",
   "execution_count": 9,
   "id": "1d965f1d",
   "metadata": {},
   "outputs": [
    {
     "data": {
      "text/plain": [
       "3.6684667754493283"
      ]
     },
     "execution_count": 9,
     "metadata": {},
     "output_type": "execute_result"
    }
   ],
   "source": [
    "def sum_startswith(data, label):\n",
    "    total = 0\n",
    "    values = [v for k, v in data.items() if k.startswith(label)]\n",
    "    return sum(values)\n",
    "\n",
    "sum_startswith(project.couverture_usage[\"2015\"][\"couverture\"], 'CS1.1.1')"
   ]
  },
  {
   "cell_type": "code",
   "execution_count": 17,
   "id": "54c57020",
   "metadata": {},
   "outputs": [
    {
     "name": "stdout",
     "output_type": "stream",
     "text": [
      "+-----------+--------------------------------+----------------------+---------+\n",
      "| Code      | Label                          | Surface              | Parent  |\n",
      "+-----------+--------------------------------+----------------------+---------+\n",
      "| CS1       | Sans végétation                | 3.8999231307594284   |         |\n",
      "| CS2       | Avec végétation                | 11.433361285908385   |         |\n",
      "| CS1.1     | Surfaces anthropisées          | 3.8337434498253966   | CS1     |\n",
      "| CS1.1.1   | Zones imperméables             | 3.6684667754493283   | CS1.1   |\n",
      "| CS1.1.1.1 | Zones bâties                   | 2.9112523421580843   | CS1.1.1 |\n",
      "| CS1.1.1.2 | Zones non bâties (Routes; plac | 0.7572144332912438   | CS1.1.1 |\n",
      "| CS1.1.2   | Zones perméables               | 0.1652766743760681   | CS1.1   |\n",
      "| CS1.1.2.1 | Zones à matériaux minéraux     | 0.1652766743760681   | CS1.1.2 |\n",
      "| CS1.1.2.2 | Zones à autres matériaux compo | 0                    | CS1.1.2 |\n",
      "| CS1.2     | Surfaces naturelles            | 0.06617968093403162  | CS1     |\n",
      "| CS1.2.1   | Sols nus (Sable; pierres meubl | 0                    | CS1.2   |\n",
      "| CS1.2.2   | Surfaces d'eau (Eau continenta | 0.06617968093403162  | CS1.2   |\n",
      "| CS1.2.3   | Névés et glaciers              | 0                    | CS1.2   |\n",
      "| CS2.1     | Végétation ligneuse            | 7.846671268907303    | CS2     |\n",
      "| CS2.1.1   | Formations arborées            | 7.820376936326525    | CS2.1   |\n",
      "| CS2.1.1.1 | Peuplement de feuillus         | 1.3954532172160408   | CS2.1.1 |\n",
      "| CS2.1.1.2 | Peuplement de conifères        | 3.8493473498101904   | CS2.1.1 |\n",
      "| CS2.1.1.3 | Peuplement mixte               | 1.074228816822308    | CS2.1.1 |\n",
      "| CS2.1.2   | Formations arbustives et sous- | 0.026294332580778207 | CS2.1   |\n",
      "| CS2.1.3   | Autres formations ligneuses (V | 0                    | CS2.1   |\n",
      "| CS2.2     | Végétation non ligneuse        | 3.5866900170010814   | CS2     |\n",
      "| CS2.2.1   | Formations herbacées (Pelouses | 3.5866900170010814   | CS2.2   |\n",
      "| CS2.2.2   | Autres formations non ligneuse | 0                    | CS2.2   |\n",
      "+-----------+--------------------------------+----------------------+---------+\n"
     ]
    }
   ],
   "source": [
    "data = project.couverture_usage[\"2015\"][\"couverture\"]\n",
    "\n",
    "table = PrettyTable(field_names=[\"Code\", \"Label\", \"Surface\", \"Parent\"], align=\"l\")\n",
    "\n",
    "for couv in CouvertureSol.objects.all():\n",
    "    value = sum_startswith(data, couv.code_prefix)\n",
    "    row = [couv.code_prefix, couv.label[:30], value, \"\"]\n",
    "    if couv.parent:\n",
    "        row[-1] = couv.parent.code_prefix\n",
    "    table.add_row(row)\n",
    "\n",
    "print(table)"
   ]
  },
  {
   "cell_type": "code",
   "execution_count": null,
   "id": "b50c5f1d",
   "metadata": {},
   "outputs": [],
   "source": []
  }
 ],
 "metadata": {
  "kernelspec": {
   "display_name": "Django Shell-Plus",
   "language": "python",
   "name": "django_extensions"
  },
  "language_info": {
   "codemirror_mode": {
    "name": "ipython",
    "version": 3
   },
   "file_extension": ".py",
   "mimetype": "text/x-python",
   "name": "python",
   "nbconvert_exporter": "python",
   "pygments_lexer": "ipython3",
   "version": "3.9.7"
  }
 },
 "nbformat": 4,
 "nbformat_minor": 5
}
