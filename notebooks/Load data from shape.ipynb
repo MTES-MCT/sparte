{
 "cells": [
  {
   "cell_type": "code",
   "execution_count": 1,
   "id": "2f2f03ba",
   "metadata": {},
   "outputs": [],
   "source": [
    "%load_ext autoreload\n",
    "%autoreload 2"
   ]
  },
  {
   "cell_type": "code",
   "execution_count": 9,
   "id": "3bd6d215",
   "metadata": {},
   "outputs": [],
   "source": []
  },
  {
   "cell_type": "code",
   "execution_count": 3,
   "id": "c59c73fe",
   "metadata": {},
   "outputs": [
    {
     "name": "stdout",
     "output_type": "stream",
     "text": [
      "Datasource=/app/carto/media/ref_plan/obs_artif_conso_com_2009_2020.shp (ESRI Shapefile)\n",
      "Nombre de layers=1\n",
      "First layer=obs_artif_conso_com_2009_2020\n",
      "Type de geo field=Polygon\n",
      "Nombre d'objets=34826\n"
     ]
    }
   ],
   "source": [
    "from pathlib import Path\n",
    "from django.contrib.gis.gdal import DataSource\n",
    "\n",
    "shppath = Path(\"/app/carto/media/ref_plan/obs_artif_conso_com_2009_2020.shp\")\n",
    "if not shppath.is_file():\n",
    "    raise Exception(\"File not found !\")\n",
    "\n",
    "ds = DataSource(shppath)\n",
    "print(f\"Datasource={ds}\")\n",
    "print(f\"Nombre de layers={len(ds)}\")\n",
    "lyr = ds[0]\n",
    "print(f\"First layer={lyr}\")\n",
    "print(f\"Type de geo field={lyr.geom_type}\")\n",
    "print(f\"Nombre d'objets={len(lyr)}\")\n"
   ]
  },
  {
   "cell_type": "code",
   "execution_count": 4,
   "id": "08982c8f",
   "metadata": {},
   "outputs": [
    {
     "name": "stdout",
     "output_type": "stream",
     "text": [
      "Information SRS\n",
      "PROJCS[\"RGF93 / Lambert-93\",\n",
      "    GEOGCS[\"RGF93\",\n",
      "        DATUM[\"Reseau_Geodesique_Francais_1993\",\n",
      "            SPHEROID[\"GRS 1980\",6378137,298.257222101,\n",
      "                AUTHORITY[\"EPSG\",\"7019\"]],\n",
      "            TOWGS84[0,0,0,0,0,0,0],\n",
      "            AUTHORITY[\"EPSG\",\"6171\"]],\n",
      "        PRIMEM[\"Greenwich\",0,\n",
      "            AUTHORITY[\"EPSG\",\"8901\"]],\n",
      "        UNIT[\"degree\",0.0174532925199433,\n",
      "            AUTHORITY[\"EPSG\",\"9122\"]],\n",
      "        AUTHORITY[\"EPSG\",\"4171\"]],\n",
      "    PROJECTION[\"Lambert_Conformal_Conic_2SP\"],\n",
      "    PARAMETER[\"latitude_of_origin\",46.5],\n",
      "    PARAMETER[\"central_meridian\",3],\n",
      "    PARAMETER[\"standard_parallel_1\",49],\n",
      "    PARAMETER[\"standard_parallel_2\",44],\n",
      "    PARAMETER[\"false_easting\",700000],\n",
      "    PARAMETER[\"false_northing\",6600000],\n",
      "    UNIT[\"metre\",1,\n",
      "        AUTHORITY[\"EPSG\",\"9001\"]],\n",
      "    AXIS[\"Easting\",EAST],\n",
      "    AXIS[\"Northing\",NORTH],\n",
      "    AUTHORITY[\"EPSG\",\"2154\"]]\n"
     ]
    }
   ],
   "source": [
    "srs = lyr.srs\n",
    "print(f\"Information SRS\")\n",
    "print(srs)"
   ]
  },
  {
   "cell_type": "code",
   "execution_count": 5,
   "id": "5059d237",
   "metadata": {},
   "outputs": [
    {
     "name": "stdout",
     "output_type": "stream",
     "text": [
      "     IDCOM => <class 'django.contrib.gis.gdal.field.OFTString'>\n",
      "  IDCOMTXT => <class 'django.contrib.gis.gdal.field.OFTString'>\n",
      "     IDREG => <class 'django.contrib.gis.gdal.field.OFTString'>\n",
      "  IDREGTXT => <class 'django.contrib.gis.gdal.field.OFTString'>\n",
      "     IDDEP => <class 'django.contrib.gis.gdal.field.OFTString'>\n",
      "  IDDEPTXT => <class 'django.contrib.gis.gdal.field.OFTString'>\n",
      "    EPCI20 => <class 'django.contrib.gis.gdal.field.OFTString'>\n",
      " EPCI20TXT => <class 'django.contrib.gis.gdal.field.OFTString'>\n",
      "   AAV2020 => <class 'django.contrib.gis.gdal.field.OFTString'>\n",
      "LIBAAV2020 => <class 'django.contrib.gis.gdal.field.OFTString'>\n",
      "CATEAAV202 => <class 'django.contrib.gis.gdal.field.OFTInteger64'>\n",
      "NAF09ART10 => <class 'django.contrib.gis.gdal.field.OFTReal'>\n",
      "ART09ACT10 => <class 'django.contrib.gis.gdal.field.OFTReal'>\n",
      "ART09HAB10 => <class 'django.contrib.gis.gdal.field.OFTReal'>\n",
      "ART09MIX10 => <class 'django.contrib.gis.gdal.field.OFTReal'>\n",
      "ART09INC10 => <class 'django.contrib.gis.gdal.field.OFTReal'>\n",
      "NAF10ART11 => <class 'django.contrib.gis.gdal.field.OFTReal'>\n",
      "ART10ACT11 => <class 'django.contrib.gis.gdal.field.OFTReal'>\n",
      "ART10HAB11 => <class 'django.contrib.gis.gdal.field.OFTReal'>\n",
      "ART10MIX11 => <class 'django.contrib.gis.gdal.field.OFTReal'>\n",
      "ART10INC11 => <class 'django.contrib.gis.gdal.field.OFTReal'>\n",
      "NAF11ART12 => <class 'django.contrib.gis.gdal.field.OFTReal'>\n",
      "ART11ACT12 => <class 'django.contrib.gis.gdal.field.OFTReal'>\n",
      "ART11HAB12 => <class 'django.contrib.gis.gdal.field.OFTReal'>\n",
      "ART11MIX12 => <class 'django.contrib.gis.gdal.field.OFTReal'>\n",
      "ART11INC12 => <class 'django.contrib.gis.gdal.field.OFTReal'>\n",
      "NAF12ART13 => <class 'django.contrib.gis.gdal.field.OFTReal'>\n",
      "ART12ACT13 => <class 'django.contrib.gis.gdal.field.OFTReal'>\n",
      "ART12HAB13 => <class 'django.contrib.gis.gdal.field.OFTReal'>\n",
      "ART12MIX13 => <class 'django.contrib.gis.gdal.field.OFTReal'>\n",
      "ART12INC13 => <class 'django.contrib.gis.gdal.field.OFTReal'>\n",
      "NAF13ART14 => <class 'django.contrib.gis.gdal.field.OFTReal'>\n",
      "ART13ACT14 => <class 'django.contrib.gis.gdal.field.OFTReal'>\n",
      "ART13HAB14 => <class 'django.contrib.gis.gdal.field.OFTReal'>\n",
      "ART13MIX14 => <class 'django.contrib.gis.gdal.field.OFTReal'>\n",
      "ART13INC14 => <class 'django.contrib.gis.gdal.field.OFTReal'>\n",
      "NAF14ART15 => <class 'django.contrib.gis.gdal.field.OFTReal'>\n",
      "ART14ACT15 => <class 'django.contrib.gis.gdal.field.OFTReal'>\n",
      "ART14HAB15 => <class 'django.contrib.gis.gdal.field.OFTReal'>\n",
      "ART14MIX15 => <class 'django.contrib.gis.gdal.field.OFTReal'>\n",
      "ART14INC15 => <class 'django.contrib.gis.gdal.field.OFTReal'>\n",
      "NAF15ART16 => <class 'django.contrib.gis.gdal.field.OFTReal'>\n",
      "ART15ACT16 => <class 'django.contrib.gis.gdal.field.OFTReal'>\n",
      "ART15HAB16 => <class 'django.contrib.gis.gdal.field.OFTReal'>\n",
      "ART15MIX16 => <class 'django.contrib.gis.gdal.field.OFTReal'>\n",
      "ART15INC16 => <class 'django.contrib.gis.gdal.field.OFTReal'>\n",
      "NAF16ART17 => <class 'django.contrib.gis.gdal.field.OFTReal'>\n",
      "ART16ACT17 => <class 'django.contrib.gis.gdal.field.OFTReal'>\n",
      "ART16HAB17 => <class 'django.contrib.gis.gdal.field.OFTReal'>\n",
      "ART16MIX17 => <class 'django.contrib.gis.gdal.field.OFTReal'>\n",
      "ART16INC17 => <class 'django.contrib.gis.gdal.field.OFTReal'>\n",
      "NAF17ART18 => <class 'django.contrib.gis.gdal.field.OFTReal'>\n",
      "ART17ACT18 => <class 'django.contrib.gis.gdal.field.OFTReal'>\n",
      "ART17HAB18 => <class 'django.contrib.gis.gdal.field.OFTReal'>\n",
      "ART17MIX18 => <class 'django.contrib.gis.gdal.field.OFTReal'>\n",
      "ART17INC18 => <class 'django.contrib.gis.gdal.field.OFTReal'>\n",
      "NAF18ART19 => <class 'django.contrib.gis.gdal.field.OFTReal'>\n",
      "ART18ACT19 => <class 'django.contrib.gis.gdal.field.OFTReal'>\n",
      "ART18HAB19 => <class 'django.contrib.gis.gdal.field.OFTReal'>\n",
      "ART18MIX19 => <class 'django.contrib.gis.gdal.field.OFTReal'>\n",
      "ART18INC19 => <class 'django.contrib.gis.gdal.field.OFTReal'>\n",
      "NAF19ART20 => <class 'django.contrib.gis.gdal.field.OFTReal'>\n",
      "ART19ACT20 => <class 'django.contrib.gis.gdal.field.OFTReal'>\n",
      "ART19HAB20 => <class 'django.contrib.gis.gdal.field.OFTReal'>\n",
      "ART19MIX20 => <class 'django.contrib.gis.gdal.field.OFTReal'>\n",
      "ART19INC20 => <class 'django.contrib.gis.gdal.field.OFTReal'>\n",
      "NAFART0920 => <class 'django.contrib.gis.gdal.field.OFTReal'>\n",
      "ARTACT0920 => <class 'django.contrib.gis.gdal.field.OFTReal'>\n",
      "ARTHAB0920 => <class 'django.contrib.gis.gdal.field.OFTReal'>\n",
      "ARTMIX0920 => <class 'django.contrib.gis.gdal.field.OFTReal'>\n",
      "ARTINC0920 => <class 'django.contrib.gis.gdal.field.OFTReal'>\n",
      "ARTCOM0920 => <class 'django.contrib.gis.gdal.field.OFTReal'>\n",
      "     POP12 => <class 'django.contrib.gis.gdal.field.OFTInteger64'>\n",
      "     POP17 => <class 'django.contrib.gis.gdal.field.OFTInteger64'>\n",
      "   POP1217 => <class 'django.contrib.gis.gdal.field.OFTInteger64'>\n",
      "     MEN12 => <class 'django.contrib.gis.gdal.field.OFTInteger64'>\n",
      "     MEN17 => <class 'django.contrib.gis.gdal.field.OFTInteger64'>\n",
      "   MEN1217 => <class 'django.contrib.gis.gdal.field.OFTInteger64'>\n",
      "     EMP17 => <class 'django.contrib.gis.gdal.field.OFTInteger64'>\n",
      "     EMP12 => <class 'django.contrib.gis.gdal.field.OFTInteger64'>\n",
      "   EMP1217 => <class 'django.contrib.gis.gdal.field.OFTInteger64'>\n",
      "MEPART1217 => <class 'django.contrib.gis.gdal.field.OFTReal'>\n",
      "MENHAB1217 => <class 'django.contrib.gis.gdal.field.OFTReal'>\n",
      "ARTPOP1217 => <class 'django.contrib.gis.gdal.field.OFTReal'>\n",
      " SURFCOM20 => <class 'django.contrib.gis.gdal.field.OFTReal'>\n"
     ]
    }
   ],
   "source": [
    "m = max([len(i) for i in lyr.fields])\n",
    "for name, t in zip(lyr.fields, lyr.field_types):\n",
    "    print(f\"{name.rjust(m)} => {t}\")"
   ]
  },
  {
   "cell_type": "code",
   "execution_count": 6,
   "id": "1cc3b821",
   "metadata": {},
   "outputs": [
    {
     "name": "stdout",
     "output_type": "stream",
     "text": [
      "01001 292\n",
      "01002 157\n",
      "01004 271\n",
      "01005 235\n",
      "01006 116\n"
     ]
    }
   ],
   "source": [
    "for feat in lyr[0:5]:\n",
    "    print(feat.get('IDCOM'), feat.geom.num_points)"
   ]
  },
  {
   "cell_type": "code",
   "execution_count": 6,
   "id": "a0d74ddf",
   "metadata": {},
   "outputs": [
    {
     "name": "stderr",
     "output_type": "stream",
     "text": [
      "[17/Dec/2021 22:26:07] Load data of <class 'public_data.models.RefPlan'>\n",
      "[17/Dec/2021 22:26:07] Shape file found: /app/carto/media/ref_plan/obs_artif_conso_com_2009_2020.shp\n",
      "[17/Dec/2021 22:27:54] Data loaded, now calculate fields\n",
      "[17/Dec/2021 22:27:54] End\n"
     ]
    }
   ],
   "source": [
    "from public_data.models import RefPlan\n",
    "RefPlan.load(shp_file=\"/app/carto/media/ref_plan/obs_artif_conso_com_2009_2020.shp\")"
   ]
  },
  {
   "cell_type": "code",
   "execution_count": null,
   "id": "6dabfc3a",
   "metadata": {},
   "outputs": [],
   "source": []
  }
 ],
 "metadata": {
  "kernelspec": {
   "display_name": "Django Shell-Plus",
   "language": "python",
   "name": "django_extensions"
  },
  "language_info": {
   "codemirror_mode": {
    "name": "ipython",
    "version": 3
   },
   "file_extension": ".py",
   "mimetype": "text/x-python",
   "name": "python",
   "nbconvert_exporter": "python",
   "pygments_lexer": "ipython3",
   "version": "3.9.7"
  }
 },
 "nbformat": 4,
 "nbformat_minor": 5
}
