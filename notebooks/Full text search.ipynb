{
 "cells": [
  {
   "cell_type": "code",
   "execution_count": 28,
   "id": "08cd3ff1",
   "metadata": {},
   "outputs": [
    {
     "data": {
      "text/plain": [
       "[(6191, 'CC de Desvres-Samer', \"'cc':1 'desvr':4 'desvres-sam':3 'sam':5\"),\n",
       " (6192, 'CC Le Grésivaudan', \"'cc':1 'grésivaudan':3\"),\n",
       " (6193,\n",
       "  'CC du Romorantinais et du Monestois',\n",
       "  \"'cc':1 'monestois':6 'romorantin':3\"),\n",
       " (6194, 'CC du Val de Bouzanne', \"'bouzann':5 'cc':1 'val':3\"),\n",
       " (6195,\n",
       "  'CC du Grand Pic Saint-Loup',\n",
       "  \"'cc':1 'grand':3 'loup':7 'pic':4 'saint':6 'saint-loup':5\"),\n",
       " (6196, 'CC du Pays de Maîche', \"'cc':1 'maîch':5 'pay':3\"),\n",
       " (6207, 'CC Gâtinais Val de Loing', \"'cc':1 'gâtin':2 'loing':5 'val':3\"),\n",
       " (6208,\n",
       "  'CC Haut-Jura Saint-Claude',\n",
       "  \"'cc':1 'claud':7 'haut':3 'haut-jur':2 'jur':4 'saint':6 'saint-claud':5\"),\n",
       " (6209, 'CC Arc Sud Bretagne', \"'arc':2 'bretagn':4 'cc':1 'sud':3\"),\n",
       " (6210, 'CC Arnon Boischaut Cher', \"'arnon':2 'boischaut':3 'cc':1 'cher':4\")]"
      ]
     },
     "execution_count": 28,
     "metadata": {},
     "output_type": "execute_result"
    }
   ],
   "source": [
    "from django.db import connection\n",
    "\n",
    "def execute(query, params=None):\n",
    "    with connection.cursor() as cursor:\n",
    "        cursor.execute(query, params)\n",
    "        return cursor.fetchall()\n",
    "    \n",
    "execute(\"SELECT id, name, to_tsvector('french', name) from public_data_epci limit 10\")"
   ]
  },
  {
   "cell_type": "code",
   "execution_count": 29,
   "id": "631e5204",
   "metadata": {},
   "outputs": [
    {
     "data": {
      "text/plain": [
       "[(\"'communaut' & 'commun' & 'desvres-sam' & 'desvr' & 'sam'\",)]"
      ]
     },
     "execution_count": 29,
     "metadata": {},
     "output_type": "execute_result"
    }
   ],
   "source": [
    "# tokeninastion du terme recherché\n",
    "search = \"Communauté de communes de Desvres-Samer\"\n",
    "execute(\"SELECT plainto_tsquery('french', %s)\", [search])"
   ]
  },
  {
   "cell_type": "code",
   "execution_count": 30,
   "id": "f361ea14",
   "metadata": {},
   "outputs": [
    {
     "data": {
      "text/plain": [
       "[]"
      ]
     },
     "execution_count": 30,
     "metadata": {},
     "output_type": "execute_result"
    }
   ],
   "source": [
    "# recherche dans la table EPCI\n",
    "query = (\n",
    "    \"SELECT id, name from public_data_epci \"\n",
    "    \"where to_tsvector('french', name) @@ plainto_tsquery('french', %s)\"\n",
    ")\n",
    "execute(query, [search])"
   ]
  },
  {
   "cell_type": "code",
   "execution_count": null,
   "id": "d3e04d5a",
   "metadata": {},
   "outputs": [],
   "source": []
  },
  {
   "cell_type": "code",
   "execution_count": null,
   "id": "39ea56db",
   "metadata": {},
   "outputs": [],
   "source": []
  }
 ],
 "metadata": {
  "kernelspec": {
   "display_name": "Django Shell-Plus",
   "language": "python",
   "name": "django_extensions"
  },
  "language_info": {
   "codemirror_mode": {
    "name": "ipython",
    "version": 3
   },
   "file_extension": ".py",
   "mimetype": "text/x-python",
   "name": "python",
   "nbconvert_exporter": "python",
   "pygments_lexer": "ipython3",
   "version": "3.10.10"
  }
 },
 "nbformat": 4,
 "nbformat_minor": 5
}
