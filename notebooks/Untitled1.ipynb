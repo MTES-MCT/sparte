{
 "cells": [
  {
   "cell_type": "code",
   "execution_count": 1,
   "id": "1b4b269b",
   "metadata": {},
   "outputs": [],
   "source": [
    "import os\n",
    "os.environ[\"DJANGO_ALLOW_ASYNC_UNSAFE\"] = \"true\""
   ]
  },
  {
   "cell_type": "code",
   "execution_count": 8,
   "id": "2c7a40d0",
   "metadata": {},
   "outputs": [],
   "source": [
    "from project.models import Project\n",
    "from public_data.models import OcsgeDiff\n",
    "\n",
    "from django.contrib.gis.db.models.functions import Intersection, Area, Transform\n",
    "from django.db.models import Sum, F, Value, Q, Min, Max\n",
    "from django.db.models import Case, Value, When, DecimalField\n",
    "from django.db.models.functions import Cast\n",
    "\n",
    "from prettytable import PrettyTable"
   ]
  },
  {
   "cell_type": "code",
   "execution_count": 3,
   "id": "f57fbfad",
   "metadata": {},
   "outputs": [
    {
     "data": {
      "text/plain": [
       "<Project: Diagnostic de CA Grand Auch Coeur de Gascogne>"
      ]
     },
     "execution_count": 3,
     "metadata": {},
     "output_type": "execute_result"
    }
   ],
   "source": [
    "project = Project.objects.get(id=13)\n",
    "project"
   ]
  },
  {
   "cell_type": "code",
   "execution_count": 11,
   "id": "b4e3550f",
   "metadata": {},
   "outputs": [
    {
     "data": {
      "text/plain": [
       "<QuerySet [{'code_prefix': 'CS1.1.1.1', 'artif': Decimal('7.47'), 'renat': Decimal('0.97')}, {'code_prefix': 'CS1.1.1.2', 'artif': Decimal('8.47'), 'renat': Decimal('0.01')}, {'code_prefix': 'CS1.1.2.1', 'artif': Decimal('24.84'), 'renat': Decimal('2.87')}, {'code_prefix': 'CS2.2.1', 'artif': Decimal('28.95'), 'renat': Decimal('1.88')}]>"
      ]
     },
     "execution_count": 11,
     "metadata": {},
     "output_type": "execute_result"
    }
   ],
   "source": [
    "geom = project.combined_emprise\n",
    "qs = OcsgeDiff.objects.all()\n",
    "# sélection\n",
    "qs = qs.filter(year_old__gte=project.analyse_start_date, year_new__lte=project.analyse_end_date)\n",
    "qs = qs.filter(Q(is_new_artif=True) | Q(is_new_natural=True))\n",
    "qs = qs.annotate(intersection=Transform(Intersection(\"mpoly\", geom), 2154))\n",
    "qs = qs.annotate(intersection_area=Area(\"intersection\"))\n",
    "qs = qs.filter(mpoly__intersects=geom)\n",
    "qs = qs.annotate(code_prefix=Case(\n",
    "    When(is_new_artif=True, then=F(\"new_matrix__couverture__code_prefix\")),\n",
    "    default=F(\"old_matrix__couverture__code_prefix\"),\n",
    "))\n",
    "qs = qs.values(\"code_prefix\")\n",
    "qs = qs.annotate(\n",
    "    artif=Cast(\n",
    "        Sum(\"intersection_area\", filter=Q(is_new_artif=True), default=0) / 10000,\n",
    "        DecimalField(max_digits=15, decimal_places=2)\n",
    "    ),\n",
    "    renat=Cast(\n",
    "        Sum(\"intersection_area\", filter=Q(is_new_natural=True), default=0) / 10000,\n",
    "        DecimalField(max_digits=15, decimal_places=2)\n",
    "    ),\n",
    ")\n",
    "qs"
   ]
  },
  {
   "cell_type": "code",
   "execution_count": 40,
   "id": "29726beb",
   "metadata": {},
   "outputs": [
    {
     "data": {
      "text/plain": [
       "{'CS1.1.1.1': {'artif': Decimal('7.47'), 'renat': Decimal('0.97')},\n",
       " 'CS1.1.1.2': {'artif': Decimal('8.47'), 'renat': Decimal('0.01')},\n",
       " 'CS1.1.2.1': {'artif': Decimal('24.84'), 'renat': Decimal('2.87')},\n",
       " 'CS2.2.1': {'artif': Decimal('28.95'), 'renat': Decimal('1.88')}}"
      ]
     },
     "execution_count": 40,
     "metadata": {},
     "output_type": "execute_result"
    }
   ],
   "source": [
    "data = {\n",
    "    line[\"code_prefix\"]: {\"artif\": line[\"artif\"], \"renat\": line[\"renat\"]}\n",
    "    for line in qs\n",
    "}\n",
    "data"
   ]
  },
  {
   "cell_type": "code",
   "execution_count": 26,
   "id": "586ec37d",
   "metadata": {},
   "outputs": [
    {
     "data": {
      "text/plain": [
       "<QuerySet [{'code_prefix': 'CS1.1.1.1', 'label': 'Zones bâties', 'label_short': None, 'surface_first': Decimal('748.06'), 'surface_last': Decimal('763.14'), 'surface_diff': Decimal('15.08')}, {'code_prefix': 'CS1.1.1.2', 'label': 'Zones non bâties (Routes; places; parking…)', 'label_short': None, 'surface_first': Decimal('1261.06'), 'surface_last': Decimal('1271.82'), 'surface_diff': Decimal('10.76')}, {'code_prefix': 'CS1.1.2.1', 'label': 'Zones à matériaux minéraux', 'label_short': None, 'surface_first': Decimal('145.48'), 'surface_last': Decimal('167.11'), 'surface_diff': Decimal('21.63')}, {'code_prefix': 'CS2.2.1', 'label': 'Formations herbacées (Pelouses et prairies; terres arables; roselières; …)', 'label_short': None, 'surface_first': Decimal('2787.08'), 'surface_last': Decimal('2803.61'), 'surface_diff': Decimal('16.53')}]>"
      ]
     },
     "execution_count": 26,
     "metadata": {},
     "output_type": "execute_result"
    }
   ],
   "source": [
    "qs2 = CommuneSol.objects.filter(\n",
    "    city__in=project.cities.all(), year__in=[project.first_year_ocsge, project.last_year_ocsge]\n",
    ")\n",
    "qs2 = qs2.filter(matrix__is_artificial=True)\n",
    "qs2 = qs2.annotate(code_prefix=F(\"matrix__couverture__code_prefix\"))\n",
    "qs2 = qs2.annotate(label=F(\"matrix__couverture__label\"))\n",
    "qs2 = qs2.annotate(label_short=F(\"matrix__couverture__label_short\"))\n",
    "qs2 = qs2.annotate(is_artif=F(\"matrix__is_artificial\"))\n",
    "qs2 = qs2.values(\"code_prefix\", \"label\", \"label_short\")\n",
    "qs2 = qs2.annotate(\n",
    "    surface_first=\n",
    "    Cast(\n",
    "        Sum(\"surface\", filter=Q(year=project.first_year_ocsge), default=0),\n",
    "        DecimalField(max_digits=15, decimal_places=2)\n",
    "    ),\n",
    "    surface_last=Cast(\n",
    "        Sum(\"surface\", filter=Q(year=project.last_year_ocsge), default=0),\n",
    "        DecimalField(max_digits=15, decimal_places=2)\n",
    "    ),\n",
    "    surface_diff=F(\"surface_last\") - F(\"surface_first\"),\n",
    ")\n",
    "qs2"
   ]
  },
  {
   "cell_type": "code",
   "execution_count": 47,
   "id": "8c32ba50",
   "metadata": {},
   "outputs": [
    {
     "name": "stdout",
     "output_type": "stream",
     "text": [
      "Progression de l'artif\n",
      "Diagnostic de CA Grand Auch Coeur de Gascogne\n",
      "+-------------+--------------------------------+-------+---------+-------+---------+---------+-----------+\n",
      "| code_prefix | label                          | artif | % artif | renat | % renat | last    | % surface |\n",
      "+-------------+--------------------------------+-------+---------+-------+---------+---------+-----------+\n",
      "| CS1.1.1.1   | Zones bâties                   | 7.47  | 11      | 0.97  | 17      | 763.14  | 15        |\n",
      "| CS1.1.1.2   | Zones non bâties (Routes; plac | 8.47  | 12      | 0.01  | 0       | 1271.82 | 25        |\n",
      "| CS1.1.2.1   | Zones à matériaux minéraux     | 24.84 | 36      | 2.87  | 50      | 167.11  | 3         |\n",
      "| CS2.2.1     | Formations herbacées (Pelouses | 28.95 | 42      | 1.88  | 33      | 2803.61 | 56        |\n",
      "+-------------+--------------------------------+-------+---------+-------+---------+---------+-----------+\n"
     ]
    }
   ],
   "source": [
    "x = PrettyTable(field_names=[\"code_prefix\", \"label\", \"artif\", \"% artif\", \"renat\", \"% renat\", \"last\", \"% surface\"], align=\"l\")\n",
    "\n",
    "results = list(qs2)\n",
    "\n",
    "total_surface = total_artif = total_renat = 0\n",
    "\n",
    "for result in results:\n",
    "    code_prefix = result[\"code_prefix\"]\n",
    "    result[\"artif\"] = data[code_prefix][\"artif\"]\n",
    "    result[\"renat\"] = data[code_prefix][\"renat\"]\n",
    "    total_surface += result[\"surface_last\"]\n",
    "    total_artif += data[code_prefix][\"artif\"]\n",
    "    total_renat += data[code_prefix][\"renat\"]\n",
    "\n",
    "for result in results:\n",
    "    line = (\n",
    "        result[\"code_prefix\"],\n",
    "        result[\"label\"][:30],\n",
    "        result[\"artif\"],\n",
    "        round(100 * result[\"artif\"] / total_artif, 0),\n",
    "        result[\"renat\"],\n",
    "        round(100 * result[\"renat\"] / total_renat, 0),\n",
    "        result[\"surface_last\"],\n",
    "        round(100 * result[\"surface_last\"] / total_surface, 0),\n",
    "    )\n",
    "    x.add_row(line)\n",
    "print(\"Progression de l'artif\")\n",
    "print(project.name)\n",
    "print(x)"
   ]
  },
  {
   "cell_type": "code",
   "execution_count": null,
   "id": "34a56787",
   "metadata": {},
   "outputs": [],
   "source": []
  },
  {
   "cell_type": "code",
   "execution_count": null,
   "id": "c53ce72d",
   "metadata": {},
   "outputs": [],
   "source": []
  }
 ],
 "metadata": {
  "kernelspec": {
   "display_name": "Django Shell-Plus",
   "language": "python",
   "name": "django_extensions"
  },
  "language_info": {
   "codemirror_mode": {
    "name": "ipython",
    "version": 3
   },
   "file_extension": ".py",
   "mimetype": "text/x-python",
   "name": "python",
   "nbconvert_exporter": "python",
   "pygments_lexer": "ipython3",
   "version": "3.9.6"
  }
 },
 "nbformat": 4,
 "nbformat_minor": 5
}
