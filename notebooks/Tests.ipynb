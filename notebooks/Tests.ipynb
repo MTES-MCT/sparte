{
 "cells": [
  {
   "cell_type": "code",
   "execution_count": null,
   "id": "694372b8",
   "metadata": {},
   "outputs": [],
   "source": [
    "from public_data.models import Departement, Epci\n",
    "from project.models import Project, Request"
   ]
  },
  {
   "cell_type": "code",
   "execution_count": null,
   "id": "cb5e7a0f",
   "metadata": {},
   "outputs": [],
   "source": [
    "Project.objects.filter(cover_image__isnull=False)"
   ]
  },
  {
   "cell_type": "code",
   "execution_count": null,
   "id": "95a8a8e2",
   "metadata": {},
   "outputs": [],
   "source": [
    "Project.objects.filter(cover_image=None)"
   ]
  },
  {
   "cell_type": "code",
   "execution_count": null,
   "id": "25bdc374",
   "metadata": {},
   "outputs": [],
   "source": [
    "Project.objects.filter(cover_image=\"\")"
   ]
  },
  {
   "cell_type": "code",
   "execution_count": null,
   "id": "698cba43",
   "metadata": {},
   "outputs": [],
   "source": [
    "request_id = 6\n",
    "Request.objects.select_related(\"project\").get(id=int(request_id))"
   ]
  },
  {
   "cell_type": "code",
   "execution_count": null,
   "id": "4b25693d",
   "metadata": {},
   "outputs": [],
   "source": []
  },
  {
   "cell_type": "code",
   "execution_count": null,
   "id": "8d900829",
   "metadata": {},
   "outputs": [],
   "source": []
  }
 ],
 "metadata": {
  "kernelspec": {
   "display_name": "Django Shell-Plus",
   "language": "python",
   "name": "django_extensions"
  },
  "language_info": {
   "codemirror_mode": {
    "name": "ipython",
    "version": 3
   },
   "file_extension": ".py",
   "mimetype": "text/x-python",
   "name": "python",
   "nbconvert_exporter": "python",
   "pygments_lexer": "ipython3",
   "version": "3.9.7"
  }
 },
 "nbformat": 4,
 "nbformat_minor": 5
}
