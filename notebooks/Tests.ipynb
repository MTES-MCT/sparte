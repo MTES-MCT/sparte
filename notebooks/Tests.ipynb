{
 "cells": [
  {
   "cell_type": "code",
   "execution_count": 1,
   "id": "694372b8",
   "metadata": {},
   "outputs": [],
   "source": [
<<<<<<< HEAD
    "from users.models import User"
=======
    "import collections"
>>>>>>> add relative pop graph
   ]
  },
  {
   "cell_type": "code",
<<<<<<< HEAD
<<<<<<< HEAD
   "execution_count": 1,
=======
   "execution_count": 9,
>>>>>>> add thematic map and refactore
=======
   "execution_count": 6,
>>>>>>> add relative pop graph
   "id": "cb5e7a0f",
   "metadata": {},
   "outputs": [
    {
<<<<<<< HEAD
<<<<<<< HEAD
     "data": {
      "text/plain": [
       "<User: swann.bouviermuller@beta.gouv.fr>"
      ]
     },
     "execution_count": 1,
     "metadata": {},
     "output_type": "execute_result"
    }
   ],
   "source": [
    "u = User.objects.get(email__startswith=\"swann\")\n",
    "u.set_password(\"1234\")\n",
    "u.save()\n",
    "u"
=======
     "name": "stdout",
     "output_type": "stream",
     "text": [
      "yap\n"
     ]
    }
   ],
   "source": [
    "class Animal:\n",
    "    default = \"yap\"\n",
    "\n",
    "    def yap(self, *say):\n",
    "        if not say:\n",
    "            say = list(say) + [self.default]\n",
    "        for i in say:\n",
    "            print(i)\n",
    "        try:\n",
    "            super().yap(*say)\n",
    "        except AttributeError:\n",
    "            pass\n",
    "\n",
    "animal = Animal()\n",
    "animal.yap()"
>>>>>>> add thematic map and refactore
=======
     "data": {
      "text/plain": [
       "defaultdict(<function __main__.<lambda>()>,\n",
       "            {'oune dos tres': 'hello world',\n",
       "             'get': {'aie': 'bobo'},\n",
       "             'direct': {'ouille': 'bobo'}})"
      ]
     },
     "execution_count": 6,
     "metadata": {},
     "output_type": "execute_result"
    }
   ],
   "source": [
    "a = collections.defaultdict(lambda: dict())\n",
    "a[\"oune dos tres\"] = \"hello world\"\n",
    "a[\"get\"].update({'aie': 'bobo'})\n",
    "a[\"direct\"][\"ouille\"] = \"bobo\"\n",
    "a"
>>>>>>> add relative pop graph
   ]
  },
  {
   "cell_type": "code",
<<<<<<< HEAD
<<<<<<< HEAD
   "execution_count": 3,
=======
   "execution_count": 7,
>>>>>>> add thematic map and refactore
   "id": "95a8a8e2",
   "metadata": {},
   "outputs": [
    {
<<<<<<< HEAD
     "data": {
      "text/plain": [
       "172"
      ]
     },
     "execution_count": 3,
     "metadata": {},
     "output_type": "execute_result"
    }
   ],
   "source": [
    "from django.db.models import Value\n",
    "from django.db.models.functions import Concat\n",
    "User.objects.all().exclude(email=u.email).update(email=Concat(\"email\", Value(\"_\")))"
=======
     "name": "stdout",
     "output_type": "stream",
     "text": [
      "ouaf\n"
     ]
    }
   ],
   "source": [
    "class Dog(Animal):\n",
    "    default = \"ouaf\"\n",
    "\n",
    "    def yap(self, *say):\n",
    "        super().yap(*say)\n",
    "\n",
    "dog = Dog()\n",
    "dog.yap()"
>>>>>>> add thematic map and refactore
   ]
=======
   "execution_count": 3,
   "id": "95a8a8e2",
   "metadata": {},
   "outputs": [],
   "source": []
  },
  {
   "cell_type": "code",
   "execution_count": null,
   "id": "ef01e424",
   "metadata": {},
   "outputs": [],
   "source": []
>>>>>>> add relative pop graph
  },
  {
   "cell_type": "code",
   "execution_count": null,
   "id": "ef01e424",
   "metadata": {},
   "outputs": [],
   "source": []
  },
  {
   "cell_type": "code",
   "execution_count": null,
   "id": "25bdc374",
   "metadata": {},
   "outputs": [],
<<<<<<< HEAD
<<<<<<< HEAD
   "source": []
=======
   "source": [
    "class Other:\n",
    "    pass\n",
    "\n"
   ]
>>>>>>> add thematic map and refactore
=======
   "source": []
>>>>>>> add relative pop graph
  },
  {
   "cell_type": "code",
   "execution_count": null,
   "id": "698cba43",
   "metadata": {},
   "outputs": [],
   "source": []
  },
  {
   "cell_type": "code",
   "execution_count": null,
   "id": "4b25693d",
   "metadata": {},
   "outputs": [],
   "source": []
  },
  {
   "cell_type": "code",
   "execution_count": null,
   "id": "8d900829",
   "metadata": {},
   "outputs": [],
   "source": []
  }
 ],
 "metadata": {
  "kernelspec": {
   "display_name": "Django Shell-Plus",
   "language": "python",
   "name": "django_extensions"
  },
  "language_info": {
   "codemirror_mode": {
    "name": "ipython",
    "version": 3
   },
   "file_extension": ".py",
   "mimetype": "text/x-python",
   "name": "python",
   "nbconvert_exporter": "python",
   "pygments_lexer": "ipython3",
   "version": "3.9.7"
  }
 },
 "nbformat": 4,
 "nbformat_minor": 5
}
