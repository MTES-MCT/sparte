{
 "cells": [
  {
   "cell_type": "code",
   "execution_count": 1,
   "id": "149d2a66",
   "metadata": {},
   "outputs": [],
   "source": [
    "import os\n",
    "os.environ[\"DJANGO_ALLOW_ASYNC_UNSAFE\"] = \"true\""
   ]
  },
  {
   "cell_type": "code",
   "execution_count": 12,
   "id": "61945a6c",
   "metadata": {},
   "outputs": [
    {
     "data": {
      "text/plain": [
       "{'mpoly_union': <Polygon object at 0x7f934e3b2310>,\n",
       " 'center': <Point object at 0x7f934e3b2290>}"
      ]
     },
     "execution_count": 12,
     "metadata": {},
     "output_type": "execute_result"
    }
   ],
   "source": [
    "from public_data.models import Region\n",
    "from django.contrib.gis.db.models.functions import Centroid\n",
    "from django.contrib.gis.db.models import Union\n",
    "\n",
    "result = Region.objects.annotate(mpoly_union=Union(\"mpoly\")).values(\"mpoly_union\").annotate(center=Centroid(\"mpoly_union\"))\n",
    "result = result.first()\n",
    "result"
   ]
  },
  {
   "cell_type": "code",
   "execution_count": 16,
   "id": "3a8d5321",
   "metadata": {},
   "outputs": [
    {
     "name": "stdout",
     "output_type": "stream",
     "text": [
      "4.536186161788389\n",
      "45.51461100292581\n"
     ]
    }
   ],
   "source": [
    "print(result[\"center\"].x)\n",
    "print(result[\"center\"].y)"
   ]
  },
  {
   "cell_type": "code",
   "execution_count": 19,
   "id": "ed8a874c",
   "metadata": {},
   "outputs": [
    {
     "data": {
      "text/plain": [
       "<QuerySet [{'date': '2022-06', 'total': 3}]>"
      ]
     },
     "execution_count": 19,
     "metadata": {},
     "output_type": "execute_result"
    }
   ],
   "source": [
    "from project.models import Request\n",
    "from django.db.models import Count, CharField, Func, F, Value\n",
    "\n",
    "qs_dl = (\n",
    "    Request.objects.annotate(\n",
    "        date=Func(\n",
    "            F(\"created_date\"),\n",
    "            Value(\"yyyy-MM\"),\n",
    "            function=\"to_char\",\n",
    "            output_field=CharField(),\n",
    "        )\n",
    "    )\n",
    "    .values(\"date\")\n",
    "    .annotate(total=Count(\"id\"))\n",
    "    .order_by(\"date\")\n",
    ")\n",
    "qs_dl"
   ]
  },
  {
   "cell_type": "code",
   "execution_count": null,
   "id": "4dc86c84",
   "metadata": {},
   "outputs": [],
   "source": []
  }
 ],
 "metadata": {
  "kernelspec": {
   "display_name": "Django Shell-Plus",
   "language": "python",
   "name": "django_extensions"
  },
  "language_info": {
   "codemirror_mode": {
    "name": "ipython",
    "version": 3
   },
   "file_extension": ".py",
   "mimetype": "text/x-python",
   "name": "python",
   "nbconvert_exporter": "python",
   "pygments_lexer": "ipython3",
   "version": "3.9.6"
  }
 },
 "nbformat": 4,
 "nbformat_minor": 5
}
