{
 "cells": [
  {
   "cell_type": "code",
   "execution_count": 14,
   "id": "149d2a66",
   "metadata": {},
   "outputs": [],
   "source": [
    "import os\n",
    "os.environ[\"DJANGO_ALLOW_ASYNC_UNSAFE\"] = \"true\""
   ]
  },
  {
   "cell_type": "code",
   "execution_count": 15,
   "id": "61945a6c",
   "metadata": {},
   "outputs": [
    {
     "data": {
      "text/plain": [
       "{'mpoly_union': <MultiPolygon object at 0x7f039be5b910>,\n",
       " 'center': <Point object at 0x7f039be5bc10>,\n",
       " 'extent': (-5.1413332610739,\n",
       "  41.3336317564724,\n",
       "  9.55996004666831,\n",
       "  51.0890003105061)}"
      ]
     },
     "execution_count": 15,
     "metadata": {},
     "output_type": "execute_result"
    }
   ],
   "source": [
    "from public_data.models import Region\n",
    "from django.contrib.gis.db.models.functions import Centroid\n",
    "from django.contrib.gis.db.models import Union, Extent\n",
    "\n",
    "qs = Region.objects.aggregate(\n",
    "    mpoly_union=Union(\"mpoly\"),\n",
    "    center=Centroid(Union(\"mpoly\")),\n",
    "    extent=Extent(\"mpoly\")\n",
    ")\n",
    "\n",
    "qs"
   ]
  },
  {
   "cell_type": "code",
   "execution_count": 16,
   "id": "3a8d5321",
   "metadata": {},
   "outputs": [
    {
     "data": {
      "text/plain": [
       "(46.55800750585194, 2.54985335515777)"
      ]
     },
     "execution_count": 16,
     "metadata": {},
     "output_type": "execute_result"
    }
   ],
   "source": [
    "center = (qs[\"center\"].y, qs[\"center\"].x)\n",
    "center"
   ]
  },
  {
   "cell_type": "code",
   "execution_count": 17,
   "id": "afc7151c",
   "metadata": {},
   "outputs": [
    {
     "data": {
      "text/plain": [
       "(41.3336317564724, -5.1413332610739, 51.0890003105061, 9.55996004666831)"
      ]
     },
     "execution_count": 17,
     "metadata": {},
     "output_type": "execute_result"
    }
   ],
   "source": [
    "coords = (qs['extent'][1], qs['extent'][0], qs['extent'][3], qs['extent'][2])\n",
    "coords"
   ]
  },
  {
   "cell_type": "code",
   "execution_count": 18,
   "id": "6289ea8c",
   "metadata": {},
   "outputs": [
    {
     "data": {
      "text/plain": [
       "(46.211316033489254, 2.2093133927972053)"
      ]
     },
     "execution_count": 18,
     "metadata": {},
     "output_type": "execute_result"
    }
   ],
   "source": [
    "x = (qs['extent'][0] + qs['extent'][2]) / 2\n",
    "y = (qs['extent'][1] + qs['extent'][3]) / 2\n",
    "center2 = (y, x)\n",
    "center2"
   ]
  },
  {
   "cell_type": "code",
   "execution_count": 19,
   "id": "ed8a874c",
   "metadata": {},
   "outputs": [
    {
     "data": {
      "application/vnd.jupyter.widget-view+json": {
       "model_id": "74295682958e4fbea2a23087dcbedb27",
       "version_major": 2,
       "version_minor": 0
      },
      "text/plain": [
       "Map(center=[46.55800750585194, 2.54985335515777], controls=(ZoomControl(options=['position', 'zoom_in_text', '…"
      ]
     },
     "execution_count": 19,
     "metadata": {},
     "output_type": "execute_result"
    }
   ],
   "source": [
    "from ipyleaflet import Map, Marker, GeoJSON, Polygon as iPolygon, Icon, WKTLayer\n",
    "from public_data.api.serializers import RegionSerializer\n",
    "from public_data.models import Region\n",
    "from django.contrib.gis.geos import Polygon as dPolygon\n",
    "\n",
    "\n",
    "m = Map(center=center, zoom=5)\n",
    "\n",
    "m.add_layer(\n",
    "    iPolygon(\n",
    "        locations=dPolygon.from_bbox(coords).coords,\n",
    "        fillColor=\"red\",\n",
    "        fillOpacity=0.1,\n",
    "    )\n",
    ")\n",
    "\n",
    "m.add_layer(Marker(location=center2, draggable=True))\n",
    "\n",
    "m"
   ]
  },
  {
   "cell_type": "code",
   "execution_count": 27,
   "id": "4dc86c84",
   "metadata": {},
   "outputs": [],
   "source": [
    "from django.db.models import Func\n",
    "\n",
    "class InnerCentroide(Func):\n",
    "    \"\"\"Return Centroid of maximum inner bounder circle\"\"\"\n",
    "    function = 'ST_MaximumInscribedCircle'\n",
    "    template = \"%(function)s(%(expressions)s)\"\n",
    "    \n",
    "Region.objects.aggregate(InnerCentroide(\"mpoly\"))"
   ]
  },
  {
   "cell_type": "code",
   "execution_count": null,
   "id": "e57dcf3a",
   "metadata": {},
   "outputs": [],
   "source": []
  },
  {
   "cell_type": "code",
   "execution_count": null,
   "id": "1a019288",
   "metadata": {},
   "outputs": [],
   "source": [
    "\n"
   ]
  },
  {
   "cell_type": "code",
   "execution_count": null,
   "id": "77e80dd3",
   "metadata": {},
   "outputs": [],
   "source": []
  }
 ],
 "metadata": {
  "kernelspec": {
   "display_name": "Django Shell-Plus",
   "language": "python",
   "name": "django_extensions"
  },
  "language_info": {
   "codemirror_mode": {
    "name": "ipython",
    "version": 3
   },
   "file_extension": ".py",
   "mimetype": "text/x-python",
   "name": "python",
   "nbconvert_exporter": "python",
   "pygments_lexer": "ipython3",
   "version": "3.10.10"
  }
 },
 "nbformat": 4,
 "nbformat_minor": 5
}
