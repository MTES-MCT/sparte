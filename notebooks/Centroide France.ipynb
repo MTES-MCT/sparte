{
 "cells": [
  {
   "cell_type": "code",
   "execution_count": 1,
   "id": "149d2a66",
   "metadata": {},
   "outputs": [],
   "source": [
    "import os\n",
    "os.environ[\"DJANGO_ALLOW_ASYNC_UNSAFE\"] = \"true\""
   ]
  },
  {
   "cell_type": "code",
   "execution_count": 16,
   "id": "61945a6c",
   "metadata": {},
   "outputs": [
    {
     "data": {
      "text/plain": [
       "{'mpoly_union': <MultiPolygon object at 0x7f922ed75b10>,\n",
       " 'center': <Point object at 0x7f922ed75810>,\n",
       " 'extent': (-5.1413332610739,\n",
       "  41.3336317564725,\n",
       "  9.55996004666832,\n",
       "  51.0890003105061)}"
      ]
     },
     "execution_count": 16,
     "metadata": {},
     "output_type": "execute_result"
    }
   ],
   "source": [
    "from public_data.models import Region\n",
    "from django.contrib.gis.db.models.functions import Centroid\n",
    "from django.contrib.gis.db.models import Union, Extent\n",
    "\n",
    "qs = Region.objects.aggregate(\n",
    "        mpoly_union=Union(\"mpoly\"),\n",
    "        center=Centroid(Union(\"mpoly\")),\n",
    "        extent=Extent(\"mpoly\")\n",
    ")\n",
    "\n",
    "qs"
   ]
  },
  {
   "cell_type": "code",
   "execution_count": 19,
   "id": "3a8d5321",
   "metadata": {},
   "outputs": [
    {
     "data": {
      "text/plain": [
       "(46.55800750585176, 2.5498533551600318)"
      ]
     },
     "execution_count": 19,
     "metadata": {},
     "output_type": "execute_result"
    }
   ],
   "source": [
    "center = (qs[\"center\"].y, qs[\"center\"].x)\n",
    "center"
   ]
  },
  {
   "cell_type": "code",
   "execution_count": 42,
   "id": "afc7151c",
   "metadata": {},
   "outputs": [
    {
     "data": {
      "text/plain": [
       "(41.3336317564725, -5.1413332610739, 51.0890003105061, 9.55996004666832)"
      ]
     },
     "execution_count": 42,
     "metadata": {},
     "output_type": "execute_result"
    }
   ],
   "source": [
    "coords = (qs['extent'][1], qs['extent'][0], qs['extent'][3], qs['extent'][2])\n",
    "coords"
   ]
  },
  {
   "cell_type": "code",
   "execution_count": 25,
   "id": "6289ea8c",
   "metadata": {},
   "outputs": [
    {
     "data": {
      "text/plain": [
       "(46.2113160334893, 2.2093133927972097)"
      ]
     },
     "execution_count": 25,
     "metadata": {},
     "output_type": "execute_result"
    }
   ],
   "source": [
    "x = (qs['extent'][0] + qs['extent'][2]) / 2\n",
    "y = (qs['extent'][1] + qs['extent'][3]) / 2\n",
    "center2 = (y, x)\n",
    "center2"
   ]
  },
  {
   "cell_type": "code",
   "execution_count": 37,
   "id": "ed8a874c",
   "metadata": {},
   "outputs": [
    {
     "data": {
      "application/vnd.jupyter.widget-view+json": {
       "model_id": "ea1cab2cff6f4caeba27e71a6f45e1e4",
       "version_major": 2,
       "version_minor": 0
      },
      "text/plain": [
       "Map(center=[46.55800750585176, 2.5498533551600318], controls=(ZoomControl(options=['position', 'zoom_in_text',…"
      ]
     },
     "metadata": {},
     "output_type": "display_data"
    }
   ],
   "source": [
    "from ipyleaflet import Map, Marker, GeoJSON, Polygon as iPolygon, Icon, WKTLayer\n",
    "from public_data.api.serializers import RegionSerializer\n",
    "from public_data.models import Region\n",
    "from django.contrib.gis.geos import Polygon as dPolygon\n",
    "\n",
    "\n",
    "m = Map(center=center, zoom=5)\n",
    "\n",
    "icon = Icon(icon_url='https://leafletjs.com/examples/custom-icons/leaf-green.png')\n",
    "m.add_layer(Marker(location=center, draggable=True, icon=icon))\n",
    "\n",
    "m.add_layer(\n",
    "    iPolygon(\n",
    "        locations=dPolygon.from_bbox(coords).coords,\n",
    "        fillColor=\"red\",\n",
    "        fillOpacity=0.1,\n",
    "    )\n",
    ")\n",
    "\n",
    "m.add_layer(Marker(location=center2, draggable=True))\n",
    "\n",
    "m"
   ]
  },
  {
   "cell_type": "code",
   "execution_count": 17,
   "id": "4dc86c84",
   "metadata": {},
   "outputs": [
    {
     "data": {
      "application/vnd.jupyter.widget-view+json": {
       "model_id": "b7de9f24f04f40f59b11c64a627a0866",
       "version_major": 2,
       "version_minor": 0
      },
      "text/plain": [
       "Map(center=[45.51461100292581, 4.536186161788389], controls=(ZoomControl(options=['position', 'zoom_in_text', …"
      ]
     },
     "metadata": {},
     "output_type": "display_data"
    }
   ],
   "source": [
    "m = Map(center=center, zoom=5)\n",
    "serializer = RegionSerializer(Region.objects.all(), many=True)\n",
    "m.add_layer(\n",
    "    GeoJSON(\n",
    "        data=serializer.data,\n",
    "        style={\n",
    "            'opacity': 1,\n",
    "            'fillOpacity': 0.1,\n",
    "            'weight': 1,\n",
    "            'color': 'white',\n",
    "            'fillColor': 'blue',\n",
    "        },\n",
    "    )\n",
    ")\n",
    "m"
   ]
  },
  {
   "cell_type": "code",
   "execution_count": 43,
   "id": "e57dcf3a",
   "metadata": {},
   "outputs": [
    {
     "data": {
      "application/vnd.jupyter.widget-view+json": {
       "model_id": "52d0a4dc4da24b7bba4f68ae38c06d4f",
       "version_major": 2,
       "version_minor": 0
      },
      "text/plain": [
       "Map(center=[46.55800750585176, 2.5498533551600318], controls=(ZoomControl(options=['position', 'zoom_in_text',…"
      ]
     },
     "metadata": {},
     "output_type": "display_data"
    }
   ],
   "source": [
    "m = Map(center=center, zoom=5)\n",
    "\n",
    "m.add_layer(\n",
    "    WKTLayer(\n",
    "        wkt_string=dPolygon.from_bbox(coords).ewkt,\n",
    "    )\n",
    ")\n",
    "m"
   ]
  },
  {
   "cell_type": "code",
   "execution_count": null,
   "id": "1a019288",
   "metadata": {},
   "outputs": [],
   "source": [
    "\n"
   ]
  },
  {
   "cell_type": "code",
   "execution_count": null,
   "id": "77e80dd3",
   "metadata": {},
   "outputs": [],
   "source": []
  }
 ],
 "metadata": {
  "kernelspec": {
   "display_name": "Django Shell-Plus",
   "language": "python",
   "name": "django_extensions"
  },
  "language_info": {
   "codemirror_mode": {
    "name": "ipython",
    "version": 3
   },
   "file_extension": ".py",
   "mimetype": "text/x-python",
   "name": "python",
   "nbconvert_exporter": "python",
   "pygments_lexer": "ipython3",
   "version": "3.9.7"
  }
 },
 "nbformat": 4,
 "nbformat_minor": 5
}
