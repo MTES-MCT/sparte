{
 "cells": [
  {
   "cell_type": "code",
   "execution_count": 6,
   "id": "4410210f",
   "metadata": {},
   "outputs": [],
   "source": [
    "import re\n",
    "import datetime"
   ]
  },
  {
   "cell_type": "code",
   "execution_count": 2,
   "id": "2a3e9387",
   "metadata": {},
   "outputs": [
    {
     "data": {
      "text/plain": [
       "<re.Match object; span=(16, 33), match='01012022_31012022'>"
      ]
     },
     "execution_count": 2,
     "metadata": {},
     "output_type": "execute_result"
    }
   ],
   "source": [
    "find_date = re.compile(r\"(\\d{8,8})_(\\d{8,8})\")\n",
    "data = [\n",
    "    \"diag_downloaded_01012022_31012022.xlsx\",\n",
    "    \"diag_downloaded_01022022_28022022.xlsx\",\n",
    "    \"diag_downloaded_01032022_31032022.xlsx\",\n",
    "    \"diag_downloaded_01042022_30042022.xlsx\",\n",
    "    \"diag_downloaded_01052022_31052022.xlsx\",\n",
    "    \"diag_downloaded_01062022_30062022.xlsx\",\n",
    "    \"diag_downloaded_01072022_31072022.xlsx\",\n",
    "    \"diag_downloaded_01082022_31082022.xlsx\",\n",
    "]"
   ]
  },
  {
   "cell_type": "code",
   "execution_count": 8,
   "id": "0bd19dfb",
   "metadata": {},
   "outputs": [
    {
     "data": {
      "text/plain": [
       "datetime.date(2022, 1, 1)"
      ]
     },
     "execution_count": 8,
     "metadata": {},
     "output_type": "execute_result"
    }
   ],
   "source": [
    "dates = find_date.search(data[0]).groups()\n",
    "datetime.datetime.strptime(dates[0], \"%d%m%Y\").date()"
   ]
  },
  {
   "cell_type": "code",
   "execution_count": null,
   "id": "e9c1d6a0",
   "metadata": {},
   "outputs": [],
   "source": []
  }
 ],
 "metadata": {
  "kernelspec": {
   "display_name": "Python 3 (ipykernel)",
   "language": "python",
   "name": "python3"
  },
  "language_info": {
   "codemirror_mode": {
    "name": "ipython",
    "version": 3
   },
   "file_extension": ".py",
   "mimetype": "text/x-python",
   "name": "python",
   "nbconvert_exporter": "python",
   "pygments_lexer": "ipython3",
   "version": "3.9.7"
  }
 },
 "nbformat": 4,
 "nbformat_minor": 5
}
