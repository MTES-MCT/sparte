{
 "cells": [
  {
   "cell_type": "code",
   "execution_count": 18,
   "id": "b1ed3a4f",
   "metadata": {},
   "outputs": [],
   "source": [
    "import numpy as np\n",
    "import pandas as pd\n",
    "from django.db.models import Sum\n",
    "from public_data.models import OcsgeDiff, CouvertureSol\n",
    "from project.models import Project"
   ]
  },
  {
   "cell_type": "code",
   "execution_count": 2,
   "id": "52837165",
   "metadata": {},
   "outputs": [
    {
     "data": {
      "text/plain": [
       "<Project: Diagnostic de CA Grand Auch Coeur de Gascogne>"
      ]
     },
     "execution_count": 2,
     "metadata": {},
     "output_type": "execute_result"
    }
   ],
   "source": [
    "project = Project.objects.get(pk=6)\n",
    "project"
   ]
  },
  {
   "cell_type": "code",
   "execution_count": 14,
   "id": "6c30e42a",
   "metadata": {},
   "outputs": [
    {
     "data": {
      "text/plain": [
       "<QuerySet [<CommuneDiff: CommuneDiff object (16)>, <CommuneDiff: CommuneDiff object (88)>, <CommuneDiff: CommuneDiff object (90)>, <CommuneDiff: CommuneDiff object (82)>, <CommuneDiff: CommuneDiff object (56)>, <CommuneDiff: CommuneDiff object (116)>, <CommuneDiff: CommuneDiff object (15)>, <CommuneDiff: CommuneDiff object (21)>, <CommuneDiff: CommuneDiff object (59)>, <CommuneDiff: CommuneDiff object (26)>, <CommuneDiff: CommuneDiff object (111)>, <CommuneDiff: CommuneDiff object (75)>, <CommuneDiff: CommuneDiff object (7)>]>"
      ]
     },
     "execution_count": 14,
     "metadata": {},
     "output_type": "execute_result"
    }
   ],
   "source": [
    "cities = CommuneDiff.objects.filter(city__in=project.cities.all())\n",
    "cities"
   ]
  },
  {
   "cell_type": "code",
   "execution_count": 13,
   "id": "dc167d41",
   "metadata": {},
   "outputs": [
    {
     "data": {
      "text/plain": [
       "<QuerySet ['CS1', 'CS1.1', 'CS1.1.1', 'CS1.1.1.1', 'CS1.1.1.2', 'CS1.1.2', 'CS1.1.2.1', 'CS1.1.2.2', 'CS1.2', 'CS1.2.1', 'CS1.2.2', 'CS1.2.3', 'CS2', 'CS2.1', 'CS2.1.1', 'CS2.1.1.1', 'CS2.1.1.2', 'CS2.1.1.3', 'CS2.1.2', 'CS2.1.3', '...(remaining elements truncated)...']>"
      ]
     },
     "execution_count": 13,
     "metadata": {},
     "output_type": "execute_result"
    }
   ],
   "source": [
    "headers = CouvertureSol.objects.all().values_list(\"code_prefix\", flat=True)\n",
    "headers"
   ]
  },
  {
   "cell_type": "code",
   "execution_count": 23,
   "id": "f0622944",
   "metadata": {},
   "outputs": [
    {
     "data": {
      "text/plain": [
       "<QuerySet [{'cs_new': 'CS1.1.1.1', 'cs_old': 'CS1.1.1.1', 'total': Decimal('1.35867593000000000000')}, {'cs_new': 'CS1.1.1.1', 'cs_old': 'CS1.1.1.2', 'total': Decimal('0.81736174000000000000')}, {'cs_new': 'CS1.1.1.1', 'cs_old': 'CS1.1.2.1', 'total': Decimal('1.23240790000000000000')}, {'cs_new': 'CS1.1.1.1', 'cs_old': 'CS2.1.1.1', 'total': Decimal('0.38558054000000000000')}, {'cs_new': 'CS1.1.1.1', 'cs_old': 'CS2.1.1.3', 'total': Decimal('0.00245791000000000000')}, {'cs_new': 'CS1.1.1.1', 'cs_old': 'CS2.1.2', 'total': Decimal('0.08931012000000000000')}, {'cs_new': 'CS1.1.1.1', 'cs_old': 'CS2.2.1', 'total': Decimal('15.3646991000000000')}, {'cs_new': 'CS1.1.1.2', 'cs_old': 'CS1.1.1.1', 'total': Decimal('0.12621310000000000000')}, {'cs_new': 'CS1.1.1.2', 'cs_old': 'CS1.1.1.2', 'total': Decimal('0.62289064000000000000')}, {'cs_new': 'CS1.1.1.2', 'cs_old': 'CS1.1.2.1', 'total': Decimal('0.88423287000000000000')}, {'cs_new': 'CS1.1.1.2', 'cs_old': 'CS2.1.1.1', 'total': Decimal('0.25978659000000000000')}, {'cs_new': 'CS1.1.1.2', 'cs_old': 'CS2.1.2', 'total': Decimal('0.01679606000000000000')}, {'cs_new': 'CS1.1.1.2', 'cs_old': 'CS2.2.1', 'total': Decimal('11.0808265400000000')}, {'cs_new': 'CS1.1.2.1', 'cs_old': 'CS1.1.1.1', 'total': Decimal('0.35150908000000000000')}, {'cs_new': 'CS1.1.2.1', 'cs_old': 'CS1.1.1.2', 'total': Decimal('0.41641198000000000000')}, {'cs_new': 'CS1.1.2.1', 'cs_old': 'CS1.1.2.1', 'total': Decimal('1.88614463000000000000')}, {'cs_new': 'CS1.1.2.1', 'cs_old': 'CS2.1.1.1', 'total': Decimal('2.9036345400000000')}, {'cs_new': 'CS1.1.2.1', 'cs_old': 'CS2.1.1.2', 'total': Decimal('0.97386572000000000000')}, {'cs_new': 'CS1.1.2.1', 'cs_old': 'CS2.1.1.3', 'total': Decimal('0.00119921000000000000')}, {'cs_new': 'CS1.1.2.1', 'cs_old': 'CS2.1.2', 'total': Decimal('5.1228272700000000')}, '...(remaining elements truncated)...']>"
      ]
     },
     "execution_count": 23,
     "metadata": {},
     "output_type": "execute_result"
    }
   ],
   "source": [
    "qs = (\n",
    "    OcsgeDiff.objects.intersect(project.combined_emprise)\n",
    "    .filter(year_old__gte=project.analyse_start_date, year_new__lte=project.analyse_end_date)\n",
    "    .values(\"cs_new\", \"cs_old\")\n",
    "    .annotate(total=Sum(\"surface\") / 10000)\n",
    "    .order_by(\"cs_new\", \"cs_old\")\n",
    ")\n",
    "qs"
   ]
  },
  {
   "cell_type": "code",
   "execution_count": 27,
   "id": "e308ca67",
   "metadata": {},
   "outputs": [
    {
     "data": {
      "text/html": [
       "<div>\n",
       "<style scoped>\n",
       "    .dataframe tbody tr th:only-of-type {\n",
       "        vertical-align: middle;\n",
       "    }\n",
       "\n",
       "    .dataframe tbody tr th {\n",
       "        vertical-align: top;\n",
       "    }\n",
       "\n",
       "    .dataframe thead th {\n",
       "        text-align: right;\n",
       "    }\n",
       "</style>\n",
       "<table border=\"1\" class=\"dataframe\">\n",
       "  <thead>\n",
       "    <tr style=\"text-align: right;\">\n",
       "      <th>cs_new</th>\n",
       "      <th>CS1.1.1.1</th>\n",
       "      <th>CS1.1.1.2</th>\n",
       "      <th>CS1.1.2.1</th>\n",
       "      <th>CS1.2.2</th>\n",
       "      <th>CS2.1.1.1</th>\n",
       "      <th>CS2.1.1.3</th>\n",
       "      <th>CS2.1.2</th>\n",
       "      <th>CS2.2.1</th>\n",
       "    </tr>\n",
       "    <tr>\n",
       "      <th>cs_old</th>\n",
       "      <th></th>\n",
       "      <th></th>\n",
       "      <th></th>\n",
       "      <th></th>\n",
       "      <th></th>\n",
       "      <th></th>\n",
       "      <th></th>\n",
       "      <th></th>\n",
       "    </tr>\n",
       "  </thead>\n",
       "  <tbody>\n",
       "    <tr>\n",
       "      <th>CS1.1.1.1</th>\n",
       "      <td>1.35867593000000000000</td>\n",
       "      <td>0.12621310000000000000</td>\n",
       "      <td>0.35150908000000000000</td>\n",
       "      <td>0</td>\n",
       "      <td>0.66334341000000000000</td>\n",
       "      <td>0</td>\n",
       "      <td>0</td>\n",
       "      <td>1.66179848000000000000</td>\n",
       "    </tr>\n",
       "    <tr>\n",
       "      <th>CS1.1.1.2</th>\n",
       "      <td>0.81736174000000000000</td>\n",
       "      <td>0.62289064000000000000</td>\n",
       "      <td>0.41641198000000000000</td>\n",
       "      <td>0</td>\n",
       "      <td>0.000077450000000000000000</td>\n",
       "      <td>0</td>\n",
       "      <td>0</td>\n",
       "      <td>0.37489375000000000000</td>\n",
       "    </tr>\n",
       "    <tr>\n",
       "      <th>CS1.1.2.1</th>\n",
       "      <td>1.23240790000000000000</td>\n",
       "      <td>0.88423287000000000000</td>\n",
       "      <td>1.88614463000000000000</td>\n",
       "      <td>0</td>\n",
       "      <td>0.11218000000000000000</td>\n",
       "      <td>0.000018980000000000000000</td>\n",
       "      <td>0</td>\n",
       "      <td>8.3765896300000000</td>\n",
       "    </tr>\n",
       "    <tr>\n",
       "      <th>CS1.2.2</th>\n",
       "      <td>0</td>\n",
       "      <td>0</td>\n",
       "      <td>0</td>\n",
       "      <td>0</td>\n",
       "      <td>0</td>\n",
       "      <td>0</td>\n",
       "      <td>0</td>\n",
       "      <td>0.41868588000000000000</td>\n",
       "    </tr>\n",
       "    <tr>\n",
       "      <th>CS2.1.1.1</th>\n",
       "      <td>0.38558054000000000000</td>\n",
       "      <td>0.25978659000000000000</td>\n",
       "      <td>2.9036345400000000</td>\n",
       "      <td>0</td>\n",
       "      <td>2.2647647400000000</td>\n",
       "      <td>0</td>\n",
       "      <td>0</td>\n",
       "      <td>13.8537247400000000</td>\n",
       "    </tr>\n",
       "    <tr>\n",
       "      <th>CS2.1.1.2</th>\n",
       "      <td>0</td>\n",
       "      <td>0</td>\n",
       "      <td>0.97386572000000000000</td>\n",
       "      <td>0</td>\n",
       "      <td>0</td>\n",
       "      <td>0</td>\n",
       "      <td>8.8286243500000000</td>\n",
       "      <td>0</td>\n",
       "    </tr>\n",
       "    <tr>\n",
       "      <th>CS2.1.1.3</th>\n",
       "      <td>0.00245791000000000000</td>\n",
       "      <td>0</td>\n",
       "      <td>0.00119921000000000000</td>\n",
       "      <td>0</td>\n",
       "      <td>0</td>\n",
       "      <td>0</td>\n",
       "      <td>0</td>\n",
       "      <td>0</td>\n",
       "    </tr>\n",
       "    <tr>\n",
       "      <th>CS2.1.2</th>\n",
       "      <td>0.08931012000000000000</td>\n",
       "      <td>0.01679606000000000000</td>\n",
       "      <td>5.1228272700000000</td>\n",
       "      <td>0</td>\n",
       "      <td>0</td>\n",
       "      <td>0</td>\n",
       "      <td>0</td>\n",
       "      <td>2.5966695400000000</td>\n",
       "    </tr>\n",
       "    <tr>\n",
       "      <th>CS2.1.3</th>\n",
       "      <td>0</td>\n",
       "      <td>0</td>\n",
       "      <td>0</td>\n",
       "      <td>0</td>\n",
       "      <td>0</td>\n",
       "      <td>0</td>\n",
       "      <td>0</td>\n",
       "      <td>5.9588693100000000</td>\n",
       "    </tr>\n",
       "    <tr>\n",
       "      <th>CS2.2.1</th>\n",
       "      <td>15.3646991000000000</td>\n",
       "      <td>11.0808265400000000</td>\n",
       "      <td>22.4885606600000000</td>\n",
       "      <td>0.43572397000000000000</td>\n",
       "      <td>5.7804678500000000</td>\n",
       "      <td>0</td>\n",
       "      <td>4.4857996600000000</td>\n",
       "      <td>33.9491805200000000</td>\n",
       "    </tr>\n",
       "  </tbody>\n",
       "</table>\n",
       "</div>"
      ],
      "text/plain": [
       "cs_new                  CS1.1.1.1               CS1.1.1.2  \\\n",
       "cs_old                                                      \n",
       "CS1.1.1.1  1.35867593000000000000  0.12621310000000000000   \n",
       "CS1.1.1.2  0.81736174000000000000  0.62289064000000000000   \n",
       "CS1.1.2.1  1.23240790000000000000  0.88423287000000000000   \n",
       "CS1.2.2                         0                       0   \n",
       "CS2.1.1.1  0.38558054000000000000  0.25978659000000000000   \n",
       "CS2.1.1.2                       0                       0   \n",
       "CS2.1.1.3  0.00245791000000000000                       0   \n",
       "CS2.1.2    0.08931012000000000000  0.01679606000000000000   \n",
       "CS2.1.3                         0                       0   \n",
       "CS2.2.1       15.3646991000000000     11.0808265400000000   \n",
       "\n",
       "cs_new                  CS1.1.2.1                 CS1.2.2  \\\n",
       "cs_old                                                      \n",
       "CS1.1.1.1  0.35150908000000000000                       0   \n",
       "CS1.1.1.2  0.41641198000000000000                       0   \n",
       "CS1.1.2.1  1.88614463000000000000                       0   \n",
       "CS1.2.2                         0                       0   \n",
       "CS2.1.1.1      2.9036345400000000                       0   \n",
       "CS2.1.1.2  0.97386572000000000000                       0   \n",
       "CS2.1.1.3  0.00119921000000000000                       0   \n",
       "CS2.1.2        5.1228272700000000                       0   \n",
       "CS2.1.3                         0                       0   \n",
       "CS2.2.1       22.4885606600000000  0.43572397000000000000   \n",
       "\n",
       "cs_new                      CS2.1.1.1                   CS2.1.1.3  \\\n",
       "cs_old                                                              \n",
       "CS1.1.1.1      0.66334341000000000000                           0   \n",
       "CS1.1.1.2  0.000077450000000000000000                           0   \n",
       "CS1.1.2.1      0.11218000000000000000  0.000018980000000000000000   \n",
       "CS1.2.2                             0                           0   \n",
       "CS2.1.1.1          2.2647647400000000                           0   \n",
       "CS2.1.1.2                           0                           0   \n",
       "CS2.1.1.3                           0                           0   \n",
       "CS2.1.2                             0                           0   \n",
       "CS2.1.3                             0                           0   \n",
       "CS2.2.1            5.7804678500000000                           0   \n",
       "\n",
       "cs_new                CS2.1.2                 CS2.2.1  \n",
       "cs_old                                                 \n",
       "CS1.1.1.1                   0  1.66179848000000000000  \n",
       "CS1.1.1.2                   0  0.37489375000000000000  \n",
       "CS1.1.2.1                   0      8.3765896300000000  \n",
       "CS1.2.2                     0  0.41868588000000000000  \n",
       "CS2.1.1.1                   0     13.8537247400000000  \n",
       "CS2.1.1.2  8.8286243500000000                       0  \n",
       "CS2.1.1.3                   0                       0  \n",
       "CS2.1.2                     0      2.5966695400000000  \n",
       "CS2.1.3                     0      5.9588693100000000  \n",
       "CS2.2.1    4.4857996600000000     33.9491805200000000  "
      ]
     },
     "execution_count": 27,
     "metadata": {},
     "output_type": "execute_result"
    }
   ],
   "source": [
    "pd.options.display.float_format = '${:,.2f}'.format\n",
    "df = (\n",
    "    pd.DataFrame(diff)\n",
    "    .pivot(index='cs_old', columns='cs_new', values='total')\n",
    "    .fillna(0)\n",
    "    \n",
    ")\n",
    "df"
   ]
  },
  {
   "cell_type": "code",
   "execution_count": 46,
   "id": "1bb17165",
   "metadata": {},
   "outputs": [
    {
     "name": "stdout",
     "output_type": "stream",
     "text": [
      "          | CS1.1.1.1 | CS1.1.1.2 | CS1.1.2.1 |   CS1.2.2 | CS2.1.1.1 | CS2.1.1.3 |   CS2.1.2 |   CS2.2.1 |\n",
      " CS1.1.1.1|      1.36 |      0.13 |      0.35 |      0.00 |      0.66 |      0.00 |      0.00 |      1.66 |\n",
      " CS1.1.1.2|      0.82 |      0.62 |      0.42 |      0.00 |      0.00 |      0.00 |      0.00 |      0.37 |\n",
      " CS1.1.2.1|      1.23 |      0.88 |      1.89 |      0.00 |      0.11 |      0.00 |      0.00 |      8.38 |\n",
      "   CS1.2.2|      0.00 |      0.00 |      0.00 |      0.00 |      0.00 |      0.00 |      0.00 |      0.42 |\n",
      " CS2.1.1.1|      0.39 |      0.26 |      2.90 |      0.00 |      2.26 |      0.00 |      0.00 |     13.85 |\n",
      " CS2.1.1.2|      0.00 |      0.00 |      0.97 |      0.00 |      0.00 |      0.00 |      8.83 |      0.00 |\n",
      " CS2.1.1.3|      0.00 |      0.00 |      0.00 |      0.00 |      0.00 |      0.00 |      0.00 |      0.00 |\n",
      "   CS2.1.2|      0.09 |      0.02 |      5.12 |      0.00 |      0.00 |      0.00 |      0.00 |      2.60 |\n",
      "   CS2.1.3|      0.00 |      0.00 |      0.00 |      0.00 |      0.00 |      0.00 |      0.00 |      5.96 |\n",
      "   CS2.2.1|     15.36 |     11.08 |     22.49 |      0.44 |      5.78 |      0.00 |      4.49 |     33.95 |\n"
     ]
    }
   ],
   "source": [
    "print(\" \"*10, end=\"|\")\n",
    "for col in df.columns:\n",
    "    print(f\"{col: >10}\", end=\" |\")\n",
    "print()\n",
    "for index, row in df.iterrows():\n",
    "    print(f\"{index: >10}\", end=\"|\")\n",
    "    for col in df.columns:\n",
    "        print(f\"{row[col]: >10.2f}\", end=\" |\")\n",
    "    print()"
   ]
  },
  {
   "cell_type": "code",
   "execution_count": 47,
   "id": "395d6a81",
   "metadata": {},
   "outputs": [
    {
     "data": {
      "text/plain": [
       "['CS1.1.1.1',\n",
       " 'CS1.1.1.2',\n",
       " 'CS1.1.2.1',\n",
       " 'CS1.2.2',\n",
       " 'CS2.1.1.1',\n",
       " 'CS2.1.1.3',\n",
       " 'CS2.1.2',\n",
       " 'CS2.2.1']"
      ]
     },
     "execution_count": 47,
     "metadata": {},
     "output_type": "execute_result"
    }
   ],
   "source": [
    "list(df.columns)"
   ]
  },
  {
   "cell_type": "code",
   "execution_count": 50,
   "id": "71441d80",
   "metadata": {},
   "outputs": [
    {
     "data": {
      "text/plain": [
       "{'CS1.1.1.1': {'CS1.1.1.1': Decimal('1.35867593000000000000'),\n",
       "  'CS1.1.1.2': Decimal('0.12621310000000000000'),\n",
       "  'CS1.1.2.1': Decimal('0.35150908000000000000'),\n",
       "  'CS1.2.2': 0,\n",
       "  'CS2.1.1.1': Decimal('0.66334341000000000000'),\n",
       "  'CS2.1.1.3': 0,\n",
       "  'CS2.1.2': 0,\n",
       "  'CS2.2.1': Decimal('1.66179848000000000000')},\n",
       " 'CS1.1.1.2': {'CS1.1.1.1': Decimal('0.81736174000000000000'),\n",
       "  'CS1.1.1.2': Decimal('0.62289064000000000000'),\n",
       "  'CS1.1.2.1': Decimal('0.41641198000000000000'),\n",
       "  'CS1.2.2': 0,\n",
       "  'CS2.1.1.1': Decimal('0.000077450000000000000000'),\n",
       "  'CS2.1.1.3': 0,\n",
       "  'CS2.1.2': 0,\n",
       "  'CS2.2.1': Decimal('0.37489375000000000000')},\n",
       " 'CS1.1.2.1': {'CS1.1.1.1': Decimal('1.23240790000000000000'),\n",
       "  'CS1.1.1.2': Decimal('0.88423287000000000000'),\n",
       "  'CS1.1.2.1': Decimal('1.88614463000000000000'),\n",
       "  'CS1.2.2': 0,\n",
       "  'CS2.1.1.1': Decimal('0.11218000000000000000'),\n",
       "  'CS2.1.1.3': Decimal('0.000018980000000000000000'),\n",
       "  'CS2.1.2': 0,\n",
       "  'CS2.2.1': Decimal('8.3765896300000000')},\n",
       " 'CS1.2.2': {'CS1.1.1.1': 0,\n",
       "  'CS1.1.1.2': 0,\n",
       "  'CS1.1.2.1': 0,\n",
       "  'CS1.2.2': 0,\n",
       "  'CS2.1.1.1': 0,\n",
       "  'CS2.1.1.3': 0,\n",
       "  'CS2.1.2': 0,\n",
       "  'CS2.2.1': Decimal('0.41868588000000000000')},\n",
       " 'CS2.1.1.1': {'CS1.1.1.1': Decimal('0.38558054000000000000'),\n",
       "  'CS1.1.1.2': Decimal('0.25978659000000000000'),\n",
       "  'CS1.1.2.1': Decimal('2.9036345400000000'),\n",
       "  'CS1.2.2': 0,\n",
       "  'CS2.1.1.1': Decimal('2.2647647400000000'),\n",
       "  'CS2.1.1.3': 0,\n",
       "  'CS2.1.2': 0,\n",
       "  'CS2.2.1': Decimal('13.8537247400000000')},\n",
       " 'CS2.1.1.2': {'CS1.1.1.1': 0,\n",
       "  'CS1.1.1.2': 0,\n",
       "  'CS1.1.2.1': Decimal('0.97386572000000000000'),\n",
       "  'CS1.2.2': 0,\n",
       "  'CS2.1.1.1': 0,\n",
       "  'CS2.1.1.3': 0,\n",
       "  'CS2.1.2': Decimal('8.8286243500000000'),\n",
       "  'CS2.2.1': 0},\n",
       " 'CS2.1.1.3': {'CS1.1.1.1': Decimal('0.00245791000000000000'),\n",
       "  'CS1.1.1.2': 0,\n",
       "  'CS1.1.2.1': Decimal('0.00119921000000000000'),\n",
       "  'CS1.2.2': 0,\n",
       "  'CS2.1.1.1': 0,\n",
       "  'CS2.1.1.3': 0,\n",
       "  'CS2.1.2': 0,\n",
       "  'CS2.2.1': 0},\n",
       " 'CS2.1.2': {'CS1.1.1.1': Decimal('0.08931012000000000000'),\n",
       "  'CS1.1.1.2': Decimal('0.01679606000000000000'),\n",
       "  'CS1.1.2.1': Decimal('5.1228272700000000'),\n",
       "  'CS1.2.2': 0,\n",
       "  'CS2.1.1.1': 0,\n",
       "  'CS2.1.1.3': 0,\n",
       "  'CS2.1.2': 0,\n",
       "  'CS2.2.1': Decimal('2.5966695400000000')},\n",
       " 'CS2.1.3': {'CS1.1.1.1': 0,\n",
       "  'CS1.1.1.2': 0,\n",
       "  'CS1.1.2.1': 0,\n",
       "  'CS1.2.2': 0,\n",
       "  'CS2.1.1.1': 0,\n",
       "  'CS2.1.1.3': 0,\n",
       "  'CS2.1.2': 0,\n",
       "  'CS2.2.1': Decimal('5.9588693100000000')},\n",
       " 'CS2.2.1': {'CS1.1.1.1': Decimal('15.3646991000000000'),\n",
       "  'CS1.1.1.2': Decimal('11.0808265400000000'),\n",
       "  'CS1.1.2.1': Decimal('22.4885606600000000'),\n",
       "  'CS1.2.2': Decimal('0.43572397000000000000'),\n",
       "  'CS2.1.1.1': Decimal('5.7804678500000000'),\n",
       "  'CS2.1.1.3': 0,\n",
       "  'CS2.1.2': Decimal('4.4857996600000000'),\n",
       "  'CS2.2.1': Decimal('33.9491805200000000')}}"
      ]
     },
     "execution_count": 50,
     "metadata": {},
     "output_type": "execute_result"
    }
   ],
   "source": [
    "result = {\n",
    "    index: {col: row[col] for col in df.columns} for index, row in df.iterrows()\n",
    "}\n",
    "result"
   ]
  },
  {
   "cell_type": "code",
   "execution_count": 65,
   "id": "abf421f8",
   "metadata": {},
   "outputs": [
    {
     "data": {
      "text/plain": [
       "['CS1.1.1.1',\n",
       " 'CS1.1.1.2',\n",
       " 'CS1.1.2.1',\n",
       " 'CS1.2.2',\n",
       " 'CS2.1.1.1',\n",
       " 'CS2.1.1.3',\n",
       " 'CS2.1.2',\n",
       " 'CS2.2.1']"
      ]
     },
     "execution_count": 65,
     "metadata": {},
     "output_type": "execute_result"
    }
   ],
   "source": [
    "headers = [_ for _ in list(result.values())[0].keys()]\n",
    "headers"
   ]
  },
  {
   "cell_type": "code",
   "execution_count": 66,
   "id": "fbcc5b0e",
   "metadata": {},
   "outputs": [
    {
     "data": {
      "text/plain": [
       "dict_keys(['CS1.1.1.1', 'CS1.1.1.2', 'CS1.1.2.1', 'CS1.2.2', 'CS2.1.1.1', 'CS2.1.1.3', 'CS2.1.2', 'CS2.2.1'])"
      ]
     },
     "execution_count": 66,
     "metadata": {},
     "output_type": "execute_result"
    }
   ],
   "source": []
  },
  {
   "cell_type": "code",
   "execution_count": null,
   "id": "2b65ca69",
   "metadata": {},
   "outputs": [],
   "source": []
  }
 ],
 "metadata": {
  "kernelspec": {
   "display_name": "Django Shell-Plus",
   "language": "python",
   "name": "django_extensions"
  },
  "language_info": {
   "codemirror_mode": {
    "name": "ipython",
    "version": 3
   },
   "file_extension": ".py",
   "mimetype": "text/x-python",
   "name": "python",
   "nbconvert_exporter": "python",
   "pygments_lexer": "ipython3",
   "version": "3.9.7"
  }
 },
 "nbformat": 4,
 "nbformat_minor": 5
}
