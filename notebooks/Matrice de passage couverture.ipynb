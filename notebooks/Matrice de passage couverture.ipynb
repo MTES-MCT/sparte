{
 "cells": [
  {
   "cell_type": "code",
   "execution_count": 1,
   "id": "b1ed3a4f",
   "metadata": {},
   "outputs": [],
   "source": [
    "import numpy as np\n",
    "import pandas as pd\n",
    "from django.db.models import Sum\n",
    "from public_data.models import OcsgeDiff, CouvertureSol\n",
    "from project.models import Project"
   ]
  },
  {
   "cell_type": "code",
   "execution_count": 8,
   "id": "52837165",
   "metadata": {},
   "outputs": [
    {
     "data": {
      "text/plain": [
       "<Project: Diagnostic de CC de la Tenarèze>"
      ]
     },
     "execution_count": 8,
     "metadata": {},
     "output_type": "execute_result"
    }
   ],
   "source": [
    "project = Project.objects.get(pk=8)\n",
    "project"
   ]
  },
  {
   "cell_type": "code",
   "execution_count": 9,
   "id": "6c30e42a",
   "metadata": {},
   "outputs": [
    {
     "data": {
      "text/plain": [
       "<QuerySet [<CommuneDiff: CommuneDiff object (175)>, <CommuneDiff: CommuneDiff object (174)>, <CommuneDiff: CommuneDiff object (94)>, <CommuneDiff: CommuneDiff object (283)>, <CommuneDiff: CommuneDiff object (132)>, <CommuneDiff: CommuneDiff object (106)>, <CommuneDiff: CommuneDiff object (448)>, <CommuneDiff: CommuneDiff object (391)>, <CommuneDiff: CommuneDiff object (99)>, <CommuneDiff: CommuneDiff object (141)>, <CommuneDiff: CommuneDiff object (207)>, <CommuneDiff: CommuneDiff object (219)>, <CommuneDiff: CommuneDiff object (395)>, <CommuneDiff: CommuneDiff object (79)>, <CommuneDiff: CommuneDiff object (58)>, <CommuneDiff: CommuneDiff object (225)>, <CommuneDiff: CommuneDiff object (191)>, <CommuneDiff: CommuneDiff object (74)>, <CommuneDiff: CommuneDiff object (192)>, <CommuneDiff: CommuneDiff object (39)>, '...(remaining elements truncated)...']>"
      ]
     },
     "execution_count": 9,
     "metadata": {},
     "output_type": "execute_result"
    }
   ],
   "source": [
    "cities = CommuneDiff.objects.filter(city__in=project.cities.all())\n",
    "cities"
   ]
  },
  {
   "cell_type": "code",
   "execution_count": 10,
   "id": "dc167d41",
   "metadata": {},
   "outputs": [
    {
     "data": {
      "text/plain": [
       "<QuerySet ['CS1', 'CS1.1', 'CS1.1.1', 'CS1.1.1.1', 'CS1.1.1.2', 'CS1.1.2', 'CS1.1.2.1', 'CS1.1.2.2', 'CS1.2', 'CS1.2.1', 'CS1.2.2', 'CS1.2.3', 'CS2', 'CS2.1', 'CS2.1.1', 'CS2.1.1.1', 'CS2.1.1.2', 'CS2.1.1.3', 'CS2.1.2', 'CS2.1.3', '...(remaining elements truncated)...']>"
      ]
     },
     "execution_count": 10,
     "metadata": {},
     "output_type": "execute_result"
    }
   ],
   "source": [
    "headers = CouvertureSol.objects.all().values_list(\"code_prefix\", flat=True)\n",
    "headers"
   ]
  },
  {
   "cell_type": "code",
   "execution_count": 11,
   "id": "f0622944",
   "metadata": {},
   "outputs": [
    {
     "data": {
      "text/plain": [
       "<QuerySet [{'cs_new': 'CS1.1.1.1', 'cs_old': 'CS1.1.1.1', 'total': Decimal('0.77158466000000000000')}, {'cs_new': 'CS1.1.1.1', 'cs_old': 'CS1.1.1.2', 'total': Decimal('0.85468720000000000000')}, {'cs_new': 'CS1.1.1.1', 'cs_old': 'CS1.1.2.1', 'total': Decimal('1.03019264000000000000')}, {'cs_new': 'CS1.1.1.1', 'cs_old': 'CS2.1.1.1', 'total': Decimal('0.08408434000000000000')}, {'cs_new': 'CS1.1.1.1', 'cs_old': 'CS2.1.3', 'total': Decimal('0.07158986000000000000')}, {'cs_new': 'CS1.1.1.1', 'cs_old': 'CS2.2.1', 'total': Decimal('4.9698640900000000')}, {'cs_new': 'CS1.1.1.2', 'cs_old': 'CS1.1.1.1', 'total': Decimal('0.18134972000000000000')}, {'cs_new': 'CS1.1.1.2', 'cs_old': 'CS1.1.1.2', 'total': Decimal('0.39488423000000000000')}, {'cs_new': 'CS1.1.1.2', 'cs_old': 'CS1.1.2.1', 'total': Decimal('1.00606014000000000000')}, {'cs_new': 'CS1.1.1.2', 'cs_old': 'CS2.2.1', 'total': Decimal('2.1550538900000000')}, {'cs_new': 'CS1.1.2.1', 'cs_old': 'CS1.1.1.1', 'total': Decimal('0.40088127000000000000')}, {'cs_new': 'CS1.1.2.1', 'cs_old': 'CS1.1.1.2', 'total': Decimal('0.00630418000000000000')}, {'cs_new': 'CS1.1.2.1', 'cs_old': 'CS1.1.2.1', 'total': Decimal('2.1214444100000000')}, {'cs_new': 'CS1.1.2.1', 'cs_old': 'CS1.1.2.2', 'total': Decimal('0.13656837000000000000')}, {'cs_new': 'CS1.1.2.1', 'cs_old': 'CS2.1.1.1', 'total': Decimal('0.35394291000000000000')}, {'cs_new': 'CS1.1.2.1', 'cs_old': 'CS2.1.2', 'total': Decimal('0.73478079000000000000')}, {'cs_new': 'CS1.1.2.1', 'cs_old': 'CS2.1.3', 'total': Decimal('0.57602097000000000000')}, {'cs_new': 'CS1.1.2.1', 'cs_old': 'CS2.2.1', 'total': Decimal('12.0176101500000000')}, {'cs_new': 'CS1.1.2.2', 'cs_old': 'CS1.1.1.1', 'total': Decimal('0.02012044000000000000')}, {'cs_new': 'CS1.2.2', 'cs_old': 'CS2.2.1', 'total': Decimal('2.3671297900000000')}, '...(remaining elements truncated)...']>"
      ]
     },
     "execution_count": 11,
     "metadata": {},
     "output_type": "execute_result"
    }
   ],
   "source": [
    "qs = (\n",
    "    OcsgeDiff.objects.intersect(project.combined_emprise)\n",
    "    .filter(year_old__gte=project.analyse_start_date, year_new__lte=project.analyse_end_date)\n",
    "    .values(\"cs_new\", \"cs_old\")\n",
    "    .annotate(total=Sum(\"surface\") / 10000)\n",
    "    .order_by(\"cs_new\", \"cs_old\")\n",
    ")\n",
    "qs"
   ]
  },
  {
   "cell_type": "code",
   "execution_count": 12,
   "id": "e308ca67",
   "metadata": {},
   "outputs": [
    {
     "data": {
      "text/html": [
       "<div>\n",
       "<style scoped>\n",
       "    .dataframe tbody tr th:only-of-type {\n",
       "        vertical-align: middle;\n",
       "    }\n",
       "\n",
       "    .dataframe tbody tr th {\n",
       "        vertical-align: top;\n",
       "    }\n",
       "\n",
       "    .dataframe thead th {\n",
       "        text-align: right;\n",
       "    }\n",
       "</style>\n",
       "<table border=\"1\" class=\"dataframe\">\n",
       "  <thead>\n",
       "    <tr style=\"text-align: right;\">\n",
       "      <th>cs_new</th>\n",
       "      <th>NaN</th>\n",
       "      <th>CS1.1.1.1</th>\n",
       "      <th>CS1.1.1.2</th>\n",
       "      <th>CS1.1.2.1</th>\n",
       "      <th>CS1.1.2.2</th>\n",
       "      <th>CS1.2.2</th>\n",
       "      <th>CS2.1.1.1</th>\n",
       "      <th>CS2.1.2</th>\n",
       "      <th>CS2.1.3</th>\n",
       "      <th>CS2.2.1</th>\n",
       "    </tr>\n",
       "    <tr>\n",
       "      <th>cs_old</th>\n",
       "      <th></th>\n",
       "      <th></th>\n",
       "      <th></th>\n",
       "      <th></th>\n",
       "      <th></th>\n",
       "      <th></th>\n",
       "      <th></th>\n",
       "      <th></th>\n",
       "      <th></th>\n",
       "      <th></th>\n",
       "    </tr>\n",
       "  </thead>\n",
       "  <tbody>\n",
       "    <tr>\n",
       "      <th>CS1.1.1.1</th>\n",
       "      <td>0</td>\n",
       "      <td>0.77158466000000000000</td>\n",
       "      <td>0.18134972000000000000</td>\n",
       "      <td>0.40088127000000000000</td>\n",
       "      <td>0.02012044000000000000</td>\n",
       "      <td>0</td>\n",
       "      <td>0.08077859000000000000</td>\n",
       "      <td>0</td>\n",
       "      <td>0</td>\n",
       "      <td>1.22356738000000000000</td>\n",
       "    </tr>\n",
       "    <tr>\n",
       "      <th>CS1.1.1.2</th>\n",
       "      <td>0</td>\n",
       "      <td>0.85468720000000000000</td>\n",
       "      <td>0.39488423000000000000</td>\n",
       "      <td>0.00630418000000000000</td>\n",
       "      <td>0</td>\n",
       "      <td>0</td>\n",
       "      <td>0</td>\n",
       "      <td>0</td>\n",
       "      <td>0</td>\n",
       "      <td>0.04307110000000000000</td>\n",
       "    </tr>\n",
       "    <tr>\n",
       "      <th>CS1.1.2.1</th>\n",
       "      <td>0</td>\n",
       "      <td>1.03019264000000000000</td>\n",
       "      <td>1.00606014000000000000</td>\n",
       "      <td>2.1214444100000000</td>\n",
       "      <td>0</td>\n",
       "      <td>0</td>\n",
       "      <td>0</td>\n",
       "      <td>0</td>\n",
       "      <td>0</td>\n",
       "      <td>1.68130970000000000000</td>\n",
       "    </tr>\n",
       "    <tr>\n",
       "      <th>CS1.1.2.2</th>\n",
       "      <td>0</td>\n",
       "      <td>0</td>\n",
       "      <td>0</td>\n",
       "      <td>0.13656837000000000000</td>\n",
       "      <td>0</td>\n",
       "      <td>0</td>\n",
       "      <td>0</td>\n",
       "      <td>0</td>\n",
       "      <td>0</td>\n",
       "      <td>0</td>\n",
       "    </tr>\n",
       "    <tr>\n",
       "      <th>CS2.1.1.1</th>\n",
       "      <td>0</td>\n",
       "      <td>0.08408434000000000000</td>\n",
       "      <td>0</td>\n",
       "      <td>0.35394291000000000000</td>\n",
       "      <td>0</td>\n",
       "      <td>0</td>\n",
       "      <td>2.4830501300000000</td>\n",
       "      <td>2.8042027800000000</td>\n",
       "      <td>1.39405100000000000000</td>\n",
       "      <td>34.6319312400000000</td>\n",
       "    </tr>\n",
       "    <tr>\n",
       "      <th>CS2.1.2</th>\n",
       "      <td>0</td>\n",
       "      <td>0</td>\n",
       "      <td>0</td>\n",
       "      <td>0.73478079000000000000</td>\n",
       "      <td>0</td>\n",
       "      <td>0</td>\n",
       "      <td>0.67018056000000000000</td>\n",
       "      <td>0</td>\n",
       "      <td>0</td>\n",
       "      <td>10.1475997900000000</td>\n",
       "    </tr>\n",
       "    <tr>\n",
       "      <th>CS2.1.3</th>\n",
       "      <td>0</td>\n",
       "      <td>0.07158986000000000000</td>\n",
       "      <td>0</td>\n",
       "      <td>0.57602097000000000000</td>\n",
       "      <td>0</td>\n",
       "      <td>0</td>\n",
       "      <td>0</td>\n",
       "      <td>0</td>\n",
       "      <td>0</td>\n",
       "      <td>23.5232454800000000</td>\n",
       "    </tr>\n",
       "    <tr>\n",
       "      <th>CS2.2.1</th>\n",
       "      <td>0.00096177000000000000</td>\n",
       "      <td>4.9698640900000000</td>\n",
       "      <td>2.1550538900000000</td>\n",
       "      <td>12.0176101500000000</td>\n",
       "      <td>0</td>\n",
       "      <td>2.3671297900000000</td>\n",
       "      <td>15.7820810700000000</td>\n",
       "      <td>0.70128836000000000000</td>\n",
       "      <td>40.6816195400000000</td>\n",
       "      <td>12.9973178400000000</td>\n",
       "    </tr>\n",
       "  </tbody>\n",
       "</table>\n",
       "</div>"
      ],
      "text/plain": [
       "cs_new                        NaN               CS1.1.1.1  \\\n",
       "cs_old                                                      \n",
       "CS1.1.1.1                       0  0.77158466000000000000   \n",
       "CS1.1.1.2                       0  0.85468720000000000000   \n",
       "CS1.1.2.1                       0  1.03019264000000000000   \n",
       "CS1.1.2.2                       0                       0   \n",
       "CS2.1.1.1                       0  0.08408434000000000000   \n",
       "CS2.1.2                         0                       0   \n",
       "CS2.1.3                         0  0.07158986000000000000   \n",
       "CS2.2.1    0.00096177000000000000      4.9698640900000000   \n",
       "\n",
       "cs_new                  CS1.1.1.2               CS1.1.2.1  \\\n",
       "cs_old                                                      \n",
       "CS1.1.1.1  0.18134972000000000000  0.40088127000000000000   \n",
       "CS1.1.1.2  0.39488423000000000000  0.00630418000000000000   \n",
       "CS1.1.2.1  1.00606014000000000000      2.1214444100000000   \n",
       "CS1.1.2.2                       0  0.13656837000000000000   \n",
       "CS2.1.1.1                       0  0.35394291000000000000   \n",
       "CS2.1.2                         0  0.73478079000000000000   \n",
       "CS2.1.3                         0  0.57602097000000000000   \n",
       "CS2.2.1        2.1550538900000000     12.0176101500000000   \n",
       "\n",
       "cs_new                  CS1.1.2.2             CS1.2.2               CS2.1.1.1  \\\n",
       "cs_old                                                                          \n",
       "CS1.1.1.1  0.02012044000000000000                   0  0.08077859000000000000   \n",
       "CS1.1.1.2                       0                   0                       0   \n",
       "CS1.1.2.1                       0                   0                       0   \n",
       "CS1.1.2.2                       0                   0                       0   \n",
       "CS2.1.1.1                       0                   0      2.4830501300000000   \n",
       "CS2.1.2                         0                   0  0.67018056000000000000   \n",
       "CS2.1.3                         0                   0                       0   \n",
       "CS2.2.1                         0  2.3671297900000000     15.7820810700000000   \n",
       "\n",
       "cs_new                    CS2.1.2                 CS2.1.3  \\\n",
       "cs_old                                                      \n",
       "CS1.1.1.1                       0                       0   \n",
       "CS1.1.1.2                       0                       0   \n",
       "CS1.1.2.1                       0                       0   \n",
       "CS1.1.2.2                       0                       0   \n",
       "CS2.1.1.1      2.8042027800000000  1.39405100000000000000   \n",
       "CS2.1.2                         0                       0   \n",
       "CS2.1.3                         0                       0   \n",
       "CS2.2.1    0.70128836000000000000     40.6816195400000000   \n",
       "\n",
       "cs_new                    CS2.2.1  \n",
       "cs_old                             \n",
       "CS1.1.1.1  1.22356738000000000000  \n",
       "CS1.1.1.2  0.04307110000000000000  \n",
       "CS1.1.2.1  1.68130970000000000000  \n",
       "CS1.1.2.2                       0  \n",
       "CS2.1.1.1     34.6319312400000000  \n",
       "CS2.1.2       10.1475997900000000  \n",
       "CS2.1.3       23.5232454800000000  \n",
       "CS2.2.1       12.9973178400000000  "
      ]
     },
     "execution_count": 12,
     "metadata": {},
     "output_type": "execute_result"
    }
   ],
   "source": [
    "pd.options.display.float_format = '${:,.2f}'.format\n",
    "df = (\n",
    "    pd.DataFrame(qs)\n",
    "    .pivot(index='cs_old', columns='cs_new', values='total')\n",
    "    .fillna(0)\n",
    "    \n",
    ")\n",
    "df"
   ]
  },
  {
   "cell_type": "code",
   "execution_count": 13,
   "id": "1bb17165",
   "metadata": {},
   "outputs": [
    {
     "name": "stdout",
     "output_type": "stream",
     "text": [
      "          |       nan | CS1.1.1.1 | CS1.1.1.2 | CS1.1.2.1 | CS1.1.2.2 |   CS1.2.2 | CS2.1.1.1 |   CS2.1.2 |   CS2.1.3 |   CS2.2.1 |\n",
      " CS1.1.1.1|      0.00 |      0.77 |      0.18 |      0.40 |      0.02 |      0.00 |      0.08 |      0.00 |      0.00 |      1.22 |\n",
      " CS1.1.1.2|      0.00 |      0.85 |      0.39 |      0.01 |      0.00 |      0.00 |      0.00 |      0.00 |      0.00 |      0.04 |\n",
      " CS1.1.2.1|      0.00 |      1.03 |      1.01 |      2.12 |      0.00 |      0.00 |      0.00 |      0.00 |      0.00 |      1.68 |\n",
      " CS1.1.2.2|      0.00 |      0.00 |      0.00 |      0.14 |      0.00 |      0.00 |      0.00 |      0.00 |      0.00 |      0.00 |\n",
      " CS2.1.1.1|      0.00 |      0.08 |      0.00 |      0.35 |      0.00 |      0.00 |      2.48 |      2.80 |      1.39 |     34.63 |\n",
      "   CS2.1.2|      0.00 |      0.00 |      0.00 |      0.73 |      0.00 |      0.00 |      0.67 |      0.00 |      0.00 |     10.15 |\n",
      "   CS2.1.3|      0.00 |      0.07 |      0.00 |      0.58 |      0.00 |      0.00 |      0.00 |      0.00 |      0.00 |     23.52 |\n",
      "   CS2.2.1|      0.00 |      4.97 |      2.16 |     12.02 |      0.00 |      2.37 |     15.78 |      0.70 |     40.68 |     13.00 |\n"
     ]
    }
   ],
   "source": [
    "print(\" \"*10, end=\"|\")\n",
    "for col in df.columns:\n",
    "    print(f\"{col: >10}\", end=\" |\")\n",
    "print()\n",
    "for index, row in df.iterrows():\n",
    "    print(f\"{index: >10}\", end=\"|\")\n",
    "    for col in df.columns:\n",
    "        print(f\"{row[col]: >10.2f}\", end=\" |\")\n",
    "    print()"
   ]
  },
  {
   "cell_type": "code",
   "execution_count": 14,
   "id": "395d6a81",
   "metadata": {},
   "outputs": [
    {
     "data": {
      "text/plain": [
       "[nan,\n",
       " 'CS1.1.1.1',\n",
       " 'CS1.1.1.2',\n",
       " 'CS1.1.2.1',\n",
       " 'CS1.1.2.2',\n",
       " 'CS1.2.2',\n",
       " 'CS2.1.1.1',\n",
       " 'CS2.1.2',\n",
       " 'CS2.1.3',\n",
       " 'CS2.2.1']"
      ]
     },
     "execution_count": 14,
     "metadata": {},
     "output_type": "execute_result"
    }
   ],
   "source": [
    "list(df.columns)"
   ]
  },
  {
   "cell_type": "code",
   "execution_count": 15,
   "id": "71441d80",
   "metadata": {},
   "outputs": [
    {
     "data": {
      "text/plain": [
       "{'CS1.1.1.1': {nan: 0,\n",
       "  'CS1.1.1.1': Decimal('0.77158466000000000000'),\n",
       "  'CS1.1.1.2': Decimal('0.18134972000000000000'),\n",
       "  'CS1.1.2.1': Decimal('0.40088127000000000000'),\n",
       "  'CS1.1.2.2': Decimal('0.02012044000000000000'),\n",
       "  'CS1.2.2': 0,\n",
       "  'CS2.1.1.1': Decimal('0.08077859000000000000'),\n",
       "  'CS2.1.2': 0,\n",
       "  'CS2.1.3': 0,\n",
       "  'CS2.2.1': Decimal('1.22356738000000000000')},\n",
       " 'CS1.1.1.2': {nan: 0,\n",
       "  'CS1.1.1.1': Decimal('0.85468720000000000000'),\n",
       "  'CS1.1.1.2': Decimal('0.39488423000000000000'),\n",
       "  'CS1.1.2.1': Decimal('0.00630418000000000000'),\n",
       "  'CS1.1.2.2': 0,\n",
       "  'CS1.2.2': 0,\n",
       "  'CS2.1.1.1': 0,\n",
       "  'CS2.1.2': 0,\n",
       "  'CS2.1.3': 0,\n",
       "  'CS2.2.1': Decimal('0.04307110000000000000')},\n",
       " 'CS1.1.2.1': {nan: 0,\n",
       "  'CS1.1.1.1': Decimal('1.03019264000000000000'),\n",
       "  'CS1.1.1.2': Decimal('1.00606014000000000000'),\n",
       "  'CS1.1.2.1': Decimal('2.1214444100000000'),\n",
       "  'CS1.1.2.2': 0,\n",
       "  'CS1.2.2': 0,\n",
       "  'CS2.1.1.1': 0,\n",
       "  'CS2.1.2': 0,\n",
       "  'CS2.1.3': 0,\n",
       "  'CS2.2.1': Decimal('1.68130970000000000000')},\n",
       " 'CS1.1.2.2': {nan: 0,\n",
       "  'CS1.1.1.1': 0,\n",
       "  'CS1.1.1.2': 0,\n",
       "  'CS1.1.2.1': Decimal('0.13656837000000000000'),\n",
       "  'CS1.1.2.2': 0,\n",
       "  'CS1.2.2': 0,\n",
       "  'CS2.1.1.1': 0,\n",
       "  'CS2.1.2': 0,\n",
       "  'CS2.1.3': 0,\n",
       "  'CS2.2.1': 0},\n",
       " 'CS2.1.1.1': {nan: 0,\n",
       "  'CS1.1.1.1': Decimal('0.08408434000000000000'),\n",
       "  'CS1.1.1.2': 0,\n",
       "  'CS1.1.2.1': Decimal('0.35394291000000000000'),\n",
       "  'CS1.1.2.2': 0,\n",
       "  'CS1.2.2': 0,\n",
       "  'CS2.1.1.1': Decimal('2.4830501300000000'),\n",
       "  'CS2.1.2': Decimal('2.8042027800000000'),\n",
       "  'CS2.1.3': Decimal('1.39405100000000000000'),\n",
       "  'CS2.2.1': Decimal('34.6319312400000000')},\n",
       " 'CS2.1.2': {nan: 0,\n",
       "  'CS1.1.1.1': 0,\n",
       "  'CS1.1.1.2': 0,\n",
       "  'CS1.1.2.1': Decimal('0.73478079000000000000'),\n",
       "  'CS1.1.2.2': 0,\n",
       "  'CS1.2.2': 0,\n",
       "  'CS2.1.1.1': Decimal('0.67018056000000000000'),\n",
       "  'CS2.1.2': 0,\n",
       "  'CS2.1.3': 0,\n",
       "  'CS2.2.1': Decimal('10.1475997900000000')},\n",
       " 'CS2.1.3': {nan: 0,\n",
       "  'CS1.1.1.1': Decimal('0.07158986000000000000'),\n",
       "  'CS1.1.1.2': 0,\n",
       "  'CS1.1.2.1': Decimal('0.57602097000000000000'),\n",
       "  'CS1.1.2.2': 0,\n",
       "  'CS1.2.2': 0,\n",
       "  'CS2.1.1.1': 0,\n",
       "  'CS2.1.2': 0,\n",
       "  'CS2.1.3': 0,\n",
       "  'CS2.2.1': Decimal('23.5232454800000000')},\n",
       " 'CS2.2.1': {nan: Decimal('0.00096177000000000000'),\n",
       "  'CS1.1.1.1': Decimal('4.9698640900000000'),\n",
       "  'CS1.1.1.2': Decimal('2.1550538900000000'),\n",
       "  'CS1.1.2.1': Decimal('12.0176101500000000'),\n",
       "  'CS1.1.2.2': 0,\n",
       "  'CS1.2.2': Decimal('2.3671297900000000'),\n",
       "  'CS2.1.1.1': Decimal('15.7820810700000000'),\n",
       "  'CS2.1.2': Decimal('0.70128836000000000000'),\n",
       "  'CS2.1.3': Decimal('40.6816195400000000'),\n",
       "  'CS2.2.1': Decimal('12.9973178400000000')}}"
      ]
     },
     "execution_count": 15,
     "metadata": {},
     "output_type": "execute_result"
    }
   ],
   "source": [
    "result = {\n",
    "    index: {col: row[col] for col in df.columns} for index, row in df.iterrows()\n",
    "}\n",
    "result"
   ]
  },
  {
   "cell_type": "code",
   "execution_count": 16,
   "id": "abf421f8",
   "metadata": {},
   "outputs": [
    {
     "data": {
      "text/plain": [
       "[nan,\n",
       " 'CS1.1.1.1',\n",
       " 'CS1.1.1.2',\n",
       " 'CS1.1.2.1',\n",
       " 'CS1.1.2.2',\n",
       " 'CS1.2.2',\n",
       " 'CS2.1.1.1',\n",
       " 'CS2.1.2',\n",
       " 'CS2.1.3',\n",
       " 'CS2.2.1']"
      ]
     },
     "execution_count": 16,
     "metadata": {},
     "output_type": "execute_result"
    }
   ],
   "source": [
    "headers = [_ for _ in list(result.values())[0].keys()]\n",
    "headers"
   ]
  },
  {
   "cell_type": "code",
   "execution_count": null,
   "id": "fbcc5b0e",
   "metadata": {},
   "outputs": [],
   "source": []
  },
  {
   "cell_type": "code",
   "execution_count": null,
   "id": "2b65ca69",
   "metadata": {},
   "outputs": [],
   "source": []
  }
 ],
 "metadata": {
  "kernelspec": {
   "display_name": "Django Shell-Plus",
   "language": "python",
   "name": "django_extensions"
  },
  "language_info": {
   "codemirror_mode": {
    "name": "ipython",
    "version": 3
   },
   "file_extension": ".py",
   "mimetype": "text/x-python",
   "name": "python",
   "nbconvert_exporter": "python",
   "pygments_lexer": "ipython3",
   "version": "3.9.7"
  }
 },
 "nbformat": 4,
 "nbformat_minor": 5
}
